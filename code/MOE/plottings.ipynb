{
 "cells": [
  {
   "cell_type": "code",
   "execution_count": 42,
   "metadata": {
    "collapsed": true
   },
   "outputs": [],
   "source": [
    "% matplotlib inline\n",
    "import numpy as np\n",
    "import pandas as pd\n",
    "import matplotlib.pyplot as plt\n",
    "import seaborn as sns; sns.set()\n",
    "import pickle as pkl"
   ]
  },
  {
   "cell_type": "code",
   "execution_count": 2,
   "metadata": {
    "collapsed": true
   },
   "outputs": [],
   "source": [
    "train_set = pd.read_csv('../../data/train_scaled_encoded.csv')\n",
    "test_set = pd.read_csv('../../data/test_scaled_encoded.csv')"
   ]
  },
  {
   "cell_type": "code",
   "execution_count": 5,
   "metadata": {
    "collapsed": true
   },
   "outputs": [],
   "source": [
    "action_map = {}\n",
    "count = 0\n",
    "for iv in range(5):\n",
    "    for vaso in range(5):\n",
    "        action_map[(iv, vaso)] = count\n",
    "        count += 1"
   ]
  },
  {
   "cell_type": "code",
   "execution_count": 6,
   "metadata": {
    "collapsed": true
   },
   "outputs": [],
   "source": [
    "def get_phy_actions(df):\n",
    "    phy_actions = []\n",
    "    vasos = df['vaso_input'].values\n",
    "    ivs = df['iv_input'].values\n",
    "    for i, iv in enumerate(ivs):\n",
    "        phy_actions += [ action_map[ (iv, vasos[i]) ] ]\n",
    "    return phy_actions"
   ]
  },
  {
   "cell_type": "markdown",
   "metadata": {},
   "source": [
    "### physician actions"
   ]
  },
  {
   "cell_type": "code",
   "execution_count": 7,
   "metadata": {},
   "outputs": [],
   "source": [
    "train_phy_actions = get_phy_actions(train_set)\n",
    "test_phy_actions = get_phy_actions(test_set)"
   ]
  },
  {
   "cell_type": "code",
   "execution_count": 70,
   "metadata": {},
   "outputs": [
    {
     "data": {
      "image/png": "[encoded data removed]",
      "text/plain": [
       "<matplotlib.figure.Figure at 0x1191a7ba8>"
      ]
     },
     "metadata": {},
     "output_type": "display_data"
    }
   ],
   "source": [
    "action_counts = pd.Series(test_phy_actions).value_counts().sort_index().values\n",
    "ax = sns.heatmap(action_counts.reshape(5,5), linewidths=.01, cmap=\"YlGnBu\")\n",
    "ax.invert_yaxis()"
   ]
  },
  {
   "cell_type": "markdown",
   "metadata": {},
   "source": [
    "### Kernel actions"
   ]
  },
  {
   "cell_type": "code",
   "execution_count": 43,
   "metadata": {},
   "outputs": [],
   "source": [
    "kernel_based = pkl.load(open('test_kernel_policy_transformed.pkl', 'rb'), encoding='latin1')\n",
    "expert_k = kernel_based[:,3]"
   ]
  },
  {
   "cell_type": "code",
   "execution_count": 64,
   "metadata": {},
   "outputs": [
    {
     "data": {
      "image/png": "[encoded data removed]",
      "text/plain": [
       "<matplotlib.figure.Figure at 0x1110ec4e0>"
      ]
     },
     "metadata": {},
     "output_type": "display_data"
    }
   ],
   "source": [
    "action_counts = pd.Series(expert_k).value_counts().sort_index().values\n",
    "ax = sns.heatmap(action_counts.reshape(5,5), linewidths=.01, cmap=\"YlGnBu\")\n",
    "ax.invert_yaxis()"
   ]
  },
  {
   "cell_type": "markdown",
   "metadata": {},
   "source": [
    "### DQN actions"
   ]
  },
  {
   "cell_type": "code",
   "execution_count": 45,
   "metadata": {
    "collapsed": true
   },
   "outputs": [],
   "source": [
    "expert_d = pkl.load(open('../../../code/results/with_end_state/test_agent_actions.pkl', 'rb'), encoding='latin1')"
   ]
  },
  {
   "cell_type": "code",
   "execution_count": 63,
   "metadata": {},
   "outputs": [
    {
     "data": {
      "image/png": "[encoded data removed]",
      "text/plain": [
       "<matplotlib.figure.Figure at 0x1167b8780>"
      ]
     },
     "metadata": {},
     "output_type": "display_data"
    }
   ],
   "source": [
    "action_counts = pd.Series(expert_d).value_counts().sort_index().values\n",
    "ax = sns.heatmap(action_counts.reshape(5,5), linewidths=.01, cmap=\"YlGnBu\")\n",
    "ax.invert_yaxis()"
   ]
  },
  {
   "cell_type": "markdown",
   "metadata": {},
   "source": [
    "## MOE actions"
   ]
  },
  {
   "cell_type": "code",
   "execution_count": 68,
   "metadata": {
    "collapsed": true
   },
   "outputs": [],
   "source": [
    "moe = pkl.load(open('moe_actions.pkl', 'rb'))"
   ]
  },
  {
   "cell_type": "code",
   "execution_count": 69,
   "metadata": {},
   "outputs": [
    {
     "data": {
      "image/png": "[encoded data removed]",
      "text/plain": [
       "<matplotlib.figure.Figure at 0x119211eb8>"
      ]
     },
     "metadata": {},
     "output_type": "display_data"
    }
   ],
   "source": [
    "action_counts = pd.Series(moe).value_counts().sort_index().values\n",
    "ax = sns.heatmap(action_counts.reshape(5,5), linewidths=.01, cmap=\"YlGnBu\")\n",
    "ax.invert_yaxis()"
   ]
  },
  {
   "cell_type": "markdown",
   "metadata": {},
   "source": [
    "## Sparse autoencoder"
   ]
  },
  {
   "cell_type": "code",
   "execution_count": 66,
   "metadata": {
    "collapsed": true
   },
   "outputs": [],
   "source": [
    "losses = [0.0982328,0.0733788,0.0571428,0.050553,0.0441328,0.0260805,0.0235437,0.0196456,0.0180331,0.0156168,0.0125812,0.0113878,0.00986484,0.00885993,0.00770599,0.00676957,0.00612195,0.00518439,0.00487075,0.00416981,0.0036631,0.00327092,0.00343543,0.00270168,0.0024088,0.00226782,0.00200392,0.00189824,0.00168429,0.00187243,0.0017625,0.00154069,0.00135107,0.0012432,0.0011839,0.00129685,0.00136126,0.0011969,0.00114256,0.00106463,0.0009524,0.00104332,0.0011232,0.000881697,0.000888103,0.000939946,0.000838807,0.000850197,0.000747317,0.000744563,0.000805789,0.000728338,0.000806852,0.000704113,0.000621048,0.000706232,0.00059969,0.000720266,0.000639709,0.00062372,0.000582317,0.000591075,0.000667023,0.000581891,0.000609561,0.000541731,0.00052279,0.000566309,0.000565176,0.000566283,0.000481784,0.000539299,0.000538973,0.000514208,0.000511358,0.000493816,0.000477208,0.000538729,0.000548364,0.000470602,0.000405979,0.000468141,0.00046181,0.000453733,0.000477661,0.000453062,0.000451573,0.000419774,0.000491614,0.000395685,0.000403904,0.000451452,0.000380449,0.000404947,0.000381785,0.000418023,0.000402506,0.000427586,0.000392169]\n",
    "steps = [1000,2000,3000,4000,5000,6000,7000,8000,9000,10000,11000,12000,13000,14000,15000,16000,17000,18000,19000,20000,21000,22000,23000,24000,25000,26000,27000,28000,29000,30000,31000,32000,33000,34000,35000,36000,37000,38000,39000,40000,41000,42000,43000,44000,45000,46000,47000,48000,49000,50000,51000,52000,53000,54000,55000,56000,57000,58000,59000,60000,61000,62000,63000,64000,65000,66000,67000,68000,69000,70000,71000,72000,73000,74000,75000,76000,77000,78000,79000,80000,81000,82000,83000,84000,85000,86000,87000,88000,89000,90000,91000,92000,93000,94000,95000,96000,97000,98000,99000]"
   ]
  },
  {
   "cell_type": "code",
   "execution_count": 67,
   "metadata": {},
   "outputs": [
    {
     "data": {
      "image/png": "[encoded data removed]",
      "text/plain": [
       "<matplotlib.figure.Figure at 0x118ea75f8>"
      ]
     },
     "metadata": {},
     "output_type": "display_data"
    }
   ],
   "source": [
    "sns.set_style(\"darkgrid\")\n",
    "plt.plot(steps, losses)\n",
    "plt.show()"
   ]
  },
  {
   "cell_type": "code",
   "execution_count": null,
   "metadata": {
    "collapsed": true
   },
   "outputs": [],
   "source": []
  }
 ],
 "metadata": {
  "kernelspec": {
   "display_name": "Python 3",
   "language": "python",
   "name": "python3"
  },
  "language_info": {
   "codemirror_mode": {
    "name": "ipython",
    "version": 3
   },
   "file_extension": ".py",
   "mimetype": "text/x-python",
   "name": "python",
   "nbconvert_exporter": "python",
   "pygments_lexer": "ipython3",
   "version": "3.6.2"
  }
 },
 "nbformat": 4,
 "nbformat_minor": 2
}
