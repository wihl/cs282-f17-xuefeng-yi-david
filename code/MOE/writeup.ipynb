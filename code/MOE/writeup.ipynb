{
 "cells": [
  {
   "cell_type": "code",
   "execution_count": 1,
   "metadata": {},
   "outputs": [
    {
     "name": "stderr",
     "output_type": "stream",
     "text": [
      "/anaconda/lib/python3.6/site-packages/sklearn/cross_validation.py:41: DeprecationWarning: This module was deprecated in version 0.18 in favor of the model_selection module into which all the refactored classes and functions are moved. Also note that the interface of the new CV iterators are different from that of this module. This module will be removed in 0.20.\n",
      "  \"This module will be removed in 0.20.\", DeprecationWarning)\n"
     ]
    }
   ],
   "source": [
    "%matplotlib inline\n",
    "import pickle as pkl\n",
    "import numpy as np\n",
    "import pandas as pd\n",
    "import matplotlib.pyplot as plt\n",
    "import sys\n",
    "MIN_INT_VALUE = -sys.maxsize - 1\n",
    "\n",
    "from sklearn.cross_validation import train_test_split\n",
    "from sklearn.cross_validation import cross_val_score\n",
    "from sklearn.ensemble import RandomForestClassifier\n",
    "\n",
    "import restrictactions as ra\n",
    "n_states = 750\n",
    "n_actions = 25\n"
   ]
  },
  {
   "cell_type": "code",
   "execution_count": 2,
   "metadata": {
    "collapsed": true
   },
   "outputs": [],
   "source": [
    "# Baseline dataset\n",
    "train_set = pd.read_csv('../../data/train_scaled_encoded.csv')\n",
    "test_set = pd.read_csv('../../data/test_scaled_encoded.csv')"
   ]
  },
  {
   "cell_type": "code",
   "execution_count": 3,
   "metadata": {},
   "outputs": [
    {
     "data": {
      "text/plain": [
       "Index(['num_bloc', 'delta_sofa', 'delta_lactate', 'intermediate_reward'], dtype='object')"
      ]
     },
     "execution_count": 3,
     "metadata": {},
     "output_type": "execute_result"
    }
   ],
   "source": [
    "# Features used to drive expert selection\n",
    "train_input = pd.read_csv('../../data/train_input_features.csv')\n",
    "test_input = pd.read_csv('../../data/test_input_features.csv')\n",
    "test_input.columns"
   ]
  },
  {
   "cell_type": "code",
   "execution_count": 4,
   "metadata": {
    "collapsed": true
   },
   "outputs": [],
   "source": [
    "# Calculated state for each row in baseline\n",
    "train_state_list = pkl.load(open('../../data/classify_state/train_states.pkl', 'rb'), encoding='latin1')\n",
    "train_set['state'] = train_state_list\n",
    "test_state_list = pkl.load(open('../../data/classify_state/test_states.pkl', 'rb'), encoding='latin1')\n",
    "test_set['state'] = test_state_list"
   ]
  },
  {
   "cell_type": "code",
   "execution_count": 5,
   "metadata": {
    "collapsed": true
   },
   "outputs": [],
   "source": [
    "# Map actions to a single value in [0..24]\n",
    "action_map = {}\n",
    "count = 0\n",
    "for iv in range(5):\n",
    "    for vaso in range(5):\n",
    "        action_map[(iv, vaso)] = count\n",
    "        count += 1\n",
    "        \n",
    "def label_action(row):\n",
    "    return action_map[(row['iv_input'],int(row['vaso_input']))]\n",
    "\n",
    "train_set['phy_action'] = train_set.apply(lambda row: label_action(row),axis=1)\n",
    "test_set['phy_action'] = test_set.apply(lambda row: label_action(row),axis=1)"
   ]
  },
  {
   "cell_type": "code",
   "execution_count": 6,
   "metadata": {
    "collapsed": true
   },
   "outputs": [],
   "source": [
    "# add in kernel policy\n",
    "kernel_policy = pkl.load(open('../../data/test_kernel_policy_transformed.pkl', 'rb'), encoding='latin1')\n",
    "test_set['kernel_action'] = kernel_policy[:,3].astype(int)"
   ]
  },
  {
   "cell_type": "code",
   "execution_count": 7,
   "metadata": {},
   "outputs": [],
   "source": [
    "# add in DQN policy\n",
    "train_dqn_policy = pd.DataFrame({'dqn_action':\n",
    "                           pkl.load(open('../../data/dqn/train_agent_actions.pkl', 'rb'), encoding='latin1')})\n",
    "test_dqn_policy = pd.DataFrame({'dqn_action':\n",
    "                           pkl.load(open('../../data/dqn/test_agent_actions.pkl', 'rb'), encoding='latin1')})\n",
    "\n",
    "train_set = pd.concat([train_set,train_dqn_policy],axis=1)\n",
    "test_set = pd.concat([test_set,test_dqn_policy],axis=1)\n"
   ]
  },
  {
   "cell_type": "code",
   "execution_count": 8,
   "metadata": {},
   "outputs": [
    {
     "name": "stdout",
     "output_type": "stream",
     "text": [
      "Testing Set Baseline mortality: 5.1%\n",
      "Training Set Baseline mortality: 9.6%\n"
     ]
    }
   ],
   "source": [
    "# Get baseline mortality\n",
    "episodes = test_set.groupby('icustayid')\n",
    "n_died = 0\n",
    "n_episodes = 0\n",
    "for name, transitions in episodes:\n",
    "    n_episodes += 1\n",
    "    rewards = transitions['reward'].tolist()\n",
    "    if rewards[-1] < 0:\n",
    "        n_died += 1\n",
    "\n",
    "print (\"Testing Set Baseline mortality: {0:.1%}\".format(n_died / n_episodes))\n",
    "\n",
    "episodes = train_set.groupby('icustayid')\n",
    "n_died = 0\n",
    "n_episodes = 0\n",
    "for name, transitions in episodes:\n",
    "    n_episodes += 1\n",
    "    rewards = transitions['reward'].tolist()\n",
    "    if rewards[-1] < 0:\n",
    "        n_died += 1\n",
    "\n",
    "print (\"Training Set Baseline mortality: {0:.1%}\".format(n_died / n_episodes))\n",
    "   "
   ]
  },
  {
   "cell_type": "code",
   "execution_count": 9,
   "metadata": {},
   "outputs": [
    {
     "data": {
      "text/html": [
       "<div>\n",
       "<style>\n",
       "    .dataframe thead tr:only-child th {\n",
       "        text-align: right;\n",
       "    }\n",
       "\n",
       "    .dataframe thead th {\n",
       "        text-align: left;\n",
       "    }\n",
       "\n",
       "    .dataframe tbody tr th {\n",
       "        vertical-align: top;\n",
       "    }\n",
       "</style>\n",
       "<table border=\"1\" class=\"dataframe\">\n",
       "  <thead>\n",
       "    <tr style=\"text-align: right;\">\n",
       "      <th></th>\n",
       "      <th>0</th>\n",
       "      <th>1</th>\n",
       "      <th>2</th>\n",
       "      <th>3</th>\n",
       "      <th>4</th>\n",
       "      <th>5</th>\n",
       "      <th>6</th>\n",
       "      <th>7</th>\n",
       "      <th>8</th>\n",
       "      <th>9</th>\n",
       "      <th>...</th>\n",
       "      <th>197</th>\n",
       "      <th>198</th>\n",
       "      <th>199</th>\n",
       "      <th>vaso_input</th>\n",
       "      <th>iv_input</th>\n",
       "      <th>reward</th>\n",
       "      <th>icustayid</th>\n",
       "      <th>state</th>\n",
       "      <th>phy_action</th>\n",
       "      <th>dqn_action</th>\n",
       "    </tr>\n",
       "  </thead>\n",
       "  <tbody>\n",
       "    <tr>\n",
       "      <th>0</th>\n",
       "      <td>0.029027</td>\n",
       "      <td>0.061212</td>\n",
       "      <td>0.224086</td>\n",
       "      <td>0.079448</td>\n",
       "      <td>0.052524</td>\n",
       "      <td>0.077151</td>\n",
       "      <td>0.103817</td>\n",
       "      <td>0.063714</td>\n",
       "      <td>0.032102</td>\n",
       "      <td>0.042459</td>\n",
       "      <td>...</td>\n",
       "      <td>0.057297</td>\n",
       "      <td>0.030372</td>\n",
       "      <td>0.047363</td>\n",
       "      <td>0</td>\n",
       "      <td>0.0</td>\n",
       "      <td>0.0</td>\n",
       "      <td>12.0</td>\n",
       "      <td>126</td>\n",
       "      <td>0</td>\n",
       "      <td>5</td>\n",
       "    </tr>\n",
       "    <tr>\n",
       "      <th>1</th>\n",
       "      <td>0.031518</td>\n",
       "      <td>0.078677</td>\n",
       "      <td>0.120369</td>\n",
       "      <td>0.040228</td>\n",
       "      <td>0.047623</td>\n",
       "      <td>0.104624</td>\n",
       "      <td>0.093498</td>\n",
       "      <td>0.073046</td>\n",
       "      <td>0.035958</td>\n",
       "      <td>0.056553</td>\n",
       "      <td>...</td>\n",
       "      <td>0.043883</td>\n",
       "      <td>0.036930</td>\n",
       "      <td>0.057726</td>\n",
       "      <td>0</td>\n",
       "      <td>0.0</td>\n",
       "      <td>0.0</td>\n",
       "      <td>12.0</td>\n",
       "      <td>233</td>\n",
       "      <td>0</td>\n",
       "      <td>5</td>\n",
       "    </tr>\n",
       "    <tr>\n",
       "      <th>2</th>\n",
       "      <td>0.030942</td>\n",
       "      <td>0.083416</td>\n",
       "      <td>0.106333</td>\n",
       "      <td>0.040481</td>\n",
       "      <td>0.039120</td>\n",
       "      <td>0.098819</td>\n",
       "      <td>0.077658</td>\n",
       "      <td>0.074696</td>\n",
       "      <td>0.041053</td>\n",
       "      <td>0.053553</td>\n",
       "      <td>...</td>\n",
       "      <td>0.041910</td>\n",
       "      <td>0.036587</td>\n",
       "      <td>0.067986</td>\n",
       "      <td>0</td>\n",
       "      <td>0.0</td>\n",
       "      <td>0.0</td>\n",
       "      <td>12.0</td>\n",
       "      <td>233</td>\n",
       "      <td>0</td>\n",
       "      <td>5</td>\n",
       "    </tr>\n",
       "    <tr>\n",
       "      <th>3</th>\n",
       "      <td>0.042970</td>\n",
       "      <td>0.050963</td>\n",
       "      <td>0.090261</td>\n",
       "      <td>0.093201</td>\n",
       "      <td>0.031332</td>\n",
       "      <td>0.057674</td>\n",
       "      <td>0.032040</td>\n",
       "      <td>0.054802</td>\n",
       "      <td>0.061447</td>\n",
       "      <td>0.053960</td>\n",
       "      <td>...</td>\n",
       "      <td>0.045784</td>\n",
       "      <td>0.041096</td>\n",
       "      <td>0.129189</td>\n",
       "      <td>0</td>\n",
       "      <td>0.0</td>\n",
       "      <td>15.0</td>\n",
       "      <td>12.0</td>\n",
       "      <td>264</td>\n",
       "      <td>0</td>\n",
       "      <td>0</td>\n",
       "    </tr>\n",
       "    <tr>\n",
       "      <th>4</th>\n",
       "      <td>0.064572</td>\n",
       "      <td>0.084793</td>\n",
       "      <td>0.065976</td>\n",
       "      <td>0.070753</td>\n",
       "      <td>0.063990</td>\n",
       "      <td>0.051591</td>\n",
       "      <td>0.050112</td>\n",
       "      <td>0.049624</td>\n",
       "      <td>0.092619</td>\n",
       "      <td>0.080058</td>\n",
       "      <td>...</td>\n",
       "      <td>0.061251</td>\n",
       "      <td>0.071471</td>\n",
       "      <td>0.039540</td>\n",
       "      <td>0</td>\n",
       "      <td>4.0</td>\n",
       "      <td>0.0</td>\n",
       "      <td>14.0</td>\n",
       "      <td>492</td>\n",
       "      <td>20</td>\n",
       "      <td>4</td>\n",
       "    </tr>\n",
       "  </tbody>\n",
       "</table>\n",
       "<p>5 rows × 207 columns</p>\n",
       "</div>"
      ],
      "text/plain": [
       "          0         1         2         3         4         5         6  \\\n",
       "0  0.029027  0.061212  0.224086  0.079448  0.052524  0.077151  0.103817   \n",
       "1  0.031518  0.078677  0.120369  0.040228  0.047623  0.104624  0.093498   \n",
       "2  0.030942  0.083416  0.106333  0.040481  0.039120  0.098819  0.077658   \n",
       "3  0.042970  0.050963  0.090261  0.093201  0.031332  0.057674  0.032040   \n",
       "4  0.064572  0.084793  0.065976  0.070753  0.063990  0.051591  0.050112   \n",
       "\n",
       "          7         8         9     ...           197       198       199  \\\n",
       "0  0.063714  0.032102  0.042459     ...      0.057297  0.030372  0.047363   \n",
       "1  0.073046  0.035958  0.056553     ...      0.043883  0.036930  0.057726   \n",
       "2  0.074696  0.041053  0.053553     ...      0.041910  0.036587  0.067986   \n",
       "3  0.054802  0.061447  0.053960     ...      0.045784  0.041096  0.129189   \n",
       "4  0.049624  0.092619  0.080058     ...      0.061251  0.071471  0.039540   \n",
       "\n",
       "   vaso_input  iv_input  reward  icustayid  state  phy_action  dqn_action  \n",
       "0           0       0.0     0.0       12.0    126           0           5  \n",
       "1           0       0.0     0.0       12.0    233           0           5  \n",
       "2           0       0.0     0.0       12.0    233           0           5  \n",
       "3           0       0.0    15.0       12.0    264           0           0  \n",
       "4           0       4.0     0.0       14.0    492          20           4  \n",
       "\n",
       "[5 rows x 207 columns]"
      ]
     },
     "execution_count": 9,
     "metadata": {},
     "output_type": "execute_result"
    }
   ],
   "source": [
    "train_set.head()"
   ]
  },
  {
   "cell_type": "code",
   "execution_count": 10,
   "metadata": {},
   "outputs": [
    {
     "data": {
      "text/html": [
       "<div>\n",
       "<style>\n",
       "    .dataframe thead tr:only-child th {\n",
       "        text-align: right;\n",
       "    }\n",
       "\n",
       "    .dataframe thead th {\n",
       "        text-align: left;\n",
       "    }\n",
       "\n",
       "    .dataframe tbody tr th {\n",
       "        vertical-align: top;\n",
       "    }\n",
       "</style>\n",
       "<table border=\"1\" class=\"dataframe\">\n",
       "  <thead>\n",
       "    <tr style=\"text-align: right;\">\n",
       "      <th></th>\n",
       "      <th>0</th>\n",
       "      <th>1</th>\n",
       "      <th>2</th>\n",
       "      <th>3</th>\n",
       "      <th>4</th>\n",
       "      <th>5</th>\n",
       "      <th>6</th>\n",
       "      <th>7</th>\n",
       "      <th>8</th>\n",
       "      <th>9</th>\n",
       "      <th>...</th>\n",
       "      <th>198</th>\n",
       "      <th>199</th>\n",
       "      <th>vaso_input</th>\n",
       "      <th>iv_input</th>\n",
       "      <th>reward</th>\n",
       "      <th>icustayid</th>\n",
       "      <th>state</th>\n",
       "      <th>phy_action</th>\n",
       "      <th>kernel_action</th>\n",
       "      <th>dqn_action</th>\n",
       "    </tr>\n",
       "  </thead>\n",
       "  <tbody>\n",
       "    <tr>\n",
       "      <th>0</th>\n",
       "      <td>0.044787</td>\n",
       "      <td>0.024944</td>\n",
       "      <td>0.059501</td>\n",
       "      <td>0.186372</td>\n",
       "      <td>0.099174</td>\n",
       "      <td>0.010116</td>\n",
       "      <td>0.015910</td>\n",
       "      <td>0.031792</td>\n",
       "      <td>0.063170</td>\n",
       "      <td>0.050696</td>\n",
       "      <td>...</td>\n",
       "      <td>0.082892</td>\n",
       "      <td>0.012378</td>\n",
       "      <td>0</td>\n",
       "      <td>4.0</td>\n",
       "      <td>0.0</td>\n",
       "      <td>61.0</td>\n",
       "      <td>376</td>\n",
       "      <td>20</td>\n",
       "      <td>0</td>\n",
       "      <td>15</td>\n",
       "    </tr>\n",
       "    <tr>\n",
       "      <th>1</th>\n",
       "      <td>0.048257</td>\n",
       "      <td>0.029508</td>\n",
       "      <td>0.033046</td>\n",
       "      <td>0.102542</td>\n",
       "      <td>0.107019</td>\n",
       "      <td>0.015018</td>\n",
       "      <td>0.014971</td>\n",
       "      <td>0.034197</td>\n",
       "      <td>0.057205</td>\n",
       "      <td>0.072662</td>\n",
       "      <td>...</td>\n",
       "      <td>0.096143</td>\n",
       "      <td>0.013473</td>\n",
       "      <td>0</td>\n",
       "      <td>4.0</td>\n",
       "      <td>0.0</td>\n",
       "      <td>61.0</td>\n",
       "      <td>146</td>\n",
       "      <td>20</td>\n",
       "      <td>0</td>\n",
       "      <td>15</td>\n",
       "    </tr>\n",
       "    <tr>\n",
       "      <th>2</th>\n",
       "      <td>0.041906</td>\n",
       "      <td>0.028968</td>\n",
       "      <td>0.028705</td>\n",
       "      <td>0.111719</td>\n",
       "      <td>0.098205</td>\n",
       "      <td>0.013579</td>\n",
       "      <td>0.012648</td>\n",
       "      <td>0.027884</td>\n",
       "      <td>0.074506</td>\n",
       "      <td>0.081935</td>\n",
       "      <td>...</td>\n",
       "      <td>0.103266</td>\n",
       "      <td>0.015244</td>\n",
       "      <td>0</td>\n",
       "      <td>4.0</td>\n",
       "      <td>0.0</td>\n",
       "      <td>61.0</td>\n",
       "      <td>187</td>\n",
       "      <td>20</td>\n",
       "      <td>5</td>\n",
       "      <td>15</td>\n",
       "    </tr>\n",
       "    <tr>\n",
       "      <th>3</th>\n",
       "      <td>0.040383</td>\n",
       "      <td>0.029019</td>\n",
       "      <td>0.029167</td>\n",
       "      <td>0.131740</td>\n",
       "      <td>0.099840</td>\n",
       "      <td>0.013389</td>\n",
       "      <td>0.012455</td>\n",
       "      <td>0.028260</td>\n",
       "      <td>0.072425</td>\n",
       "      <td>0.088626</td>\n",
       "      <td>...</td>\n",
       "      <td>0.117384</td>\n",
       "      <td>0.015660</td>\n",
       "      <td>0</td>\n",
       "      <td>4.0</td>\n",
       "      <td>0.0</td>\n",
       "      <td>61.0</td>\n",
       "      <td>187</td>\n",
       "      <td>20</td>\n",
       "      <td>5</td>\n",
       "      <td>15</td>\n",
       "    </tr>\n",
       "    <tr>\n",
       "      <th>4</th>\n",
       "      <td>0.045685</td>\n",
       "      <td>0.029040</td>\n",
       "      <td>0.027817</td>\n",
       "      <td>0.137894</td>\n",
       "      <td>0.106901</td>\n",
       "      <td>0.013968</td>\n",
       "      <td>0.012697</td>\n",
       "      <td>0.028393</td>\n",
       "      <td>0.073113</td>\n",
       "      <td>0.088150</td>\n",
       "      <td>...</td>\n",
       "      <td>0.123431</td>\n",
       "      <td>0.014925</td>\n",
       "      <td>0</td>\n",
       "      <td>4.0</td>\n",
       "      <td>0.0</td>\n",
       "      <td>61.0</td>\n",
       "      <td>187</td>\n",
       "      <td>20</td>\n",
       "      <td>20</td>\n",
       "      <td>15</td>\n",
       "    </tr>\n",
       "  </tbody>\n",
       "</table>\n",
       "<p>5 rows × 208 columns</p>\n",
       "</div>"
      ],
      "text/plain": [
       "          0         1         2         3         4         5         6  \\\n",
       "0  0.044787  0.024944  0.059501  0.186372  0.099174  0.010116  0.015910   \n",
       "1  0.048257  0.029508  0.033046  0.102542  0.107019  0.015018  0.014971   \n",
       "2  0.041906  0.028968  0.028705  0.111719  0.098205  0.013579  0.012648   \n",
       "3  0.040383  0.029019  0.029167  0.131740  0.099840  0.013389  0.012455   \n",
       "4  0.045685  0.029040  0.027817  0.137894  0.106901  0.013968  0.012697   \n",
       "\n",
       "          7         8         9     ...           198       199  vaso_input  \\\n",
       "0  0.031792  0.063170  0.050696     ...      0.082892  0.012378           0   \n",
       "1  0.034197  0.057205  0.072662     ...      0.096143  0.013473           0   \n",
       "2  0.027884  0.074506  0.081935     ...      0.103266  0.015244           0   \n",
       "3  0.028260  0.072425  0.088626     ...      0.117384  0.015660           0   \n",
       "4  0.028393  0.073113  0.088150     ...      0.123431  0.014925           0   \n",
       "\n",
       "   iv_input  reward  icustayid  state  phy_action  kernel_action  dqn_action  \n",
       "0       4.0     0.0       61.0    376          20              0          15  \n",
       "1       4.0     0.0       61.0    146          20              0          15  \n",
       "2       4.0     0.0       61.0    187          20              5          15  \n",
       "3       4.0     0.0       61.0    187          20              5          15  \n",
       "4       4.0     0.0       61.0    187          20             20          15  \n",
       "\n",
       "[5 rows x 208 columns]"
      ]
     },
     "execution_count": 10,
     "metadata": {},
     "output_type": "execute_result"
    }
   ],
   "source": [
    "test_set.head()"
   ]
  },
  {
   "cell_type": "code",
   "execution_count": 11,
   "metadata": {},
   "outputs": [
    {
     "data": {
      "image/png": "[encoded data removed]",
      "text/plain": [
       "<matplotlib.figure.Figure at 0x11d0c4c18>"
      ]
     },
     "metadata": {},
     "output_type": "display_data"
    }
   ],
   "source": [
    "plt.hist(test_set['phy_action'],50)\n",
    "pass"
   ]
  },
  {
   "cell_type": "code",
   "execution_count": 12,
   "metadata": {},
   "outputs": [
    {
     "data": {
      "image/png": "[encoded data removed]",
      "text/plain": [
       "<matplotlib.figure.Figure at 0x11dc7ef60>"
      ]
     },
     "metadata": {},
     "output_type": "display_data"
    }
   ],
   "source": [
    "plt.hist(test_set['kernel_action'],50)\n",
    "pass"
   ]
  },
  {
   "cell_type": "code",
   "execution_count": 13,
   "metadata": {},
   "outputs": [
    {
     "data": {
      "image/png": "[encoded data removed]",
      "text/plain": [
       "<matplotlib.figure.Figure at 0x11dd0ee10>"
      ]
     },
     "metadata": {},
     "output_type": "display_data"
    }
   ],
   "source": [
    "plt.hist(train_dqn_policy['dqn_action'],50)\n",
    "pass"
   ]
  },
  {
   "cell_type": "code",
   "execution_count": 14,
   "metadata": {},
   "outputs": [
    {
     "data": {
      "text/plain": [
       "Index(['num_bloc', 'delta_sofa', 'delta_lactate', 'intermediate_reward'], dtype='object')"
      ]
     },
     "execution_count": 14,
     "metadata": {},
     "output_type": "execute_result"
    }
   ],
   "source": [
    "test_input.columns"
   ]
  },
  {
   "cell_type": "code",
   "execution_count": 15,
   "metadata": {},
   "outputs": [
    {
     "data": {
      "text/plain": [
       "Index(['0', '1', '2', '3', '4', '5', '6', '7', '8', '9',\n",
       "       ...\n",
       "       '198', '199', 'vaso_input', 'iv_input', 'reward', 'icustayid', 'state',\n",
       "       'phy_action', 'kernel_action', 'dqn_action'],\n",
       "      dtype='object', length=208)"
      ]
     },
     "execution_count": 15,
     "metadata": {},
     "output_type": "execute_result"
    }
   ],
   "source": [
    "test_set.columns"
   ]
  },
  {
   "cell_type": "code",
   "execution_count": 16,
   "metadata": {},
   "outputs": [
    {
     "data": {
      "text/plain": [
       "(array([ 5862.,  5685.,  5319.,  4449.,  6001.,  4816.,  5435.,  4140.,\n",
       "         4657.,  4495.]),\n",
       " array([   0. ,   74.9,  149.8,  224.7,  299.6,  374.5,  449.4,  524.3,\n",
       "         599.2,  674.1,  749. ]),\n",
       " <a list of 10 Patch objects>)"
      ]
     },
     "execution_count": 16,
     "metadata": {},
     "output_type": "execute_result"
    },
    {
     "data": {
      "image/png": "[encoded data removed]",
      "text/plain": [
       "<matplotlib.figure.Figure at 0x1239db630>"
      ]
     },
     "metadata": {},
     "output_type": "display_data"
    }
   ],
   "source": [
    "plt.hist(test_set['state'])"
   ]
  },
  {
   "cell_type": "code",
   "execution_count": 17,
   "metadata": {},
   "outputs": [
    {
     "data": {
      "text/plain": [
       "(array([ 17606.,  17926.,  16853.,  14000.,  16208.,  14909.,  15785.,\n",
       "         11882.,  12994.,  12578.]),\n",
       " array([   0. ,   74.9,  149.8,  224.7,  299.6,  374.5,  449.4,  524.3,\n",
       "         599.2,  674.1,  749. ]),\n",
       " <a list of 10 Patch objects>)"
      ]
     },
     "execution_count": 17,
     "metadata": {},
     "output_type": "execute_result"
    },
    {
     "data": {
      "image/png": "[encoded data removed]",
      "text/plain": [
       "<matplotlib.figure.Figure at 0x11ea92e48>"
      ]
     },
     "metadata": {},
     "output_type": "display_data"
    }
   ],
   "source": [
    "plt.hist(train_set['state'])"
   ]
  },
  {
   "cell_type": "markdown",
   "metadata": {},
   "source": [
    "### Are intermediate reward predictive of state?\n",
    "\n",
    "Answer: No, they aren't"
   ]
  },
  {
   "cell_type": "code",
   "execution_count": 18,
   "metadata": {
    "collapsed": true
   },
   "outputs": [],
   "source": [
    "orig_df = pd.read_csv('../../data/origin_train_clean.csv')"
   ]
  },
  {
   "cell_type": "code",
   "execution_count": 19,
   "metadata": {},
   "outputs": [],
   "source": [
    "# X = pd.concat([train_input[['delta_sofa','delta_lactate','intermediate_reward']],\n",
    "#                train_set['phy_action'].astype('category'),\n",
    "#                orig_df['gender'].astype('category'),\n",
    "#                (orig_df['age']/365.25).astype('int')],\n",
    "#               ignore_index=True, axis=1)\n",
    "# y = train_set['state'].astype('category')\n",
    "# X.columns = ['delta_sofa','delta_lactate','intermediate_reward','phy_action','gender','age']\n",
    "# X.head()"
   ]
  },
  {
   "cell_type": "code",
   "execution_count": 20,
   "metadata": {},
   "outputs": [],
   "source": [
    "# Free up some memory\n",
    "#del orig_df,train_state_list, test_state_list, kernel_policy, train_dqn_policy, test_dqn_policy"
   ]
  },
  {
   "cell_type": "code",
   "execution_count": 21,
   "metadata": {},
   "outputs": [],
   "source": [
    "# to save time, 10% train, 90% test. RF was taking too long on the larger data set.\n",
    "# X_train, X_test, y_train, y_test = train_test_split(X,y,test_size=0.9)\n",
    "# print (X_train.shape, X_test.shape, y_train.shape, y_test.shape)"
   ]
  },
  {
   "cell_type": "code",
   "execution_count": 22,
   "metadata": {},
   "outputs": [],
   "source": [
    "\n",
    "# ntdict = {}\n",
    "# for nt in [50,100]:\n",
    "#     clf = RandomForestClassifier(n_estimators=nt,criterion=\"gini\")\n",
    "#     scores = cross_val_score(clf,X_train,y_train,cv=2)\n",
    "#     ntdict[nt] = scores.mean()"
   ]
  },
  {
   "cell_type": "code",
   "execution_count": 23,
   "metadata": {},
   "outputs": [],
   "source": [
    "# print (ntdict)"
   ]
  },
  {
   "cell_type": "code",
   "execution_count": 24,
   "metadata": {},
   "outputs": [],
   "source": [
    "# del X_train, X_test, y_train, y_test, clf, scores, ntdict, X, y"
   ]
  },
  {
   "cell_type": "markdown",
   "metadata": {},
   "source": [
    "### Terminal states"
   ]
  },
  {
   "cell_type": "code",
   "execution_count": 40,
   "metadata": {},
   "outputs": [],
   "source": [
    "state_rewards = np.zeros((n_states))\n",
    "terminal_state = []\n",
    "n_episodes = 0\n",
    "for name, transitions in episodes:\n",
    "    states = transitions['state'].tolist()\n",
    "    rewards = transitions['reward'].tolist()\n",
    "    terminal_state.append(states[-1])\n",
    "    n_episodes += 1\n",
    "    state_rewards[states[-1]] += rewards[-1]\n",
    "\n",
    "state_rewards = state_rewards / n_episodes"
   ]
  },
  {
   "cell_type": "code",
   "execution_count": 41,
   "metadata": {},
   "outputs": [
    {
     "data": {
      "image/png": "[encoded data removed]",
      "text/plain": [
       "<matplotlib.figure.Figure at 0x11d07f390>"
      ]
     },
     "metadata": {},
     "output_type": "display_data"
    }
   ],
   "source": [
    "plt.hist(terminal_state,150)\n",
    "plt.title(\"Distribution of Terminal States\")\n",
    "pass"
   ]
  },
  {
   "cell_type": "code",
   "execution_count": 42,
   "metadata": {},
   "outputs": [
    {
     "data": {
      "image/png": "[encoded data removed]",
      "text/plain": [
       "<matplotlib.figure.Figure at 0x11d3c6390>"
      ]
     },
     "metadata": {},
     "output_type": "display_data"
    }
   ],
   "source": [
    "plt.hist(state_rewards,50)\n",
    "plt.title(\"Distribution of Rewards by State\")\n",
    "pass"
   ]
  },
  {
   "cell_type": "markdown",
   "metadata": {},
   "source": [
    "Conclusion: there isn't a particular small set of states that are considered \"terminal.\" However, some\n",
    "terminal states have significantly more rewards than others. Choose the path that leads to the highest rewards."
   ]
  },
  {
   "cell_type": "markdown",
   "metadata": {},
   "source": [
    "### Restricted Actions"
   ]
  },
  {
   "cell_type": "code",
   "execution_count": 28,
   "metadata": {},
   "outputs": [],
   "source": [
    "# import importlib\n",
    "# importlib.reload(ra)"
   ]
  },
  {
   "cell_type": "code",
   "execution_count": 29,
   "metadata": {},
   "outputs": [],
   "source": [
    "restrict_actions = ra.RestrictActions(n_states,n_actions)"
   ]
  },
  {
   "cell_type": "code",
   "execution_count": 30,
   "metadata": {},
   "outputs": [],
   "source": [
    "restrict_actions.load_sas_as_episodes(episodes,'phy_action')"
   ]
  },
  {
   "cell_type": "code",
   "execution_count": 31,
   "metadata": {},
   "outputs": [],
   "source": [
    "# Testing\n",
    "# print (restrict_actions.get_actions(126,2))\n",
    "# print (restrict_actions.get_consensus(126,0.2))\n",
    "# print (restrict_actions.get_consensus(126,0.2))"
   ]
  },
  {
   "cell_type": "code",
   "execution_count": 32,
   "metadata": {},
   "outputs": [],
   "source": [
    "dqn_restrict_actions = ra.RestrictActions(n_states,n_actions)\n",
    "dqn_restrict_actions.load_sas_as_episodes(episodes,'dqn_action')"
   ]
  },
  {
   "cell_type": "markdown",
   "metadata": {},
   "source": [
    "## Combined Policy\n",
    "\n",
    "Method:\n",
    "\n",
    "* If there is physician consensus for a given action at a given state, simply choose it.\n",
    "* If there is no consensus, walk the three action choices and pick the action that leads to\n",
    "the state with the highest reward."
   ]
  },
  {
   "cell_type": "code",
   "execution_count": 43,
   "metadata": {
    "collapsed": true
   },
   "outputs": [],
   "source": [
    "n_died = 0\n",
    "n_episodes = 0\n",
    "max_depth = 10\n",
    "min_freq = 30\n",
    "\n",
    "stats_phy_chosen = 0\n",
    "stats_dqn_chosen = 0\n",
    "stats_phy_consensus = 0\n",
    "stats_no_action = 0"
   ]
  },
  {
   "cell_type": "code",
   "execution_count": 44,
   "metadata": {
    "collapsed": true
   },
   "outputs": [],
   "source": [
    "def perform_action(state,action):\n",
    "    reward = state_rewards[state]\n",
    "    state = int(np.max(restrict_actions.sas_count[state,action]))\n",
    "    return state, reward"
   ]
  },
  {
   "cell_type": "code",
   "execution_count": 45,
   "metadata": {
    "collapsed": true
   },
   "outputs": [],
   "source": [
    "def perform_best_action(state):\n",
    "    global stats_dqn_chosen, stats_phy_chosen, stats_no_action\n",
    "    max_reward = MIN_INT_VALUE\n",
    "    dqn_reward = MIN_INT_VALUE\n",
    "    phy_reward = MIN_INT_VALUE\n",
    "    best_action = 0\n",
    "    new_state = -1\n",
    "    for a in restrict_actions.get_actions(state,min_freq=min_freq):\n",
    "        if state_rewards[a] > max_reward:\n",
    "            max_reward = state_rewards[a]\n",
    "            phy_reward = max_reward\n",
    "            best_action = a\n",
    "            new_state = int(np.max(restrict_actions.sas_count[state][a]))\n",
    "\n",
    "    for a in dqn_restrict_actions.get_actions(state,min_freq=min_freq):\n",
    "        if state_rewards[a] > max_reward:\n",
    "            max_reward = state_rewards[a]\n",
    "            dqn_reward = max_reward\n",
    "            best_action = a\n",
    "            new_state = int(np.max(dqn_restrict_actions.sas_count[state][a]))\n",
    "            \n",
    "\n",
    "    if phy_reward > dqn_reward:\n",
    "        stats_phy_chosen += 1\n",
    "    else:\n",
    "        stats_dqn_chosen += 1\n",
    "\n",
    "    if new_state >= 0:\n",
    "        reward = state_rewards[new_state]\n",
    "        return best_action, new_state, reward\n",
    "    else:\n",
    "        stats_no_action += 1\n",
    "        return None, None, None"
   ]
  },
  {
   "cell_type": "code",
   "execution_count": 50,
   "metadata": {},
   "outputs": [
    {
     "name": "stdout",
     "output_type": "stream",
     "text": [
      "| 30% | 11.7% | 20.5% | 51.1% | 48.9% | \n",
      "| 50% | 12.2% | 20.9% | 51.3% | 48.7% | \n",
      "| 70% | 12.5% | 19.9% | 51.2% | 48.8% | \n",
      "| 90% | 12.8% | 18.6% | 50.9% | 49.1% | \n"
     ]
    }
   ],
   "source": [
    "test_episodes = test_set.groupby('icustayid')\n",
    "reward_dist =[]\n",
    "given_reward_dist = []\n",
    "for physician_consensus in [0.3,0.5,0.7,0.9]:\n",
    "    for name, transitions in test_episodes:\n",
    "        n_episodes += 1\n",
    "        state = transitions['state'].tolist()[0]\n",
    "        given_reward_dist.append(transitions['reward'].tolist()[-1])\n",
    "        depth = 0 \n",
    "        while True:\n",
    "            if depth > max_depth:\n",
    "                break\n",
    "            depth += 1\n",
    "            state = int(state)\n",
    "            #print ()\n",
    "            action = restrict_actions.get_consensus(state,physician_consensus)\n",
    "            if action is None:\n",
    "                action, state, reward = perform_best_action(state)\n",
    "            else:\n",
    "                state, reward = perform_action(state,action)\n",
    "                stats_phy_consensus += 1\n",
    "            if reward is None or reward != 0:\n",
    "                break\n",
    "        if reward < 0:\n",
    "            n_died += 1\n",
    "        reward_dist.append(reward)\n",
    "    total_choices = stats_phy_chosen + stats_dqn_chosen\n",
    "            \n",
    "#     print (\"consensus:\", physician_consensus)\n",
    "#     print (\"Overall mortality: {0:.1%}\".format(n_died / n_episodes))\n",
    "#     print (\"Physician consensus occured {0:.1%}\".format(stats_phy_consensus / n_episodes))\n",
    "#     print (\"Phy chosen {0:.1%}, DQN chosen {1:.1%}\".format(stats_phy_chosen/total_choices,stats_dqn_chosen/total_choices))\n",
    "    print (\"| {0:.0%} \".format(physician_consensus), end=\"\")\n",
    "    print (\"| {0:.1%} \".format(n_died / n_episodes), end=\"\")\n",
    "    print (\"| {0:.1%} \".format(stats_phy_consensus / n_episodes), end=\"\")\n",
    "    #print (\"| {0:.1%} \".format(stats_no_action / n_episodes), end=\"\")\n",
    "    print (\"| {0:.1%} \".format(stats_phy_chosen/total_choices), end=\"\")\n",
    "    print (\"| {0:.1%} | \".format(stats_dqn_chosen/total_choices))\n"
   ]
  },
  {
   "cell_type": "markdown",
   "metadata": {},
   "source": [
    "Test Runs\n",
    "\n",
    "|Physician Consensus | Mortality | Consensus Occurred | Physician Policy Chosen | DQN Policy Chosen|\n",
    "|---|---|---|---|\n",
    "| 30% | 15.6% | 43.2% | 53.1% | 46.9% | \n",
    "| 50% | 17.0% | 34.2% | 53.9% | 46.1% | \n",
    "| 70% | 17.3% | 24.8% | 52.4% | 47.6% | \n",
    "| 90% | 17.0% | 18.6% | 50.9% | 49.1% | "
   ]
  },
  {
   "cell_type": "code",
   "execution_count": 52,
   "metadata": {},
   "outputs": [
    {
     "data": {
      "text/plain": [
       "(array([  1083.,      0.,      0.,      0.,      0.,      0.,      0.,\n",
       "             0.,  13763.,    570.]),\n",
       " array([-1.        , -0.88170732, -0.76341463, -0.64512195, -0.52682927,\n",
       "        -0.40853659, -0.2902439 , -0.17195122, -0.05365854,  0.06463415,\n",
       "         0.18292683]),\n",
       " <a list of 10 Patch objects>)"
      ]
     },
     "execution_count": 52,
     "metadata": {},
     "output_type": "execute_result"
    },
    {
     "data": {
      "image/png": "[encoded data removed]",
      "text/plain": [
       "<matplotlib.figure.Figure at 0x11e6bb0f0>"
      ]
     },
     "metadata": {},
     "output_type": "display_data"
    }
   ],
   "source": [
    "plt.hist(reward_dist)"
   ]
  },
  {
   "cell_type": "code",
   "execution_count": 51,
   "metadata": {},
   "outputs": [
    {
     "data": {
      "text/plain": [
       "(array([  792.,     0.,     0.,     0.,     0.,  8948.,     0.,     0.,\n",
       "            0.,  5676.]),\n",
       " array([-15., -12.,  -9.,  -6.,  -3.,   0.,   3.,   6.,   9.,  12.,  15.]),\n",
       " <a list of 10 Patch objects>)"
      ]
     },
     "execution_count": 51,
     "metadata": {},
     "output_type": "execute_result"
    },
    {
     "data": {
      "image/png": "[encoded data removed]",
      "text/plain": [
       "<matplotlib.figure.Figure at 0x11d9e73c8>"
      ]
     },
     "metadata": {},
     "output_type": "display_data"
    }
   ],
   "source": [
    "plt.hist(given_reward_dist)"
   ]
  },
  {
   "cell_type": "code",
   "execution_count": 54,
   "metadata": {},
   "outputs": [
    {
     "data": {
      "text/plain": [
       "0.05137519460300986"
      ]
     },
     "execution_count": 54,
     "metadata": {},
     "output_type": "execute_result"
    }
   ],
   "source": [
    "792 / len(given_reward_dist)"
   ]
  },
  {
   "cell_type": "code",
   "execution_count": null,
   "metadata": {
    "collapsed": true
   },
   "outputs": [],
   "source": []
  }
 ],
 "metadata": {
  "kernelspec": {
   "display_name": "Python 3",
   "language": "python",
   "name": "python3"
  },
  "language_info": {
   "codemirror_mode": {
    "name": "ipython",
    "version": 3
   },
   "file_extension": ".py",
   "mimetype": "text/x-python",
   "name": "python",
   "nbconvert_exporter": "python",
   "pygments_lexer": "ipython3",
   "version": "3.6.1"
  }
 },
 "nbformat": 4,
 "nbformat_minor": 2
}
