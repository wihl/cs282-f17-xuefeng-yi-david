{
 "cells": [
  {
   "cell_type": "markdown",
   "metadata": {},
   "source": [
    "# CS282r - Fall 2017 \n",
    "## Improve Sepsis Treatment using Mixture of Experts\n",
    "## Gating via Reinforcement Learning\n",
    "\n",
    "Jerry, Yi, David"
   ]
  },
  {
   "cell_type": "code",
   "execution_count": 58,
   "metadata": {},
   "outputs": [],
   "source": [
    "%matplotlib inline\n",
    "import pickle as pkl\n",
    "import numpy as np\n",
    "import pandas as pd\n",
    "import matplotlib.pyplot as plt\n",
    "import sys\n",
    "MIN_INT_VALUE = -sys.maxsize - 1\n",
    "\n",
    "import seaborn as sns; sns.set()\n",
    "from collections import Counter\n",
    "\n",
    "import restrictactions as ra\n",
    "n_states = 750\n",
    "n_actions = 25\n"
   ]
  },
  {
   "cell_type": "markdown",
   "metadata": {},
   "source": [
    "## Load Data and Experts"
   ]
  },
  {
   "cell_type": "code",
   "execution_count": 2,
   "metadata": {
    "collapsed": true
   },
   "outputs": [],
   "source": [
    "# Baseline dataset\n",
    "train_set = pd.read_csv('../../data/train_scaled_encoded.csv')\n",
    "test_set = pd.read_csv('../../data/test_scaled_encoded.csv')"
   ]
  },
  {
   "cell_type": "code",
   "execution_count": 3,
   "metadata": {},
   "outputs": [],
   "source": [
    "# Features used to drive expert selection\n",
    "# => Obsolete\n",
    "# train_input = pd.read_csv('../../data/train_input_features.csv')\n",
    "# test_input = pd.read_csv('../../data/test_input_features.csv')\n",
    "# test_input.columns"
   ]
  },
  {
   "cell_type": "code",
   "execution_count": 4,
   "metadata": {
    "collapsed": true
   },
   "outputs": [],
   "source": [
    "# Calculated state for each row in baseline\n",
    "train_state_list = pkl.load(open('../../data/classify_state/train_states.pkl', 'rb'), encoding='latin1')\n",
    "train_set['state'] = train_state_list\n",
    "test_state_list = pkl.load(open('../../data/classify_state/test_states.pkl', 'rb'), encoding='latin1')\n",
    "test_set['state'] = test_state_list"
   ]
  },
  {
   "cell_type": "code",
   "execution_count": 5,
   "metadata": {
    "collapsed": true
   },
   "outputs": [],
   "source": [
    "# Map actions to a single value in [0..24]\n",
    "action_map = {}\n",
    "count = 0\n",
    "for iv in range(5):\n",
    "    for vaso in range(5):\n",
    "        action_map[(iv, vaso)] = count\n",
    "        count += 1\n",
    "        \n",
    "def label_action(row):\n",
    "    return action_map[(row['iv_input'],int(row['vaso_input']))]\n",
    "\n",
    "train_set['phy_action'] = train_set.apply(lambda row: label_action(row),axis=1)\n",
    "test_set['phy_action'] = test_set.apply(lambda row: label_action(row),axis=1)"
   ]
  },
  {
   "cell_type": "code",
   "execution_count": 6,
   "metadata": {
    "collapsed": true
   },
   "outputs": [],
   "source": [
    "# add in kernel policy\n",
    "train_kernel_policy = pkl.load(open('../../data/train_kernel_policy_transformed.pkl', 'rb'), encoding='latin1')\n",
    "train_set['krn_action'] = train_kernel_policy[:,3].astype(int)\n",
    "test_kernel_policy = pkl.load(open('../../data/test_kernel_policy_transformed.pkl', 'rb'), encoding='latin1')\n",
    "test_set['krn_action'] = test_kernel_policy[:,3].astype(int)"
   ]
  },
  {
   "cell_type": "code",
   "execution_count": 7,
   "metadata": {},
   "outputs": [],
   "source": [
    "# add in DQN policy\n",
    "train_dqn_policy = pd.DataFrame({'dqn_action':\n",
    "                           pkl.load(open('../../data/dqn/train_agent_actions_2m.pkl', 'rb'), encoding='latin1')})\n",
    "test_dqn_policy = pd.DataFrame({'dqn_action':\n",
    "                           pkl.load(open('../../data/dqn/test_agent_actions_2m.pkl', 'rb'), encoding='latin1')})\n",
    "\n",
    "train_set = pd.concat([train_set,train_dqn_policy],axis=1)\n",
    "test_set = pd.concat([test_set,test_dqn_policy],axis=1)\n"
   ]
  },
  {
   "cell_type": "markdown",
   "metadata": {},
   "source": [
    "### Simple Exploratory Data Analysis"
   ]
  },
  {
   "cell_type": "code",
   "execution_count": 8,
   "metadata": {},
   "outputs": [
    {
     "name": "stdout",
     "output_type": "stream",
     "text": [
      "Testing Set Baseline mortality: 5.1%\n",
      "Training Set Baseline mortality: 9.6%\n"
     ]
    }
   ],
   "source": [
    "# Get baseline mortality\n",
    "episodes = test_set.groupby('icustayid')\n",
    "n_died = 0\n",
    "n_episodes = 0\n",
    "for name, transitions in episodes:\n",
    "    n_episodes += 1\n",
    "    rewards = transitions['reward'].tolist()\n",
    "    if rewards[-1] < 0:\n",
    "        n_died += 1\n",
    "\n",
    "print (\"Testing Set Baseline mortality: {0:.1%}\".format(n_died / n_episodes))\n",
    "\n",
    "episodes = train_set.groupby('icustayid')\n",
    "n_died = 0\n",
    "n_episodes = 0\n",
    "for name, transitions in episodes:\n",
    "    n_episodes += 1\n",
    "    rewards = transitions['reward'].tolist()\n",
    "    if rewards[-1] < 0:\n",
    "        n_died += 1\n",
    "\n",
    "print (\"Training Set Baseline mortality: {0:.1%}\".format(n_died / n_episodes))\n",
    "   "
   ]
  },
  {
   "cell_type": "code",
   "execution_count": 9,
   "metadata": {},
   "outputs": [
    {
     "data": {
      "text/html": [
       "<div>\n",
       "<style>\n",
       "    .dataframe thead tr:only-child th {\n",
       "        text-align: right;\n",
       "    }\n",
       "\n",
       "    .dataframe thead th {\n",
       "        text-align: left;\n",
       "    }\n",
       "\n",
       "    .dataframe tbody tr th {\n",
       "        vertical-align: top;\n",
       "    }\n",
       "</style>\n",
       "<table border=\"1\" class=\"dataframe\">\n",
       "  <thead>\n",
       "    <tr style=\"text-align: right;\">\n",
       "      <th></th>\n",
       "      <th>0</th>\n",
       "      <th>1</th>\n",
       "      <th>2</th>\n",
       "      <th>3</th>\n",
       "      <th>4</th>\n",
       "      <th>5</th>\n",
       "      <th>6</th>\n",
       "      <th>7</th>\n",
       "      <th>8</th>\n",
       "      <th>9</th>\n",
       "      <th>...</th>\n",
       "      <th>198</th>\n",
       "      <th>199</th>\n",
       "      <th>vaso_input</th>\n",
       "      <th>iv_input</th>\n",
       "      <th>reward</th>\n",
       "      <th>icustayid</th>\n",
       "      <th>state</th>\n",
       "      <th>phy_action</th>\n",
       "      <th>krn_action</th>\n",
       "      <th>dqn_action</th>\n",
       "    </tr>\n",
       "  </thead>\n",
       "  <tbody>\n",
       "    <tr>\n",
       "      <th>0</th>\n",
       "      <td>0.044787</td>\n",
       "      <td>0.024944</td>\n",
       "      <td>0.059501</td>\n",
       "      <td>0.186372</td>\n",
       "      <td>0.099174</td>\n",
       "      <td>0.010116</td>\n",
       "      <td>0.015910</td>\n",
       "      <td>0.031792</td>\n",
       "      <td>0.063170</td>\n",
       "      <td>0.050696</td>\n",
       "      <td>...</td>\n",
       "      <td>0.082892</td>\n",
       "      <td>0.012378</td>\n",
       "      <td>0</td>\n",
       "      <td>4.0</td>\n",
       "      <td>0.0</td>\n",
       "      <td>61.0</td>\n",
       "      <td>376</td>\n",
       "      <td>20</td>\n",
       "      <td>0</td>\n",
       "      <td>19</td>\n",
       "    </tr>\n",
       "    <tr>\n",
       "      <th>1</th>\n",
       "      <td>0.048257</td>\n",
       "      <td>0.029508</td>\n",
       "      <td>0.033046</td>\n",
       "      <td>0.102542</td>\n",
       "      <td>0.107019</td>\n",
       "      <td>0.015018</td>\n",
       "      <td>0.014971</td>\n",
       "      <td>0.034197</td>\n",
       "      <td>0.057205</td>\n",
       "      <td>0.072662</td>\n",
       "      <td>...</td>\n",
       "      <td>0.096143</td>\n",
       "      <td>0.013473</td>\n",
       "      <td>0</td>\n",
       "      <td>4.0</td>\n",
       "      <td>0.0</td>\n",
       "      <td>61.0</td>\n",
       "      <td>146</td>\n",
       "      <td>20</td>\n",
       "      <td>0</td>\n",
       "      <td>0</td>\n",
       "    </tr>\n",
       "    <tr>\n",
       "      <th>2</th>\n",
       "      <td>0.041906</td>\n",
       "      <td>0.028968</td>\n",
       "      <td>0.028705</td>\n",
       "      <td>0.111719</td>\n",
       "      <td>0.098205</td>\n",
       "      <td>0.013579</td>\n",
       "      <td>0.012648</td>\n",
       "      <td>0.027884</td>\n",
       "      <td>0.074506</td>\n",
       "      <td>0.081935</td>\n",
       "      <td>...</td>\n",
       "      <td>0.103266</td>\n",
       "      <td>0.015244</td>\n",
       "      <td>0</td>\n",
       "      <td>4.0</td>\n",
       "      <td>0.0</td>\n",
       "      <td>61.0</td>\n",
       "      <td>187</td>\n",
       "      <td>20</td>\n",
       "      <td>5</td>\n",
       "      <td>0</td>\n",
       "    </tr>\n",
       "    <tr>\n",
       "      <th>3</th>\n",
       "      <td>0.040383</td>\n",
       "      <td>0.029019</td>\n",
       "      <td>0.029167</td>\n",
       "      <td>0.131740</td>\n",
       "      <td>0.099840</td>\n",
       "      <td>0.013389</td>\n",
       "      <td>0.012455</td>\n",
       "      <td>0.028260</td>\n",
       "      <td>0.072425</td>\n",
       "      <td>0.088626</td>\n",
       "      <td>...</td>\n",
       "      <td>0.117384</td>\n",
       "      <td>0.015660</td>\n",
       "      <td>0</td>\n",
       "      <td>4.0</td>\n",
       "      <td>0.0</td>\n",
       "      <td>61.0</td>\n",
       "      <td>187</td>\n",
       "      <td>20</td>\n",
       "      <td>5</td>\n",
       "      <td>0</td>\n",
       "    </tr>\n",
       "    <tr>\n",
       "      <th>4</th>\n",
       "      <td>0.045685</td>\n",
       "      <td>0.029040</td>\n",
       "      <td>0.027817</td>\n",
       "      <td>0.137894</td>\n",
       "      <td>0.106901</td>\n",
       "      <td>0.013968</td>\n",
       "      <td>0.012697</td>\n",
       "      <td>0.028393</td>\n",
       "      <td>0.073113</td>\n",
       "      <td>0.088150</td>\n",
       "      <td>...</td>\n",
       "      <td>0.123431</td>\n",
       "      <td>0.014925</td>\n",
       "      <td>0</td>\n",
       "      <td>4.0</td>\n",
       "      <td>0.0</td>\n",
       "      <td>61.0</td>\n",
       "      <td>187</td>\n",
       "      <td>20</td>\n",
       "      <td>20</td>\n",
       "      <td>0</td>\n",
       "    </tr>\n",
       "  </tbody>\n",
       "</table>\n",
       "<p>5 rows × 208 columns</p>\n",
       "</div>"
      ],
      "text/plain": [
       "          0         1         2         3         4         5         6  \\\n",
       "0  0.044787  0.024944  0.059501  0.186372  0.099174  0.010116  0.015910   \n",
       "1  0.048257  0.029508  0.033046  0.102542  0.107019  0.015018  0.014971   \n",
       "2  0.041906  0.028968  0.028705  0.111719  0.098205  0.013579  0.012648   \n",
       "3  0.040383  0.029019  0.029167  0.131740  0.099840  0.013389  0.012455   \n",
       "4  0.045685  0.029040  0.027817  0.137894  0.106901  0.013968  0.012697   \n",
       "\n",
       "          7         8         9     ...           198       199  vaso_input  \\\n",
       "0  0.031792  0.063170  0.050696     ...      0.082892  0.012378           0   \n",
       "1  0.034197  0.057205  0.072662     ...      0.096143  0.013473           0   \n",
       "2  0.027884  0.074506  0.081935     ...      0.103266  0.015244           0   \n",
       "3  0.028260  0.072425  0.088626     ...      0.117384  0.015660           0   \n",
       "4  0.028393  0.073113  0.088150     ...      0.123431  0.014925           0   \n",
       "\n",
       "   iv_input  reward  icustayid  state  phy_action  krn_action  dqn_action  \n",
       "0       4.0     0.0       61.0    376          20           0          19  \n",
       "1       4.0     0.0       61.0    146          20           0           0  \n",
       "2       4.0     0.0       61.0    187          20           5           0  \n",
       "3       4.0     0.0       61.0    187          20           5           0  \n",
       "4       4.0     0.0       61.0    187          20          20           0  \n",
       "\n",
       "[5 rows x 208 columns]"
      ]
     },
     "execution_count": 9,
     "metadata": {},
     "output_type": "execute_result"
    }
   ],
   "source": [
    "test_set.head()"
   ]
  },
  {
   "cell_type": "code",
   "execution_count": 10,
   "metadata": {},
   "outputs": [
    {
     "data": {
      "image/png": "[encoded data removed]",
      "text/plain": [
       "<matplotlib.figure.Figure at 0x114f7a828>"
      ]
     },
     "metadata": {},
     "output_type": "display_data"
    }
   ],
   "source": [
    "plt.hist(test_set['phy_action'],50)\n",
    "pass"
   ]
  },
  {
   "cell_type": "code",
   "execution_count": 12,
   "metadata": {},
   "outputs": [
    {
     "data": {
      "image/png": "[encoded data removed]",
      "text/plain": [
       "<matplotlib.figure.Figure at 0x115076e10>"
      ]
     },
     "metadata": {},
     "output_type": "display_data"
    }
   ],
   "source": [
    "plt.hist(test_set['krn_action'],50)\n",
    "pass"
   ]
  },
  {
   "cell_type": "code",
   "execution_count": 13,
   "metadata": {},
   "outputs": [
    {
     "data": {
      "image/png": "[encoded data removed]",
      "text/plain": [
       "<matplotlib.figure.Figure at 0x117f93ac8>"
      ]
     },
     "metadata": {},
     "output_type": "display_data"
    }
   ],
   "source": [
    "plt.hist(train_dqn_policy['dqn_action'],50)\n",
    "pass"
   ]
  },
  {
   "cell_type": "code",
   "execution_count": 14,
   "metadata": {},
   "outputs": [
    {
     "data": {
      "text/plain": [
       "(array([ 5862.,  5685.,  5319.,  4449.,  6001.,  4816.,  5435.,  4140.,\n",
       "         4657.,  4495.]),\n",
       " array([   0. ,   74.9,  149.8,  224.7,  299.6,  374.5,  449.4,  524.3,\n",
       "         599.2,  674.1,  749. ]),\n",
       " <a list of 10 Patch objects>)"
      ]
     },
     "execution_count": 14,
     "metadata": {},
     "output_type": "execute_result"
    },
    {
     "data": {
      "image/png": "[encoded data removed]",
      "text/plain": [
       "<matplotlib.figure.Figure at 0x115209748>"
      ]
     },
     "metadata": {},
     "output_type": "display_data"
    }
   ],
   "source": [
    "plt.hist(test_set['state'])"
   ]
  },
  {
   "cell_type": "code",
   "execution_count": 15,
   "metadata": {},
   "outputs": [
    {
     "data": {
      "text/plain": [
       "(array([ 17606.,  17926.,  16853.,  14000.,  16208.,  14909.,  15785.,\n",
       "         11882.,  12994.,  12578.]),\n",
       " array([   0. ,   74.9,  149.8,  224.7,  299.6,  374.5,  449.4,  524.3,\n",
       "         599.2,  674.1,  749. ]),\n",
       " <a list of 10 Patch objects>)"
      ]
     },
     "execution_count": 15,
     "metadata": {},
     "output_type": "execute_result"
    },
    {
     "data": {
      "image/png": "[encoded data removed]",
      "text/plain": [
       "<matplotlib.figure.Figure at 0x115329438>"
      ]
     },
     "metadata": {},
     "output_type": "display_data"
    }
   ],
   "source": [
    "plt.hist(train_set['state'])"
   ]
  },
  {
   "cell_type": "markdown",
   "metadata": {},
   "source": [
    "### Rewards and Terminal states"
   ]
  },
  {
   "cell_type": "code",
   "execution_count": 16,
   "metadata": {},
   "outputs": [],
   "source": [
    "state_rewards = np.zeros((n_states))\n",
    "state_reward_count = np.ones((n_states))\n",
    "terminal_state = []\n",
    "\n",
    "for name, transitions in episodes:\n",
    "    states = transitions['state'].tolist()\n",
    "    rewards = transitions['reward'].tolist()\n",
    "    terminal_state.append(states[-1])\n",
    "    state_rewards[states[-1]] += rewards[-1]\n",
    "    state_reward_count[states[-1]] += 1\n",
    "\n",
    "state_rewards = state_rewards / state_reward_count"
   ]
  },
  {
   "cell_type": "code",
   "execution_count": 17,
   "metadata": {},
   "outputs": [
    {
     "data": {
      "image/png": "[encoded data removed]",
      "text/plain": [
       "<matplotlib.figure.Figure at 0x11836b668>"
      ]
     },
     "metadata": {},
     "output_type": "display_data"
    }
   ],
   "source": [
    "plt.hist(terminal_state,150)\n",
    "plt.title(\"Distribution of Terminal States\")\n",
    "pass"
   ]
  },
  {
   "cell_type": "code",
   "execution_count": 18,
   "metadata": {},
   "outputs": [
    {
     "data": {
      "image/png": "[encoded data removed]",
      "text/plain": [
       "<matplotlib.figure.Figure at 0x117e7d940>"
      ]
     },
     "metadata": {},
     "output_type": "display_data"
    }
   ],
   "source": [
    "plt.hist(state_rewards,50)\n",
    "plt.title(\"Distribution of Expected Rewards by State\")\n",
    "pass"
   ]
  },
  {
   "cell_type": "markdown",
   "metadata": {},
   "source": [
    "Conclusion: there isn't a particular small set of states that are considered \"terminal.\" However, some\n",
    "terminal states have significantly more rewards than others. Choose the path that leads to the highest rewards."
   ]
  },
  {
   "cell_type": "markdown",
   "metadata": {},
   "source": [
    "### Populate Restricted Actions for Each Expert"
   ]
  },
  {
   "cell_type": "code",
   "execution_count": 19,
   "metadata": {},
   "outputs": [],
   "source": [
    "#import importlib\n",
    "#importlib.reload(ra)"
   ]
  },
  {
   "cell_type": "code",
   "execution_count": 66,
   "metadata": {},
   "outputs": [],
   "source": [
    "# One for each expert\n",
    "phy_ra = ra.RestrictActions(n_states,n_actions)\n",
    "phy_ra.load_sas_as_episodes(episodes,'phy_action')\n",
    "\n",
    "krn_ra = ra.RestrictActions(n_states,n_actions)\n",
    "krn_ra.load_sas_as_episodes(episodes,'krn_action')\n",
    "\n",
    "dqn_ra = ra.RestrictActions(n_states,n_actions)\n",
    "dqn_ra.load_sas_as_episodes(episodes,'dqn_action')\n",
    "\n",
    "experts = [phy_ra,krn_ra,dqn_ra]\n",
    "expert_names = {phy_ra:'Physician',dqn_ra:'DQN',krn_ra:'Kernel'}"
   ]
  },
  {
   "cell_type": "markdown",
   "metadata": {},
   "source": [
    "## Mixture of Experts Policy Selection Based on RL\n",
    "\n",
    "Method:\n",
    "\n",
    "* If there is physician consensus for a given action at a given state, simply choose it.\n",
    "* If there is no consensus, walk the three action choices and pick the action that leads to\n",
    "the state with the highest reward."
   ]
  },
  {
   "cell_type": "code",
   "execution_count": 90,
   "metadata": {},
   "outputs": [],
   "source": [
    "max_depth = 20\n",
    "min_freq = 10\n",
    "max_episodes = 100 # saving processing time to not report on all test episodes\n",
    "stats_same_actions = np.zeros((len(experts),len(experts)))\n",
    "stats_action_chosen = Counter()\n"
   ]
  },
  {
   "cell_type": "code",
   "execution_count": 34,
   "metadata": {
    "collapsed": true
   },
   "outputs": [],
   "source": [
    "def perform_phy_action(state,action):\n",
    "    reward = state_rewards[state]\n",
    "    state = int(np.max(phy_ra.sas_count[state,action]))\n",
    "    return state, reward"
   ]
  },
  {
   "cell_type": "code",
   "execution_count": 91,
   "metadata": {
    "collapsed": true
   },
   "outputs": [],
   "source": [
    "def calc_different_actions(actions,experts):\n",
    "    global stats_same_actions\n",
    "    for expert_action in actions:\n",
    "        for expert in experts:\n",
    "            if actions[expert_action] == actions[expert]:\n",
    "                stats_same_actions[experts.index(expert_action),experts.index(expert)] += 1\n"
   ]
  },
  {
   "cell_type": "code",
   "execution_count": 88,
   "metadata": {
    "collapsed": true
   },
   "outputs": [],
   "source": [
    "def perform_best_action(state,experts):\n",
    "    global stats_action_chosen\n",
    "    max_reward = MIN_INT_VALUE\n",
    "    best_action = 0\n",
    "    new_state = -1\n",
    "    rewards = {expert: 0 for expert in experts}\n",
    "    actions = {expert: -1 for expert in experts}\n",
    "    \n",
    "    for expert in experts:\n",
    "        for a in expert.get_actions(state,min_freq=min_freq):\n",
    "            for s in range(len(expert.sas_count[state][a])):\n",
    "                if expert.sas_count[state][a][s] < min_freq:\n",
    "                    continue\n",
    "                if state_rewards[s] > rewards[expert]:\n",
    "                    rewards[expert] = state_rewards[s]\n",
    "                    actions[expert] = a\n",
    "                    new_state = s\n",
    "    \n",
    "    max_reward = rewards[max(rewards,key=rewards.get)]\n",
    "    best_action = actions[max(rewards,key=rewards.get)]\n",
    "    calc_different_actions(actions,experts)\n",
    "    stats_action_chosen[expert_names[max(rewards,key=rewards.get)]] += 1\n",
    "    \n",
    "    if new_state >= 0:\n",
    "        return best_action, new_state, max_reward\n",
    "    else:\n",
    "        return None, None, None"
   ]
  },
  {
   "cell_type": "code",
   "execution_count": 53,
   "metadata": {},
   "outputs": [],
   "source": [
    "def perform_best_action2(state,experts):\n",
    "    global stats_dqn_chosen, stats_phy_chosen, stats_no_action, stats_different_actions\n",
    "    global dqn_action_counts, phy_action_counts\n",
    "\n",
    "    max_reward = MIN_INT_VALUE\n",
    "    dqn_reward = MIN_INT_VALUE\n",
    "    phy_reward = MIN_INT_VALUE\n",
    "    best_action = 0\n",
    "    new_state = -1\n",
    "    phy_best_action = -1\n",
    "    dqn_best_action = -1\n",
    "    \n",
    "    for a in phy_ra.get_actions(state,min_freq=min_freq):\n",
    "        for s in range(len(phy_ra.sas_count[state][a])):\n",
    "            if phy_ra.sas_count[state][a][s] < min_freq:\n",
    "                continue\n",
    "            if state_rewards[s] > phy_reward:\n",
    "                phy_reward = state_rewards[s]\n",
    "                phy_best_action = a\n",
    "                best_action = a\n",
    "                new_state = s\n",
    "                \n",
    "    for a in dqn_ra.get_actions(state,min_freq=min_freq):\n",
    "        for s in range(len(dqn_ra.sas_count[state][a])):\n",
    "            if dqn_ra.sas_count[state][a][s] < min_freq:\n",
    "                continue\n",
    "            if state_rewards[s] > dqn_reward:\n",
    "                dqn_reward = state_rewards[s]\n",
    "                dqn_best_action = a\n",
    "                best_action = a\n",
    "                new_state = s\n",
    "    \n",
    "    phy_action_counts[phy_best_action] += 1\n",
    "    dqn_action_counts[dqn_best_action] += 1\n",
    "    if phy_best_action != dqn_best_action:\n",
    "        stats_different_actions += 1\n",
    "        \n",
    "    if phy_reward > dqn_reward:\n",
    "        stats_phy_chosen += 1\n",
    "        max_reward = phy_reward\n",
    "    else:\n",
    "        stats_dqn_chosen += 1\n",
    "        max_reward = dqn_reward\n",
    "\n",
    "    if new_state >= 0:\n",
    "        #reward = state_rewards[new_state]\n",
    "        return best_action, new_state, max_reward\n",
    "    else:\n",
    "        stats_no_action += 1\n",
    "        return None, None, None"
   ]
  },
  {
   "cell_type": "code",
   "execution_count": 99,
   "metadata": {},
   "outputs": [
    {
     "name": "stdout",
     "output_type": "stream",
     "text": [
      "|Physician Consensus | Mortality | Phy Consensus Occurred |\n",
      "|:---|---|---:|\n",
      "| 30% | 7.9% | 7.5% |\n",
      "{'Kernel': 408, 'Physician': 1200, 'DQN': 17}\n",
      "[[ 1625.   556.   281.]\n",
      " [  556.  1625.   707.]\n",
      " [  281.   707.  1625.]]\n",
      "| 40% | 5.9% | 4.9% |\n",
      "{'Kernel': 424, 'Physician': 1329, 'DQN': 17}\n",
      "[[ 1770.   806.   626.]\n",
      " [  806.  1770.  1056.]\n",
      " [  626.  1056.  1770.]]\n",
      "| 50% | 5.9% | 3.0% |\n",
      "{'Kernel': 277, 'Physician': 1517, 'DQN': 11}\n",
      "[[ 1805.  1038.   857.]\n",
      " [ 1038.  1805.  1185.]\n",
      " [  857.  1185.  1805.]]\n",
      "| 60% | 5.0% | 1.8% |\n",
      "{'Kernel': 336, 'Physician': 1496, 'DQN': 14}\n",
      "[[ 1846.  1016.   859.]\n",
      " [ 1016.  1846.  1159.]\n",
      " [  859.  1159.  1846.]]\n",
      "| 70% | 0.0% | 0.6% |\n",
      "{'Physician': 1562, 'Kernel': 352, 'DQN': 14}\n",
      "[[ 1928.  1069.   944.]\n",
      " [ 1069.  1928.  1138.]\n",
      " [  944.  1138.  1928.]]\n"
     ]
    }
   ],
   "source": [
    "test_episodes = test_set.groupby('icustayid')\n",
    "\n",
    "print (\"|Physician Consensus | Mortality | Phy Consensus Occurred |\")\n",
    "print (\"|:---|---|---:|\")\n",
    "\n",
    "for physician_consensus in [0.3,0.4,0.5,0.6,0.7]: \n",
    "    global dqn_action_counts, phy_action_counts\n",
    "    n_died = 0\n",
    "    n_episodes = 0\n",
    "    actions_taken = 1 # avoid divide by zero\n",
    "    stats_same_actions = np.zeros((len(experts),len(experts)))\n",
    "    stats_action_chosen.clear()\n",
    "\n",
    "    stats_phy_chosen = 0\n",
    "    stats_dqn_chosen = 0\n",
    "    stats_phy_consensus = 0\n",
    "    stats_no_action = 0\n",
    "    stats_different_actions = 0\n",
    "    action_counts = np.zeros((n_actions))\n",
    "    dqn_action_counts = np.zeros((n_actions))\n",
    "    phy_action_counts = np.zeros((n_actions))\n",
    "\n",
    "    for name, transitions in test_episodes:\n",
    "        n_episodes += 1\n",
    "        if n_episodes > max_episodes:\n",
    "            break\n",
    "        state = transitions['state'].tolist()[0]\n",
    "        depth = 0 \n",
    "        action_list = []\n",
    "        state_list = []\n",
    "        episode_reward = 0\n",
    "        while True:\n",
    "            if depth > max_depth:\n",
    "                break\n",
    "            depth += 1\n",
    "            actions_taken += 1\n",
    "            state = int(state)\n",
    "            action = phy_ra.get_consensus(state,physician_consensus)\n",
    "            if action is None:\n",
    "                action, state, reward = perform_best_action(state,experts)\n",
    "            else:\n",
    "                state, reward = perform_phy_action(state,action)\n",
    "                stats_phy_consensus += 1\n",
    "            if reward is None:\n",
    "                break\n",
    "            elif reward < 0:\n",
    "                n_died += 1\n",
    "                break\n",
    "            else:\n",
    "                action_counts[action] +=1 \n",
    "                episode_reward += reward\n",
    "    print (\"| {0:.0%} \".format(physician_consensus), end=\"\")\n",
    "    print (\"| {0:.1%} \".format(n_died / n_episodes), end=\"\")\n",
    "    print (\"| {0:.1%} |\".format(stats_phy_consensus / actions_taken))\n",
    "    sum(stats_action_chosen.values())\n",
    "    print (dict(stats_action_chosen))\n",
    "    print (stats_same_actions)\n"
   ]
  },
  {
   "cell_type": "markdown",
   "metadata": {},
   "source": [
    "### Results \n",
    "|Physician Consensus | Mortality | Phy Consensus Occurred |\n",
    "|:---|---|---:|\n",
    "| 30% | 7.9% | 7.5% |\n",
    "| 40% | 5.9% | 4.9% |\n",
    "| 60% | 5.0% | 1.8% |\n",
    "| 70% | 0.0% | 0.6% |\n"
   ]
  },
  {
   "cell_type": "markdown",
   "metadata": {},
   "source": [
    "### Visualizations of Policies"
   ]
  },
  {
   "cell_type": "code",
   "execution_count": 103,
   "metadata": {},
   "outputs": [
    {
     "name": "stdout",
     "output_type": "stream",
     "text": [
      "0.1820151679306609\n",
      "0.8104008667388949\n",
      "0.007583965330444204\n"
     ]
    }
   ],
   "source": [
    "s = 336 + 1496 + 14\n",
    "print (336/ s)\n",
    "print (1496 / s)\n",
    "print (14/s)\n"
   ]
  },
  {
   "cell_type": "code",
   "execution_count": 105,
   "metadata": {},
   "outputs": [
    {
     "name": "stdout",
     "output_type": "stream",
     "text": [
      "0.5503791982665223\n",
      "0.46533044420368364\n",
      "0.6278439869989165\n"
     ]
    }
   ],
   "source": [
    "print (1016 / 1846)\n",
    "print (859/1846)\n",
    "print (1159/1846)"
   ]
  },
  {
   "cell_type": "code",
   "execution_count": 100,
   "metadata": {},
   "outputs": [
    {
     "data": {
      "text/plain": [
       "<matplotlib.text.Text at 0x117eb4390>"
      ]
     },
     "execution_count": 100,
     "metadata": {},
     "output_type": "execute_result"
    },
    {
     "data": {
      "image/png": "[encoded data removed]",
      "text/plain": [
       "<matplotlib.figure.Figure at 0x118932fd0>"
      ]
     },
     "metadata": {},
     "output_type": "display_data"
    }
   ],
   "source": [
    "ax = sns.heatmap(action_counts.reshape(5,5), linewidths=.01, cmap=\"YlGnBu\")\n",
    "ax.invert_yaxis()\n",
    "ax.set_title('RL MOE Combined Actions')"
   ]
  },
  {
   "cell_type": "markdown",
   "metadata": {},
   "source": [
    "### Next Steps\n",
    "\n",
    "Mortality on:\n",
    "* DQN alone\n",
    "* Kernel alone\n",
    "* Logistic MOE\n",
    "* RL MOE\n",
    "* Mixed physician policy"
   ]
  },
  {
   "cell_type": "code",
   "execution_count": null,
   "metadata": {
    "collapsed": true
   },
   "outputs": [],
   "source": []
  }
 ],
 "metadata": {
  "kernelspec": {
   "display_name": "Python 3",
   "language": "python",
   "name": "python3"
  },
  "language_info": {
   "codemirror_mode": {
    "name": "ipython",
    "version": 3
   },
   "file_extension": ".py",
   "mimetype": "text/x-python",
   "name": "python",
   "nbconvert_exporter": "python",
   "pygments_lexer": "ipython3",
   "version": "3.6.1"
  }
 },
 "nbformat": 4,
 "nbformat_minor": 2
}
