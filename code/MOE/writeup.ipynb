{
 "cells": [
  {
   "cell_type": "markdown",
   "metadata": {},
   "source": [
    "# CS282r - Fall 2017 \n",
    "## Improve Sepsis Treatment using Mixture of Experts\n",
    "## Gating via Reinforcement Learning\n",
    "\n",
    "Jerry, Yi, David"
   ]
  },
  {
   "cell_type": "code",
   "execution_count": 1,
   "metadata": {
    "collapsed": true
   },
   "outputs": [],
   "source": [
    "%matplotlib inline\n",
    "import pickle as pkl\n",
    "import numpy as np\n",
    "import pandas as pd\n",
    "import matplotlib.pyplot as plt\n",
    "import sys\n",
    "MIN_INT_VALUE = -sys.maxsize - 1\n",
    "\n",
    "import seaborn as sns; sns.set()\n",
    "from collections import Counter\n",
    "\n",
    "import restrictactions as ra\n",
    "n_states = 750\n",
    "n_actions = 25\n"
   ]
  },
  {
   "cell_type": "markdown",
   "metadata": {},
   "source": [
    "## Load Data and Experts"
   ]
  },
  {
   "cell_type": "code",
   "execution_count": 2,
   "metadata": {},
   "outputs": [
    {
     "name": "stdout",
     "output_type": "stream",
     "text": [
      "Initial train set shape: (150741, 61)\n",
      "Initial test set shape: (50859, 61)\n"
     ]
    }
   ],
   "source": [
    "# Baseline dataset\n",
    "train_set = pd.read_csv('../../data/train_scaled_dw.csv') #('../../data/train_scaled_encoded.csv') #\n",
    "test_set = pd.read_csv('../../data/test_scaled_dw.csv')\n",
    "print (\"Initial train set shape:\",train_set.shape)\n",
    "print (\"Initial test set shape:\",test_set.shape)"
   ]
  },
  {
   "cell_type": "code",
   "execution_count": 3,
   "metadata": {
    "collapsed": true
   },
   "outputs": [],
   "source": [
    "# Features used to drive expert selection\n",
    "# => Obsolete\n",
    "# train_input = pd.read_csv('../../data/train_input_features.csv')\n",
    "# test_input = pd.read_csv('../../data/test_input_features.csv')\n",
    "# test_input.columns"
   ]
  },
  {
   "cell_type": "code",
   "execution_count": 4,
   "metadata": {},
   "outputs": [],
   "source": [
    "# Calculated state for each row in baseline\n",
    "train_state_list = pkl.load(open('../../data/classify_state/train_states.pkl', 'rb'), encoding='latin1')\n",
    "train_set['state'] = train_state_list\n",
    "test_state_list = pkl.load(open('../../data/classify_state/test_states.pkl', 'rb'), encoding='latin1')\n",
    "test_set['state'] = test_state_list"
   ]
  },
  {
   "cell_type": "code",
   "execution_count": 5,
   "metadata": {},
   "outputs": [
    {
     "name": "stdout",
     "output_type": "stream",
     "text": [
      "Initial train set shape: (150741, 62)\n",
      "Initial test set shape: (50859, 62)\n"
     ]
    }
   ],
   "source": [
    "print (\"Initial train set shape:\",train_set.shape)\n",
    "print (\"Initial test set shape:\",test_set.shape)"
   ]
  },
  {
   "cell_type": "code",
   "execution_count": 6,
   "metadata": {},
   "outputs": [],
   "source": [
    "# add in kernel policy\n",
    "train_kernel_policy = pkl.load(open('../../data/train_kernel_policy_transformed.pkl', 'rb'), encoding='latin1')\n",
    "train_set['krn_action'] = train_kernel_policy[:,3].astype(int)\n",
    "test_kernel_policy = pkl.load(open('../../data/test_kernel_policy_transformed.pkl', 'rb'), encoding='latin1')\n",
    "test_set['krn_action'] = test_kernel_policy[:,3].astype(int)"
   ]
  },
  {
   "cell_type": "code",
   "execution_count": 7,
   "metadata": {
    "collapsed": true
   },
   "outputs": [],
   "source": [
    "# add in DQN policy\n",
    "train_dqn_policy = pd.DataFrame({'dqn_action':\n",
    "                           pkl.load(open('../../data/dqn/train_agent_actions_2m.pkl', 'rb'), encoding='latin1')})\n",
    "test_dqn_policy = pd.DataFrame({'dqn_action':\n",
    "                           pkl.load(open('../../data/dqn/test_agent_actions_2m.pkl', 'rb'), encoding='latin1')})\n",
    "\n",
    "train_set = pd.concat([train_set,train_dqn_policy],axis=1)\n",
    "test_set = pd.concat([test_set,test_dqn_policy],axis=1)\n"
   ]
  },
  {
   "cell_type": "code",
   "execution_count": 8,
   "metadata": {},
   "outputs": [
    {
     "name": "stdout",
     "output_type": "stream",
     "text": [
      "New train set shape: (150673, 64)\n",
      "New test set shape: (50798, 64)\n"
     ]
    }
   ],
   "source": [
    "# Remove rows for invalid patients\n",
    "train_set.drop(train_set[train_set['icustayid'].\n",
    "                         isin([76921.0,77243.0,90270.0,91090.0,98366.0])].index, inplace=True)\n",
    "train_set.drop(train_set[train_set['icustayid'].isnull()].index, inplace=True)\n",
    "test_set.drop(test_set[test_set['icustayid'].\n",
    "                       isin([37166.0,67895.0,68546.0,85154.0])].index,inplace=True)\n",
    "test_set.drop(test_set[test_set['icustayid'].isnull()].index, inplace=True)\n",
    "print (\"New train set shape:\",train_set.shape)\n",
    "print (\"New test set shape:\",test_set.shape)"
   ]
  },
  {
   "cell_type": "code",
   "execution_count": 9,
   "metadata": {},
   "outputs": [],
   "source": [
    "# Map actions to a single value in [0..24]\n",
    "action_map = {}\n",
    "count = 0\n",
    "for iv in range(5):\n",
    "    for vaso in range(5):\n",
    "        action_map[(vaso,iv)] = count\n",
    "        count += 1\n",
    "        \n",
    "def label_action(row):\n",
    "    return action_map[(row['vaso_input'],int(row['iv_input']))]\n",
    "\n",
    "train_set['phy_action'] = train_set.apply(lambda row: label_action(row),axis=1)\n",
    "test_set['phy_action'] = test_set.apply(lambda row: label_action(row),axis=1)"
   ]
  },
  {
   "cell_type": "markdown",
   "metadata": {},
   "source": [
    "### Simple Exploratory Data Analysis"
   ]
  },
  {
   "cell_type": "code",
   "execution_count": 11,
   "metadata": {},
   "outputs": [
    {
     "name": "stdout",
     "output_type": "stream",
     "text": [
      "Testing Set Baseline mortality: 12.3%\n",
      "Testing Set 90 day mortality: 23.3%\n",
      "Training Set Baseline mortality: 12.2%\n",
      "Training Set 90 day mortality: 30.0%\n"
     ]
    }
   ],
   "source": [
    "# Get baseline mortality\n",
    "#mortality_90d\n",
    "episodes = test_set.groupby('icustayid')\n",
    "n_died = 0\n",
    "n_died2 = 0\n",
    "n_episodes = 0\n",
    "for name, transitions in episodes:\n",
    "    n_episodes += 1\n",
    "    rewards = transitions['reward'].tolist()\n",
    "    n_died2 += transitions['mortality_90d'].tolist()[0]\n",
    "    if rewards[-1] < 0:\n",
    "        n_died += 1\n",
    "\n",
    "print (\"Testing Set Baseline mortality: {0:.1%}\".format(n_died / n_episodes))\n",
    "print (\"Testing Set 90 day mortality: {0:.1%}\".format(n_died2/n_episodes))\n",
    "\n",
    "episodes = train_set.groupby('icustayid')\n",
    "n_died = 0\n",
    "n_died2\n",
    "n_episodes = 0\n",
    "for name, transitions in episodes:\n",
    "    n_episodes += 1\n",
    "    rewards = transitions['reward'].tolist()\n",
    "    n_died2 += transitions['mortality_90d'].tolist()[0]\n",
    "\n",
    "    if rewards[-1] < 0:\n",
    "        n_died += 1\n",
    "\n",
    "print (\"Training Set Baseline mortality: {0:.1%}\".format(n_died / n_episodes))\n",
    "print (\"Training Set 90 day mortality: {0:.1%}\".format(n_died2/n_episodes))\n",
    "\n"
   ]
  },
  {
   "cell_type": "code",
   "execution_count": 12,
   "metadata": {},
   "outputs": [
    {
     "data": {
      "text/html": [
       "<div>\n",
       "<style>\n",
       "    .dataframe thead tr:only-child th {\n",
       "        text-align: right;\n",
       "    }\n",
       "\n",
       "    .dataframe thead th {\n",
       "        text-align: left;\n",
       "    }\n",
       "\n",
       "    .dataframe tbody tr th {\n",
       "        vertical-align: top;\n",
       "    }\n",
       "</style>\n",
       "<table border=\"1\" class=\"dataframe\">\n",
       "  <thead>\n",
       "    <tr style=\"text-align: right;\">\n",
       "      <th></th>\n",
       "      <th>bloc</th>\n",
       "      <th>icustayid</th>\n",
       "      <th>gender</th>\n",
       "      <th>age</th>\n",
       "      <th>elixhauser</th>\n",
       "      <th>re_admission</th>\n",
       "      <th>SOFA</th>\n",
       "      <th>SIRS</th>\n",
       "      <th>Weight_kg</th>\n",
       "      <th>GCS</th>\n",
       "      <th>...</th>\n",
       "      <th>rrt</th>\n",
       "      <th>died_in_hosp</th>\n",
       "      <th>mortality_90d</th>\n",
       "      <th>reward</th>\n",
       "      <th>vaso_input</th>\n",
       "      <th>iv_input</th>\n",
       "      <th>state</th>\n",
       "      <th>krn_action</th>\n",
       "      <th>dqn_action</th>\n",
       "      <th>phy_action</th>\n",
       "    </tr>\n",
       "  </thead>\n",
       "  <tbody>\n",
       "    <tr>\n",
       "      <th>0</th>\n",
       "      <td>0.000000</td>\n",
       "      <td>12.0</td>\n",
       "      <td>1.0</td>\n",
       "      <td>0.203388</td>\n",
       "      <td>0.000000</td>\n",
       "      <td>0.0</td>\n",
       "      <td>0.304348</td>\n",
       "      <td>0.25</td>\n",
       "      <td>0.183842</td>\n",
       "      <td>1.000000</td>\n",
       "      <td>...</td>\n",
       "      <td>0.0</td>\n",
       "      <td>0.0</td>\n",
       "      <td>0.0</td>\n",
       "      <td>15.0</td>\n",
       "      <td>0.0</td>\n",
       "      <td>0.0</td>\n",
       "      <td>126</td>\n",
       "      <td>0</td>\n",
       "      <td>13</td>\n",
       "      <td>0</td>\n",
       "    </tr>\n",
       "    <tr>\n",
       "      <th>1</th>\n",
       "      <td>0.222560</td>\n",
       "      <td>12.0</td>\n",
       "      <td>1.0</td>\n",
       "      <td>0.203388</td>\n",
       "      <td>0.000000</td>\n",
       "      <td>0.0</td>\n",
       "      <td>0.130435</td>\n",
       "      <td>0.50</td>\n",
       "      <td>0.183842</td>\n",
       "      <td>1.000000</td>\n",
       "      <td>...</td>\n",
       "      <td>0.0</td>\n",
       "      <td>0.0</td>\n",
       "      <td>0.0</td>\n",
       "      <td>15.0</td>\n",
       "      <td>0.0</td>\n",
       "      <td>0.0</td>\n",
       "      <td>233</td>\n",
       "      <td>0</td>\n",
       "      <td>15</td>\n",
       "      <td>0</td>\n",
       "    </tr>\n",
       "    <tr>\n",
       "      <th>2</th>\n",
       "      <td>0.356608</td>\n",
       "      <td>12.0</td>\n",
       "      <td>1.0</td>\n",
       "      <td>0.203388</td>\n",
       "      <td>0.000000</td>\n",
       "      <td>0.0</td>\n",
       "      <td>0.086957</td>\n",
       "      <td>0.50</td>\n",
       "      <td>0.183842</td>\n",
       "      <td>1.000000</td>\n",
       "      <td>...</td>\n",
       "      <td>0.0</td>\n",
       "      <td>0.0</td>\n",
       "      <td>0.0</td>\n",
       "      <td>15.0</td>\n",
       "      <td>0.0</td>\n",
       "      <td>0.0</td>\n",
       "      <td>233</td>\n",
       "      <td>0</td>\n",
       "      <td>15</td>\n",
       "      <td>0</td>\n",
       "    </tr>\n",
       "    <tr>\n",
       "      <th>3</th>\n",
       "      <td>0.452837</td>\n",
       "      <td>12.0</td>\n",
       "      <td>1.0</td>\n",
       "      <td>0.203388</td>\n",
       "      <td>0.000000</td>\n",
       "      <td>0.0</td>\n",
       "      <td>0.217391</td>\n",
       "      <td>0.50</td>\n",
       "      <td>0.183842</td>\n",
       "      <td>1.000000</td>\n",
       "      <td>...</td>\n",
       "      <td>0.0</td>\n",
       "      <td>0.0</td>\n",
       "      <td>0.0</td>\n",
       "      <td>15.0</td>\n",
       "      <td>0.0</td>\n",
       "      <td>0.0</td>\n",
       "      <td>264</td>\n",
       "      <td>0</td>\n",
       "      <td>15</td>\n",
       "      <td>0</td>\n",
       "    </tr>\n",
       "    <tr>\n",
       "      <th>4</th>\n",
       "      <td>0.000000</td>\n",
       "      <td>14.0</td>\n",
       "      <td>0.0</td>\n",
       "      <td>0.909010</td>\n",
       "      <td>0.142857</td>\n",
       "      <td>0.0</td>\n",
       "      <td>0.217391</td>\n",
       "      <td>0.50</td>\n",
       "      <td>0.204211</td>\n",
       "      <td>0.047619</td>\n",
       "      <td>...</td>\n",
       "      <td>0.0</td>\n",
       "      <td>0.0</td>\n",
       "      <td>1.0</td>\n",
       "      <td>15.0</td>\n",
       "      <td>0.0</td>\n",
       "      <td>4.0</td>\n",
       "      <td>492</td>\n",
       "      <td>0</td>\n",
       "      <td>9</td>\n",
       "      <td>20</td>\n",
       "    </tr>\n",
       "  </tbody>\n",
       "</table>\n",
       "<p>5 rows × 65 columns</p>\n",
       "</div>"
      ],
      "text/plain": [
       "       bloc  icustayid  gender       age  elixhauser  re_admission      SOFA  \\\n",
       "0  0.000000       12.0     1.0  0.203388    0.000000           0.0  0.304348   \n",
       "1  0.222560       12.0     1.0  0.203388    0.000000           0.0  0.130435   \n",
       "2  0.356608       12.0     1.0  0.203388    0.000000           0.0  0.086957   \n",
       "3  0.452837       12.0     1.0  0.203388    0.000000           0.0  0.217391   \n",
       "4  0.000000       14.0     0.0  0.909010    0.142857           0.0  0.217391   \n",
       "\n",
       "   SIRS  Weight_kg       GCS     ...      rrt  died_in_hosp  mortality_90d  \\\n",
       "0  0.25   0.183842  1.000000     ...      0.0           0.0            0.0   \n",
       "1  0.50   0.183842  1.000000     ...      0.0           0.0            0.0   \n",
       "2  0.50   0.183842  1.000000     ...      0.0           0.0            0.0   \n",
       "3  0.50   0.183842  1.000000     ...      0.0           0.0            0.0   \n",
       "4  0.50   0.204211  0.047619     ...      0.0           0.0            1.0   \n",
       "\n",
       "   reward  vaso_input  iv_input  state  krn_action  dqn_action  phy_action  \n",
       "0    15.0         0.0       0.0    126           0          13           0  \n",
       "1    15.0         0.0       0.0    233           0          15           0  \n",
       "2    15.0         0.0       0.0    233           0          15           0  \n",
       "3    15.0         0.0       0.0    264           0          15           0  \n",
       "4    15.0         0.0       4.0    492           0           9          20  \n",
       "\n",
       "[5 rows x 65 columns]"
      ]
     },
     "execution_count": 12,
     "metadata": {},
     "output_type": "execute_result"
    }
   ],
   "source": [
    "train_set.head()"
   ]
  },
  {
   "cell_type": "code",
   "execution_count": 13,
   "metadata": {},
   "outputs": [
    {
     "data": {
      "image/png": "[encoded data removed]",
      "text/plain": [
       "<matplotlib.figure.Figure at 0x119a5f898>"
      ]
     },
     "metadata": {},
     "output_type": "display_data"
    }
   ],
   "source": [
    "plt.hist(test_set['phy_action'],50)\n",
    "pass"
   ]
  },
  {
   "cell_type": "code",
   "execution_count": 14,
   "metadata": {},
   "outputs": [
    {
     "data": {
      "image/png": "[encoded data removed]",
      "text/plain": [
       "<matplotlib.figure.Figure at 0x11a44b518>"
      ]
     },
     "metadata": {},
     "output_type": "display_data"
    }
   ],
   "source": [
    "plt.hist(test_set['krn_action'],50)\n",
    "pass"
   ]
  },
  {
   "cell_type": "code",
   "execution_count": 15,
   "metadata": {},
   "outputs": [
    {
     "data": {
      "image/png": "[encoded data removed]",
      "text/plain": [
       "<matplotlib.figure.Figure at 0x11a595b00>"
      ]
     },
     "metadata": {},
     "output_type": "display_data"
    }
   ],
   "source": [
    "plt.hist(train_dqn_policy['dqn_action'],50)\n",
    "pass"
   ]
  },
  {
   "cell_type": "code",
   "execution_count": 16,
   "metadata": {},
   "outputs": [
    {
     "data": {
      "text/plain": [
       "(array([ 5857.,  5684.,  5314.,  4446.,  6000.,  4804.,  5428.,  4128.,\n",
       "         4651.,  4486.]),\n",
       " array([   0. ,   74.9,  149.8,  224.7,  299.6,  374.5,  449.4,  524.3,\n",
       "         599.2,  674.1,  749. ]),\n",
       " <a list of 10 Patch objects>)"
      ]
     },
     "execution_count": 16,
     "metadata": {},
     "output_type": "execute_result"
    },
    {
     "data": {
      "image/png": "[encoded data removed]",
      "text/plain": [
       "<matplotlib.figure.Figure at 0x11abc8358>"
      ]
     },
     "metadata": {},
     "output_type": "display_data"
    }
   ],
   "source": [
    "plt.hist(test_set['state'])"
   ]
  },
  {
   "cell_type": "code",
   "execution_count": 17,
   "metadata": {},
   "outputs": [
    {
     "data": {
      "text/plain": [
       "(array([ 17593.,  17913.,  16850.,  13994.,  16192.,  14906.,  15780.,\n",
       "         11878.,  12989.,  12578.]),\n",
       " array([   0. ,   74.9,  149.8,  224.7,  299.6,  374.5,  449.4,  524.3,\n",
       "         599.2,  674.1,  749. ]),\n",
       " <a list of 10 Patch objects>)"
      ]
     },
     "execution_count": 17,
     "metadata": {},
     "output_type": "execute_result"
    },
    {
     "data": {
      "image/png": "[encoded data removed]",
      "text/plain": [
       "<matplotlib.figure.Figure at 0x11abb8828>"
      ]
     },
     "metadata": {},
     "output_type": "display_data"
    }
   ],
   "source": [
    "plt.hist(train_set['state'])"
   ]
  },
  {
   "cell_type": "markdown",
   "metadata": {},
   "source": [
    "### Rewards and Terminal states"
   ]
  },
  {
   "cell_type": "code",
   "execution_count": 18,
   "metadata": {
    "collapsed": true
   },
   "outputs": [],
   "source": [
    "state_rewards = np.zeros((n_states))\n",
    "state_reward_count = np.ones((n_states))\n",
    "terminal_state = []\n",
    "\n",
    "for name, transitions in episodes:\n",
    "    states = transitions['state'].tolist()\n",
    "    rewards = transitions['reward'].tolist()\n",
    "    terminal_state.append(states[-1])\n",
    "    state_rewards[states[-1]] += rewards[-1]\n",
    "    state_reward_count[states[-1]] += 1\n",
    "\n",
    "state_rewards = state_rewards / state_reward_count"
   ]
  },
  {
   "cell_type": "code",
   "execution_count": 19,
   "metadata": {},
   "outputs": [
    {
     "data": {
      "image/png": "[encoded data removed]",
      "text/plain": [
       "<matplotlib.figure.Figure at 0x11aaeab70>"
      ]
     },
     "metadata": {},
     "output_type": "display_data"
    }
   ],
   "source": [
    "plt.hist(terminal_state,150)\n",
    "plt.title(\"Distribution of Terminal States\")\n",
    "pass"
   ]
  },
  {
   "cell_type": "code",
   "execution_count": 20,
   "metadata": {},
   "outputs": [
    {
     "data": {
      "image/png": "[encoded data removed]",
      "text/plain": [
       "<matplotlib.figure.Figure at 0x11a4dce10>"
      ]
     },
     "metadata": {},
     "output_type": "display_data"
    }
   ],
   "source": [
    "plt.hist(state_rewards,50)\n",
    "plt.title(\"Distribution of Expected Rewards by State\")\n",
    "pass"
   ]
  },
  {
   "cell_type": "markdown",
   "metadata": {},
   "source": [
    "Conclusion: there isn't a particular small set of states that are considered \"terminal.\" However, some\n",
    "terminal states have significantly more rewards than others. Choose the path that leads to the highest rewards."
   ]
  },
  {
   "cell_type": "code",
   "execution_count": 21,
   "metadata": {},
   "outputs": [],
   "source": [
    "norm_state_rewards = (state_rewards - np.mean(state_rewards))/np.std(state_rewards)"
   ]
  },
  {
   "cell_type": "code",
   "execution_count": 25,
   "metadata": {},
   "outputs": [
    {
     "data": {
      "image/png": "[encoded data removed]",
      "text/plain": [
       "<matplotlib.figure.Figure at 0x11ac12c88>"
      ]
     },
     "metadata": {},
     "output_type": "display_data"
    }
   ],
   "source": [
    "plt.hist(norm_state_rewards,50)\n",
    "pass"
   ]
  },
  {
   "cell_type": "code",
   "execution_count": 23,
   "metadata": {},
   "outputs": [],
   "source": [
    "def sigmoid_array(x):                                        \n",
    "    return 1 / (1 + np.exp(-x))\n",
    "\n",
    "s_state_values = sigmoid_array(norm_state_rewards)"
   ]
  },
  {
   "cell_type": "code",
   "execution_count": 26,
   "metadata": {},
   "outputs": [
    {
     "data": {
      "image/png": "[encoded data removed]",
      "text/plain": [
       "<matplotlib.figure.Figure at 0x11ad3c8d0>"
      ]
     },
     "metadata": {},
     "output_type": "display_data"
    }
   ],
   "source": [
    "plt.hist(s_state_values,50)\n",
    "pass"
   ]
  },
  {
   "cell_type": "markdown",
   "metadata": {},
   "source": [
    "### Populate Restricted Actions for Each Expert"
   ]
  },
  {
   "cell_type": "code",
   "execution_count": 27,
   "metadata": {
    "collapsed": true
   },
   "outputs": [],
   "source": [
    "#import importlib\n",
    "#importlib.reload(ra)"
   ]
  },
  {
   "cell_type": "code",
   "execution_count": 28,
   "metadata": {
    "collapsed": true
   },
   "outputs": [],
   "source": [
    "# One for each expert\n",
    "phy_ra = ra.RestrictActions(n_states,n_actions)\n",
    "phy_ra.load_sas_as_episodes(episodes,'phy_action')\n",
    "\n",
    "krn_ra = ra.RestrictActions(n_states,n_actions)\n",
    "krn_ra.load_sas_as_episodes(episodes,'krn_action')\n",
    "\n",
    "dqn_ra = ra.RestrictActions(n_states,n_actions)\n",
    "dqn_ra.load_sas_as_episodes(episodes,'dqn_action')\n",
    "\n",
    "experts = [phy_ra,krn_ra,dqn_ra]\n",
    "expert_names = {phy_ra:'Physician',dqn_ra:'DQN',krn_ra:'Kernel'}"
   ]
  },
  {
   "cell_type": "markdown",
   "metadata": {},
   "source": [
    "## Mixture of Experts Policy Selection Based on RL\n",
    "\n",
    "Method:\n",
    "\n",
    "* If there is physician consensus for a given action at a given state, simply choose it.\n",
    "* If there is no consensus, walk the three action choices and pick the action that leads to\n",
    "the state with the highest reward."
   ]
  },
  {
   "cell_type": "code",
   "execution_count": 29,
   "metadata": {
    "collapsed": true
   },
   "outputs": [],
   "source": [
    "max_depth = 20\n",
    "min_freq = 10\n",
    "max_episodes = 200 # saving processing time to not report on all test episodes\n",
    "stats_same_actions = np.zeros((len(experts),len(experts)))\n",
    "stats_action_chosen = Counter()\n"
   ]
  },
  {
   "cell_type": "code",
   "execution_count": 30,
   "metadata": {
    "collapsed": true
   },
   "outputs": [],
   "source": [
    "def perform_phy_action(state,action):\n",
    "    reward = state_rewards[state]\n",
    "    state = int(np.max(phy_ra.sas_count[state,action]))\n",
    "    return state, reward"
   ]
  },
  {
   "cell_type": "code",
   "execution_count": 31,
   "metadata": {
    "collapsed": true
   },
   "outputs": [],
   "source": [
    "def calc_different_actions(actions,experts):\n",
    "    global stats_same_actions\n",
    "    for expert_action in actions:\n",
    "        for expert in experts:\n",
    "            if actions[expert_action] == actions[expert]:\n",
    "                stats_same_actions[experts.index(expert_action),experts.index(expert)] += 1\n"
   ]
  },
  {
   "cell_type": "code",
   "execution_count": 32,
   "metadata": {
    "collapsed": true
   },
   "outputs": [],
   "source": [
    "def perform_best_action(state,experts):\n",
    "    global stats_action_chosen\n",
    "    max_reward = MIN_INT_VALUE\n",
    "    best_action = 0\n",
    "    new_state = -1\n",
    "    rewards = {expert: 0 for expert in experts}\n",
    "    actions = {expert: -1 for expert in experts}\n",
    "    \n",
    "    for expert in experts:\n",
    "        for a in expert.get_actions(state,min_freq=min_freq):\n",
    "            for s in range(len(expert.sas_count[state][a])):\n",
    "                if expert.sas_count[state][a][s] < min_freq:\n",
    "                    continue\n",
    "                if state_rewards[s] > rewards[expert]:\n",
    "                    rewards[expert] = state_rewards[s]\n",
    "                    actions[expert] = a\n",
    "                    new_state = s\n",
    "    \n",
    "    max_reward = rewards[max(rewards,key=rewards.get)]\n",
    "    best_action = actions[max(rewards,key=rewards.get)]\n",
    "    calc_different_actions(actions,experts)\n",
    "    stats_action_chosen[expert_names[max(rewards,key=rewards.get)]] += 1\n",
    "    \n",
    "    if new_state >= 0:\n",
    "        return best_action, new_state, max_reward\n",
    "    else:\n",
    "        return None, None, None"
   ]
  },
  {
   "cell_type": "code",
   "execution_count": 34,
   "metadata": {},
   "outputs": [
    {
     "name": "stdout",
     "output_type": "stream",
     "text": [
      "|Physician Consensus | Mortality | Phy Consensus Occurred |\n",
      "|:---|---|---:|\n",
      "| 10% | 13.4% | 100.0% |\n",
      "{}\n",
      "[[ 0.  0.  0.]\n",
      " [ 0.  0.  0.]\n",
      " [ 0.  0.  0.]]\n",
      "| 20% | 10.0% | 23.1% |\n",
      "{'Physician': 2547, 'Kernel': 338}\n",
      "[[ 2885.   128.   102.]\n",
      " [  128.  2885.  1415.]\n",
      " [  102.  1415.  2885.]]\n",
      "| 25% | 3.5% | 11.0% |\n",
      "{'Physician': 2859, 'Kernel': 563, 'DQN': 3}\n",
      "[[ 3425.   576.   275.]\n",
      " [  576.  3425.  1123.]\n",
      " [  275.  1123.  3425.]]\n",
      "| 30% | 2.5% | 5.9% |\n",
      "{'Physician': 2782, 'Kernel': 788, 'DQN': 5}\n",
      "[[ 3575.  1282.   539.]\n",
      " [ 1282.  3575.  1319.]\n",
      " [  539.  1319.  3575.]]\n"
     ]
    }
   ],
   "source": [
    "# Three experts\n",
    "\n",
    "test_episodes = test_set.groupby('icustayid')\n",
    "\n",
    "print (\"|Physician Consensus | Mortality | Phy Consensus Occurred |\")\n",
    "print (\"|:---|---|---:|\")\n",
    "action_count25 = np.zeros((n_actions))\n",
    "for physician_consensus in [0.1,0.2,0.25,0.3]:#,0.4,0.5,0.6,0.7]: \n",
    "    global dqn_action_counts, phy_action_counts\n",
    "    n_died = 0\n",
    "    n_episodes = 0\n",
    "    actions_taken = 1 # avoid divide by zero\n",
    "    stats_same_actions = np.zeros((len(experts),len(experts)))\n",
    "    stats_action_chosen.clear()\n",
    "\n",
    "    stats_phy_chosen = 0\n",
    "    stats_dqn_chosen = 0\n",
    "    stats_phy_consensus = 0\n",
    "    stats_no_action = 0\n",
    "    stats_different_actions = 0\n",
    "    action_counts = np.zeros((n_actions))\n",
    "    dqn_action_counts = np.zeros((n_actions))\n",
    "    phy_action_counts = np.zeros((n_actions))\n",
    "\n",
    "    for name, transitions in test_episodes:\n",
    "        n_episodes += 1\n",
    "        if n_episodes > max_episodes:\n",
    "            break\n",
    "        state = transitions['state'].tolist()[0]\n",
    "        depth = 0 \n",
    "        action_list = []\n",
    "        state_list = []\n",
    "        episode_reward = 0\n",
    "        while True:\n",
    "            if depth > max_depth:\n",
    "                break\n",
    "            depth += 1\n",
    "            actions_taken += 1\n",
    "            state = int(state)\n",
    "            action = phy_ra.get_consensus(state,physician_consensus)\n",
    "            if action is None:\n",
    "                action, state, reward = perform_best_action(state,experts)\n",
    "            else:\n",
    "                state, reward = perform_phy_action(state,action)\n",
    "                stats_phy_consensus += 1\n",
    "            if reward is None:\n",
    "                break\n",
    "            elif reward < 0:\n",
    "                n_died += 1\n",
    "                break\n",
    "            else:\n",
    "                action_counts[action] +=1 \n",
    "                if physician_consensus == 0.25:\n",
    "                    action_count25[action] += 1\n",
    "                episode_reward += reward\n",
    "    print (\"| {0:.0%} \".format(physician_consensus), end=\"\")\n",
    "    print (\"| {0:.1%} \".format(n_died / n_episodes), end=\"\")\n",
    "    print (\"| {0:.1%} |\".format(stats_phy_consensus / actions_taken))\n",
    "    sum(stats_action_chosen.values())\n",
    "    print (dict(stats_action_chosen))\n",
    "    print (stats_same_actions)\n"
   ]
  },
  {
   "cell_type": "code",
   "execution_count": 42,
   "metadata": {},
   "outputs": [
    {
     "data": {
      "text/plain": [
       "0.45425361155698235"
      ]
     },
     "execution_count": 42,
     "metadata": {},
     "output_type": "execute_result"
    }
   ],
   "source": [
    "1415 / (2885 + 128 + 102)"
   ]
  },
  {
   "cell_type": "code",
   "execution_count": 36,
   "metadata": {},
   "outputs": [
    {
     "data": {
      "text/plain": [
       "<matplotlib.text.Text at 0x119b9a8d0>"
      ]
     },
     "execution_count": 36,
     "metadata": {},
     "output_type": "execute_result"
    },
    {
     "data": {
      "image/png": "[encoded data removed]",
      "text/plain": [
       "<matplotlib.figure.Figure at 0x10d325c50>"
      ]
     },
     "metadata": {},
     "output_type": "display_data"
    }
   ],
   "source": [
    "ax = sns.heatmap(action_count25.reshape(5,5), linewidths=.01, cmap=\"YlGnBu\")\n",
    "ax.invert_yaxis()\n",
    "ax.set_title('RL MOE Combined Actions - Three Experts')"
   ]
  },
  {
   "cell_type": "code",
   "execution_count": 37,
   "metadata": {},
   "outputs": [
    {
     "name": "stdout",
     "output_type": "stream",
     "text": [
      "|Physician Consensus | Mortality | Phy Consensus Occurred |\n",
      "|:---|---|---:|\n",
      "| 10% | 13.4% | 100.0% |\n",
      "{}\n",
      "[[ 0.  0.]\n",
      " [ 0.  0.]]\n",
      "| 20% | 10.0% | 23.1% |\n",
      "{'Kernel': 2885}\n",
      "[[ 2885.  1415.]\n",
      " [ 1415.  2885.]]\n",
      "| 25% | 3.5% | 11.0% |\n",
      "{'Kernel': 3422, 'DQN': 3}\n",
      "[[ 3425.  1123.]\n",
      " [ 1123.  3425.]]\n",
      "| 30% | 2.5% | 5.9% |\n",
      "{'Kernel': 3568, 'DQN': 7}\n",
      "[[ 3575.  1319.]\n",
      " [ 1319.  3575.]]\n"
     ]
    }
   ],
   "source": [
    "# Two Experts\n",
    "\n",
    "experts = [krn_ra,dqn_ra]\n",
    "expert_names = {dqn_ra:'DQN',krn_ra:'Kernel'}\n",
    "test_episodes = test_set.groupby('icustayid')\n",
    "\n",
    "print (\"|Physician Consensus | Mortality | Phy Consensus Occurred |\")\n",
    "print (\"|:---|---|---:|\")\n",
    "action_count25 = np.zeros((n_actions))\n",
    "for physician_consensus in [0.1,0.2,0.25,0.3]:#,0.4,0.5,0.6,0.7]: \n",
    "    global dqn_action_counts, phy_action_counts\n",
    "    n_died = 0\n",
    "    n_episodes = 0\n",
    "    actions_taken = 1 # avoid divide by zero\n",
    "    stats_same_actions = np.zeros((len(experts),len(experts)))\n",
    "    stats_action_chosen.clear()\n",
    "\n",
    "    stats_phy_chosen = 0\n",
    "    stats_dqn_chosen = 0\n",
    "    stats_phy_consensus = 0\n",
    "    stats_no_action = 0\n",
    "    stats_different_actions = 0\n",
    "    action_counts = np.zeros((n_actions))\n",
    "    dqn_action_counts = np.zeros((n_actions))\n",
    "    phy_action_counts = np.zeros((n_actions))\n",
    "\n",
    "    for name, transitions in test_episodes:\n",
    "        n_episodes += 1\n",
    "        if n_episodes > max_episodes:\n",
    "            break\n",
    "        state = transitions['state'].tolist()[0]\n",
    "        depth = 0 \n",
    "        action_list = []\n",
    "        state_list = []\n",
    "        episode_reward = 0\n",
    "        while True:\n",
    "            if depth > max_depth:\n",
    "                break\n",
    "            depth += 1\n",
    "            actions_taken += 1\n",
    "            state = int(state)\n",
    "            action = phy_ra.get_consensus(state,physician_consensus)\n",
    "            if action is None:\n",
    "                action, state, reward = perform_best_action(state,experts)\n",
    "            else:\n",
    "                state, reward = perform_phy_action(state,action)\n",
    "                stats_phy_consensus += 1\n",
    "            if reward is None:\n",
    "                break\n",
    "            elif reward < 0:\n",
    "                n_died += 1\n",
    "                break\n",
    "            else:\n",
    "                action_counts[action] +=1 \n",
    "                if physician_consensus == 0.25:\n",
    "                    action_count25[action] += 1\n",
    "                episode_reward += reward\n",
    "    print (\"| {0:.0%} \".format(physician_consensus), end=\"\")\n",
    "    print (\"| {0:.1%} \".format(n_died / n_episodes), end=\"\")\n",
    "    print (\"| {0:.1%} |\".format(stats_phy_consensus / actions_taken))\n",
    "    sum(stats_action_chosen.values())\n",
    "    print (dict(stats_action_chosen))\n",
    "    print (stats_same_actions)\n"
   ]
  },
  {
   "cell_type": "code",
   "execution_count": 43,
   "metadata": {},
   "outputs": [
    {
     "data": {
      "text/plain": [
       "0.32906976744186045"
      ]
     },
     "execution_count": 43,
     "metadata": {},
     "output_type": "execute_result"
    }
   ],
   "source": [
    "1415 / (2885 + 1415)"
   ]
  },
  {
   "cell_type": "code",
   "execution_count": 38,
   "metadata": {},
   "outputs": [
    {
     "data": {
      "text/plain": [
       "<matplotlib.text.Text at 0x11a58e320>"
      ]
     },
     "execution_count": 38,
     "metadata": {},
     "output_type": "execute_result"
    },
    {
     "data": {
      "image/png": "[encoded data removed]",
      "text/plain": [
       "<matplotlib.figure.Figure at 0x11a5f0208>"
      ]
     },
     "metadata": {},
     "output_type": "display_data"
    }
   ],
   "source": [
    "ax = sns.heatmap(action_count25.reshape(5,5), linewidths=.01, cmap=\"YlGnBu\")\n",
    "ax.invert_yaxis()\n",
    "ax.set_title('RL MOE Combined Actions - Two Experts')"
   ]
  },
  {
   "cell_type": "markdown",
   "metadata": {},
   "source": [
    "# WARNING - Here Be Dragons\n",
    "\n",
    "## Experimental Area: proceed with caution. \n",
    "\n",
    "The author is not responsible for any damage, temporary or permanent."
   ]
  },
  {
   "cell_type": "markdown",
   "metadata": {},
   "source": [
    "### Is this a valid proxy for rewards?\n",
    "\n",
    "Let's examine the predicted mortality vs the actual mortality to see if this calculated reward is a valid proxy. We'll see the physician consensus to the be closest value to the actual mortality and check error rates. "
   ]
  },
  {
   "cell_type": "code",
   "execution_count": 25,
   "metadata": {},
   "outputs": [
    {
     "name": "stdout",
     "output_type": "stream",
     "text": [
      "|Physician Consensus | Mortality | Phy Consensus Occurred |\n",
      "|:---|---|---:|\n",
      "TN: 5 FP: 17 FN: 15 TP: 157\n"
     ]
    }
   ],
   "source": [
    "print (\"|Physician Consensus | Mortality | Phy Consensus Occurred |\")\n",
    "print (\"|:---|---|---:|\")\n",
    "action_count25 = np.zeros((n_actions))\n",
    "physician_consensus = 0.20 # on the test, where the predicted mortality is closest to the actual mortality\n",
    "                            # 10.2% vs 12.2%\n",
    "n_died = 0\n",
    "n_episodes = 0\n",
    "actions_taken = 1 # avoid divide by zero\n",
    "stats_same_actions = np.zeros((len(experts),len(experts)))\n",
    "stats_action_chosen.clear()\n",
    "\n",
    "stats_phy_chosen = 0\n",
    "stats_dqn_chosen = 0\n",
    "stats_phy_consensus = 0\n",
    "stats_no_action = 0\n",
    "stats_different_actions = 0\n",
    "action_counts = np.zeros((n_actions))\n",
    "dqn_action_counts = np.zeros((n_actions))\n",
    "phy_action_counts = np.zeros((n_actions))\n",
    "TP = TN = FP = FN = 0\n",
    "none_reward = 0\n",
    "pred_prob = []\n",
    "y_pred = []\n",
    "y_actual = []\n",
    "# iterate through all training episodes\n",
    "for name, transitions in episodes:\n",
    "    n_episodes += 1\n",
    "    if n_episodes > max_episodes:\n",
    "        break\n",
    "    state = transitions['state'].tolist()[0]\n",
    "    actual_died = transitions['reward'].tolist()[-1] < 0\n",
    "    depth = 0 \n",
    "    action_list = []\n",
    "    state_list = []\n",
    "    episode_reward = 0\n",
    "    while True:\n",
    "        if depth > max_depth:\n",
    "            break\n",
    "        depth += 1\n",
    "        actions_taken += 1\n",
    "        state = int(state)\n",
    "        action = phy_ra.get_consensus(state,physician_consensus)\n",
    "        if action is None:\n",
    "            action, state, reward = perform_best_action(state,experts)\n",
    "        else:\n",
    "            state, reward = perform_phy_action(state,action)\n",
    "            stats_phy_consensus += 1\n",
    "        if reward is None:\n",
    "            break\n",
    "        elif reward < 0:\n",
    "            n_died += 1\n",
    "            break\n",
    "        else:\n",
    "            action_counts[action] +=1 \n",
    "            if physician_consensus == 0.25:\n",
    "                action_count25[action] += 1\n",
    "            episode_reward += reward\n",
    "    # negative = patient died\n",
    "    # positive = patient lived\n",
    "    #print (state,s_state_values[state],actual_died)\n",
    "    if reward is not None:\n",
    "        pred_prob.append(s_state_values[state])\n",
    "        if actual_died:\n",
    "            y_actual.append(0)\n",
    "        else:\n",
    "            y_actual.append(1)\n",
    "\n",
    "        if reward < 0:\n",
    "            y_pred.append(0)\n",
    "        else:\n",
    "            y_pred.append(1)\n",
    "        if reward < 0 and actual_died:\n",
    "            TN += 1\n",
    "        elif reward >= 0 and actual_died:\n",
    "            FP += 1\n",
    "        elif reward < 0 and not actual_died:\n",
    "            FN += 1\n",
    "        else:\n",
    "            TP += 1\n",
    "    else:\n",
    "        none_reward += 1\n",
    "\n",
    "# print (\"| {0:.0%} \".format(physician_consensus), end=\"\")\n",
    "# print (\"| {0:.1%} \".format(n_died / n_episodes), end=\"\")\n",
    "# print (\"| {0:.1%} |\".format(stats_phy_consensus / actions_taken))\n",
    "# sum(stats_action_chosen.values())\n",
    "# print (dict(stats_action_chosen))\n",
    "# print (stats_same_actions)\n",
    "\n",
    "print (\"TN:\",TN,\"FP:\",FP,\"FN:\",FN,\"TP:\",TP)"
   ]
  },
  {
   "cell_type": "code",
   "execution_count": 29,
   "metadata": {},
   "outputs": [
    {
     "data": {
      "text/plain": [
       "0.50819238900634256"
      ]
     },
     "execution_count": 29,
     "metadata": {},
     "output_type": "execute_result"
    }
   ],
   "source": [
    "from sklearn import metrics\n",
    "fpr, tpr, thresholds = metrics.roc_curve(y_actual, pred_prob)\n",
    "roc_auc  = metrics.auc(fpr, tpr)\n",
    "metrics.auc(fpr,tpr)"
   ]
  },
  {
   "cell_type": "code",
   "execution_count": 30,
   "metadata": {},
   "outputs": [
    {
     "name": "stdout",
     "output_type": "stream",
     "text": [
      "[ 0.          0.02325581  0.02906977  0.03488372  0.05813953  0.0755814\n",
      "  0.11627907  0.12209302  0.14534884  0.5         0.52325581  0.54069767\n",
      "  0.5872093   0.59302326  0.59883721  0.88372093  0.94767442  1.        ]\n"
     ]
    }
   ],
   "source": [
    "print (tpr)"
   ]
  },
  {
   "cell_type": "code",
   "execution_count": 31,
   "metadata": {},
   "outputs": [
    {
     "name": "stdout",
     "output_type": "stream",
     "text": [
      "TN: 5 FP: 17 FN: 15 TP: 157\n"
     ]
    }
   ],
   "source": [
    "print (\"TN:\",TN,\"FP:\",FP,\"FN:\",FN,\"TP:\",TP)\n"
   ]
  },
  {
   "cell_type": "code",
   "execution_count": 105,
   "metadata": {},
   "outputs": [
    {
     "data": {
      "text/plain": [
       "array([ 0.        ,  0.0326087 ,  0.04347826,  0.06521739,  0.07608696,\n",
       "        0.10869565,  0.13043478,  0.51086957,  0.5326087 ,  0.55434783,\n",
       "        0.63043478,  0.63043478,  0.64130435,  0.89130435,  0.9673913 ,  1.        ])"
      ]
     },
     "execution_count": 105,
     "metadata": {},
     "output_type": "execute_result"
    }
   ],
   "source": [
    "tpr"
   ]
  },
  {
   "cell_type": "code",
   "execution_count": 32,
   "metadata": {},
   "outputs": [
    {
     "name": "stderr",
     "output_type": "stream",
     "text": [
      "/anaconda/lib/python3.6/site-packages/matplotlib/axes/_axes.py:545: UserWarning: No labelled objects found. Use label='...' kwarg on individual plots.\n",
      "  warnings.warn(\"No labelled objects found. \"\n"
     ]
    },
    {
     "data": {
      "image/png": "[encoded data removed]",
      "text/plain": [
       "<matplotlib.figure.Figure at 0x111ac94e0>"
      ]
     },
     "metadata": {},
     "output_type": "display_data"
    }
   ],
   "source": [
    "lw =2\n",
    "plt.plot(fpr, tpr, color='darkorange')\n",
    "plt.plot([0, 1], [0, 1], color='navy', lw=lw, linestyle='--')\n",
    "plt.xlim([0.0, 1.0])\n",
    "plt.ylim([0.0, 1.05])\n",
    "plt.xlabel('False Positive Rate')\n",
    "plt.ylabel('True Positive Rate')\n",
    "plt.title('Receiver operating characteristics, Area={0:0.2f}'.format(roc_auc))\n",
    "plt.legend(loc=\"lower right\")\n",
    "plt.show()"
   ]
  },
  {
   "cell_type": "code",
   "execution_count": 33,
   "metadata": {},
   "outputs": [
    {
     "data": {
      "text/plain": [
       "<matplotlib.text.Text at 0x1148c8898>"
      ]
     },
     "execution_count": 33,
     "metadata": {},
     "output_type": "execute_result"
    },
    {
     "data": {
      "image/png": "[encoded data removed]",
      "text/plain": [
       "<matplotlib.figure.Figure at 0x111911390>"
      ]
     },
     "metadata": {},
     "output_type": "display_data"
    }
   ],
   "source": [
    "from sklearn.calibration import CalibratedClassifierCV, calibration_curve\n",
    "\n",
    "fraction_of_positives, mean_predicted_value = \\\n",
    "            calibration_curve(y_actual, pred_prob, n_bins=10)\n",
    "\n",
    "plt.plot(mean_predicted_value, fraction_of_positives, \"s-\",color='darkorange')\n",
    "plt.plot([0.1, 0.8], [0.1, 0.8], color='navy', lw=lw, linestyle='--')\n",
    "\n",
    "plt.xlabel(\"Mean predicted value\")\n",
    "plt.ylabel(\"Fraction of positives\")\n",
    "plt.title('Brier Score = {0:0.2f}'.format(metrics.brier_score_loss(y_actual,pred_prob)))\n"
   ]
  },
  {
   "cell_type": "markdown",
   "metadata": {},
   "source": [
    "### Next Steps\n",
    "\n",
    "Mortality on:\n",
    "* Is RL MOE accurate?\n",
    "    * Brier score\n",
    "    * Precision recall score\n",
    "    * AUROC curve\n",
    "\n",
    "See method in [https://arxiv.org/abs/1711.06402](https://arxiv.org/abs/1711.06402)\n",
    "\n",
    "\n",
    "Time permitting: \n",
    "* hunt down bug in discretize physician actions"
   ]
  },
  {
   "cell_type": "code",
   "execution_count": null,
   "metadata": {
    "collapsed": true
   },
   "outputs": [],
   "source": []
  }
 ],
 "metadata": {
  "kernelspec": {
   "display_name": "Python 3",
   "language": "python",
   "name": "python3"
  },
  "language_info": {
   "codemirror_mode": {
    "name": "ipython",
    "version": 3
   },
   "file_extension": ".py",
   "mimetype": "text/x-python",
   "name": "python",
   "nbconvert_exporter": "python",
   "pygments_lexer": "ipython3",
   "version": "3.6.1"
  }
 },
 "nbformat": 4,
 "nbformat_minor": 2
}
