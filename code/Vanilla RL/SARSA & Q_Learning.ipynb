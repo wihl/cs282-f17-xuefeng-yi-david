{
 "cells": [
  {
   "cell_type": "code",
   "execution_count": 1,
   "metadata": {
    "collapsed": true
   },
   "outputs": [],
   "source": [
    "import pandas as pd\n",
    "import numpy as np\n",
    "import copy\n",
    "import matplotlib.pyplot as plt\n",
    "from sklearn.cluster import KMeans\n",
    "from discretize_sepsis_actions import discretize_actions\n",
    "import pickle\n",
    "import os.path\n",
    "\n",
    "%matplotlib inline  "
   ]
  },
  {
   "cell_type": "code",
   "execution_count": 2,
   "metadata": {
    "collapsed": true
   },
   "outputs": [],
   "source": [
    "path = '/Users/dilys/Desktop/Harvard_1718_Fall/CS282/cs282-f17-xuefeng-yi-david'"
   ]
  },
  {
   "cell_type": "markdown",
   "metadata": {},
   "source": [
    "# For David "
   ]
  },
  {
   "cell_type": "markdown",
   "metadata": {},
   "source": [
    "### code for Jerry's cluster"
   ]
  },
  {
   "cell_type": "code",
   "execution_count": 3,
   "metadata": {
    "collapsed": true
   },
   "outputs": [],
   "source": [
    "# read the src\n",
    "# data = np.genfromtxt(\"/Users/dilys/Desktop/Harvard_1718_Fall/CS282/Homework/HW3/P2/Sepsis_imp.csv\", dtype=float, delimiter=',', skip_header=1) \n",
    "# remove intervention, but include ventilation, sedation, RRT\n",
    "# interventions = np.setdiff1d(np.arange(47, 57), [51,52,54,55,56]) #[52,53,55,57]\n",
    "# data = np.delete(data, interventions, axis=1)\n",
    "# data = np.delete(data, [0,1,2], axis=1)\n",
    "\n",
    "# data = (data - np.mean(data, axis=0)) / np.std(data, axis=0)"
   ]
  },
  {
   "cell_type": "markdown",
   "metadata": {},
   "source": [
    "### Modification to allow classification"
   ]
  },
  {
   "cell_type": "code",
   "execution_count": 4,
   "metadata": {
    "collapsed": false
   },
   "outputs": [
    {
     "data": {
      "text/plain": [
       "Index([u'gender', u'age', u'elixhauser', u're_admission', u'SOFA', u'SIRS',\n",
       "       u'Weight_kg', u'GCS', u'HR', u'SysBP', u'MeanBP', u'DiaBP',\n",
       "       u'Shock_Index', u'RR', u'SpO2', u'Temp_C', u'FiO2_1', u'Potassium',\n",
       "       u'Sodium', u'Chloride', u'Glucose', u'BUN', u'Creatinine', u'Magnesium',\n",
       "       u'Calcium', u'Ionised_Ca', u'CO2_mEqL', u'SGOT', u'SGPT', u'Total_bili',\n",
       "       u'Albumin', u'Hb', u'WBC_count', u'Platelets_count', u'PTT', u'PT',\n",
       "       u'INR', u'Arterial_pH', u'paO2', u'paCO2', u'Arterial_BE',\n",
       "       u'Arterial_lactate', u'HCO3', u'PaO2_FiO2', u'output_total',\n",
       "       u'output_4hourly', u'sedation', u'mechvent', u'rrt', u'died_in_hosp',\n",
       "       u'mortality_90d'],\n",
       "      dtype='object')"
      ]
     },
     "execution_count": 4,
     "metadata": {},
     "output_type": "execute_result"
    }
   ],
   "source": [
    "data = pd.read_csv(os.path.join(path, 'data/Sepsis_imp.csv'))\n",
    "interventions = np.setdiff1d(np.arange(47, 57), [51,52,54,55,56])\n",
    "features = data.columns[list(set(range(data.shape[1])) - set(range(3)) - set(interventions))]\n",
    "data = data[features]\n",
    "features"
   ]
  },
  {
   "cell_type": "code",
   "execution_count": 5,
   "metadata": {
    "collapsed": true
   },
   "outputs": [],
   "source": [
    "# mean and std for standardizing \n",
    "data_mean = np.mean(data, axis=0)\n",
    "data_std = np.std(data, axis=0)"
   ]
  },
  {
   "cell_type": "code",
   "execution_count": 6,
   "metadata": {
    "collapsed": true
   },
   "outputs": [],
   "source": [
    "# cluster centers for classifying states to 0 - 1999\n",
    "centers = pickle.load(open(os.path.join(path,'code/state_cluster/centers.pkl'), 'rb'))\n",
    "centers = pd.DataFrame(centers)\n",
    "centers.columns = features"
   ]
  },
  {
   "cell_type": "code",
   "execution_count": 7,
   "metadata": {
    "collapsed": true
   },
   "outputs": [],
   "source": [
    "classify_state_params = {'features': features,\n",
    "                        'centers': centers,\n",
    "                        'mean': data_mean,\n",
    "                        'std': data_std}\n",
    "pickle.dump(classify_state_params, \\\n",
    "            open(os.path.join(path, 'data/classify_state/classify_state_param.pkl'), 'wb'))"
   ]
  },
  {
   "cell_type": "code",
   "execution_count": 8,
   "metadata": {
    "collapsed": false
   },
   "outputs": [],
   "source": [
    "def classify_state(new_state, params):\n",
    "    \n",
    "    features = params['features']\n",
    "    centers = params['centers']\n",
    "    data_mean = params['mean']\n",
    "    data_std = params['std']\n",
    "    \n",
    "    # extract features for clustering\n",
    "    state = new_state[features]\n",
    "    # standardize states\n",
    "    state_std = (state - data_mean)/data_std\n",
    "    # assign to the nearest cluster\n",
    "    state_discretized = np.argmin(np.sum((centers - state_std)**2, axis = 1))\n",
    "    \n",
    "    return state_discretized"
   ]
  },
  {
   "cell_type": "code",
   "execution_count": 9,
   "metadata": {
    "collapsed": false
   },
   "outputs": [
    {
     "data": {
      "text/plain": [
       "1575"
      ]
     },
     "execution_count": 9,
     "metadata": {},
     "output_type": "execute_result"
    }
   ],
   "source": [
    "# example for classifying state\n",
    "params = pickle.load(open(os.path.join(path, 'data/classify_state/classify_state_param.pkl'), 'rb'))\n",
    "classify_state(data.ix[1,],params)"
   ]
  },
  {
   "cell_type": "markdown",
   "metadata": {},
   "source": [
    "# Preparation"
   ]
  },
  {
   "cell_type": "code",
   "execution_count": 30,
   "metadata": {
    "collapsed": false
   },
   "outputs": [],
   "source": [
    "# load data\n",
    "data = pd.read_csv(os.path.join(path, 'data/Sepsis_imp.csv'))\n",
    "states = pickle.load(open(os.path.join(path, 'code/state_cluster/states_list.pkl'), 'rb'))"
   ]
  },
  {
   "cell_type": "code",
   "execution_count": 14,
   "metadata": {
    "collapsed": true
   },
   "outputs": [],
   "source": [
    "# Discretize action (from omer's code)\n",
    "actions, \\\n",
    "input_4hourly__conversion_from_binned_to_continuous, \\\n",
    "median_dose_vaso__conversion_from_binned_to_continuous \\\n",
    "= discretize_actions(data['input_4hourly_tev'], data['median_dose_vaso'], bins_num = 5)\n"
   ]
  },
  {
   "cell_type": "code",
   "execution_count": 15,
   "metadata": {
    "collapsed": false
   },
   "outputs": [],
   "source": [
    "# extra icustyid, state, action, reward, death as dataframe\n",
    "# assign intermediate reward as -1\n",
    "icustayid = data['icustayid']\n",
    "death = data['died_in_hosp']\n",
    "rewards = np.zeros((data.shape[0])); rewards.fill(-1)\n",
    "d = {'id': icustayid.astype('int'),\\\n",
    "     's':states.astype('int'),\\\n",
    "     'a': actions.astype('int'),\\\n",
    "     'r': rewards.astype('int'),\n",
    "     'd': death.astype('int')\n",
    "}\n",
    "subdata = pd.DataFrame(d, columns = ['id','s','a','r','d'])\n",
    "patients  = icustayid.unique()"
   ]
  },
  {
   "cell_type": "code",
   "execution_count": 16,
   "metadata": {
    "collapsed": false
   },
   "outputs": [
    {
     "name": "stdout",
     "output_type": "stream",
     "text": [
      "Transforming Dataframe to Dictionary\n",
      "5.19% finished\n",
      "10.38% finished\n",
      "15.56% finished\n",
      "20.75% finished\n",
      "25.94% finished\n",
      "31.13% finished\n",
      "36.32% finished\n",
      "41.5% finished\n",
      "46.69% finished\n",
      "51.88% finished\n",
      "57.07% finished\n",
      "62.26% finished\n",
      "67.44% finished\n",
      "72.63% finished\n",
      "77.82% finished\n",
      "83.01% finished\n",
      "88.2% finished\n",
      "93.39% finished\n",
      "Finish transforming\n"
     ]
    }
   ],
   "source": [
    "# rearrange data into dictionary format\n",
    "# each trajectory is an element in the dictionary\n",
    "# create two final absorbing states: death or not \n",
    "# reward for death: -50; dispatched: + 50\n",
    "print 'Transforming Dataframe to Dictionary'\n",
    "Episodes= {}\n",
    "j = 0\n",
    "for i in patients:\n",
    "    temp = subdata[subdata['id'] == i]\n",
    "    T = len(temp)\n",
    "    history = np.zeros((T, 5))\n",
    "    \n",
    "    s1 = temp['s'].iloc[T-1]\n",
    "    a = temp['a'].iloc[T-1]\n",
    "    if temp['d'].iloc[-1] == 0:\n",
    "        s2 = 2000\n",
    "        r = 50\n",
    "    else:\n",
    "        s2 = 2001\n",
    "        r = -50\n",
    "    history[T-1] = np.array([T-1, s1, a, s2, r])\n",
    "    \n",
    "    if T ==1:\n",
    "        continue\n",
    "    \n",
    "    for t in range(T - 1 ):\n",
    "        s1 = temp['s'].iloc[t]\n",
    "        a = temp['a'].iloc[t]\n",
    "        s2 = temp['s'].iloc[t + 1]\n",
    "        r = temp['r'].iloc[t]\n",
    "        \n",
    "        history[t] = np.array([t, s1, a, s2, r])\n",
    "        \n",
    "    Episodes[j] = pd.DataFrame(history, columns = ['T','S1','A','S2','R'])\n",
    "    j = j+ 1\n",
    "    if j%1000 == 0:\n",
    "        print '{}% finished'.format(round(100.0*j/len(patients),2))\n",
    "print 'Finish transforming'\n",
    "pickle.dump(Episodes, open('Episodes.pkl', 'wb'))"
   ]
  },
  {
   "cell_type": "markdown",
   "metadata": {},
   "source": [
    "# Functions for SARSA and Q_Learning"
   ]
  },
  {
   "cell_type": "code",
   "execution_count": 17,
   "metadata": {
    "collapsed": false
   },
   "outputs": [],
   "source": [
    "# Update the Q table \n",
    "def update_Q_SARSA( Q_table, state, action, reward, new_state, new_action, gamma = 0.95, alpha = 0.1):\n",
    "    # FILL THIS IN \n",
    "    state = int(state); action = int(action); new_state = int(new_state); new_action = int(new_action)\n",
    "    Q_table[state,action] = Q_table[state,action] + alpha * ((reward + gamma * Q_table[new_state,new_action]) - Q_table[state,action])\n",
    "\n",
    "    return Q_table \n",
    "\n",
    "# Update the Q table \n",
    "def update_Q_Qlearning( Q_table, state, action, reward, new_state, new_action, gamma = 0.95, alpha = 0.1):\n",
    "    # FILL THIS IN \n",
    "    state = int(state); action = int(action); new_state = int(new_state); new_action = int(new_action)\n",
    "    max_action = np.argmax( Q_table[new_state , : ] )\n",
    "    Q_table[state,action] = Q_table[state,action] + alpha * ((reward + gamma * Q_table[new_state,max_action]) - Q_table[state,action])\n",
    "\n",
    "    return Q_table \n"
   ]
  },
  {
   "cell_type": "code",
   "execution_count": 18,
   "metadata": {
    "collapsed": false
   },
   "outputs": [],
   "source": [
    "# Functions for geting the optimal policy\n",
    "def get_Optimal_Policy(Q_table):\n",
    "    optimal_policy = np.zeros(Q_table.shape)\n",
    "    for i in range(len(Q_table)):\n",
    "        optimal_policy[i, np.argmax(Q_table[i,])] = 1\n",
    "    return optimal_policy"
   ]
  },
  {
   "cell_type": "markdown",
   "metadata": {},
   "source": [
    "# SARSA and Q_Learning"
   ]
  },
  {
   "cell_type": "code",
   "execution_count": 19,
   "metadata": {
    "collapsed": false
   },
   "outputs": [],
   "source": [
    "# Episodes are in dictionary format\n",
    "Episodes = pickle.load(open('Episodes.pkl', 'rb'))"
   ]
  },
  {
   "cell_type": "code",
   "execution_count": 29,
   "metadata": {
    "collapsed": false
   },
   "outputs": [
    {
     "name": "stdout",
     "output_type": "stream",
     "text": [
      "0.01% finished\n",
      "5.29% finished\n",
      "10.58% finished\n",
      "15.87% finished\n",
      "21.15% finished\n",
      "26.44% finished\n",
      "31.73% finished\n",
      "37.01% finished\n",
      "42.3% finished\n",
      "47.59% finished\n",
      "52.88% finished\n",
      "58.16% finished\n",
      "63.45% finished\n",
      "68.74% finished\n",
      "74.02% finished\n",
      "79.31% finished\n",
      "84.6% finished\n",
      "89.89% finished\n",
      "95.17% finished\n",
      "100% finished\n"
     ]
    }
   ],
   "source": [
    "Q_table_SARSA = np.zeros((2002, 25))\n",
    "Q_table_Qlearning = np.zeros((2002, 25))\n",
    "\n",
    "count = 0\n",
    "for epi in Episodes.keys():\n",
    "    count = count + 1\n",
    "    if (count%1000 == 1):\n",
    "        print '{}% finished'.format(round(100.0*count/len(Episodes),2))\n",
    "    \n",
    "    epi_data = Episodes[epi]\n",
    "    for t in range(len(epi_data)):\n",
    "        state = epi_data.ix[t,'S1']\n",
    "        action = epi_data.ix[t, 'A']\n",
    "        reward = epi_data.ix[t, 'R']\n",
    "        new_state = epi_data.ix[t, 'S2']\n",
    "        \n",
    "        if t < len(epi_data) -1:\n",
    "            new_action = epi_data.ix[t+1, 'A']\n",
    "        else:\n",
    "            new_action = np.random.choice(25)\n",
    "        \n",
    "        Q_table_SARSA = update_Q_SARSA( Q_table_SARSA, state, action, reward, new_state, new_action)\n",
    "        Q_table_Qlearning = update_Q_Qlearning( Q_table_Qlearning, state, action, reward, new_state, new_action)\n",
    "print '100% finished'"
   ]
  },
  {
   "cell_type": "code",
   "execution_count": 21,
   "metadata": {
    "collapsed": false
   },
   "outputs": [],
   "source": [
    "# get the optimal policy\n",
    "optimal_policy_SARSA = get_Optimal_Policy(Q_table_SARSA)\n",
    "optimal_policy_Qlearning = get_Optimal_Policy(Q_table_Qlearning)"
   ]
  },
  {
   "cell_type": "code",
   "execution_count": 23,
   "metadata": {
    "collapsed": false
   },
   "outputs": [],
   "source": [
    "Q_table = {'SARSA':Q_table_SARSA, \n",
    "          'Q_Learning':Q_table_Qlearning},\n",
    "pickle.dump(Q_table, open('Q_table.pkl', 'wb'))\n",
    "Q_table = pickle.load(open('Q_table.pkl', 'rb'))"
   ]
  },
  {
   "cell_type": "markdown",
   "metadata": {},
   "source": [
    "# Evaluation"
   ]
  },
  {
   "cell_type": "code",
   "execution_count": 31,
   "metadata": {
    "collapsed": true
   },
   "outputs": [],
   "source": [
    "vaso = np.array(list(median_dose_vaso__conversion_from_binned_to_continuous) * 5)\n",
    "fluid = np.repeat(input_4hourly__conversion_from_binned_to_continuous, 5)\n",
    "\n",
    "def Compute_Deviation(policy):\n",
    "    policy_vaso = np.sum(policy*vaso, axis = 1)[states.astype('int')]\n",
    "    policy_fluid = np.sum(policy*fluid, axis = 1)[states.astype('int')]\n",
    "    temp = {'icustayid':icustayid,\n",
    "        'death': death,\n",
    "        'vaso': data['median_dose_vaso'].values,\n",
    "        'fluid': data['input_4hourly_tev'].values,\n",
    "        'action': actions,\n",
    "        'policy_vaso': policy_vaso,\n",
    "        'policy_fluid': policy_fluid,\n",
    "        'vaso_dev': policy_vaso - data['median_dose_vaso'].values,\n",
    "        'fluid_dev': policy_fluid - data['input_4hourly_tev'].values    \n",
    "        }\n",
    "    temp = pd.DataFrame(temp, columns = ['icustayid', 'death', 'vaso', \\\n",
    "                                     'fluid', 'action', 'policy_vaso',\\\n",
    "                                    'policy_fluid', 'vaso_dev', 'fluid_dev'])\n",
    "    vaso_dev_mean = temp.groupby(by=\"icustayid\")['vaso_dev'].mean().values\n",
    "    fluid_dev_mean = temp.groupby(by=\"icustayid\")['fluid_dev'].mean().values\n",
    "    outcome = temp.groupby(by=\"icustayid\")['death'].mean().values\n",
    "    result = {'vaso_dev':temp['vaso_dev'],\n",
    "              'vaso_dev_mean':vaso_dev_mean, \n",
    "              'fluid_dev':temp['fluid_dev'], \n",
    "              'fluid_dev_mean': fluid_dev_mean\n",
    "    }\n",
    "    \n",
    "    return result"
   ]
  },
  {
   "cell_type": "code",
   "execution_count": 33,
   "metadata": {
    "collapsed": false
   },
   "outputs": [],
   "source": [
    "def get_bins(devs, death, var):\n",
    "    d_bins = {'vaso': np.linspace(-5,3,59),\n",
    "              'fluid':range(-10000,1000,200)  \n",
    "    }\n",
    "    \n",
    "    bins = d_bins[var]\n",
    "    temp_dead = devs[death == 1]\n",
    "    temp_surv = devs[death == 0]\n",
    "    \n",
    "    a, _ = np.histogram(temp_dead, bins)\n",
    "    b, _ = np.histogram(temp_surv, bins)\n",
    "    \n",
    "    m = a*1.0/(a+b) \n",
    "    midpoint = [(bins[i] + bins[i+1])/2 for i in range(len(bins)-1)]\n",
    "    \n",
    "    result = {'mortality': m,\n",
    "              'dev': midpoint   \n",
    "    }\n",
    "  \n",
    "\n",
    "    return result"
   ]
  },
  {
   "cell_type": "code",
   "execution_count": 32,
   "metadata": {
    "collapsed": false,
    "scrolled": true
   },
   "outputs": [],
   "source": [
    "SARSA = Compute_Deviation(optimal_policy_SARSA)\n",
    "Q_Learning = Compute_Deviation(optimal_policy_Qlearning)"
   ]
  },
  {
   "cell_type": "code",
   "execution_count": 34,
   "metadata": {
    "collapsed": false
   },
   "outputs": [
    {
     "data": {
      "text/plain": [
       "<matplotlib.legend.Legend at 0x118662c50>"
      ]
     },
     "execution_count": 34,
     "metadata": {},
     "output_type": "execute_result"
    },
    {
     "data": {
      "image/png": "[encoded data removed]",
      "text/plain": [
       "<matplotlib.figure.Figure at 0x118bcbf50>"
      ]
     },
     "metadata": {},
     "output_type": "display_data"
    }
   ],
   "source": [
    "Draw_SARSA = get_bins(SARSA['vaso_dev'], death, 'vaso')\n",
    "Draw_Qlearning = get_bins(Q_Learning['vaso_dev'], death, 'vaso')\n",
    "plt.plot(Draw_SARSA['dev'], Draw_SARSA['mortality'], label = 'SARSA')\n",
    "plt.plot(Draw_Qlearning['dev'], Draw_Qlearning['mortality'], label = 'Q_Learning')\n",
    "plt.legend()"
   ]
  },
  {
   "cell_type": "code",
   "execution_count": 35,
   "metadata": {
    "collapsed": false,
    "scrolled": true
   },
   "outputs": [
    {
     "data": {
      "text/plain": [
       "<matplotlib.legend.Legend at 0x11856b510>"
      ]
     },
     "execution_count": 35,
     "metadata": {},
     "output_type": "execute_result"
    },
    {
     "data": {
      "image/png": "[encoded data removed]",
      "text/plain": [
       "<matplotlib.figure.Figure at 0x1181dfa50>"
      ]
     },
     "metadata": {},
     "output_type": "display_data"
    }
   ],
   "source": [
    "Draw_SARSA = get_bins(SARSA['fluid_dev'], death, 'fluid')\n",
    "Draw_Qlearning = get_bins(Q_Learning['fluid_dev'], death, 'fluid')\n",
    "plt.plot(Draw_SARSA['dev'], Draw_SARSA['mortality'], label = 'SARSA')\n",
    "plt.plot(Draw_Qlearning['dev'], Draw_Qlearning['mortality'], label = 'Q_Learning')\n",
    "plt.legend()"
   ]
  },
  {
   "cell_type": "markdown",
   "metadata": {},
   "source": [
    "# Bootstrap Confidence Interval"
   ]
  },
  {
   "cell_type": "code",
   "execution_count": 36,
   "metadata": {
    "collapsed": true
   },
   "outputs": [],
   "source": [
    "# Take in episodes in dictionary form\n",
    "# learn Q_table with SARSA and Q_Learning\n",
    "def get_Q_table(Episodes):\n",
    "    # Episodes is a dictionary\n",
    "    # element in Episode is a dataframe, with t, S1, A, R, S2\n",
    "    Q_table_SARSA = np.zeros((2002, 25))\n",
    "    Q_table_Qlearning = np.zeros((2002, 25))\n",
    "\n",
    "    for epi in Episodes.keys():\n",
    "        data = Episodes[epi]\n",
    "        for t in range(len(data)):\n",
    "            state = data.ix[t,'S1']\n",
    "            action = data.ix[t, 'A']\n",
    "            reward = data.ix[t, 'R']\n",
    "            new_state = data.ix[t, 'S2']\n",
    "\n",
    "            if t < len(data) -1:\n",
    "                new_action = data.ix[t+1, 'A']\n",
    "            else:\n",
    "                new_action = np.random.choice(25)\n",
    "\n",
    "            Q_table_SARSA = update_Q_SARSA( Q_table_SARSA, state, action, reward, new_state, new_action)\n",
    "            Q_table_Qlearning = update_Q_Qlearning( Q_table_Qlearning, state, action, reward, new_state, new_action)\n",
    "    result = {'SARSA': Q_table_SARSA,\n",
    "             'Q_Learning': Q_table_Qlearning}\n",
    "    return(result)"
   ]
  },
  {
   "cell_type": "code",
   "execution_count": null,
   "metadata": {
    "collapsed": false
   },
   "outputs": [
    {
     "name": "stdout",
     "output_type": "stream",
     "text": [
      "0\n",
      "1\n"
     ]
    }
   ],
   "source": [
    "B_times = 10\n",
    "Bootstrap_Q_table = {'SARSA': np.zeros((2002,25,B_times)),\n",
    "                    'Q_Learning': np.zeros((2002,25,B_times))}\n",
    "\n",
    "for i in range(B_times):\n",
    "    print i\n",
    "    # choose bootstrap samples\n",
    "    to_choose = np.random.choice(Episodes.keys(), size = int(0.8*len(Episodes)), replace=False)\n",
    "    newdata = {x:Episodes[x] for x in to_choose}\n",
    "    \n",
    "    tables = get_Q_table(newdata)\n",
    "    Bootstrap_Q_table['SARSA'][:,:,i] = tables['SARSA']\n",
    "    Bootstrap_Q_table['Q_Learning'][:,:,i] = tables['Q_Learning']\n",
    "    "
   ]
  },
  {
   "cell_type": "code",
   "execution_count": null,
   "metadata": {
    "collapsed": false
   },
   "outputs": [],
   "source": [
    "np.std(Bootstrap_Q_table['SARSA'], axis = (2))\n",
    "np.mean(Bootstrap_Q_table['SARSA'], axis = (2))"
   ]
  },
  {
   "cell_type": "code",
   "execution_count": null,
   "metadata": {
    "collapsed": true
   },
   "outputs": [],
   "source": []
  }
 ],
 "metadata": {
  "anaconda-cloud": {},
  "kernelspec": {
   "display_name": "Python [Root]",
   "language": "python",
   "name": "Python [Root]"
  },
  "language_info": {
   "codemirror_mode": {
    "name": "ipython",
    "version": 2
   },
   "file_extension": ".py",
   "mimetype": "text/x-python",
   "name": "python",
   "nbconvert_exporter": "python",
   "pygments_lexer": "ipython2",
   "version": "2.7.12"
  }
 },
 "nbformat": 4,
 "nbformat_minor": 0
}
