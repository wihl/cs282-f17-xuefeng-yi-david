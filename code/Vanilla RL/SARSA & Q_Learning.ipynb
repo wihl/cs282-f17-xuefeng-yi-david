{
 "cells": [
  {
   "cell_type": "code",
   "execution_count": 1,
   "metadata": {
    "collapsed": true
   },
   "outputs": [],
   "source": [
    "import pandas as pd\n",
    "import numpy as np\n",
    "import copy\n",
    "import matplotlib.pyplot as plt\n",
    "from sklearn.cluster import KMeans\n",
    "from discretize_sepsis_actions import discretize_actions\n",
    "import pickle\n",
    "%matplotlib inline  "
   ]
  },
  {
   "cell_type": "markdown",
   "metadata": {},
   "source": [
    "# Preparation"
   ]
  },
  {
   "cell_type": "code",
   "execution_count": 61,
   "metadata": {
    "collapsed": true
   },
   "outputs": [],
   "source": [
    "# load data\n",
    "data = pd.read_csv(\"/Users/dilys/Desktop/Harvard_1718_Fall/CS282/Homework/HW3/P2/Sepsis_imp.csv\")\n",
    "states = np.loadtxt(\"/Users/dilys/Desktop/Harvard_1718_Fall/CS282/Homework/HW3/P2/states_list.csv\")"
   ]
  },
  {
   "cell_type": "code",
   "execution_count": 3,
   "metadata": {
    "collapsed": true
   },
   "outputs": [],
   "source": [
    "# Discretize action\n",
    "actions, \\\n",
    "input_4hourly__conversion_from_binned_to_continuous, \\\n",
    "median_dose_vaso__conversion_from_binned_to_continuous \\\n",
    "= discretize_actions(data['input_4hourly_tev'], data['median_dose_vaso'], bins_num = 5)\n",
    "vaso = np.array(list(median_dose_vaso__conversion_from_binned_to_continuous) * 5)\n",
    "fluid = np.repeat(input_4hourly__conversion_from_binned_to_continuous, 5)"
   ]
  },
  {
   "cell_type": "code",
   "execution_count": 4,
   "metadata": {
    "collapsed": true
   },
   "outputs": [],
   "source": [
    "icustayid = data['icustayid']\n",
    "death = data['died_in_hosp']\n",
    "rewards = np.zeros((data.shape[0])); rewards.fill(-1)\n",
    "d = {'id': icustayid.astype('int'),\\\n",
    "     's':states.astype('int'),\\\n",
    "     'a': actions.astype('int'),\\\n",
    "     'r': rewards.astype('int'),\n",
    "     'd': death.astype('int')\n",
    "}\n",
    "subdata = pd.DataFrame(d, columns = ['id','s','a','r','d'])\n",
    "patients  = icustayid.unique()"
   ]
  },
  {
   "cell_type": "code",
   "execution_count": 5,
   "metadata": {
    "collapsed": false
   },
   "outputs": [
    {
     "name": "stdout",
     "output_type": "stream",
     "text": [
      "0.0518806744488\n",
      "0.103761348898\n",
      "0.155642023346\n",
      "0.207522697795\n",
      "0.259403372244\n",
      "0.311284046693\n",
      "0.363164721141\n",
      "0.41504539559\n",
      "0.466926070039\n",
      "0.518806744488\n",
      "0.570687418936\n",
      "0.622568093385\n",
      "0.674448767834\n",
      "0.726329442283\n",
      "0.778210116732\n",
      "0.83009079118\n",
      "0.881971465629\n",
      "0.933852140078\n"
     ]
    }
   ],
   "source": [
    "Episodes= {}\n",
    "j = 0\n",
    "for i in patients:\n",
    "    temp = subdata[subdata['id'] == i]\n",
    "    T = len(temp)\n",
    "    history = np.zeros((T, 5))\n",
    "    \n",
    "    s1 = temp['s'].iloc[T-1]\n",
    "    a = temp['a'].iloc[T-1]\n",
    "    if temp['d'].iloc[-1] == 0:\n",
    "        s2 = 2000\n",
    "        r = 50\n",
    "    else:\n",
    "        s2 = 2001\n",
    "        r = -50\n",
    "    history[T-1] = np.array([T-1, s1, a, s2, r])\n",
    "    \n",
    "    if T ==1:\n",
    "        continue\n",
    "    \n",
    "    for t in range(T - 1 ):\n",
    "        s1 = temp['s'].iloc[t]\n",
    "        a = temp['a'].iloc[t]\n",
    "        s2 = temp['s'].iloc[t + 1]\n",
    "        r = temp['r'].iloc[t]\n",
    "        \n",
    "        history[t] = np.array([t, s1, a, s2, r])\n",
    "        \n",
    "    Episodes[j] = pd.DataFrame(history, columns = ['T','S1','A','S2','R'])\n",
    "    j = j+ 1\n",
    "    if j%1000 == 0:\n",
    "        print j*1.0/len(patients)"
   ]
  },
  {
   "cell_type": "code",
   "execution_count": 7,
   "metadata": {
    "collapsed": true
   },
   "outputs": [],
   "source": [
    "pickle.dump(Episodes, open('Episodes.pkl', 'wb'))"
   ]
  },
  {
   "cell_type": "markdown",
   "metadata": {},
   "source": [
    "# Functions for SARSA and Q_Learning"
   ]
  },
  {
   "cell_type": "code",
   "execution_count": 32,
   "metadata": {
    "collapsed": false
   },
   "outputs": [],
   "source": [
    "# Update the Q table \n",
    "def update_Q_SARSA( Q_table, state, action, reward, new_state, new_action, gamma = 0.95, alpha = 0.1):\n",
    "    # FILL THIS IN \n",
    "    state = int(state); action = int(action); new_state = int(new_state); new_action = int(new_action)\n",
    "    Q_table[state,action] = Q_table[state,action] + alpha * ((reward + gamma * Q_table[new_state,new_action]) - Q_table[state,action])\n",
    "\n",
    "    return Q_table \n",
    "\n",
    "# Update the Q table \n",
    "def update_Q_Qlearning( Q_table, state, action, reward, new_state, new_action, gamma = 0.95, alpha = 0.1):\n",
    "    # FILL THIS IN \n",
    "    state = int(state); action = int(action); new_state = int(new_state); new_action = int(new_action)\n",
    "    max_action = np.argmax( Q_table[new_state , : ] )\n",
    "    Q_table[state,action] = Q_table[state,action] + alpha * ((reward + gamma * Q_table[new_state,max_action]) - Q_table[state,action])\n",
    "\n",
    "    return Q_table \n"
   ]
  },
  {
   "cell_type": "code",
   "execution_count": 53,
   "metadata": {
    "collapsed": false
   },
   "outputs": [],
   "source": [
    "# Functions for geting the optimal policy\n",
    "def get_Optimal_Policy(Q_table):\n",
    "    optimal_policy = np.zeros(Q_table.shape)\n",
    "    for i in range(len(Q_table)):\n",
    "        optimal_policy[i, np.argmax(Q_table[i,])] = 1\n",
    "    return optimal_policy"
   ]
  },
  {
   "cell_type": "markdown",
   "metadata": {},
   "source": [
    "# SARSA and Q_Learning"
   ]
  },
  {
   "cell_type": "code",
   "execution_count": 18,
   "metadata": {
    "collapsed": false
   },
   "outputs": [],
   "source": [
    "Episodes = pickle.load(open('Episodes.pkl', 'rb'))"
   ]
  },
  {
   "cell_type": "code",
   "execution_count": 40,
   "metadata": {
    "collapsed": false
   },
   "outputs": [
    {
     "name": "stdout",
     "output_type": "stream",
     "text": [
      "0.01% finished\n",
      "5.29% finished\n",
      "10.58% finished\n",
      "15.87% finished\n",
      "21.15% finished\n",
      "26.44% finished\n",
      "31.73% finished\n",
      "37.01% finished\n",
      "42.3% finished\n",
      "47.59% finished\n",
      "52.88% finished\n",
      "58.16% finished\n",
      "63.45% finished\n",
      "68.74% finished\n",
      "74.02% finished\n",
      "79.31% finished\n",
      "84.6% finished\n",
      "89.89% finished\n",
      "95.17% finished\n",
      "100% finished\n"
     ]
    }
   ],
   "source": [
    "Q_table_SARSA = np.zeros((2002, 25))\n",
    "Q_table_Qlearning = np.zeros((2002, 25))\n",
    "\n",
    "count = 0\n",
    "for epi in Episodes.keys():\n",
    "    count = count + 1\n",
    "    if (count%1000 == 1):\n",
    "        print '{}% finished'.format(round(100.0*count/len(Episodes),2))\n",
    "    \n",
    "    data = Episodes[epi]\n",
    "    for t in range(len(data)):\n",
    "        state = data.ix[t,'S1']\n",
    "        action = data.ix[t, 'A']\n",
    "        reward = data.ix[t, 'R']\n",
    "        new_state = data.ix[t, 'S2']\n",
    "        \n",
    "        if t < len(data) -1:\n",
    "            new_action = data.ix[t+1, 'A']\n",
    "        else:\n",
    "            new_action = np.random.choice(25)\n",
    "        \n",
    "        Q_table_SARSA = update_Q_SARSA( Q_table_SARSA, state, action, reward, new_state, new_action)\n",
    "        Q_table_Qlearning = update_Q_Qlearning( Q_table_Qlearning, state, action, reward, new_state, new_action)\n",
    "print '100% finished'"
   ]
  },
  {
   "cell_type": "code",
   "execution_count": 54,
   "metadata": {
    "collapsed": false
   },
   "outputs": [],
   "source": [
    "optimal_policy_SARSA = get_Optimal_Policy(Q_table_SARSA)\n",
    "optimal_policy_Qlearning = get_Optimal_Policy(Q_table_Qlearning)"
   ]
  },
  {
   "cell_type": "code",
   "execution_count": 67,
   "metadata": {
    "collapsed": true
   },
   "outputs": [],
   "source": [
    "def Compute_Deviation(policy):\n",
    "    policy_vaso = np.sum(policy*vaso, axis = 1)[states.astype('int')]\n",
    "    policy_fluid = np.sum(policy*fluid, axis = 1)[states.astype('int')]\n",
    "    temp = {'icustayid':icustayid,\n",
    "        'death': death,\n",
    "        'vaso': data['median_dose_vaso'].values,\n",
    "        'fluid': data['input_4hourly_tev'].values,\n",
    "        'action': actions,\n",
    "        'policy_vaso': policy_vaso,\n",
    "        'policy_fluid': policy_fluid,\n",
    "        'vaso_dev': policy_vaso - data['median_dose_vaso'].values,\n",
    "        'fluid_dev': policy_fluid - data['input_4hourly_tev'].values    \n",
    "        }\n",
    "    temp = pd.DataFrame(temp, columns = ['icustayid', 'death', 'vaso', \\\n",
    "                                     'fluid', 'action', 'policy_vaso',\\\n",
    "                                    'policy_fluid', 'vaso_dev', 'fluid_dev'])\n",
    "    vaso_dev_mean = temp.groupby(by=\"icustayid\")['vaso_dev'].mean().values\n",
    "    fluid_dev_mean = temp.groupby(by=\"icustayid\")['fluid_dev'].mean().values\n",
    "    outcome = temp.groupby(by=\"icustayid\")['death'].mean().values\n",
    "    result = {'vaso_dev':temp['vaso_dev'],\n",
    "              'vaso_dev_mean':vaso_dev_mean, \n",
    "              'fluid_dev':temp['fluid_dev'], \n",
    "              'fluid_dev_mean': fluid_dev_mean\n",
    "    }\n",
    "    \n",
    "    return result"
   ]
  },
  {
   "cell_type": "code",
   "execution_count": 68,
   "metadata": {
    "collapsed": false
   },
   "outputs": [],
   "source": [
    "SARSA = Compute_Deviation(optimal_policy_SARSA)\n",
    "Q_Learning = Compute_Deviation(optimal_policy_Qlearning)"
   ]
  },
  {
   "cell_type": "code",
   "execution_count": 74,
   "metadata": {
    "collapsed": false
   },
   "outputs": [],
   "source": [
    "def get_bins(devs, death, var):\n",
    "    d_bins = {'vaso': np.linspace(-5,3,59),\n",
    "              'fluid':range(-10000,1000,200)  \n",
    "    }\n",
    "    \n",
    "    bins = d_bins[var]\n",
    "    temp_dead = devs[death == 1]\n",
    "    temp_surv = devs[death == 0]\n",
    "    \n",
    "    a, _ = np.histogram(temp_dead, bins)\n",
    "    b, _ = np.histogram(temp_surv, bins)\n",
    "    \n",
    "    m = a*1.0/(a+b) \n",
    "    midpoint = [(bins[i] + bins[i+1])/2 for i in range(len(bins)-1)]\n",
    "    \n",
    "    result = {'mortality': m,\n",
    "              'dev': midpoint   \n",
    "    }\n",
    "  \n",
    "\n",
    "    return result"
   ]
  },
  {
   "cell_type": "code",
   "execution_count": 80,
   "metadata": {
    "collapsed": false
   },
   "outputs": [
    {
     "data": {
      "text/plain": [
       "<matplotlib.legend.Legend at 0x1177b0610>"
      ]
     },
     "execution_count": 80,
     "metadata": {},
     "output_type": "execute_result"
    },
    {
     "data": {
      "image/png": "[encoded data removed]",
      "text/plain": [
       "<matplotlib.figure.Figure at 0x119c8c810>"
      ]
     },
     "metadata": {},
     "output_type": "display_data"
    }
   ],
   "source": [
    "Draw_SARSA = get_bins(SARSA['vaso_dev'], death, 'vaso')\n",
    "Draw_Qlearning = get_bins(Q_Learning['vaso_dev'], death, 'vaso')\n",
    "plt.plot(Draw_SARSA['dev'], Draw_SARSA['mortality'], label = 'SARSA')\n",
    "plt.plot(Draw_Qlearning['dev'], Draw_Qlearning['mortality'], label = 'Q_Learning')\n",
    "plt.legend()"
   ]
  },
  {
   "cell_type": "code",
   "execution_count": 81,
   "metadata": {
    "collapsed": false,
    "scrolled": true
   },
   "outputs": [
    {
     "data": {
      "text/plain": [
       "<matplotlib.legend.Legend at 0x132dd7110>"
      ]
     },
     "execution_count": 81,
     "metadata": {},
     "output_type": "execute_result"
    },
    {
     "data": {
      "image/png": "[encoded data removed]",
      "text/plain": [
       "<matplotlib.figure.Figure at 0x11a0e24d0>"
      ]
     },
     "metadata": {},
     "output_type": "display_data"
    }
   ],
   "source": [
    "Draw_SARSA = get_bins(SARSA['fluid_dev'], death, 'fluid')\n",
    "Draw_Qlearning = get_bins(Q_Learning['fluid_dev'], death, 'fluid')\n",
    "plt.plot(Draw_SARSA['dev'], Draw_SARSA['mortality'], label = 'SARSA')\n",
    "plt.plot(Draw_Qlearning['dev'], Draw_Qlearning['mortality'], label = 'Q_Learning')\n",
    "plt.legend()"
   ]
  },
  {
   "cell_type": "markdown",
   "metadata": {},
   "source": [
    "# Bootstrap Confidence Interval"
   ]
  },
  {
   "cell_type": "code",
   "execution_count": 105,
   "metadata": {
    "collapsed": true
   },
   "outputs": [],
   "source": [
    "def get_Q_table(Episodes):\n",
    "    # Episodes is a dictionary\n",
    "    # element in Episode is a dataframe, with t, S1, A, R, S2\n",
    "    Q_table_SARSA = np.zeros((2002, 25))\n",
    "    Q_table_Qlearning = np.zeros((2002, 25))\n",
    "\n",
    "    for epi in Episodes.keys():\n",
    "        data = Episodes[epi]\n",
    "        for t in range(len(data)):\n",
    "            state = data.ix[t,'S1']\n",
    "            action = data.ix[t, 'A']\n",
    "            reward = data.ix[t, 'R']\n",
    "            new_state = data.ix[t, 'S2']\n",
    "\n",
    "            if t < len(data) -1:\n",
    "                new_action = data.ix[t+1, 'A']\n",
    "            else:\n",
    "                new_action = np.random.choice(25)\n",
    "\n",
    "            Q_table_SARSA = update_Q_SARSA( Q_table_SARSA, state, action, reward, new_state, new_action)\n",
    "            Q_table_Qlearning = update_Q_Qlearning( Q_table_Qlearning, state, action, reward, new_state, new_action)\n",
    "    result = {'SARSA': Q_table_SARSA,\n",
    "             'Q_Learning': Q_table_Qlearning}\n",
    "    return(result)"
   ]
  },
  {
   "cell_type": "code",
   "execution_count": 106,
   "metadata": {
    "collapsed": false
   },
   "outputs": [
    {
     "name": "stdout",
     "output_type": "stream",
     "text": [
      "0\n",
      "1\n",
      "2\n",
      "3\n",
      "4\n",
      "5\n",
      "6\n",
      "7\n",
      "8\n",
      "9\n",
      "10\n",
      "11\n",
      "12\n",
      "13\n",
      "14\n",
      "15\n",
      "16\n",
      "17\n",
      "18\n",
      "19\n",
      "20\n",
      "21\n",
      "22\n",
      "23\n",
      "24\n",
      "25\n",
      "26\n",
      "27\n",
      "28\n",
      "29\n",
      "30\n",
      "31\n",
      "32\n",
      "33\n",
      "34\n",
      "35\n",
      "36\n",
      "37\n",
      "38\n",
      "39\n",
      "40\n",
      "41\n",
      "42\n",
      "43\n",
      "44\n",
      "45\n",
      "46\n",
      "47\n",
      "48\n",
      "49\n",
      "50\n",
      "51\n",
      "52\n",
      "53\n",
      "54\n",
      "55\n",
      "56\n",
      "57\n",
      "58\n",
      "59\n",
      "60\n",
      "61\n",
      "62\n",
      "63\n",
      "64\n",
      "65\n",
      "66\n",
      "67\n",
      "68\n",
      "69\n",
      "70\n",
      "71\n",
      "72\n",
      "73\n",
      "74\n",
      "75\n",
      "76\n",
      "77\n",
      "78\n",
      "79\n",
      "80\n",
      "81\n",
      "82\n",
      "83\n",
      "84\n",
      "85\n",
      "86\n",
      "87\n",
      "88\n",
      "89\n",
      "90\n",
      "91\n",
      "92\n",
      "93\n",
      "94\n",
      "95\n",
      "96\n",
      "97\n",
      "98\n",
      "99\n"
     ]
    }
   ],
   "source": [
    "B_times = 100\n",
    "Bootstrap_Q_table = {'SARSA': np.zeros((2002,25,B_times)),\n",
    "                    'Q_Learning': np.zeros((2002,25,B_times))}\n",
    "\n",
    "for i in range(B_times):\n",
    "    print i\n",
    "    # choose bootstrap samples\n",
    "    to_choose = np.random.choice(Episodes.keys(), size = int(0.8*len(Episodes)), replace=False)\n",
    "    newdata = {x:Episodes[x] for x in to_choose}\n",
    "    \n",
    "    tables = get_Q_table(newdata)\n",
    "    Bootstrap_Q_table['SARSA'][:,:,i] = tables['SARSA']\n",
    "    Bootstrap_Q_table['Q_Learning'][:,:,i] = tables['Q_Learning']\n",
    "    "
   ]
  },
  {
   "cell_type": "code",
   "execution_count": null,
   "metadata": {
    "collapsed": false
   },
   "outputs": [],
   "source": [
    "np.var(Bootstrap_Q_table['SARSA'], axis = (2))"
   ]
  },
  {
   "cell_type": "code",
   "execution_count": null,
   "metadata": {
    "collapsed": true
   },
   "outputs": [],
   "source": []
  }
 ],
 "metadata": {
  "anaconda-cloud": {},
  "kernelspec": {
   "display_name": "Python [Root]",
   "language": "python",
   "name": "Python [Root]"
  },
  "language_info": {
   "codemirror_mode": {
    "name": "ipython",
    "version": 2
   },
   "file_extension": ".py",
   "mimetype": "text/x-python",
   "name": "python",
   "nbconvert_exporter": "python",
   "pygments_lexer": "ipython2",
   "version": "2.7.12"
  }
 },
 "nbformat": 4,
 "nbformat_minor": 0
}
