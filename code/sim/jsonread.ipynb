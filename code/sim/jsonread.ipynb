{
 "cells": [
  {
   "cell_type": "code",
   "execution_count": 7,
   "metadata": {},
   "outputs": [
    {
     "name": "stdout",
     "output_type": "stream",
     "text": [
      "{'Sepsis-ICU': {'variables': {'age': {'max': '85',\n",
      "                                      'min': 13,\n",
      "                                      'type': 'integer'},\n",
      "                              'charttime': {'start': 4570416000,\n",
      "                                            'step': 14400,\n",
      "                                            'type': 'sequence'},\n",
      "                              'gender': {'type': 'categorical',\n",
      "                                         'values': [0, 1]}}}}\n"
     ]
    }
   ],
   "source": [
    "import json\n",
    "from pprint import pprint\n",
    "\n",
    "with open('config.json') as data_file:    \n",
    "    data = json.load(data_file)\n",
    "\n",
    "pprint(data)"
   ]
  },
  {
   "cell_type": "code",
   "execution_count": 8,
   "metadata": {},
   "outputs": [
    {
     "name": "stdout",
     "output_type": "stream",
     "text": [
      "gender {'type': 'categorical', 'values': [0, 1]}\n",
      "charttime {'type': 'sequence', 'start': 4570416000, 'step': 14400}\n",
      "age {'type': 'integer', 'min': 13, 'max': '85'}\n"
     ]
    }
   ],
   "source": [
    "for var in data['Sepsis-ICU']['variables']:\n",
    "    print (var, data['Sepsis-ICU']['variables'][var])"
   ]
  },
  {
   "cell_type": "code",
   "execution_count": 3,
   "metadata": {},
   "outputs": [],
   "source": [
    "data[]"
   ]
  },
  {
   "cell_type": "code",
   "execution_count": 4,
   "metadata": {},
   "outputs": [],
   "source": [
    "var['foo'] = \"moose\""
   ]
  },
  {
   "cell_type": "code",
   "execution_count": 6,
   "metadata": {},
   "outputs": [
    {
     "name": "stdout",
     "output_type": "stream",
     "text": [
      "there\n"
     ]
    }
   ],
   "source": [
    "if 'foo' in var:\n",
    "    print (\"there\")\n",
    "else:\n",
    "    print (\"not there\")"
   ]
  },
  {
   "cell_type": "code",
   "execution_count": null,
   "metadata": {
    "collapsed": true
   },
   "outputs": [],
   "source": []
  }
 ],
 "metadata": {
  "kernelspec": {
   "display_name": "Python 3",
   "language": "python",
   "name": "python3"
  },
  "language_info": {
   "codemirror_mode": {
    "name": "ipython",
    "version": 3
   },
   "file_extension": ".py",
   "mimetype": "text/x-python",
   "name": "python",
   "nbconvert_exporter": "python",
   "pygments_lexer": "ipython3",
   "version": "3.6.1"
  }
 },
 "nbformat": 4,
 "nbformat_minor": 2
}
