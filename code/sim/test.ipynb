{
 "cells": [
  {
   "cell_type": "code",
   "execution_count": null,
   "metadata": {
    "collapsed": true
   },
   "outputs": [],
   "source": [
    "from __future__ import print_function\n",
    "from ipywidgets import interact, interactive, fixed, interact_manual\n",
    "import ipywidgets as widgets\n",
    "import icu as icu\n",
    "import pandas as pd\n",
    "import numpy as np\n",
    "\n",
    "num_patients = 10\n",
    "DEF_EPISODES = 10\n"
   ]
  },
  {
   "cell_type": "code",
   "execution_count": null,
   "metadata": {},
   "outputs": [],
   "source": [
    "def f(x):\n",
    "    global num_patients\n",
    "    num_patients = x\n",
    "    \n",
    "interact(f,x=widgets.IntSlider(min=10,max=100000,step=100,value=10))"
   ]
  },
  {
   "cell_type": "code",
   "execution_count": null,
   "metadata": {
    "collapsed": true
   },
   "outputs": [],
   "source": [
    "patients = icu.icusim(num_patients)"
   ]
  },
  {
   "cell_type": "code",
   "execution_count": null,
   "metadata": {},
   "outputs": [],
   "source": [
    "patients.indexes"
   ]
  },
  {
   "cell_type": "code",
   "execution_count": null,
   "metadata": {},
   "outputs": [],
   "source": [
    "patients.df"
   ]
  },
  {
   "cell_type": "code",
   "execution_count": null,
   "metadata": {},
   "outputs": [],
   "source": [
    "len(patients.columns)"
   ]
  },
  {
   "cell_type": "code",
   "execution_count": null,
   "metadata": {
    "collapsed": true
   },
   "outputs": [],
   "source": [
    "df = pd.DataFrame(np.random.randn(1,len(patients.columns)),index=patients.indexes, columns=patients.columns)"
   ]
  },
  {
   "cell_type": "code",
   "execution_count": null,
   "metadata": {},
   "outputs": [],
   "source": [
    "df\n"
   ]
  },
  {
   "cell_type": "code",
   "execution_count": null,
   "metadata": {
    "collapsed": true
   },
   "outputs": [],
   "source": [
    "df2 = pd.DataFrame(np.random.randn(num_patients,len(patients.columns)), columns=patients.columns)"
   ]
  },
  {
   "cell_type": "code",
   "execution_count": null,
   "metadata": {
    "collapsed": true
   },
   "outputs": [],
   "source": [
    "df2.index.names = patients.indexes\n"
   ]
  },
  {
   "cell_type": "code",
   "execution_count": null,
   "metadata": {},
   "outputs": [],
   "source": [
    "df2\n"
   ]
  },
  {
   "cell_type": "code",
   "execution_count": null,
   "metadata": {
    "collapsed": true
   },
   "outputs": [],
   "source": [
    "df3 =  pd.DataFrame(columns=patients.columns)"
   ]
  },
  {
   "cell_type": "code",
   "execution_count": null,
   "metadata": {
    "collapsed": true
   },
   "outputs": [],
   "source": [
    "x = df3['bloc'].max()\n",
    "x += 1"
   ]
  },
  {
   "cell_type": "code",
   "execution_count": null,
   "metadata": {},
   "outputs": [],
   "source": [
    "x == np.nan"
   ]
  },
  {
   "cell_type": "code",
   "execution_count": null,
   "metadata": {},
   "outputs": [],
   "source": [
    "x"
   ]
  },
  {
   "cell_type": "code",
   "execution_count": null,
   "metadata": {},
   "outputs": [],
   "source": [
    "np.isnan(x)"
   ]
  },
  {
   "cell_type": "code",
   "execution_count": null,
   "metadata": {},
   "outputs": [],
   "source": [
    "np.random.randint(2,20)"
   ]
  },
  {
   "cell_type": "code",
   "execution_count": null,
   "metadata": {
    "collapsed": true
   },
   "outputs": [],
   "source": [
    "arr = []"
   ]
  },
  {
   "cell_type": "code",
   "execution_count": null,
   "metadata": {
    "collapsed": true
   },
   "outputs": [],
   "source": [
    "arr.append([1,2,3])"
   ]
  },
  {
   "cell_type": "code",
   "execution_count": null,
   "metadata": {
    "collapsed": true
   },
   "outputs": [],
   "source": [
    "bloc = 1\n",
    "custid =2"
   ]
  },
  {
   "cell_type": "code",
   "execution_count": null,
   "metadata": {
    "collapsed": true
   },
   "outputs": [],
   "source": [
    "arr.append([bloc,custid,np.random.randn(1,len(patients.columns)-2)])"
   ]
  },
  {
   "cell_type": "code",
   "execution_count": null,
   "metadata": {
    "collapsed": true
   },
   "outputs": [],
   "source": [
    "values = np.random.randn(1,len(patients.columns)-2)\n",
    "values = np.insert(values, 0, bloc,axis=1)\n",
    "values = np.insert(values, 1, custid, axis=1)"
   ]
  },
  {
   "cell_type": "code",
   "execution_count": null,
   "metadata": {},
   "outputs": [],
   "source": [
    "len(values[0])"
   ]
  },
  {
   "cell_type": "code",
   "execution_count": null,
   "metadata": {
    "collapsed": true
   },
   "outputs": [],
   "source": [
    "v = np.array([bloc,custid])\n",
    "v = np.append(v,np.random.randn(1,len(patients.columns)-2))"
   ]
  },
  {
   "cell_type": "code",
   "execution_count": null,
   "metadata": {},
   "outputs": [],
   "source": [
    "v"
   ]
  },
  {
   "cell_type": "code",
   "execution_count": null,
   "metadata": {},
   "outputs": [],
   "source": [
    "len(v)"
   ]
  },
  {
   "cell_type": "code",
   "execution_count": null,
   "metadata": {
    "collapsed": true
   },
   "outputs": [],
   "source": [
    "df3.loc[custid*100+bloc] = v"
   ]
  },
  {
   "cell_type": "code",
   "execution_count": null,
   "metadata": {},
   "outputs": [],
   "source": [
    "df3"
   ]
  },
  {
   "cell_type": "code",
   "execution_count": null,
   "metadata": {
    "collapsed": true
   },
   "outputs": [],
   "source": [
    "n = 16\n",
    "gender = np.random.choice([0,1])\n",
    "values = {'bloc':list(range(n)), 'custid':[custid]*n, 'gender':[gender]*n}"
   ]
  },
  {
   "cell_type": "code",
   "execution_count": null,
   "metadata": {},
   "outputs": [],
   "source": [
    "values"
   ]
  },
  {
   "cell_type": "code",
   "execution_count": null,
   "metadata": {
    "collapsed": true
   },
   "outputs": [],
   "source": [
    "from_dict = pd.DataFrame(values)\n",
    "df4 = pd.concat([df3, from_dict]) #default axis = 0\n"
   ]
  },
  {
   "cell_type": "code",
   "execution_count": null,
   "metadata": {},
   "outputs": [],
   "source": [
    "df4['SOFA']"
   ]
  },
  {
   "cell_type": "code",
   "execution_count": null,
   "metadata": {
    "collapsed": true
   },
   "outputs": [],
   "source": [
    "values['SOFA'] = [12] * n\n",
    "values['charttime'] = list(range(4570416000,4570416000 + (n *14400), 14400))\n"
   ]
  },
  {
   "cell_type": "code",
   "execution_count": null,
   "metadata": {},
   "outputs": [],
   "source": [
    "values"
   ]
  },
  {
   "cell_type": "code",
   "execution_count": null,
   "metadata": {},
   "outputs": [],
   "source": [
    "def is_permutation(n,L):\n",
    "    if len(L) != n:\n",
    "        return False\n",
    "    if len(set(L)) != n:\n",
    "        return False\n",
    "    for i in range(1,n+1):\n",
    "        if not i in L:\n",
    "            return False\n",
    "    return True\n",
    "\n",
    "\n",
    "\n",
    "print (is_permutation(4,[1,2,3,4]), \"t\")\n",
    "print (is_permutation(4,[2,3,1,4]), \"t\")\n",
    "print (is_permutation(4,[1,2,3,4,5]), \"f\")\n",
    "print (is_permutation(4,[1,2,2,3,4]), \"f\")\n",
    "print (is_permutation(4,[2,2,3,4]), \"f\")"
   ]
  },
  {
   "cell_type": "code",
   "execution_count": 21,
   "metadata": {},
   "outputs": [],
   "source": [
    "import sys\n",
    "sys.path.append('../utils')\n",
    "sys.path.append('../DQN')\n",
    "\n",
    "import PatientRecordProcessor as pr\n",
    "import DQN as dqn\n",
    "import numpy as np\n",
    "import tensorflow as tf\n",
    "import pandas as pd\n",
    "\n",
    "    "
   ]
  },
  {
   "cell_type": "code",
   "execution_count": 2,
   "metadata": {},
   "outputs": [
    {
     "name": "stdout",
     "output_type": "stream",
     "text": [
      "loading dataset ...\n",
      "loading clustered states ...\n",
      "discretizing actions ...\n",
      "initialization succeed\n"
     ]
    }
   ],
   "source": [
    "prefix = '../../data/'\n",
    "prp = pr.PatientRecordProcessor(prefix + 'Sepsis_imp.csv', prefix + 'states_list.pkl')\n"
   ]
  },
  {
   "cell_type": "code",
   "execution_count": 5,
   "metadata": {},
   "outputs": [],
   "source": [
    "histories = prp.build_training_history()"
   ]
  },
  {
   "cell_type": "code",
   "execution_count": 8,
   "metadata": {},
   "outputs": [],
   "source": [
    "tf.reset_default_graph()"
   ]
  },
  {
   "cell_type": "code",
   "execution_count": 12,
   "metadata": {},
   "outputs": [],
   "source": [
    "MEMORY_SIZE = 1280\n",
    "ACTION_SPACE = 25\n",
    "FEATURES = 51\n",
    "NUM_EPOCHES = 100\n",
    "\n",
    "## speicify output_path while tunning parameters\n",
    "with tf.variable_scope('dueling'):\n",
    "    dueling_DQN = dqn.DQN(\n",
    "        num_actions=ACTION_SPACE, num_features=FEATURES, mem_size=MEMORY_SIZE,\n",
    "        dueling=True, output_graph=True)"
   ]
  },
  {
   "cell_type": "code",
   "execution_count": 23,
   "metadata": {
    "collapsed": true
   },
   "outputs": [],
   "source": [
    "data = np.genfromtxt('../../data/Sepsis_imp.csv', dtype=float, delimiter=',', skip_header=1)\n",
    "        "
   ]
  },
  {
   "cell_type": "code",
   "execution_count": 24,
   "metadata": {},
   "outputs": [
    {
     "data": {
      "text/plain": [
       "array([[  1.00000000e+00,   3.00000000e+00,   7.24505280e+09, ...,\n",
       "          0.00000000e+00,   0.00000000e+00,   1.00000000e+00],\n",
       "       [  2.00000000e+00,   3.00000000e+00,   7.24506720e+09, ...,\n",
       "          0.00000000e+00,   0.00000000e+00,   1.00000000e+00],\n",
       "       [  3.00000000e+00,   3.00000000e+00,   7.24508160e+09, ...,\n",
       "          0.00000000e+00,   0.00000000e+00,   1.00000000e+00],\n",
       "       ..., \n",
       "       [  1.10000000e+01,   9.99950000e+04,   4.61291724e+09, ...,\n",
       "          0.00000000e+00,   0.00000000e+00,   0.00000000e+00],\n",
       "       [  1.20000000e+01,   9.99950000e+04,   4.61293164e+09, ...,\n",
       "          0.00000000e+00,   0.00000000e+00,   0.00000000e+00],\n",
       "       [  1.30000000e+01,   9.99950000e+04,   4.61294604e+09, ...,\n",
       "          0.00000000e+00,   0.00000000e+00,   0.00000000e+00]])"
      ]
     },
     "execution_count": 24,
     "metadata": {},
     "output_type": "execute_result"
    }
   ],
   "source": [
    "data"
   ]
  },
  {
   "cell_type": "code",
   "execution_count": 44,
   "metadata": {},
   "outputs": [],
   "source": [
    "df = pd.read_csv('../../data/Sepsis_imp.csv')"
   ]
  },
  {
   "cell_type": "code",
   "execution_count": 25,
   "metadata": {
    "collapsed": true
   },
   "outputs": [],
   "source": [
    "data2 = df.as_matrix()"
   ]
  },
  {
   "cell_type": "code",
   "execution_count": 26,
   "metadata": {},
   "outputs": [
    {
     "data": {
      "text/plain": [
       "array([[  1.00000000e+00,   3.00000000e+00,   7.24505280e+09, ...,\n",
       "          0.00000000e+00,   0.00000000e+00,   1.00000000e+00],\n",
       "       [  2.00000000e+00,   3.00000000e+00,   7.24506720e+09, ...,\n",
       "          0.00000000e+00,   0.00000000e+00,   1.00000000e+00],\n",
       "       [  3.00000000e+00,   3.00000000e+00,   7.24508160e+09, ...,\n",
       "          0.00000000e+00,   0.00000000e+00,   1.00000000e+00],\n",
       "       ..., \n",
       "       [  1.10000000e+01,   9.99950000e+04,   4.61291724e+09, ...,\n",
       "          0.00000000e+00,   0.00000000e+00,   0.00000000e+00],\n",
       "       [  1.20000000e+01,   9.99950000e+04,   4.61293164e+09, ...,\n",
       "          0.00000000e+00,   0.00000000e+00,   0.00000000e+00],\n",
       "       [  1.30000000e+01,   9.99950000e+04,   4.61294604e+09, ...,\n",
       "          0.00000000e+00,   0.00000000e+00,   0.00000000e+00]])"
      ]
     },
     "execution_count": 26,
     "metadata": {},
     "output_type": "execute_result"
    }
   ],
   "source": [
    "data2\n"
   ]
  },
  {
   "cell_type": "code",
   "execution_count": 35,
   "metadata": {},
   "outputs": [
    {
     "data": {
      "text/plain": [
       "True"
      ]
     },
     "execution_count": 35,
     "metadata": {},
     "output_type": "execute_result"
    }
   ],
   "source": [
    "np.allclose(data,data2)"
   ]
  },
  {
   "cell_type": "code",
   "execution_count": 28,
   "metadata": {},
   "outputs": [
    {
     "data": {
      "text/plain": [
       "(252204, 59)"
      ]
     },
     "execution_count": 28,
     "metadata": {},
     "output_type": "execute_result"
    }
   ],
   "source": [
    "data.shape"
   ]
  },
  {
   "cell_type": "code",
   "execution_count": 29,
   "metadata": {},
   "outputs": [
    {
     "data": {
      "text/plain": [
       "(252204, 59)"
      ]
     },
     "execution_count": 29,
     "metadata": {},
     "output_type": "execute_result"
    }
   ],
   "source": [
    "data2.shape"
   ]
  },
  {
   "cell_type": "code",
   "execution_count": 33,
   "metadata": {},
   "outputs": [
    {
     "data": {
      "text/plain": [
       "array([  1.30000000e+01,   9.99950000e+04,   4.61294604e+09,\n",
       "         0.00000000e+00,   8.53873934e+03,   0.00000000e+00,\n",
       "         0.00000000e+00,   0.00000000e+00,   2.00000000e+00,\n",
       "         7.96000000e+01,   1.50000000e+01,   7.56666667e+01,\n",
       "         1.39333333e+02,   8.90000000e+01,   7.63333333e+01,\n",
       "         5.43062201e-01,   2.00000000e+01,   9.73333333e+01,\n",
       "         3.65555573e+01,   2.10000000e-01,   3.80000000e+00,\n",
       "         1.42000000e+02,   1.04000000e+02,   8.50000000e+01,\n",
       "         6.00000000e+00,   8.00000000e-01,   2.00000000e+00,\n",
       "         9.30000019e+00,   1.12892857e+00,   2.70000000e+01,\n",
       "         4.20000000e+01,   3.17857143e+01,   7.00000000e-01,\n",
       "         4.00000000e+00,   1.49000000e+01,   1.33000000e+01,\n",
       "         2.34000000e+02,   3.12000000e+01,   1.42000000e+01,\n",
       "         1.29090909e+00,   7.39500000e+00,   1.10857143e+02,\n",
       "         4.04000000e+01,   0.00000000e+00,   1.61111111e+00,\n",
       "         2.70000000e+01,   5.27891156e+02,   0.00000000e+00,\n",
       "         0.00000000e+00,   2.11358300e+03,   0.00000000e+00,\n",
       "         6.30000000e+03,   5.20000000e+02,  -4.18641700e+03,\n",
       "         0.00000000e+00,   0.00000000e+00,   0.00000000e+00,\n",
       "         0.00000000e+00,   0.00000000e+00])"
      ]
     },
     "execution_count": 33,
     "metadata": {},
     "output_type": "execute_result"
    }
   ],
   "source": [
    "data[252203]"
   ]
  },
  {
   "cell_type": "code",
   "execution_count": 34,
   "metadata": {},
   "outputs": [
    {
     "data": {
      "text/plain": [
       "array([  1.30000000e+01,   9.99950000e+04,   4.61294604e+09,\n",
       "         0.00000000e+00,   8.53873934e+03,   0.00000000e+00,\n",
       "         0.00000000e+00,   0.00000000e+00,   2.00000000e+00,\n",
       "         7.96000000e+01,   1.50000000e+01,   7.56666667e+01,\n",
       "         1.39333333e+02,   8.90000000e+01,   7.63333333e+01,\n",
       "         5.43062201e-01,   2.00000000e+01,   9.73333333e+01,\n",
       "         3.65555573e+01,   2.10000000e-01,   3.80000000e+00,\n",
       "         1.42000000e+02,   1.04000000e+02,   8.50000000e+01,\n",
       "         6.00000000e+00,   8.00000000e-01,   2.00000000e+00,\n",
       "         9.30000019e+00,   1.12892857e+00,   2.70000000e+01,\n",
       "         4.20000000e+01,   3.17857143e+01,   7.00000000e-01,\n",
       "         4.00000000e+00,   1.49000000e+01,   1.33000000e+01,\n",
       "         2.34000000e+02,   3.12000000e+01,   1.42000000e+01,\n",
       "         1.29090909e+00,   7.39500000e+00,   1.10857143e+02,\n",
       "         4.04000000e+01,   0.00000000e+00,   1.61111111e+00,\n",
       "         2.70000000e+01,   5.27891156e+02,   0.00000000e+00,\n",
       "         0.00000000e+00,   2.11358300e+03,   0.00000000e+00,\n",
       "         6.30000000e+03,   5.20000000e+02,  -4.18641700e+03,\n",
       "         0.00000000e+00,   0.00000000e+00,   0.00000000e+00,\n",
       "         0.00000000e+00,   0.00000000e+00])"
      ]
     },
     "execution_count": 34,
     "metadata": {},
     "output_type": "execute_result"
    }
   ],
   "source": [
    "data2[252203]"
   ]
  },
  {
   "cell_type": "code",
   "execution_count": 38,
   "metadata": {
    "collapsed": true
   },
   "outputs": [],
   "source": [
    "class Foo2(object):\n",
    "    p = 2\n",
    "    \n",
    "    def retp(self):\n",
    "        return self.p\n",
    "    \n",
    "x = Foo2()\n"
   ]
  },
  {
   "cell_type": "code",
   "execution_count": 39,
   "metadata": {},
   "outputs": [
    {
     "data": {
      "text/plain": [
       "2"
      ]
     },
     "execution_count": 39,
     "metadata": {},
     "output_type": "execute_result"
    }
   ],
   "source": [
    "x.retp()"
   ]
  },
  {
   "cell_type": "code",
   "execution_count": 62,
   "metadata": {},
   "outputs": [
    {
     "name": "stdout",
     "output_type": "stream",
     "text": [
      "[   0.            0.            9.            4.           77.5          15.\n",
      "  122.14285714   95.14285714   64.42857143   58.            1.28378378\n",
      "   30.42857143   96.42857143   39.23809354    1.            3.1         140.\n",
      "  103.          110.           21.            0.9           1.2           7.5\n",
      "    1.05         18.           49.           65.            3.5           2.8\n",
      "   11.5          14.8         107.           32.9          22.9           2.3\n",
      "    7.36         88.           34.           -5.            5.1          23.\n",
      "   88.          230.          230.            0.            0.            0.        ]\n",
      "[   0.            0.            8.            3.           77.5          15.\n",
      "  113.18181818   91.54545455   66.45454545   59.81818182    1.23634558\n",
      "   32.18181818   93.63636364   37.59596044    1.            3.1         140.\n",
      "  103.          110.           21.            0.9           1.2           7.5\n",
      "    1.05         18.           49.           65.            3.5           2.8\n",
      "   11.5          14.8         107.           32.9          22.9           2.3\n",
      "    7.36         88.           34.           -5.            5.1          23.\n",
      "   88.          697.          467.            0.            0.            0.        ]\n",
      "[  0.00000000e+00   0.00000000e+00   7.00000000e+00   3.00000000e+00\n",
      "   7.75000000e+01   1.50000000e+01   1.07090909e+02   1.07454545e+02\n",
      "   7.87272727e+01   7.10000000e+01   9.96615905e-01   3.35454545e+01\n",
      "   9.65454545e+01   3.66919200e+01   1.00000000e+00   3.19090909e+00\n",
      "   1.40909091e+02   1.04818182e+02   1.54545455e+02   2.00909091e+01\n",
      "   9.90909091e-01   1.83636364e+00   7.68181818e+00   1.05000000e+00\n",
      "   2.04545455e+01   4.90000000e+01   6.22727273e+01   3.40909091e+00\n",
      "   2.80000000e+00   1.17766660e+01   3.78909091e+01   1.08818182e+02\n",
      "   3.21727273e+01   1.91727273e+01   1.84545455e+00   7.36545455e+00\n",
      "   8.96363636e+01   3.48181818e+01  -4.18181818e+00   4.82727273e+00\n",
      "   1.80000000e+01   8.96363636e+01   2.30200000e+03   1.60500000e+03\n",
      "   0.00000000e+00   0.00000000e+00   0.00000000e+00]\n",
      "[  0.00000000e+00   0.00000000e+00   6.00000000e+00   3.00000000e+00\n",
      "   7.75000000e+01   1.50000000e+01   9.82500000e+01   1.06750000e+02\n",
      "   7.82500000e+01   6.40000000e+01   9.20374707e-01   3.30000000e+01\n",
      "   9.57500000e+01   3.63888889e+01   9.24999997e-01   3.20000000e+00\n",
      "   1.41000000e+02   1.05000000e+02   1.61750000e+02   2.00000000e+01\n",
      "   1.00000000e+00   1.90000000e+00   7.70000000e+00   1.05000000e+00\n",
      "   2.30000000e+01   4.90000000e+01   6.20000000e+01   3.40000000e+00\n",
      "   2.80000000e+00   1.18043326e+01   4.02000000e+01   1.09000000e+02\n",
      "   3.21000000e+01   1.88000000e+01   1.80000000e+00   7.38000000e+00\n",
      "   9.40000000e+01   3.70000000e+01  -2.00000000e+00   4.10000000e+00\n",
      "   1.80000000e+01   1.01621622e+02   2.92200000e+03   6.20000000e+02\n",
      "   0.00000000e+00   0.00000000e+00   0.00000000e+00]\n",
      "[  0.00000000e+00   0.00000000e+00   5.00000000e+00   3.00000000e+00\n",
      "   7.75000000e+01   1.50000000e+01   9.34000000e+01   1.07800000e+02\n",
      "   7.92000000e+01   6.72000000e+01   8.66419295e-01   3.42000000e+01\n",
      "   9.56000000e+01   3.64555545e+01   5.00000000e-01   3.20000000e+00\n",
      "   1.41000000e+02   1.05000000e+02   1.70000000e+02   2.00000000e+01\n",
      "   1.00000000e+00   1.90000000e+00   7.70000000e+00   1.05000000e+00\n",
      "   2.38000000e+01   4.90000000e+01   6.20000000e+01   3.40000000e+00\n",
      "   2.80000000e+00   1.18043326e+01   4.02000000e+01   1.09000000e+02\n",
      "   3.21000000e+01   1.88000000e+01   1.80000000e+00   7.44400000e+00\n",
      "   1.05200000e+02   3.38000000e+01  -4.00000000e-01   3.50000000e+00\n",
      "   2.50000000e+01   2.10400000e+02   3.35200000e+03   4.30000000e+02\n",
      "   0.00000000e+00   0.00000000e+00   0.00000000e+00]\n",
      "[  0.00000000e+00   0.00000000e+00   8.00000000e+00   2.00000000e+00\n",
      "   7.75000000e+01   1.50000000e+01   8.96000000e+01   1.06800000e+02\n",
      "   7.68000000e+01   6.04000000e+01   8.38951311e-01   2.72000000e+01\n",
      "   9.44000000e+01   3.70333337e+01   5.00000000e-01   3.16000000e+00\n",
      "   1.42200000e+02   1.05800000e+02   1.38000000e+02   1.96000000e+01\n",
      "   8.80000000e-01   2.14000000e+00   7.94000008e+00   1.05000000e+00\n",
      "   2.44000000e+01   4.66000000e+01   5.64000000e+01   3.60000000e+00\n",
      "   2.80000000e+00   1.14025997e+01   4.16800000e+01   1.13000000e+02\n",
      "   3.09800000e+01   1.69600000e+01   1.60000000e+00   7.46000000e+00\n",
      "   1.08000000e+02   3.30000000e+01   0.00000000e+00   2.60000000e+00\n",
      "   2.50000000e+01   2.16000000e+02   3.43200000e+03   8.00000000e+01\n",
      "   0.00000000e+00   0.00000000e+00   0.00000000e+00]\n",
      "[  0.00000000e+00   0.00000000e+00   1.30000000e+01   1.00000000e+00\n",
      "   7.75000000e+01   8.33333333e+00   7.66000000e+01   1.11600000e+02\n",
      "   8.19333333e+01   6.32666667e+01   6.86379928e-01   1.79333333e+01\n",
      "   9.64000000e+01   3.73814805e+01   7.59999994e-01   3.10000000e+00\n",
      "   1.44000000e+02   1.07000000e+02   9.12666667e+01   1.90000000e+01\n",
      "   7.00000000e-01   2.50000000e+00   8.30000019e+00   1.05000000e+00\n",
      "   2.77333333e+01   4.30000000e+01   4.80000000e+01   3.90000000e+00\n",
      "   2.80000000e+00   1.08000002e+01   4.39000000e+01   1.19000000e+02\n",
      "   2.93000000e+01   1.42000000e+01   1.30000000e+00   7.41266667e+00\n",
      "   1.44600000e+02   4.20666667e+01   1.60000000e+00   2.60000000e+00\n",
      "   2.50000000e+01   1.90263159e+02   3.82700000e+03   3.95000000e+02\n",
      "   1.00000000e+00   1.00000000e+00   0.00000000e+00]\n",
      "[  0.00000000e+00   0.00000000e+00   1.10000000e+01   2.00000000e+00\n",
      "   7.75000000e+01   1.06666667e+01   9.15000000e+01   1.08000000e+02\n",
      "   7.70000000e+01   6.05833333e+01   8.47222222e-01   1.96666667e+01\n",
      "   9.75000000e+01   3.77916657e+01   4.50000003e-01   3.27500000e+00\n",
      "   1.44250000e+02   1.08000000e+02   1.04250000e+02   1.95000000e+01\n",
      "   7.00000000e-01   2.52500000e+00   8.22500014e+00   1.05666667e+00\n",
      "   2.68333333e+01   4.17500000e+01   4.72500000e+01   3.90000000e+00\n",
      "   2.72500000e+00   1.07000001e+01   4.16750000e+01   1.20000000e+02\n",
      "   2.87500000e+01   1.40500000e+01   1.27500000e+00   7.43333333e+00\n",
      "   1.21916667e+02   3.90000000e+01   1.00000000e+00   2.50833333e+00\n",
      "   2.50000000e+01   2.70925924e+02   3.98200000e+03   1.55000000e+02\n",
      "   1.00000000e+00   1.00000000e+00   0.00000000e+00]\n",
      "[  0.00000000e+00   0.00000000e+00   8.00000000e+00   2.00000000e+00\n",
      "   7.75000000e+01   9.40000000e+00   9.03000000e+01   9.70000000e+01\n",
      "   6.91000000e+01   5.69000000e+01   9.30927835e-01   1.77000000e+01\n",
      "   9.88000000e+01   3.77888887e+01   4.00000006e-01   3.80000000e+00\n",
      "   1.45000000e+02   1.11000000e+02   9.00000000e+01   2.10000000e+01\n",
      "   7.00000000e-01   2.60000000e+00   8.00000000e+00   1.13000000e+00\n",
      "   2.88000000e+01   3.80000000e+01   4.50000000e+01   3.90000000e+00\n",
      "   2.50000000e+00   1.04000000e+01   3.50000000e+01   1.23000000e+02\n",
      "   2.71000000e+01   1.36000000e+01   1.20000000e+00   7.45000000e+00\n",
      "   1.05000000e+02   3.97000000e+01   2.90000000e+00   1.50000000e+00\n",
      "   2.50000000e+01   2.62499996e+02   4.19700000e+03   2.15000000e+02\n",
      "   1.00000000e+00   1.00000000e+00   0.00000000e+00]\n",
      "[  0.00000000e+00   0.00000000e+00   1.10000000e+01   1.00000000e+00\n",
      "   7.75000000e+01   7.71428571e+00   7.32857143e+01   9.75714286e+01\n",
      "   7.14285714e+01   5.70000000e+01   7.51098097e-01   1.77142857e+01\n",
      "   9.78571429e+01   3.72619054e+01   4.00000006e-01   3.80000000e+00\n",
      "   1.45000000e+02   1.11000000e+02   1.00142857e+02   2.10000000e+01\n",
      "   7.00000000e-01   2.60000000e+00   8.00000000e+00   1.13000000e+00\n",
      "   2.70000000e+01   3.80000000e+01   4.50000000e+01   3.90000000e+00\n",
      "   2.50000000e+00   1.04000000e+01   3.50000000e+01   1.23000000e+02\n",
      "   2.71000000e+01   1.36000000e+01   1.20000000e+00   7.45000000e+00\n",
      "   1.50000000e+02   3.70000000e+01   2.00000000e+00   1.50000000e+00\n",
      "   2.50000000e+01   3.74999994e+02   4.39200000e+03   1.95000000e+02\n",
      "   1.00000000e+00   1.00000000e+00   0.00000000e+00]\n",
      "[  0.00000000e+00   0.00000000e+00   1.10000000e+01   1.00000000e+00\n",
      "   7.75000000e+01   8.00000000e+00   7.00000000e+01   1.03333333e+02\n",
      "   7.56666667e+01   6.00000000e+01   6.77419355e-01   1.56666667e+01\n",
      "   9.75000000e+01   3.72592587e+01   4.00000006e-01   3.66666667e+00\n",
      "   1.43000000e+02   1.09000000e+02   1.27666667e+02   2.10000000e+01\n",
      "   7.00000000e-01   2.66666667e+00   8.00000000e+00   1.13333333e+00\n",
      "   2.70000000e+01   3.80000000e+01   4.50000000e+01   3.90000000e+00\n",
      "   2.50000000e+00   1.04000000e+01   3.50000000e+01   1.23000000e+02\n",
      "   2.71000000e+01   1.36000000e+01   1.20000000e+00   7.44333333e+00\n",
      "   1.41333333e+02   3.83333333e+01   2.33333333e+00   1.46000000e+00\n",
      "   2.60000000e+01   3.53333328e+02   4.59700000e+03   2.05000000e+02\n",
      "   1.00000000e+00   1.00000000e+00   0.00000000e+00]\n"
     ]
    }
   ],
   "source": [
    "z = 0\n",
    "observ_cols = ['elixhauser','re_admission', 'SOFA', 'SIRS', 'Weight_kg', 'GCS', 'HR',\n",
    "                'SysBP', 'MeanBP', 'DiaBP', 'Shock_Index', 'RR', 'SpO2',\n",
    "                'Temp_C', 'FiO2_1', 'Potassium', 'Sodium', 'Chloride',\n",
    "                'Glucose', 'BUN', 'Creatinine', 'Magnesium', 'Calcium',\n",
    "                'Ionised_Ca', 'CO2_mEqL', 'SGOT', 'SGPT', 'Total_bili',\n",
    "                'Albumin', 'Hb', 'WBC_count', 'Platelets_count', 'PTT',\n",
    "                'PT', 'INR', 'Arterial_pH', 'paO2', 'paCO2',\n",
    "                'Arterial_BE', 'Arterial_lactate', 'HCO3', 'PaO2_FiO2',\n",
    "                'output_total', 'output_4hourly',\n",
    "                'sedation', 'mechvent', 'rrt']\n",
    "for i, row in df.iterrows():\n",
    "    print (row[observ_cols].as_matrix())\n",
    "    z += 1\n",
    "    if (z > 10): break\n"
   ]
  },
  {
   "cell_type": "code",
   "execution_count": 60,
   "metadata": {},
   "outputs": [
    {
     "data": {
      "text/plain": [
       "0         2100.000\n",
       "1         1999.000\n",
       "2          105.000\n",
       "3           60.000\n",
       "4           60.000\n",
       "5          533.000\n",
       "6           10.000\n",
       "7            0.000\n",
       "8            0.000\n",
       "9            0.000\n",
       "10           0.000\n",
       "11           0.000\n",
       "12           0.000\n",
       "13           0.000\n",
       "14           0.000\n",
       "15           0.000\n",
       "16           0.000\n",
       "17           0.000\n",
       "18        1300.000\n",
       "19         320.000\n",
       "20         320.000\n",
       "21         160.000\n",
       "22           0.000\n",
       "23           0.000\n",
       "24          75.000\n",
       "25         125.000\n",
       "26         100.000\n",
       "27          75.000\n",
       "28           0.000\n",
       "29        1031.000\n",
       "            ...   \n",
       "252174    3527.000\n",
       "252175    2098.417\n",
       "252176      68.000\n",
       "252177      68.000\n",
       "252178      35.000\n",
       "252179      20.000\n",
       "252180      20.000\n",
       "252181      20.000\n",
       "252182      20.000\n",
       "252183      20.000\n",
       "252184      21.667\n",
       "252185      13.333\n",
       "252186      20.000\n",
       "252187      25.000\n",
       "252188      20.000\n",
       "252189      20.000\n",
       "252190      20.000\n",
       "252191       0.000\n",
       "252192     230.250\n",
       "252193     483.333\n",
       "252194     720.000\n",
       "252195     590.000\n",
       "252196      30.000\n",
       "252197       0.000\n",
       "252198      60.000\n",
       "252199       0.000\n",
       "252200       0.000\n",
       "252201       0.000\n",
       "252202       0.000\n",
       "252203       0.000\n",
       "Name: input_4hourly_tev, Length: 252204, dtype: float64"
      ]
     },
     "execution_count": 60,
     "metadata": {},
     "output_type": "execute_result"
    }
   ],
   "source": [
    "df.loc[:,'input_4hourly_tev']"
   ]
  },
  {
   "cell_type": "code",
   "execution_count": 58,
   "metadata": {},
   "outputs": [
    {
     "data": {
      "text/plain": [
       "'gender'"
      ]
     },
     "execution_count": 58,
     "metadata": {},
     "output_type": "execute_result"
    }
   ],
   "source": [
    "df.columns[3]"
   ]
  },
  {
   "cell_type": "code",
   "execution_count": null,
   "metadata": {
    "collapsed": true
   },
   "outputs": [],
   "source": []
  }
 ],
 "metadata": {
  "kernelspec": {
   "display_name": "Python 3",
   "language": "python",
   "name": "python3"
  },
  "language_info": {
   "codemirror_mode": {
    "name": "ipython",
    "version": 3
   },
   "file_extension": ".py",
   "mimetype": "text/x-python",
   "name": "python",
   "nbconvert_exporter": "python",
   "pygments_lexer": "ipython3",
   "version": "3.6.1"
  }
 },
 "nbformat": 4,
 "nbformat_minor": 2
}
