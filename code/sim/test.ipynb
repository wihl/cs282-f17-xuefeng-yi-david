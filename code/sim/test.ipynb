{
 "cells": [
  {
   "cell_type": "code",
   "execution_count": null,
   "metadata": {
    "collapsed": true
   },
   "outputs": [],
   "source": [
    "from __future__ import print_function\n",
    "from ipywidgets import interact, interactive, fixed, interact_manual\n",
    "import ipywidgets as widgets\n",
    "\n",
    "num_patients = 10\n",
    "DEF_EPISODES = 10\n"
   ]
  },
  {
   "cell_type": "code",
   "execution_count": null,
   "metadata": {},
   "outputs": [],
   "source": [
    "def f(x):\n",
    "    global num_patients\n",
    "    num_patients = x\n",
    "    \n",
    "interact(f,x=widgets.IntSlider(min=10,max=100000,step=100,value=10))"
   ]
  },
  {
   "cell_type": "code",
   "execution_count": 1,
   "metadata": {},
   "outputs": [],
   "source": [
    "import sys\n",
    "sys.path.append('../utils')\n",
    "sys.path.append('../DQN')\n",
    "\n",
    "\n",
    "import PatientRecordProcessor as pr\n",
    "import DQN as dqn\n",
    "import numpy as np\n",
    "import tensorflow as tf\n",
    "import pandas as pd\n",
    "import icu as icu\n",
    "from sklearn.cluster import MiniBatchKMeans\n",
    "\n",
    "    "
   ]
  },
  {
   "cell_type": "code",
   "execution_count": 2,
   "metadata": {
    "collapsed": true
   },
   "outputs": [],
   "source": [
    "observ_cols = ['elixhauser','re_admission', 'SOFA', 'SIRS', 'Weight_kg', 'GCS', 'HR',\n",
    "                'SysBP', 'MeanBP', 'DiaBP', 'RR', 'SpO2',\n",
    "                'Temp_C', 'FiO2_1', 'Potassium', 'Sodium', 'Chloride',\n",
    "                'Glucose', 'BUN', 'Creatinine', 'Magnesium', 'Calcium',\n",
    "                'Ionised_Ca', 'CO2_mEqL', 'SGOT', 'SGPT', 'Total_bili',\n",
    "                'Albumin', 'Hb', 'WBC_count', 'Platelets_count', 'PTT',\n",
    "                'PT', 'INR', 'Arterial_pH', 'paO2', 'paCO2',\n",
    "                'Arterial_BE', 'Arterial_lactate', 'HCO3', 'PaO2_FiO2',\n",
    "                'output_total', 'output_4hourly',\n",
    "                'sedation', 'mechvent', 'rrt']\n",
    "n_clusters = 2000\n",
    "n_patients = 10000"
   ]
  },
  {
   "cell_type": "code",
   "execution_count": 3,
   "metadata": {},
   "outputs": [],
   "source": [
    "config_path = \"config.json\"\n",
    "icu = icu.ICUsim(n_patients)\n",
    "icu.load_config(config_path)\n"
   ]
  },
  {
   "cell_type": "code",
   "execution_count": 4,
   "metadata": {},
   "outputs": [],
   "source": [
    "df = icu.patients\n",
    "observations = df[observ_cols]\n"
   ]
  },
  {
   "cell_type": "code",
   "execution_count": 5,
   "metadata": {},
   "outputs": [
    {
     "data": {
      "text/html": [
       "<div>\n",
       "<style>\n",
       "    .dataframe thead tr:only-child th {\n",
       "        text-align: right;\n",
       "    }\n",
       "\n",
       "    .dataframe thead th {\n",
       "        text-align: left;\n",
       "    }\n",
       "\n",
       "    .dataframe tbody tr th {\n",
       "        vertical-align: top;\n",
       "    }\n",
       "</style>\n",
       "<table border=\"1\" class=\"dataframe\">\n",
       "  <thead>\n",
       "    <tr style=\"text-align: right;\">\n",
       "      <th></th>\n",
       "      <th>elixhauser</th>\n",
       "      <th>re_admission</th>\n",
       "      <th>SOFA</th>\n",
       "      <th>SIRS</th>\n",
       "      <th>Weight_kg</th>\n",
       "      <th>GCS</th>\n",
       "      <th>HR</th>\n",
       "      <th>SysBP</th>\n",
       "      <th>MeanBP</th>\n",
       "      <th>DiaBP</th>\n",
       "      <th>...</th>\n",
       "      <th>paCO2</th>\n",
       "      <th>Arterial_BE</th>\n",
       "      <th>Arterial_lactate</th>\n",
       "      <th>HCO3</th>\n",
       "      <th>PaO2_FiO2</th>\n",
       "      <th>output_total</th>\n",
       "      <th>output_4hourly</th>\n",
       "      <th>sedation</th>\n",
       "      <th>mechvent</th>\n",
       "      <th>rrt</th>\n",
       "    </tr>\n",
       "  </thead>\n",
       "  <tbody>\n",
       "    <tr>\n",
       "      <th>0</th>\n",
       "      <td>10</td>\n",
       "      <td>0</td>\n",
       "      <td>1</td>\n",
       "      <td>0</td>\n",
       "      <td>122.047011</td>\n",
       "      <td>11</td>\n",
       "      <td>2</td>\n",
       "      <td>104</td>\n",
       "      <td>76</td>\n",
       "      <td>52</td>\n",
       "      <td>...</td>\n",
       "      <td>88.456388</td>\n",
       "      <td>-7.649027</td>\n",
       "      <td>48.653355</td>\n",
       "      <td>95</td>\n",
       "      <td>1627.918763</td>\n",
       "      <td>20443</td>\n",
       "      <td>6599</td>\n",
       "      <td>0</td>\n",
       "      <td>0</td>\n",
       "      <td>1</td>\n",
       "    </tr>\n",
       "    <tr>\n",
       "      <th>1</th>\n",
       "      <td>5</td>\n",
       "      <td>0</td>\n",
       "      <td>10</td>\n",
       "      <td>0</td>\n",
       "      <td>232.205859</td>\n",
       "      <td>7</td>\n",
       "      <td>156</td>\n",
       "      <td>39</td>\n",
       "      <td>68</td>\n",
       "      <td>1</td>\n",
       "      <td>...</td>\n",
       "      <td>51.180712</td>\n",
       "      <td>18.055249</td>\n",
       "      <td>27.720236</td>\n",
       "      <td>66</td>\n",
       "      <td>3098.118663</td>\n",
       "      <td>13607</td>\n",
       "      <td>639</td>\n",
       "      <td>0</td>\n",
       "      <td>1</td>\n",
       "      <td>0</td>\n",
       "    </tr>\n",
       "    <tr>\n",
       "      <th>2</th>\n",
       "      <td>7</td>\n",
       "      <td>0</td>\n",
       "      <td>7</td>\n",
       "      <td>3</td>\n",
       "      <td>210.501895</td>\n",
       "      <td>0</td>\n",
       "      <td>36</td>\n",
       "      <td>29</td>\n",
       "      <td>44</td>\n",
       "      <td>18</td>\n",
       "      <td>...</td>\n",
       "      <td>96.395684</td>\n",
       "      <td>35.593605</td>\n",
       "      <td>102.306745</td>\n",
       "      <td>106</td>\n",
       "      <td>2319.571446</td>\n",
       "      <td>225026</td>\n",
       "      <td>6528</td>\n",
       "      <td>1</td>\n",
       "      <td>0</td>\n",
       "      <td>0</td>\n",
       "    </tr>\n",
       "    <tr>\n",
       "      <th>3</th>\n",
       "      <td>6</td>\n",
       "      <td>0</td>\n",
       "      <td>11</td>\n",
       "      <td>2</td>\n",
       "      <td>6.819682</td>\n",
       "      <td>13</td>\n",
       "      <td>90</td>\n",
       "      <td>160</td>\n",
       "      <td>44</td>\n",
       "      <td>191</td>\n",
       "      <td>...</td>\n",
       "      <td>37.800088</td>\n",
       "      <td>30.849374</td>\n",
       "      <td>144.170482</td>\n",
       "      <td>77</td>\n",
       "      <td>553.973195</td>\n",
       "      <td>41190</td>\n",
       "      <td>4557</td>\n",
       "      <td>0</td>\n",
       "      <td>1</td>\n",
       "      <td>0</td>\n",
       "    </tr>\n",
       "    <tr>\n",
       "      <th>4</th>\n",
       "      <td>0</td>\n",
       "      <td>1</td>\n",
       "      <td>1</td>\n",
       "      <td>0</td>\n",
       "      <td>93.151338</td>\n",
       "      <td>5</td>\n",
       "      <td>172</td>\n",
       "      <td>176</td>\n",
       "      <td>19</td>\n",
       "      <td>2</td>\n",
       "      <td>...</td>\n",
       "      <td>89.127622</td>\n",
       "      <td>5.122725</td>\n",
       "      <td>29.484560</td>\n",
       "      <td>37</td>\n",
       "      <td>2147.021832</td>\n",
       "      <td>95137</td>\n",
       "      <td>5654</td>\n",
       "      <td>1</td>\n",
       "      <td>1</td>\n",
       "      <td>0</td>\n",
       "    </tr>\n",
       "  </tbody>\n",
       "</table>\n",
       "<p>5 rows × 46 columns</p>\n",
       "</div>"
      ],
      "text/plain": [
       "  elixhauser re_admission SOFA SIRS   Weight_kg GCS   HR SysBP MeanBP DiaBP  \\\n",
       "0         10            0    1    0  122.047011  11    2   104     76    52   \n",
       "1          5            0   10    0  232.205859   7  156    39     68     1   \n",
       "2          7            0    7    3  210.501895   0   36    29     44    18   \n",
       "3          6            0   11    2    6.819682  13   90   160     44   191   \n",
       "4          0            1    1    0   93.151338   5  172   176     19     2   \n",
       "\n",
       "  ...       paCO2  Arterial_BE  Arterial_lactate  HCO3    PaO2_FiO2  \\\n",
       "0 ...   88.456388    -7.649027         48.653355    95  1627.918763   \n",
       "1 ...   51.180712    18.055249         27.720236    66  3098.118663   \n",
       "2 ...   96.395684    35.593605        102.306745   106  2319.571446   \n",
       "3 ...   37.800088    30.849374        144.170482    77   553.973195   \n",
       "4 ...   89.127622     5.122725         29.484560    37  2147.021832   \n",
       "\n",
       "   output_total output_4hourly  sedation mechvent  rrt  \n",
       "0         20443           6599         0        0    1  \n",
       "1         13607            639         0        1    0  \n",
       "2        225026           6528         1        0    0  \n",
       "3         41190           4557         0        1    0  \n",
       "4         95137           5654         1        1    0  \n",
       "\n",
       "[5 rows x 46 columns]"
      ]
     },
     "execution_count": 5,
     "metadata": {},
     "output_type": "execute_result"
    }
   ],
   "source": [
    "observations.head()"
   ]
  },
  {
   "cell_type": "code",
   "execution_count": 6,
   "metadata": {},
   "outputs": [],
   "source": [
    "mbk = MiniBatchKMeans(init='k-means++', n_clusters=n_clusters,\n",
    "                        batch_size=100,n_init=10, max_no_improvement=10,\n",
    "                        verbose=0, init_size=3*n_clusters,random_state=0)\n",
    "mbk.fit(observations)\n",
    "clusters = mbk.cluster_centers_\n"
   ]
  },
  {
   "cell_type": "code",
   "execution_count": 9,
   "metadata": {},
   "outputs": [
    {
     "data": {
      "text/plain": [
       "2000"
      ]
     },
     "execution_count": 9,
     "metadata": {},
     "output_type": "execute_result"
    }
   ],
   "source": [
    "len(clusters)"
   ]
  },
  {
   "cell_type": "code",
   "execution_count": null,
   "metadata": {
    "collapsed": true
   },
   "outputs": [],
   "source": []
  }
 ],
 "metadata": {
  "kernelspec": {
   "display_name": "Python 3",
   "language": "python",
   "name": "python3"
  },
  "language_info": {
   "codemirror_mode": {
    "name": "ipython",
    "version": 3
   },
   "file_extension": ".py",
   "mimetype": "text/x-python",
   "name": "python",
   "nbconvert_exporter": "python",
   "pygments_lexer": "ipython3",
   "version": "3.6.1"
  }
 },
 "nbformat": 4,
 "nbformat_minor": 2
}
