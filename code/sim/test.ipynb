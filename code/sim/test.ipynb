{
 "cells": [
  {
   "cell_type": "code",
   "execution_count": 8,
   "metadata": {},
   "outputs": [],
   "source": [
    "from __future__ import print_function\n",
    "from ipywidgets import interact, interactive, fixed, interact_manual\n",
    "import ipywidgets as widgets\n",
    "import icu as icu\n",
    "import pandas as pd\n",
    "import numpy as np\n",
    "\n",
    "num_patients = 10\n",
    "DEF_EPISODES = 10\n"
   ]
  },
  {
   "cell_type": "code",
   "execution_count": 2,
   "metadata": {},
   "outputs": [
    {
     "data": {
      "application/vnd.jupyter.widget-view+json": {
       "model_id": "c064b69a5a2d40509a6bdac349e13c44"
      }
     },
     "metadata": {},
     "output_type": "display_data"
    },
    {
     "data": {
      "text/plain": [
       "<function __main__.f>"
      ]
     },
     "execution_count": 2,
     "metadata": {},
     "output_type": "execute_result"
    }
   ],
   "source": [
    "def f(x):\n",
    "    global num_patients\n",
    "    num_patients = x\n",
    "    \n",
    "interact(f,x=widgets.IntSlider(min=10,max=100000,step=100,value=10))"
   ]
  },
  {
   "cell_type": "code",
   "execution_count": 3,
   "metadata": {},
   "outputs": [],
   "source": [
    "patients = icu.icusim(num_patients)"
   ]
  },
  {
   "cell_type": "code",
   "execution_count": 4,
   "metadata": {},
   "outputs": [
    {
     "data": {
      "text/plain": [
       "['icustayid']"
      ]
     },
     "execution_count": 4,
     "metadata": {},
     "output_type": "execute_result"
    }
   ],
   "source": [
    "patients.indexes"
   ]
  },
  {
   "cell_type": "code",
   "execution_count": 5,
   "metadata": {},
   "outputs": [
    {
     "data": {
      "text/html": [
       "<div>\n",
       "<style>\n",
       "    .dataframe thead tr:only-child th {\n",
       "        text-align: right;\n",
       "    }\n",
       "\n",
       "    .dataframe thead th {\n",
       "        text-align: left;\n",
       "    }\n",
       "\n",
       "    .dataframe tbody tr th {\n",
       "        vertical-align: top;\n",
       "    }\n",
       "</style>\n",
       "<table border=\"1\" class=\"dataframe\">\n",
       "  <thead>\n",
       "    <tr style=\"text-align: right;\">\n",
       "      <th></th>\n",
       "      <th>bloc</th>\n",
       "      <th>charttime</th>\n",
       "      <th>gender</th>\n",
       "      <th>age</th>\n",
       "      <th>elixhauser</th>\n",
       "      <th>re_admission</th>\n",
       "      <th>SOFA</th>\n",
       "      <th>SIRS</th>\n",
       "      <th>Weight_kg</th>\n",
       "      <th>GCS</th>\n",
       "      <th>...</th>\n",
       "      <th>input_total_tev</th>\n",
       "      <th>input_4hourly_tev</th>\n",
       "      <th>output_total</th>\n",
       "      <th>output_4hourly</th>\n",
       "      <th>cumulated_balance_tev</th>\n",
       "      <th>sedation</th>\n",
       "      <th>mechvent</th>\n",
       "      <th>rrt</th>\n",
       "      <th>died_in_hosp</th>\n",
       "      <th>mortality_90d</th>\n",
       "    </tr>\n",
       "  </thead>\n",
       "  <tbody>\n",
       "    <tr>\n",
       "      <th>icustayid</th>\n",
       "      <td>0</td>\n",
       "      <td>0</td>\n",
       "      <td>0</td>\n",
       "      <td>0</td>\n",
       "      <td>0</td>\n",
       "      <td>0</td>\n",
       "      <td>0</td>\n",
       "      <td>0</td>\n",
       "      <td>0</td>\n",
       "      <td>0</td>\n",
       "      <td>...</td>\n",
       "      <td>0</td>\n",
       "      <td>0</td>\n",
       "      <td>0</td>\n",
       "      <td>0</td>\n",
       "      <td>0</td>\n",
       "      <td>0</td>\n",
       "      <td>0</td>\n",
       "      <td>0</td>\n",
       "      <td>0</td>\n",
       "      <td>0</td>\n",
       "    </tr>\n",
       "  </tbody>\n",
       "</table>\n",
       "<p>1 rows × 58 columns</p>\n",
       "</div>"
      ],
      "text/plain": [
       "           bloc  charttime  gender  age  elixhauser  re_admission  SOFA  SIRS  \\\n",
       "icustayid     0          0       0    0           0             0     0     0   \n",
       "\n",
       "           Weight_kg  GCS      ...        input_total_tev  input_4hourly_tev  \\\n",
       "icustayid          0    0      ...                      0                  0   \n",
       "\n",
       "           output_total  output_4hourly  cumulated_balance_tev  sedation  \\\n",
       "icustayid             0               0                      0         0   \n",
       "\n",
       "           mechvent  rrt  died_in_hosp  mortality_90d  \n",
       "icustayid         0    0             0              0  \n",
       "\n",
       "[1 rows x 58 columns]"
      ]
     },
     "execution_count": 5,
     "metadata": {},
     "output_type": "execute_result"
    }
   ],
   "source": [
    "patients.df"
   ]
  },
  {
   "cell_type": "code",
   "execution_count": 6,
   "metadata": {},
   "outputs": [
    {
     "data": {
      "text/plain": [
       "58"
      ]
     },
     "execution_count": 6,
     "metadata": {},
     "output_type": "execute_result"
    }
   ],
   "source": [
    "len(patients.columns)"
   ]
  },
  {
   "cell_type": "code",
   "execution_count": 13,
   "metadata": {},
   "outputs": [],
   "source": [
    "df = pd.DataFrame(np.random.randn(1,len(patients.columns)),index=patients.indexes, columns=patients.columns)"
   ]
  },
  {
   "cell_type": "code",
   "execution_count": 14,
   "metadata": {},
   "outputs": [
    {
     "data": {
      "text/html": [
       "<div>\n",
       "<style>\n",
       "    .dataframe thead tr:only-child th {\n",
       "        text-align: right;\n",
       "    }\n",
       "\n",
       "    .dataframe thead th {\n",
       "        text-align: left;\n",
       "    }\n",
       "\n",
       "    .dataframe tbody tr th {\n",
       "        vertical-align: top;\n",
       "    }\n",
       "</style>\n",
       "<table border=\"1\" class=\"dataframe\">\n",
       "  <thead>\n",
       "    <tr style=\"text-align: right;\">\n",
       "      <th></th>\n",
       "      <th>bloc</th>\n",
       "      <th>charttime</th>\n",
       "      <th>gender</th>\n",
       "      <th>age</th>\n",
       "      <th>elixhauser</th>\n",
       "      <th>re_admission</th>\n",
       "      <th>SOFA</th>\n",
       "      <th>SIRS</th>\n",
       "      <th>Weight_kg</th>\n",
       "      <th>GCS</th>\n",
       "      <th>...</th>\n",
       "      <th>input_total_tev</th>\n",
       "      <th>input_4hourly_tev</th>\n",
       "      <th>output_total</th>\n",
       "      <th>output_4hourly</th>\n",
       "      <th>cumulated_balance_tev</th>\n",
       "      <th>sedation</th>\n",
       "      <th>mechvent</th>\n",
       "      <th>rrt</th>\n",
       "      <th>died_in_hosp</th>\n",
       "      <th>mortality_90d</th>\n",
       "    </tr>\n",
       "  </thead>\n",
       "  <tbody>\n",
       "    <tr>\n",
       "      <th>icustayid</th>\n",
       "      <td>-0.237747</td>\n",
       "      <td>0.051212</td>\n",
       "      <td>-0.034675</td>\n",
       "      <td>-0.156826</td>\n",
       "      <td>-0.045799</td>\n",
       "      <td>-0.849748</td>\n",
       "      <td>-0.193277</td>\n",
       "      <td>1.63576</td>\n",
       "      <td>0.526048</td>\n",
       "      <td>0.829435</td>\n",
       "      <td>...</td>\n",
       "      <td>1.173221</td>\n",
       "      <td>0.515502</td>\n",
       "      <td>0.222728</td>\n",
       "      <td>0.969852</td>\n",
       "      <td>-1.478408</td>\n",
       "      <td>0.669061</td>\n",
       "      <td>0.345033</td>\n",
       "      <td>1.101829</td>\n",
       "      <td>1.033117</td>\n",
       "      <td>-0.144037</td>\n",
       "    </tr>\n",
       "  </tbody>\n",
       "</table>\n",
       "<p>1 rows × 58 columns</p>\n",
       "</div>"
      ],
      "text/plain": [
       "               bloc  charttime    gender       age  elixhauser  re_admission  \\\n",
       "icustayid -0.237747   0.051212 -0.034675 -0.156826   -0.045799     -0.849748   \n",
       "\n",
       "               SOFA     SIRS  Weight_kg       GCS      ...        \\\n",
       "icustayid -0.193277  1.63576   0.526048  0.829435      ...         \n",
       "\n",
       "           input_total_tev  input_4hourly_tev  output_total  output_4hourly  \\\n",
       "icustayid         1.173221           0.515502      0.222728        0.969852   \n",
       "\n",
       "           cumulated_balance_tev  sedation  mechvent       rrt  died_in_hosp  \\\n",
       "icustayid              -1.478408  0.669061  0.345033  1.101829      1.033117   \n",
       "\n",
       "           mortality_90d  \n",
       "icustayid      -0.144037  \n",
       "\n",
       "[1 rows x 58 columns]"
      ]
     },
     "execution_count": 14,
     "metadata": {},
     "output_type": "execute_result"
    }
   ],
   "source": [
    "df\n"
   ]
  },
  {
   "cell_type": "code",
   "execution_count": 28,
   "metadata": {},
   "outputs": [],
   "source": [
    "df2 = pd.DataFrame(np.random.randn(num_patients,len(patients.columns)), columns=patients.columns)"
   ]
  },
  {
   "cell_type": "code",
   "execution_count": 31,
   "metadata": {},
   "outputs": [],
   "source": [
    "df2.index.names = patients.indexes\n"
   ]
  },
  {
   "cell_type": "code",
   "execution_count": 32,
   "metadata": {},
   "outputs": [
    {
     "data": {
      "text/html": [
       "<div>\n",
       "<style>\n",
       "    .dataframe thead tr:only-child th {\n",
       "        text-align: right;\n",
       "    }\n",
       "\n",
       "    .dataframe thead th {\n",
       "        text-align: left;\n",
       "    }\n",
       "\n",
       "    .dataframe tbody tr th {\n",
       "        vertical-align: top;\n",
       "    }\n",
       "</style>\n",
       "<table border=\"1\" class=\"dataframe\">\n",
       "  <thead>\n",
       "    <tr style=\"text-align: right;\">\n",
       "      <th></th>\n",
       "      <th>bloc</th>\n",
       "      <th>charttime</th>\n",
       "      <th>gender</th>\n",
       "      <th>age</th>\n",
       "      <th>elixhauser</th>\n",
       "      <th>re_admission</th>\n",
       "      <th>SOFA</th>\n",
       "      <th>SIRS</th>\n",
       "      <th>Weight_kg</th>\n",
       "      <th>GCS</th>\n",
       "      <th>...</th>\n",
       "      <th>input_total_tev</th>\n",
       "      <th>input_4hourly_tev</th>\n",
       "      <th>output_total</th>\n",
       "      <th>output_4hourly</th>\n",
       "      <th>cumulated_balance_tev</th>\n",
       "      <th>sedation</th>\n",
       "      <th>mechvent</th>\n",
       "      <th>rrt</th>\n",
       "      <th>died_in_hosp</th>\n",
       "      <th>mortality_90d</th>\n",
       "    </tr>\n",
       "    <tr>\n",
       "      <th>icustayid</th>\n",
       "      <th></th>\n",
       "      <th></th>\n",
       "      <th></th>\n",
       "      <th></th>\n",
       "      <th></th>\n",
       "      <th></th>\n",
       "      <th></th>\n",
       "      <th></th>\n",
       "      <th></th>\n",
       "      <th></th>\n",
       "      <th></th>\n",
       "      <th></th>\n",
       "      <th></th>\n",
       "      <th></th>\n",
       "      <th></th>\n",
       "      <th></th>\n",
       "      <th></th>\n",
       "      <th></th>\n",
       "      <th></th>\n",
       "      <th></th>\n",
       "      <th></th>\n",
       "    </tr>\n",
       "  </thead>\n",
       "  <tbody>\n",
       "    <tr>\n",
       "      <th>0</th>\n",
       "      <td>1.600164</td>\n",
       "      <td>-0.041865</td>\n",
       "      <td>2.205346</td>\n",
       "      <td>1.891588</td>\n",
       "      <td>0.313676</td>\n",
       "      <td>-1.822975</td>\n",
       "      <td>-1.645871</td>\n",
       "      <td>0.856339</td>\n",
       "      <td>-0.284997</td>\n",
       "      <td>2.517557</td>\n",
       "      <td>...</td>\n",
       "      <td>-0.716139</td>\n",
       "      <td>-0.939580</td>\n",
       "      <td>1.017969</td>\n",
       "      <td>-0.331576</td>\n",
       "      <td>0.307065</td>\n",
       "      <td>-0.476347</td>\n",
       "      <td>-1.015085</td>\n",
       "      <td>-2.162796</td>\n",
       "      <td>-1.095127</td>\n",
       "      <td>-1.355011</td>\n",
       "    </tr>\n",
       "    <tr>\n",
       "      <th>1</th>\n",
       "      <td>0.826042</td>\n",
       "      <td>1.266557</td>\n",
       "      <td>-0.288340</td>\n",
       "      <td>0.059953</td>\n",
       "      <td>0.364319</td>\n",
       "      <td>-0.355724</td>\n",
       "      <td>-0.223737</td>\n",
       "      <td>1.431756</td>\n",
       "      <td>-0.401026</td>\n",
       "      <td>1.431699</td>\n",
       "      <td>...</td>\n",
       "      <td>-0.152529</td>\n",
       "      <td>0.476931</td>\n",
       "      <td>-0.350529</td>\n",
       "      <td>1.378732</td>\n",
       "      <td>0.957084</td>\n",
       "      <td>0.051340</td>\n",
       "      <td>0.361609</td>\n",
       "      <td>-0.706671</td>\n",
       "      <td>0.049446</td>\n",
       "      <td>0.840703</td>\n",
       "    </tr>\n",
       "    <tr>\n",
       "      <th>2</th>\n",
       "      <td>-2.541786</td>\n",
       "      <td>-0.749623</td>\n",
       "      <td>1.997475</td>\n",
       "      <td>0.222851</td>\n",
       "      <td>-0.364517</td>\n",
       "      <td>0.408132</td>\n",
       "      <td>-1.089789</td>\n",
       "      <td>0.609661</td>\n",
       "      <td>0.303554</td>\n",
       "      <td>1.392340</td>\n",
       "      <td>...</td>\n",
       "      <td>1.016636</td>\n",
       "      <td>-0.871706</td>\n",
       "      <td>-2.030226</td>\n",
       "      <td>-0.265075</td>\n",
       "      <td>0.941059</td>\n",
       "      <td>0.830107</td>\n",
       "      <td>0.466484</td>\n",
       "      <td>1.283692</td>\n",
       "      <td>-0.736755</td>\n",
       "      <td>-0.772642</td>\n",
       "    </tr>\n",
       "    <tr>\n",
       "      <th>3</th>\n",
       "      <td>-0.508640</td>\n",
       "      <td>-1.409987</td>\n",
       "      <td>0.678715</td>\n",
       "      <td>-1.535699</td>\n",
       "      <td>-0.921710</td>\n",
       "      <td>0.202290</td>\n",
       "      <td>0.835123</td>\n",
       "      <td>-0.146916</td>\n",
       "      <td>0.442767</td>\n",
       "      <td>1.012734</td>\n",
       "      <td>...</td>\n",
       "      <td>0.716360</td>\n",
       "      <td>-0.753425</td>\n",
       "      <td>1.622405</td>\n",
       "      <td>0.011816</td>\n",
       "      <td>0.382684</td>\n",
       "      <td>-0.593164</td>\n",
       "      <td>1.153208</td>\n",
       "      <td>0.089370</td>\n",
       "      <td>-1.250703</td>\n",
       "      <td>1.351641</td>\n",
       "    </tr>\n",
       "    <tr>\n",
       "      <th>4</th>\n",
       "      <td>0.715802</td>\n",
       "      <td>0.016308</td>\n",
       "      <td>0.577415</td>\n",
       "      <td>-0.709698</td>\n",
       "      <td>-1.026908</td>\n",
       "      <td>0.740763</td>\n",
       "      <td>-0.630255</td>\n",
       "      <td>-0.188194</td>\n",
       "      <td>-0.432469</td>\n",
       "      <td>-0.118883</td>\n",
       "      <td>...</td>\n",
       "      <td>-0.695179</td>\n",
       "      <td>-1.336587</td>\n",
       "      <td>-2.955868</td>\n",
       "      <td>0.882858</td>\n",
       "      <td>-0.552694</td>\n",
       "      <td>0.228154</td>\n",
       "      <td>-1.357134</td>\n",
       "      <td>-0.285177</td>\n",
       "      <td>-0.655122</td>\n",
       "      <td>-0.073275</td>\n",
       "    </tr>\n",
       "    <tr>\n",
       "      <th>5</th>\n",
       "      <td>-0.813197</td>\n",
       "      <td>-0.051319</td>\n",
       "      <td>-0.627276</td>\n",
       "      <td>-0.862427</td>\n",
       "      <td>-0.301938</td>\n",
       "      <td>-0.668961</td>\n",
       "      <td>-0.307855</td>\n",
       "      <td>1.189056</td>\n",
       "      <td>-1.400118</td>\n",
       "      <td>-0.651707</td>\n",
       "      <td>...</td>\n",
       "      <td>0.627160</td>\n",
       "      <td>0.790325</td>\n",
       "      <td>-1.548253</td>\n",
       "      <td>2.137271</td>\n",
       "      <td>0.402168</td>\n",
       "      <td>1.277252</td>\n",
       "      <td>0.766779</td>\n",
       "      <td>-1.176177</td>\n",
       "      <td>-0.744330</td>\n",
       "      <td>-1.270589</td>\n",
       "    </tr>\n",
       "    <tr>\n",
       "      <th>6</th>\n",
       "      <td>0.558522</td>\n",
       "      <td>-0.519388</td>\n",
       "      <td>1.006679</td>\n",
       "      <td>-0.465167</td>\n",
       "      <td>0.720562</td>\n",
       "      <td>0.090251</td>\n",
       "      <td>-1.941699</td>\n",
       "      <td>-0.548608</td>\n",
       "      <td>1.975095</td>\n",
       "      <td>0.411063</td>\n",
       "      <td>...</td>\n",
       "      <td>-2.406408</td>\n",
       "      <td>-0.955496</td>\n",
       "      <td>-0.398672</td>\n",
       "      <td>-1.116021</td>\n",
       "      <td>0.671777</td>\n",
       "      <td>-0.338021</td>\n",
       "      <td>-0.353541</td>\n",
       "      <td>-0.060234</td>\n",
       "      <td>-1.025079</td>\n",
       "      <td>-0.106097</td>\n",
       "    </tr>\n",
       "    <tr>\n",
       "      <th>7</th>\n",
       "      <td>-1.025108</td>\n",
       "      <td>-1.382250</td>\n",
       "      <td>-2.287290</td>\n",
       "      <td>0.188588</td>\n",
       "      <td>0.826817</td>\n",
       "      <td>0.446300</td>\n",
       "      <td>-0.980903</td>\n",
       "      <td>0.422541</td>\n",
       "      <td>-1.635978</td>\n",
       "      <td>0.872902</td>\n",
       "      <td>...</td>\n",
       "      <td>0.464356</td>\n",
       "      <td>-0.542037</td>\n",
       "      <td>-0.204544</td>\n",
       "      <td>-0.507820</td>\n",
       "      <td>0.182736</td>\n",
       "      <td>0.922003</td>\n",
       "      <td>-2.031108</td>\n",
       "      <td>1.011026</td>\n",
       "      <td>0.044223</td>\n",
       "      <td>-0.685558</td>\n",
       "    </tr>\n",
       "    <tr>\n",
       "      <th>8</th>\n",
       "      <td>-0.296134</td>\n",
       "      <td>0.918797</td>\n",
       "      <td>0.509913</td>\n",
       "      <td>-0.326491</td>\n",
       "      <td>0.205254</td>\n",
       "      <td>-1.411343</td>\n",
       "      <td>0.150888</td>\n",
       "      <td>-0.178262</td>\n",
       "      <td>-0.232272</td>\n",
       "      <td>1.689862</td>\n",
       "      <td>...</td>\n",
       "      <td>-3.034167</td>\n",
       "      <td>1.008381</td>\n",
       "      <td>1.235360</td>\n",
       "      <td>0.012583</td>\n",
       "      <td>-1.110006</td>\n",
       "      <td>-0.830826</td>\n",
       "      <td>-0.917970</td>\n",
       "      <td>-0.340706</td>\n",
       "      <td>1.083490</td>\n",
       "      <td>-2.566719</td>\n",
       "    </tr>\n",
       "    <tr>\n",
       "      <th>9</th>\n",
       "      <td>0.589320</td>\n",
       "      <td>1.573093</td>\n",
       "      <td>2.297871</td>\n",
       "      <td>0.115433</td>\n",
       "      <td>0.057650</td>\n",
       "      <td>-0.057239</td>\n",
       "      <td>1.311776</td>\n",
       "      <td>-1.187382</td>\n",
       "      <td>-0.603018</td>\n",
       "      <td>0.170195</td>\n",
       "      <td>...</td>\n",
       "      <td>-3.058661</td>\n",
       "      <td>0.294509</td>\n",
       "      <td>0.388885</td>\n",
       "      <td>-0.253027</td>\n",
       "      <td>0.521621</td>\n",
       "      <td>-0.599612</td>\n",
       "      <td>1.165615</td>\n",
       "      <td>-0.260150</td>\n",
       "      <td>-0.262781</td>\n",
       "      <td>-1.598232</td>\n",
       "    </tr>\n",
       "  </tbody>\n",
       "</table>\n",
       "<p>10 rows × 58 columns</p>\n",
       "</div>"
      ],
      "text/plain": [
       "               bloc  charttime    gender       age  elixhauser  re_admission  \\\n",
       "icustayid                                                                      \n",
       "0          1.600164  -0.041865  2.205346  1.891588    0.313676     -1.822975   \n",
       "1          0.826042   1.266557 -0.288340  0.059953    0.364319     -0.355724   \n",
       "2         -2.541786  -0.749623  1.997475  0.222851   -0.364517      0.408132   \n",
       "3         -0.508640  -1.409987  0.678715 -1.535699   -0.921710      0.202290   \n",
       "4          0.715802   0.016308  0.577415 -0.709698   -1.026908      0.740763   \n",
       "5         -0.813197  -0.051319 -0.627276 -0.862427   -0.301938     -0.668961   \n",
       "6          0.558522  -0.519388  1.006679 -0.465167    0.720562      0.090251   \n",
       "7         -1.025108  -1.382250 -2.287290  0.188588    0.826817      0.446300   \n",
       "8         -0.296134   0.918797  0.509913 -0.326491    0.205254     -1.411343   \n",
       "9          0.589320   1.573093  2.297871  0.115433    0.057650     -0.057239   \n",
       "\n",
       "               SOFA      SIRS  Weight_kg       GCS      ...        \\\n",
       "icustayid                                               ...         \n",
       "0         -1.645871  0.856339  -0.284997  2.517557      ...         \n",
       "1         -0.223737  1.431756  -0.401026  1.431699      ...         \n",
       "2         -1.089789  0.609661   0.303554  1.392340      ...         \n",
       "3          0.835123 -0.146916   0.442767  1.012734      ...         \n",
       "4         -0.630255 -0.188194  -0.432469 -0.118883      ...         \n",
       "5         -0.307855  1.189056  -1.400118 -0.651707      ...         \n",
       "6         -1.941699 -0.548608   1.975095  0.411063      ...         \n",
       "7         -0.980903  0.422541  -1.635978  0.872902      ...         \n",
       "8          0.150888 -0.178262  -0.232272  1.689862      ...         \n",
       "9          1.311776 -1.187382  -0.603018  0.170195      ...         \n",
       "\n",
       "           input_total_tev  input_4hourly_tev  output_total  output_4hourly  \\\n",
       "icustayid                                                                     \n",
       "0                -0.716139          -0.939580      1.017969       -0.331576   \n",
       "1                -0.152529           0.476931     -0.350529        1.378732   \n",
       "2                 1.016636          -0.871706     -2.030226       -0.265075   \n",
       "3                 0.716360          -0.753425      1.622405        0.011816   \n",
       "4                -0.695179          -1.336587     -2.955868        0.882858   \n",
       "5                 0.627160           0.790325     -1.548253        2.137271   \n",
       "6                -2.406408          -0.955496     -0.398672       -1.116021   \n",
       "7                 0.464356          -0.542037     -0.204544       -0.507820   \n",
       "8                -3.034167           1.008381      1.235360        0.012583   \n",
       "9                -3.058661           0.294509      0.388885       -0.253027   \n",
       "\n",
       "           cumulated_balance_tev  sedation  mechvent       rrt  died_in_hosp  \\\n",
       "icustayid                                                                      \n",
       "0                       0.307065 -0.476347 -1.015085 -2.162796     -1.095127   \n",
       "1                       0.957084  0.051340  0.361609 -0.706671      0.049446   \n",
       "2                       0.941059  0.830107  0.466484  1.283692     -0.736755   \n",
       "3                       0.382684 -0.593164  1.153208  0.089370     -1.250703   \n",
       "4                      -0.552694  0.228154 -1.357134 -0.285177     -0.655122   \n",
       "5                       0.402168  1.277252  0.766779 -1.176177     -0.744330   \n",
       "6                       0.671777 -0.338021 -0.353541 -0.060234     -1.025079   \n",
       "7                       0.182736  0.922003 -2.031108  1.011026      0.044223   \n",
       "8                      -1.110006 -0.830826 -0.917970 -0.340706      1.083490   \n",
       "9                       0.521621 -0.599612  1.165615 -0.260150     -0.262781   \n",
       "\n",
       "           mortality_90d  \n",
       "icustayid                 \n",
       "0              -1.355011  \n",
       "1               0.840703  \n",
       "2              -0.772642  \n",
       "3               1.351641  \n",
       "4              -0.073275  \n",
       "5              -1.270589  \n",
       "6              -0.106097  \n",
       "7              -0.685558  \n",
       "8              -2.566719  \n",
       "9              -1.598232  \n",
       "\n",
       "[10 rows x 58 columns]"
      ]
     },
     "execution_count": 32,
     "metadata": {},
     "output_type": "execute_result"
    }
   ],
   "source": [
    "df2\n"
   ]
  },
  {
   "cell_type": "code",
   "execution_count": 33,
   "metadata": {
    "collapsed": true
   },
   "outputs": [],
   "source": [
    "df3 =  pd.DataFrame(columns=patients.columns)"
   ]
  },
  {
   "cell_type": "code",
   "execution_count": 40,
   "metadata": {},
   "outputs": [],
   "source": [
    "x = df3['bloc'].max()\n",
    "x += 1"
   ]
  },
  {
   "cell_type": "code",
   "execution_count": 44,
   "metadata": {},
   "outputs": [
    {
     "data": {
      "text/plain": [
       "False"
      ]
     },
     "execution_count": 44,
     "metadata": {},
     "output_type": "execute_result"
    }
   ],
   "source": [
    "x == np.nan"
   ]
  },
  {
   "cell_type": "code",
   "execution_count": 45,
   "metadata": {},
   "outputs": [
    {
     "data": {
      "text/plain": [
       "nan"
      ]
     },
     "execution_count": 45,
     "metadata": {},
     "output_type": "execute_result"
    }
   ],
   "source": [
    "x"
   ]
  },
  {
   "cell_type": "code",
   "execution_count": 46,
   "metadata": {},
   "outputs": [
    {
     "data": {
      "text/plain": [
       "True"
      ]
     },
     "execution_count": 46,
     "metadata": {},
     "output_type": "execute_result"
    }
   ],
   "source": [
    "np.isnan(x)"
   ]
  },
  {
   "cell_type": "code",
   "execution_count": 49,
   "metadata": {},
   "outputs": [
    {
     "data": {
      "text/plain": [
       "15"
      ]
     },
     "execution_count": 49,
     "metadata": {},
     "output_type": "execute_result"
    }
   ],
   "source": [
    "np.random.randint(2,20)"
   ]
  },
  {
   "cell_type": "code",
   "execution_count": 50,
   "metadata": {
    "collapsed": true
   },
   "outputs": [],
   "source": [
    "arr = []"
   ]
  },
  {
   "cell_type": "code",
   "execution_count": 53,
   "metadata": {
    "collapsed": true
   },
   "outputs": [],
   "source": [
    "arr.append([1,2,3])"
   ]
  },
  {
   "cell_type": "code",
   "execution_count": 57,
   "metadata": {},
   "outputs": [],
   "source": [
    "bloc = 1\n",
    "custid =2"
   ]
  },
  {
   "cell_type": "code",
   "execution_count": 58,
   "metadata": {},
   "outputs": [],
   "source": [
    "arr.append([bloc,custid,np.random.randn(1,len(patients.columns)-2)])"
   ]
  },
  {
   "cell_type": "code",
   "execution_count": 69,
   "metadata": {},
   "outputs": [],
   "source": [
    "values = np.random.randn(1,len(patients.columns)-2)\n",
    "values = np.insert(values, 0, bloc,axis=1)\n",
    "values = np.insert(values, 1, custid, axis=1)"
   ]
  },
  {
   "cell_type": "code",
   "execution_count": 72,
   "metadata": {},
   "outputs": [
    {
     "data": {
      "text/plain": [
       "58"
      ]
     },
     "execution_count": 72,
     "metadata": {},
     "output_type": "execute_result"
    }
   ],
   "source": [
    "len(values[0])"
   ]
  },
  {
   "cell_type": "code",
   "execution_count": 76,
   "metadata": {},
   "outputs": [],
   "source": [
    "v = np.array([bloc,custid])\n",
    "v = np.append(v,np.random.randn(1,len(patients.columns)-2))"
   ]
  },
  {
   "cell_type": "code",
   "execution_count": 77,
   "metadata": {},
   "outputs": [
    {
     "data": {
      "text/plain": [
       "array([ 1.        ,  2.        ,  0.31855643, -0.51518804, -0.15681587,\n",
       "       -1.02429723,  0.95413979, -0.01468414,  2.88010515,  1.08924052,\n",
       "       -0.64836615,  0.90651268,  1.05625619,  0.49072812, -0.04069055,\n",
       "       -0.28432502,  3.88248382,  1.61087012, -1.41018821, -0.62031688,\n",
       "       -1.28618025,  0.58629888,  1.11874353,  2.59743496,  0.35140324,\n",
       "       -0.50036596,  0.40597186,  0.26732813,  1.0791136 , -0.41773784,\n",
       "        0.68672532,  1.0733418 , -1.40054018,  1.39265239,  1.66598319,\n",
       "       -0.96131814,  0.36381473,  0.39705225, -1.6663638 , -0.29192413,\n",
       "        0.35374685,  0.21546332, -0.94684434, -0.24483027,  0.01567978,\n",
       "        1.35437584, -1.11463892,  0.01610202, -0.12987935,  0.20516833,\n",
       "        1.98463689, -1.64391531, -1.28277846, -0.86093769, -1.48632511,\n",
       "       -0.64027518,  0.13963672, -2.01198388])"
      ]
     },
     "execution_count": 77,
     "metadata": {},
     "output_type": "execute_result"
    }
   ],
   "source": [
    "v"
   ]
  },
  {
   "cell_type": "code",
   "execution_count": 78,
   "metadata": {},
   "outputs": [
    {
     "data": {
      "text/plain": [
       "58"
      ]
     },
     "execution_count": 78,
     "metadata": {},
     "output_type": "execute_result"
    }
   ],
   "source": [
    "len(v)"
   ]
  },
  {
   "cell_type": "code",
   "execution_count": 87,
   "metadata": {},
   "outputs": [],
   "source": [
    "df3.loc[custid*100+bloc] = v"
   ]
  },
  {
   "cell_type": "code",
   "execution_count": 88,
   "metadata": {},
   "outputs": [
    {
     "data": {
      "text/html": [
       "<div>\n",
       "<style>\n",
       "    .dataframe thead tr:only-child th {\n",
       "        text-align: right;\n",
       "    }\n",
       "\n",
       "    .dataframe thead th {\n",
       "        text-align: left;\n",
       "    }\n",
       "\n",
       "    .dataframe tbody tr th {\n",
       "        vertical-align: top;\n",
       "    }\n",
       "</style>\n",
       "<table border=\"1\" class=\"dataframe\">\n",
       "  <thead>\n",
       "    <tr style=\"text-align: right;\">\n",
       "      <th></th>\n",
       "      <th>bloc</th>\n",
       "      <th>charttime</th>\n",
       "      <th>gender</th>\n",
       "      <th>age</th>\n",
       "      <th>elixhauser</th>\n",
       "      <th>re_admission</th>\n",
       "      <th>SOFA</th>\n",
       "      <th>SIRS</th>\n",
       "      <th>Weight_kg</th>\n",
       "      <th>GCS</th>\n",
       "      <th>...</th>\n",
       "      <th>input_total_tev</th>\n",
       "      <th>input_4hourly_tev</th>\n",
       "      <th>output_total</th>\n",
       "      <th>output_4hourly</th>\n",
       "      <th>cumulated_balance_tev</th>\n",
       "      <th>sedation</th>\n",
       "      <th>mechvent</th>\n",
       "      <th>rrt</th>\n",
       "      <th>died_in_hosp</th>\n",
       "      <th>mortality_90d</th>\n",
       "    </tr>\n",
       "  </thead>\n",
       "  <tbody>\n",
       "    <tr>\n",
       "      <th>-1</th>\n",
       "      <td>1.0</td>\n",
       "      <td>2.0</td>\n",
       "      <td>0.318556</td>\n",
       "      <td>-0.515188</td>\n",
       "      <td>-0.156816</td>\n",
       "      <td>-1.024297</td>\n",
       "      <td>0.95414</td>\n",
       "      <td>-0.014684</td>\n",
       "      <td>2.880105</td>\n",
       "      <td>1.089241</td>\n",
       "      <td>...</td>\n",
       "      <td>-0.129879</td>\n",
       "      <td>0.205168</td>\n",
       "      <td>1.984637</td>\n",
       "      <td>-1.643915</td>\n",
       "      <td>-1.282778</td>\n",
       "      <td>-0.860938</td>\n",
       "      <td>-1.486325</td>\n",
       "      <td>-0.640275</td>\n",
       "      <td>0.139637</td>\n",
       "      <td>-2.011984</td>\n",
       "    </tr>\n",
       "    <tr>\n",
       "      <th>201</th>\n",
       "      <td>1.0</td>\n",
       "      <td>2.0</td>\n",
       "      <td>0.318556</td>\n",
       "      <td>-0.515188</td>\n",
       "      <td>-0.156816</td>\n",
       "      <td>-1.024297</td>\n",
       "      <td>0.95414</td>\n",
       "      <td>-0.014684</td>\n",
       "      <td>2.880105</td>\n",
       "      <td>1.089241</td>\n",
       "      <td>...</td>\n",
       "      <td>-0.129879</td>\n",
       "      <td>0.205168</td>\n",
       "      <td>1.984637</td>\n",
       "      <td>-1.643915</td>\n",
       "      <td>-1.282778</td>\n",
       "      <td>-0.860938</td>\n",
       "      <td>-1.486325</td>\n",
       "      <td>-0.640275</td>\n",
       "      <td>0.139637</td>\n",
       "      <td>-2.011984</td>\n",
       "    </tr>\n",
       "  </tbody>\n",
       "</table>\n",
       "<p>2 rows × 58 columns</p>\n",
       "</div>"
      ],
      "text/plain": [
       "      bloc  charttime    gender       age  elixhauser  re_admission     SOFA  \\\n",
       "-1     1.0        2.0  0.318556 -0.515188   -0.156816     -1.024297  0.95414   \n",
       " 201   1.0        2.0  0.318556 -0.515188   -0.156816     -1.024297  0.95414   \n",
       "\n",
       "          SIRS  Weight_kg       GCS      ...        input_total_tev  \\\n",
       "-1   -0.014684   2.880105  1.089241      ...              -0.129879   \n",
       " 201 -0.014684   2.880105  1.089241      ...              -0.129879   \n",
       "\n",
       "      input_4hourly_tev  output_total  output_4hourly  cumulated_balance_tev  \\\n",
       "-1             0.205168      1.984637       -1.643915              -1.282778   \n",
       " 201           0.205168      1.984637       -1.643915              -1.282778   \n",
       "\n",
       "      sedation  mechvent       rrt  died_in_hosp  mortality_90d  \n",
       "-1   -0.860938 -1.486325 -0.640275      0.139637      -2.011984  \n",
       " 201 -0.860938 -1.486325 -0.640275      0.139637      -2.011984  \n",
       "\n",
       "[2 rows x 58 columns]"
      ]
     },
     "execution_count": 88,
     "metadata": {},
     "output_type": "execute_result"
    }
   ],
   "source": [
    "df3"
   ]
  },
  {
   "cell_type": "code",
   "execution_count": 108,
   "metadata": {},
   "outputs": [],
   "source": [
    "n = 16\n",
    "gender = np.random.choice([0,1])\n",
    "values = {'bloc':list(range(n)), 'custid':[custid]*n, 'gender':[gender]*n}"
   ]
  },
  {
   "cell_type": "code",
   "execution_count": 109,
   "metadata": {},
   "outputs": [
    {
     "data": {
      "text/plain": [
       "{'bloc': [0, 1, 2, 3, 4, 5, 6, 7, 8, 9, 10, 11, 12, 13, 14, 15],\n",
       " 'custid': [2, 2, 2, 2, 2, 2, 2, 2, 2, 2, 2, 2, 2, 2, 2, 2],\n",
       " 'gender': [1, 1, 1, 1, 1, 1, 1, 1, 1, 1, 1, 1, 1, 1, 1, 1]}"
      ]
     },
     "execution_count": 109,
     "metadata": {},
     "output_type": "execute_result"
    }
   ],
   "source": [
    "values"
   ]
  },
  {
   "cell_type": "code",
   "execution_count": 129,
   "metadata": {},
   "outputs": [],
   "source": [
    "from_dict = pd.DataFrame(values)\n",
    "df4 = pd.concat([df3, from_dict]) #default axis = 0\n"
   ]
  },
  {
   "cell_type": "code",
   "execution_count": 131,
   "metadata": {},
   "outputs": [
    {
     "data": {
      "text/plain": [
       "-1       0.95414\n",
       " 201     0.95414\n",
       " 0      12.00000\n",
       " 1      12.00000\n",
       " 2      12.00000\n",
       " 3      12.00000\n",
       " 4      12.00000\n",
       " 5      12.00000\n",
       " 6      12.00000\n",
       " 7      12.00000\n",
       " 8      12.00000\n",
       " 9      12.00000\n",
       " 10     12.00000\n",
       " 11     12.00000\n",
       " 12     12.00000\n",
       " 13     12.00000\n",
       " 14     12.00000\n",
       " 15     12.00000\n",
       "Name: SOFA, dtype: float64"
      ]
     },
     "execution_count": 131,
     "metadata": {},
     "output_type": "execute_result"
    }
   ],
   "source": [
    "df4['SOFA']"
   ]
  },
  {
   "cell_type": "code",
   "execution_count": 133,
   "metadata": {},
   "outputs": [],
   "source": [
    "values['SOFA'] = [12] * n\n",
    "values['charttime'] = list(range(4570416000,4570416000 + (n *14400), 14400))\n"
   ]
  },
  {
   "cell_type": "code",
   "execution_count": 134,
   "metadata": {},
   "outputs": [
    {
     "data": {
      "text/plain": [
       "{'SOFA': [12, 12, 12, 12, 12, 12, 12, 12, 12, 12, 12, 12, 12, 12, 12, 12],\n",
       " 'bloc': [0, 1, 2, 3, 4, 5, 6, 7, 8, 9, 10, 11, 12, 13, 14, 15],\n",
       " 'charttime': [4570416000,\n",
       "  4570430400,\n",
       "  4570444800,\n",
       "  4570459200,\n",
       "  4570473600,\n",
       "  4570488000,\n",
       "  4570502400,\n",
       "  4570516800,\n",
       "  4570531200,\n",
       "  4570545600,\n",
       "  4570560000,\n",
       "  4570574400,\n",
       "  4570588800,\n",
       "  4570603200,\n",
       "  4570617600,\n",
       "  4570632000],\n",
       " 'custid': [2, 2, 2, 2, 2, 2, 2, 2, 2, 2, 2, 2, 2, 2, 2, 2],\n",
       " 'gender': [1, 1, 1, 1, 1, 1, 1, 1, 1, 1, 1, 1, 1, 1, 1, 1]}"
      ]
     },
     "execution_count": 134,
     "metadata": {},
     "output_type": "execute_result"
    }
   ],
   "source": [
    "values"
   ]
  },
  {
   "cell_type": "code",
   "execution_count": null,
   "metadata": {
    "collapsed": true
   },
   "outputs": [],
   "source": []
  }
 ],
 "metadata": {
  "kernelspec": {
   "display_name": "Python 3",
   "language": "python",
   "name": "python3"
  },
  "language_info": {
   "codemirror_mode": {
    "name": "ipython",
    "version": 3
   },
   "file_extension": ".py",
   "mimetype": "text/x-python",
   "name": "python",
   "nbconvert_exporter": "python",
   "pygments_lexer": "ipython3",
   "version": "3.6.1"
  }
 },
 "nbformat": 4,
 "nbformat_minor": 2
}
