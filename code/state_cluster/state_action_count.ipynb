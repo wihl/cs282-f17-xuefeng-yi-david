{
 "cells": [
  {
   "cell_type": "code",
   "execution_count": 1,
   "metadata": {},
   "outputs": [],
   "source": [
    "import numpy as np\n",
    "import pickle as pkl\n",
    "import pandas as pd\n",
    "from sklearn.cluster import MiniBatchKMeans\n",
    "from itertools import cycle\n",
    "\n",
    "import matplotlib.pyplot as plt\n",
    "import matplotlib.colors as colors\n",
    "%matplotlib inline\n",
    "\n",
    "plt.rcParams['figure.figsize'] = (8, 8)\n"
   ]
  },
  {
   "cell_type": "code",
   "execution_count": 2,
   "metadata": {
    "collapsed": true
   },
   "outputs": [],
   "source": [
    "df = pd.read_csv('../../data/Sepsis_imp.csv')"
   ]
  },
  {
   "cell_type": "code",
   "execution_count": 3,
   "metadata": {},
   "outputs": [],
   "source": [
    "observations =   ['gender','age','elixhauser','re_admission','SOFA','SIRS','Weight_kg','GCS','HR',\n",
    "                  'SysBP','MeanBP','DiaBP','Shock_Index','RR','SpO2','Temp_C','FiO2_1','Potassium',\n",
    "                  'Sodium','Chloride','Glucose','BUN','Creatinine','Magnesium','Calcium','Ionised_Ca',\n",
    "                  'CO2_mEqL','SGOT','SGPT','Total_bili','Albumin','Hb','WBC_count','Platelets_count',\n",
    "                  'PTT','PT','INR','Arterial_pH','paO2','paCO2','Arterial_BE','Arterial_lactate','HCO3',\n",
    "                  'PaO2_FiO2','output_total','output_4hourly','sedation','mechvent','rrt']\n",
    "# Per homework, 'sedation','mechvent','rrt' are considered observations, not interventions.\n",
    "interventions = ['input_4hourly_tev','max_dose_vaso']\n",
    "\n",
    "results = ['died_in_hosp','mortality_90d']\n",
    "\n",
    "X = df[observations]\n"
   ]
  },
  {
   "cell_type": "code",
   "execution_count": 4,
   "metadata": {
    "collapsed": true
   },
   "outputs": [],
   "source": [
    "n_clusters = 750\n",
    "mbk = MiniBatchKMeans(init='k-means++', n_clusters=n_clusters, batch_size=100,\n",
    "                      n_init=10, max_no_improvement=10, verbose=0, init_size=3*n_clusters,\n",
    "                      random_state=0)\n",
    "mbk.fit(X)\n",
    "mbk_means_labels_unique = np.unique(mbk.labels_)"
   ]
  },
  {
   "cell_type": "code",
   "execution_count": 5,
   "metadata": {},
   "outputs": [
    {
     "data": {
      "text/plain": [
       "array([721, 721,  37, ..., 649, 649,  67], dtype=int32)"
      ]
     },
     "execution_count": 5,
     "metadata": {},
     "output_type": "execute_result"
    }
   ],
   "source": [
    "mbk.labels_"
   ]
  },
  {
   "cell_type": "code",
   "execution_count": 6,
   "metadata": {
    "scrolled": true
   },
   "outputs": [
    {
     "data": {
      "text/plain": [
       "array([[  3.75000000e-01,   2.54353283e+04,   4.25000000e+00, ...,\n",
       "          0.00000000e+00,   1.25000000e-01,   0.00000000e+00],\n",
       "       [  1.00000000e+00,   2.79022778e+04,   3.00000000e+00, ...,\n",
       "          0.00000000e+00,   5.00000000e-01,   0.00000000e+00],\n",
       "       [  2.00000000e-01,   1.62233909e+04,   3.00000000e+00, ...,\n",
       "          4.00000000e-01,   4.00000000e-01,   0.00000000e+00],\n",
       "       ..., \n",
       "       [  6.00000000e-01,   1.48480491e+04,   4.00000000e+00, ...,\n",
       "          6.00000000e-01,   6.00000000e-01,   0.00000000e+00],\n",
       "       [  4.28571429e-01,   2.72899719e+04,   5.85714286e+00, ...,\n",
       "          2.85714286e-01,   4.28571429e-01,   0.00000000e+00],\n",
       "       [  6.00000000e-01,   2.20287776e+04,   5.80000000e+00, ...,\n",
       "          0.00000000e+00,   2.00000000e-01,   0.00000000e+00]])"
      ]
     },
     "execution_count": 6,
     "metadata": {},
     "output_type": "execute_result"
    }
   ],
   "source": [
    "mbk.cluster_centers_"
   ]
  },
  {
   "cell_type": "code",
   "execution_count": 7,
   "metadata": {},
   "outputs": [
    {
     "name": "stdout",
     "output_type": "stream",
     "text": [
      "Vasopressor bins counts:\n",
      " 0    208663\n",
      "2     12692\n",
      "1     11163\n",
      "4     10619\n",
      "3      9067\n",
      "Name: max_dose_vaso, dtype: int64\n",
      "IV fluid bin counts:\n",
      " 0    86623\n",
      "4    41396\n",
      "3    41395\n",
      "2    41395\n",
      "1    41395\n",
      "Name: cumulated_balance_tev, dtype: int64\n"
     ]
    }
   ],
   "source": [
    "# Because many blocs contain zero dose of vasopressor or zero dose or IV fluids, put zero \n",
    "# values into its own bin and evenly distribute the remaining values.\n",
    "n_actions = 25\n",
    "def non_zero_bins(s):\n",
    "    out, retbins = pd.qcut(s.where(s >= 0.001),4,retbins=True,labels=False)\n",
    "    retbins = np.insert(retbins,0,float('-inf'))\n",
    "    return pd.cut(s,retbins,labels=False)\n",
    "\n",
    "vaso_bins = non_zero_bins(df['max_dose_vaso'])\n",
    "tev_bins = non_zero_bins(df['cumulated_balance_tev'])\n",
    "print(\"Vasopressor bins counts:\\n\",vaso_bins.value_counts())\n",
    "print(\"IV fluid bin counts:\\n\",tev_bins.value_counts())\n"
   ]
  },
  {
   "cell_type": "code",
   "execution_count": 8,
   "metadata": {},
   "outputs": [
    {
     "data": {
      "text/html": [
       "<div>\n",
       "<style>\n",
       "    .dataframe thead tr:only-child th {\n",
       "        text-align: right;\n",
       "    }\n",
       "\n",
       "    .dataframe thead th {\n",
       "        text-align: left;\n",
       "    }\n",
       "\n",
       "    .dataframe tbody tr th {\n",
       "        vertical-align: top;\n",
       "    }\n",
       "</style>\n",
       "<table border=\"1\" class=\"dataframe\">\n",
       "  <thead>\n",
       "    <tr style=\"text-align: right;\">\n",
       "      <th></th>\n",
       "      <th>action</th>\n",
       "      <th>bloc</th>\n",
       "      <th>id</th>\n",
       "      <th>reward</th>\n",
       "      <th>state</th>\n",
       "    </tr>\n",
       "  </thead>\n",
       "  <tbody>\n",
       "    <tr>\n",
       "      <th>0</th>\n",
       "      <td>2</td>\n",
       "      <td>1</td>\n",
       "      <td>3</td>\n",
       "      <td>1</td>\n",
       "      <td>721</td>\n",
       "    </tr>\n",
       "    <tr>\n",
       "      <th>1</th>\n",
       "      <td>3</td>\n",
       "      <td>2</td>\n",
       "      <td>3</td>\n",
       "      <td>1</td>\n",
       "      <td>721</td>\n",
       "    </tr>\n",
       "    <tr>\n",
       "      <th>2</th>\n",
       "      <td>2</td>\n",
       "      <td>3</td>\n",
       "      <td>3</td>\n",
       "      <td>1</td>\n",
       "      <td>37</td>\n",
       "    </tr>\n",
       "    <tr>\n",
       "      <th>3</th>\n",
       "      <td>2</td>\n",
       "      <td>4</td>\n",
       "      <td>3</td>\n",
       "      <td>1</td>\n",
       "      <td>105</td>\n",
       "    </tr>\n",
       "    <tr>\n",
       "      <th>4</th>\n",
       "      <td>2</td>\n",
       "      <td>5</td>\n",
       "      <td>3</td>\n",
       "      <td>1</td>\n",
       "      <td>105</td>\n",
       "    </tr>\n",
       "  </tbody>\n",
       "</table>\n",
       "</div>"
      ],
      "text/plain": [
       "   action  bloc  id  reward  state\n",
       "0       2     1   3       1    721\n",
       "1       3     2   3       1    721\n",
       "2       2     3   3       1     37\n",
       "3       2     4   3       1    105\n",
       "4       2     5   3       1    105"
      ]
     },
     "execution_count": 8,
     "metadata": {},
     "output_type": "execute_result"
    }
   ],
   "source": [
    "d = {'state': mbk.labels_, 'action':vaso_bins*5 + tev_bins, 'reward': df[results].sum(axis=1), \n",
    "     'bloc':df.bloc, 'id':df.icustayid }\n",
    "mdp = pd.DataFrame(data = d)\n",
    "episodes = mdp.sort_values(['id','bloc']).groupby('id')\n",
    "mdp.head(5)"
   ]
  },
  {
   "cell_type": "code",
   "execution_count": 9,
   "metadata": {},
   "outputs": [],
   "source": [
    "state_action_count = np.zeros((n_clusters, n_actions))\n",
    "\n",
    "for i in range(len(mdp)):\n",
    "    s= mdp.state[i]\n",
    "    a= mdp.action[i]\n",
    "    state_action_count[s,a] += 1\n",
    "\n",
    "\n"
   ]
  },
  {
   "cell_type": "code",
   "execution_count": 14,
   "metadata": {},
   "outputs": [
    {
     "data": {
      "text/html": [
       "<div>\n",
       "<style>\n",
       "    .dataframe thead tr:only-child th {\n",
       "        text-align: right;\n",
       "    }\n",
       "\n",
       "    .dataframe thead th {\n",
       "        text-align: left;\n",
       "    }\n",
       "\n",
       "    .dataframe tbody tr th {\n",
       "        vertical-align: top;\n",
       "    }\n",
       "</style>\n",
       "<table border=\"1\" class=\"dataframe\">\n",
       "  <thead>\n",
       "    <tr style=\"text-align: right;\">\n",
       "      <th></th>\n",
       "      <th>action</th>\n",
       "      <th>bloc</th>\n",
       "      <th>id</th>\n",
       "      <th>reward</th>\n",
       "      <th>state</th>\n",
       "    </tr>\n",
       "  </thead>\n",
       "  <tbody>\n",
       "    <tr>\n",
       "      <th>0</th>\n",
       "      <td>2</td>\n",
       "      <td>1</td>\n",
       "      <td>3</td>\n",
       "      <td>1</td>\n",
       "      <td>721</td>\n",
       "    </tr>\n",
       "    <tr>\n",
       "      <th>1</th>\n",
       "      <td>3</td>\n",
       "      <td>2</td>\n",
       "      <td>3</td>\n",
       "      <td>1</td>\n",
       "      <td>721</td>\n",
       "    </tr>\n",
       "    <tr>\n",
       "      <th>2</th>\n",
       "      <td>2</td>\n",
       "      <td>3</td>\n",
       "      <td>3</td>\n",
       "      <td>1</td>\n",
       "      <td>37</td>\n",
       "    </tr>\n",
       "    <tr>\n",
       "      <th>3</th>\n",
       "      <td>2</td>\n",
       "      <td>4</td>\n",
       "      <td>3</td>\n",
       "      <td>1</td>\n",
       "      <td>105</td>\n",
       "    </tr>\n",
       "    <tr>\n",
       "      <th>4</th>\n",
       "      <td>2</td>\n",
       "      <td>5</td>\n",
       "      <td>3</td>\n",
       "      <td>1</td>\n",
       "      <td>105</td>\n",
       "    </tr>\n",
       "  </tbody>\n",
       "</table>\n",
       "</div>"
      ],
      "text/plain": [
       "   action  bloc  id  reward  state\n",
       "0       2     1   3       1    721\n",
       "1       3     2   3       1    721\n",
       "2       2     3   3       1     37\n",
       "3       2     4   3       1    105\n",
       "4       2     5   3       1    105"
      ]
     },
     "execution_count": 14,
     "metadata": {},
     "output_type": "execute_result"
    }
   ],
   "source": [
    "mdp.head()"
   ]
  },
  {
   "cell_type": "code",
   "execution_count": 18,
   "metadata": {},
   "outputs": [
    {
     "data": {
      "text/plain": [
       "37"
      ]
     },
     "execution_count": 18,
     "metadata": {},
     "output_type": "execute_result"
    }
   ],
   "source": [
    "mdp.state[2]"
   ]
  },
  {
   "cell_type": "code",
   "execution_count": 19,
   "metadata": {},
   "outputs": [],
   "source": [
    "sas_count = np.zeros((n_clusters, n_actions))\n",
    "\n",
    "i =0\n",
    "for name, transitions in episodes:\n",
    "    state = transitions['state'].tolist()\n",
    "    action = transitions['action'].tolist()\n",
    "    for i in range(len(state)-2):\n",
    "        sas_count[state[i],action[i]] += 1"
   ]
  },
  {
   "cell_type": "code",
   "execution_count": 20,
   "metadata": {},
   "outputs": [
    {
     "name": "stdout",
     "output_type": "stream",
     "text": [
      "Number of null items: 6909  out of  18750\n",
      "The state-action-sprime matrix is 36.85% sparse\n",
      "Total number of distinct state, action, sprime tuples: 11841\n"
     ]
    }
   ],
   "source": [
    "sas_nul_count = np.count_nonzero(sas_count==0.0)\n",
    "print (\"Number of null items:\",sas_nul_count, \" out of \", n_clusters*n_actions)\n",
    "sparsity = 100*(1 - (n_clusters*n_actions - sas_nul_count) / (n_clusters*n_actions)) \n",
    "print (\"The state-action-sprime matrix is {0:.2f}% sparse\".format(sparsity))\n",
    "distinct_sas_count = sorted(sas_count[np.nonzero(sas_count)],reverse=True)\n",
    "print (\"Total number of distinct state, action, sprime tuples:\",len(distinct_sas_count))"
   ]
  },
  {
   "cell_type": "code",
   "execution_count": 24,
   "metadata": {},
   "outputs": [
    {
     "data": {
      "text/plain": [
       "array([[ 168.,   89.,   81.,  130.,   61.,    5.,    7.,    2.,    8.,\n",
       "           6.,    6.,    4.,    3.,   13.,    6.,    2.,    0.,    3.,\n",
       "           7.,    5.,    7.,    2.,    9.,    3.,    7.],\n",
       "       [  63.,    0.,    0.,    0.,   20.,   14.,    0.,    0.,    0.,\n",
       "           0.,    6.,    0.,    0.,    0.,    0.,    3.,    0.,    0.,\n",
       "           0.,    0.,    4.,    0.,    0.,    0.,    0.],\n",
       "       [ 111.,   54.,   84.,   87.,   85.,    2.,    4.,    2.,    2.,\n",
       "           1.,    1.,    1.,    2.,    5.,    4.,    2.,    0.,    0.,\n",
       "           5.,    5.,    0.,    3.,    0.,    2.,    0.],\n",
       "       [  62.,   14.,   11.,    6.,   16.,    3.,    0.,    0.,    0.,\n",
       "           0.,    7.,    2.,    0.,    0.,    0.,    2.,    0.,    0.,\n",
       "           2.,    0.,    2.,    0.,    0.,    1.,    0.],\n",
       "       [  73.,   54.,   52.,   26.,   11.,    2.,    4.,    3.,    1.,\n",
       "           1.,    2.,    2.,    1.,    0.,    1.,    0.,    0.,    0.,\n",
       "           0.,    0.,    0.,    0.,    0.,    1.,    0.]])"
      ]
     },
     "execution_count": 24,
     "metadata": {},
     "output_type": "execute_result"
    }
   ],
   "source": [
    "state_action_count[0:5]"
   ]
  },
  {
   "cell_type": "code",
   "execution_count": 37,
   "metadata": {},
   "outputs": [
    {
     "data": {
      "text/plain": [
       "array([24,  6, 20, 12, 15,  3,  7, 16, 12, 24])"
      ]
     },
     "execution_count": 37,
     "metadata": {},
     "output_type": "execute_result"
    }
   ],
   "source": [
    "f = np.sum(state_action_count != 0, axis = 1)\n",
    "f[0:10]"
   ]
  },
  {
   "cell_type": "code",
   "execution_count": 38,
   "metadata": {},
   "outputs": [
    {
     "data": {
      "text/plain": [
       "array([5, 1, 5, 1, 3, 1, 0, 4, 4, 5])"
      ]
     },
     "execution_count": 38,
     "metadata": {},
     "output_type": "execute_result"
    }
   ],
   "source": [
    "g = np.sum(state_action_count > 30, axis = 1)\n",
    "g[0:10]"
   ]
  },
  {
   "cell_type": "code",
   "execution_count": 27,
   "metadata": {},
   "outputs": [
    {
     "ename": "NameError",
     "evalue": "name 'state_transition_count' is not defined",
     "output_type": "error",
     "traceback": [
      "\u001b[0;31m---------------------------------------------------------------------------\u001b[0m",
      "\u001b[0;31mNameError\u001b[0m                                 Traceback (most recent call last)",
      "\u001b[0;32m<ipython-input-27-80e0100dcc0b>\u001b[0m in \u001b[0;36m<module>\u001b[0;34m()\u001b[0m\n\u001b[0;32m----> 1\u001b[0;31m \u001b[0mnul_count\u001b[0m \u001b[0;34m=\u001b[0m \u001b[0mnp\u001b[0m\u001b[0;34m.\u001b[0m\u001b[0mcount_nonzero\u001b[0m\u001b[0;34m(\u001b[0m\u001b[0mstate_transition_count\u001b[0m\u001b[0;34m==\u001b[0m\u001b[0;36m0.0\u001b[0m\u001b[0;34m)\u001b[0m\u001b[0;34m\u001b[0m\u001b[0m\n\u001b[0m\u001b[1;32m      2\u001b[0m \u001b[0mprint\u001b[0m \u001b[0;34m(\u001b[0m\u001b[0;34m\"Number of null transitions:\"\u001b[0m\u001b[0;34m,\u001b[0m\u001b[0mnul_count\u001b[0m\u001b[0;34m,\u001b[0m \u001b[0;34m\" out of \"\u001b[0m\u001b[0;34m,\u001b[0m \u001b[0mn_clusters\u001b[0m\u001b[0;34m*\u001b[0m\u001b[0mn_clusters\u001b[0m\u001b[0;34m)\u001b[0m\u001b[0;34m\u001b[0m\u001b[0m\n\u001b[1;32m      3\u001b[0m \u001b[0msparsity\u001b[0m \u001b[0;34m=\u001b[0m \u001b[0;36m100\u001b[0m\u001b[0;34m*\u001b[0m\u001b[0;34m(\u001b[0m\u001b[0;36m1\u001b[0m \u001b[0;34m-\u001b[0m \u001b[0;34m(\u001b[0m\u001b[0mn_clusters\u001b[0m\u001b[0;34m*\u001b[0m\u001b[0mn_clusters\u001b[0m \u001b[0;34m-\u001b[0m \u001b[0mnul_count\u001b[0m\u001b[0;34m)\u001b[0m \u001b[0;34m/\u001b[0m \u001b[0;34m(\u001b[0m\u001b[0mn_clusters\u001b[0m\u001b[0;34m*\u001b[0m\u001b[0mn_clusters\u001b[0m\u001b[0;34m)\u001b[0m\u001b[0;34m)\u001b[0m\u001b[0;34m\u001b[0m\u001b[0m\n\u001b[1;32m      4\u001b[0m \u001b[0mprint\u001b[0m \u001b[0;34m(\u001b[0m\u001b[0;34m\"The state transitions are {0:.2f}% sparse\"\u001b[0m\u001b[0;34m.\u001b[0m\u001b[0mformat\u001b[0m\u001b[0;34m(\u001b[0m\u001b[0msparsity\u001b[0m\u001b[0;34m)\u001b[0m\u001b[0;34m)\u001b[0m\u001b[0;34m\u001b[0m\u001b[0m\n\u001b[1;32m      5\u001b[0m \u001b[0mt_count\u001b[0m \u001b[0;34m=\u001b[0m \u001b[0msorted\u001b[0m\u001b[0;34m(\u001b[0m\u001b[0mstate_transition_count\u001b[0m\u001b[0;34m[\u001b[0m\u001b[0mnp\u001b[0m\u001b[0;34m.\u001b[0m\u001b[0mnonzero\u001b[0m\u001b[0;34m(\u001b[0m\u001b[0mstate_transition_count\u001b[0m\u001b[0;34m)\u001b[0m\u001b[0;34m]\u001b[0m\u001b[0;34m,\u001b[0m\u001b[0mreverse\u001b[0m\u001b[0;34m=\u001b[0m\u001b[0;32mTrue\u001b[0m\u001b[0;34m)\u001b[0m\u001b[0;34m\u001b[0m\u001b[0m\n",
      "\u001b[0;31mNameError\u001b[0m: name 'state_transition_count' is not defined"
     ]
    }
   ],
   "source": [
    "nul_count = np.count_nonzero(state_transition_count==0.0)\n",
    "print (\"Number of null transitions:\",nul_count, \" out of \", n_clusters*n_clusters)\n",
    "sparsity = 100*(1 - (n_clusters*n_clusters - nul_count) / (n_clusters*n_clusters)) \n",
    "print (\"The state transitions are {0:.2f}% sparse\".format(sparsity))\n",
    "t_count = sorted(state_transition_count[np.nonzero(state_transition_count)],reverse=True)\n",
    "print (\"Total number of different transitions:\",len(t_count))"
   ]
  },
  {
   "cell_type": "code",
   "execution_count": 30,
   "metadata": {},
   "outputs": [
    {
     "data": {
      "text/plain": [
       "array([24,  6, 20, 12, 15,  3,  7, 16, 12, 24, 15,  9, 10, 17, 10, 22,  7,\n",
       "       14,  9,  5, 23, 21, 16, 21, 18, 25,  7,  4, 10, 23, 25,  7,  3,  6,\n",
       "       15, 24, 19, 24,  6, 12, 17,  6, 14, 17, 14, 13, 10,  9, 25, 16, 20,\n",
       "        7, 25, 12,  8, 19, 12,  8, 12, 18, 25, 23, 20, 12, 13, 10, 13, 16,\n",
       "        5, 20, 23, 11, 23,  7, 19, 14, 23, 18, 18, 18, 20, 23, 24, 22, 14,\n",
       "       25, 23, 24,  8,  9, 24, 12, 20, 12, 22, 22, 14, 25, 14, 15,  4, 22,\n",
       "       10,  9, 15, 22, 10,  3, 17,  9,  4, 23, 20, 11, 18,  8, 22, 21, 23,\n",
       "       20,  9, 17, 15,  4,  5,  7, 13, 21, 10, 24, 20, 12, 18, 18, 25, 12,\n",
       "       21, 24, 25, 21, 20, 16, 18, 25, 18, 14,  8, 12, 22,  4, 20,  4,  9,\n",
       "       24, 23, 21, 13, 17, 11,  7, 22, 25, 16, 12, 10, 23, 24,  9, 21, 10,\n",
       "       11, 15, 22, 25, 21, 22,  3, 14, 16, 20, 14,  9, 12, 14,  6,  6,  8,\n",
       "       14,  9, 23, 24,  8, 12, 18,  8, 20,  8, 23, 24, 17, 15, 25, 17, 12,\n",
       "        6,  6, 10,  5, 10,  8, 15, 22, 15, 12, 11, 10, 10, 11,  7, 12, 12,\n",
       "       13, 10,  3, 22, 12, 23, 25, 19, 17,  4,  7, 24, 11, 23, 25, 24, 21,\n",
       "        8, 23, 25, 11, 11, 17, 10,  8, 17,  6, 17, 13, 12, 18, 22, 15, 12,\n",
       "       19, 10, 21, 20, 24,  4,  9, 15, 23, 14, 20, 20, 25, 19, 12,  5, 24,\n",
       "       23, 24, 15, 22, 14, 22, 24, 24, 24, 24, 14, 18,  9, 10, 10,  5,  7,\n",
       "       14, 24, 23, 19, 19, 22,  9, 18, 11,  8, 16, 24,  9, 12, 22, 15,  7,\n",
       "       22, 16, 24, 12, 13, 25, 13, 25, 24, 19, 22, 14, 11, 16, 12, 23, 16,\n",
       "       12, 24, 12, 19, 22, 22, 19, 25, 21, 13, 12,  5, 20, 20, 20, 25, 22,\n",
       "       24, 22, 24, 22, 24, 14, 23, 10, 14, 18, 23, 22, 24, 25, 10, 20, 19,\n",
       "       23, 16, 12,  7,  5, 20, 19, 13, 15, 22,  9,  7, 11, 18, 23, 23, 11,\n",
       "       23, 15, 20, 12, 24, 23,  8, 12, 18,  1, 15, 19, 12,  7,  5, 21, 25,\n",
       "        5, 22, 11, 11, 21, 13,  5, 20, 25, 22, 20, 20, 23, 13,  3, 25, 24,\n",
       "       21, 22,  9,  6, 23,  4,  3, 12, 10, 19, 13, 12, 10,  3, 20, 25, 19,\n",
       "       25,  9, 20, 21,  6,  6, 12, 23,  9, 15, 23, 24, 24, 25, 13, 17, 15,\n",
       "       16,  9, 24, 22, 10,  8, 13, 12,  9, 25, 23,  5, 25, 15, 13, 15, 11,\n",
       "       22,  4, 17, 16, 25, 16, 16, 22, 25,  8, 24, 17, 24,  8, 24, 16, 17,\n",
       "       22,  7, 13, 25, 24, 15, 10, 23, 25,  7, 20, 22,  8,  6, 10, 24, 21,\n",
       "       24,  7, 11, 24, 15, 20, 14, 23,  9, 21, 15, 20, 24, 21, 17, 25, 24,\n",
       "       17, 25, 19, 16,  7,  2, 12, 12, 25, 19, 11,  7, 25, 23, 25, 20, 21,\n",
       "       18, 23, 25,  9, 20, 24, 17,  8, 19, 16, 11, 25,  4, 23, 19, 21, 22,\n",
       "       11, 14, 12,  9, 21, 10, 24, 15,  8, 21, 19, 24, 17, 13,  7,  7, 14,\n",
       "        5, 11, 24, 15,  9,  4, 16, 23, 23, 24, 20, 10, 13, 22, 25, 20, 24,\n",
       "       22, 24, 14,  9, 13, 20, 22, 17, 12, 24, 11, 20, 13, 17, 25, 24, 21,\n",
       "        9, 14, 25, 19, 23,  8, 16, 18, 23, 24, 24, 19, 21, 25, 18, 17,  6,\n",
       "       25,  4, 13, 10, 15, 20, 13, 24, 13, 20, 19, 11, 10, 23, 18, 23,  8,\n",
       "       24, 23, 14, 10, 14, 25,  9, 23, 25, 23, 12,  9,  8, 19, 17, 21, 22,\n",
       "       16, 15, 25, 19, 20,  6, 10,  9, 25, 20, 12, 19, 11, 24, 23, 16, 12,\n",
       "       13, 18, 20, 14, 25,  5, 15, 17, 15, 21, 22, 20, 13,  7, 12, 16, 24,\n",
       "       12, 22, 16,  5, 12,  6, 24, 19, 10, 23, 18, 24,  5, 19, 16, 13, 15,\n",
       "       14,  6,  5, 23, 22, 18, 14,  9, 25, 10, 25, 24, 19, 22, 23, 16, 15,\n",
       "       15, 25, 24, 22, 21, 25, 15, 24, 23,  6, 22, 12, 13, 23, 11, 21, 20,\n",
       "       21, 16, 24, 12, 25, 25, 24, 10,  7, 18, 17, 21, 11, 21, 25, 22, 18,\n",
       "       25, 22])"
      ]
     },
     "execution_count": 30,
     "metadata": {},
     "output_type": "execute_result"
    }
   ],
   "source": [
    "np.count_nonzero(state_action_count, axis=1)"
   ]
  },
  {
   "cell_type": "code",
   "execution_count": 36,
   "metadata": {},
   "outputs": [
    {
     "data": {
      "text/plain": [
       "array([[ 168.,   89.,   81.,  130.,   61.,    5.,    7.,    2.,    8.,\n",
       "           6.,    6.,    4.,    3.,   13.,    6.,    2.,    0.,    3.,\n",
       "           7.,    5.,    7.,    2.,    9.,    3.,    7.],\n",
       "       [  63.,    0.,    0.,    0.,   20.,   14.,    0.,    0.,    0.,\n",
       "           0.,    6.,    0.,    0.,    0.,    0.,    3.,    0.,    0.,\n",
       "           0.,    0.,    4.,    0.,    0.,    0.,    0.],\n",
       "       [ 111.,   54.,   84.,   87.,   85.,    2.,    4.,    2.,    2.,\n",
       "           1.,    1.,    1.,    2.,    5.,    4.,    2.,    0.,    0.,\n",
       "           5.,    5.,    0.,    3.,    0.,    2.,    0.],\n",
       "       [  62.,   14.,   11.,    6.,   16.,    3.,    0.,    0.,    0.,\n",
       "           0.,    7.,    2.,    0.,    0.,    0.,    2.,    0.,    0.,\n",
       "           2.,    0.,    2.,    0.,    0.,    1.,    0.],\n",
       "       [  73.,   54.,   52.,   26.,   11.,    2.,    4.,    3.,    1.,\n",
       "           1.,    2.,    2.,    1.,    0.,    1.,    0.,    0.,    0.,\n",
       "           0.,    0.,    0.,    0.,    0.,    1.,    0.],\n",
       "       [  39.,    0.,    0.,    0.,    0.,    0.,    0.,    0.,    0.,\n",
       "           0.,    0.,    0.,    0.,    0.,    0.,    2.,    0.,    0.,\n",
       "           0.,    0.,   12.,    0.,    0.,    0.,    0.],\n",
       "       [  24.,    0.,    0.,    0.,    4.,    2.,    0.,    0.,    0.,\n",
       "           0.,    4.,    0.,    0.,    0.,    0.,    2.,    0.,    0.,\n",
       "           0.,    0.,    5.,    0.,    0.,    0.,    1.],\n",
       "       [ 198.,   31.,   25.,   35.,   34.,   16.,    0.,    0.,    0.,\n",
       "           3.,    0.,    0.,    0.,    4.,    5.,    1.,    0.,    0.,\n",
       "           1.,    5.,    1.,    0.,    1.,    4.,    3.],\n",
       "       [  76.,   36.,   21.,   50.,   51.,    1.,    0.,    0.,    0.,\n",
       "           1.,    1.,    0.,    0.,    0.,    2.,    0.,    0.,    0.,\n",
       "           0.,    3.,    0.,    0.,    0.,    1.,    4.],\n",
       "       [ 337.,  305.,  254.,  185.,  144.,    2.,    8.,    9.,   25.,\n",
       "          12.,    3.,    3.,   23.,   15.,   14.,    0.,    9.,   10.,\n",
       "           7.,   16.,    2.,   11.,    8.,   23.,   16.],\n",
       "       [  95.,    9.,   25.,   19.,   24.,    0.,    1.,    0.,    2.,\n",
       "           0.,    4.,    0.,    0.,    0.,    1.,    1.,    2.,    1.,\n",
       "           1.,    0.,    1.,    1.,    0.,    0.,    0.],\n",
       "       [  14.,    8.,    9.,   14.,   20.,    1.,    0.,    0.,    3.,\n",
       "           0.,    0.,    0.,    0.,    0.,    0.,    0.,    0.,    0.,\n",
       "           0.,    2.,    0.,    0.,    0.,    0.,    3.],\n",
       "       [  47.,    0.,    4.,    3.,   22.,    9.,    0.,    0.,    0.,\n",
       "           0.,    2.,    0.,    0.,    0.,    1.,    1.,    0.,    0.,\n",
       "           0.,    8.,    0.,    0.,    0.,    0.,   14.],\n",
       "       [ 125.,   25.,   31.,   28.,   46.,    7.,    1.,    1.,    0.,\n",
       "           2.,    5.,    0.,    3.,    0.,    0.,    0.,    2.,    0.,\n",
       "           0.,    6.,    4.,    2.,    0.,    2.,    2.],\n",
       "       [  26.,    0.,    0.,    0.,    3.,    4.,    0.,    1.,    0.,\n",
       "           0.,    2.,    0.,    0.,    0.,    0.,    4.,    0.,    0.,\n",
       "           0.,    0.,   22.,    1.,    2.,    9.,    0.],\n",
       "       [  74.,   35.,   36.,   24.,    9.,    2.,    3.,    4.,    1.,\n",
       "           0.,    2.,    1.,    8.,    8.,    4.,    0.,    1.,    8.,\n",
       "           6.,    3.,    0.,    2.,    2.,   12.,    4.],\n",
       "       [  27.,    0.,    0.,    0.,    0.,    0.,    0.,    0.,    0.,\n",
       "           0.,    1.,    0.,    0.,    0.,    0.,    9.,    0.,    0.,\n",
       "           2.,    0.,   25.,    1.,    1.,    0.,    0.],\n",
       "       [ 152.,   16.,   18.,    5.,   42.,    3.,    0.,    0.,    0.,\n",
       "           3.,   14.,    1.,    0.,    0.,    3.,    8.,    0.,    0.,\n",
       "           0.,    6.,    9.,    0.,    0.,    0.,    7.],\n",
       "       [ 107.,    3.,    1.,    3.,   14.,    6.,    0.,    0.,    0.,\n",
       "           0.,    9.,    0.,    0.,    0.,    0.,   12.,    0.,    0.,\n",
       "           0.,    0.,    6.,    0.,    0.,    0.,    0.],\n",
       "       [  44.,    7.,    0.,    3.,    5.,    0.,    0.,    0.,    0.,\n",
       "           0.,    0.,    0.,    0.,    0.,    1.,    0.,    0.,    0.,\n",
       "           0.,    0.,    0.,    0.,    0.,    0.,    0.]])"
      ]
     },
     "execution_count": 36,
     "metadata": {},
     "output_type": "execute_result"
    }
   ],
   "source": [
    "state_action_count[0:20]"
   ]
  },
  {
   "cell_type": "code",
   "execution_count": 34,
   "metadata": {},
   "outputs": [
    {
     "data": {
      "text/plain": [
       "18750"
      ]
     },
     "execution_count": 34,
     "metadata": {},
     "output_type": "execute_result"
    }
   ],
   "source": [
    "750*25"
   ]
  },
  {
   "cell_type": "code",
   "execution_count": 28,
   "metadata": {},
   "outputs": [
    {
     "data": {
      "text/plain": [
       "(array([  10.,   30.,   65.,   66.,   75.,   92.,   54.,   99.,   80.,  179.]),\n",
       " array([  1. ,   3.4,   5.8,   8.2,  10.6,  13. ,  15.4,  17.8,  20.2,\n",
       "         22.6,  25. ]),\n",
       " <a list of 10 Patch objects>)"
      ]
     },
     "execution_count": 28,
     "metadata": {},
     "output_type": "execute_result"
    },
    {
     "data": {
      "image/png": "[encoded data removed]",
      "text/plain": [
       "<matplotlib.figure.Figure at 0x10e0a4d30>"
      ]
     },
     "metadata": {},
     "output_type": "display_data"
    }
   ],
   "source": [
    "plt.hist(f)"
   ]
  },
  {
   "cell_type": "code",
   "execution_count": 39,
   "metadata": {},
   "outputs": [
    {
     "data": {
      "text/plain": [
       "(array([ 124.,  190.,   78.,   38.,   57.,  237.,   20.,    4.,    1.,    1.]),\n",
       " array([ 0. ,  0.9,  1.8,  2.7,  3.6,  4.5,  5.4,  6.3,  7.2,  8.1,  9. ]),\n",
       " <a list of 10 Patch objects>)"
      ]
     },
     "execution_count": 39,
     "metadata": {},
     "output_type": "execute_result"
    },
    {
     "data": {
      "image/png": "[encoded data removed]",
      "text/plain": [
       "<matplotlib.figure.Figure at 0x11f4b79e8>"
      ]
     },
     "metadata": {},
     "output_type": "display_data"
    }
   ],
   "source": [
    "plt.hist(g)"
   ]
  },
  {
   "cell_type": "code",
   "execution_count": 32,
   "metadata": {},
   "outputs": [],
   "source": [
    "psa = state_action_count/ np.sum(state_action_count, axis = 1)[:, np.newaxis]"
   ]
  },
  {
   "cell_type": "code",
   "execution_count": 33,
   "metadata": {},
   "outputs": [
    {
     "data": {
      "text/plain": [
       "(array([  57.,    0.,  146.,    0.,  165.,    0.,  228.,    0.,  153.,    1.]),\n",
       " array([ 1. ,  1.5,  2. ,  2.5,  3. ,  3.5,  4. ,  4.5,  5. ,  5.5,  6. ]),\n",
       " <a list of 10 Patch objects>)"
      ]
     },
     "execution_count": 33,
     "metadata": {},
     "output_type": "execute_result"
    },
    {
     "data": {
      "image/png": "[encoded data removed]",
      "text/plain": [
       "<matplotlib.figure.Figure at 0x11f3b7be0>"
      ]
     },
     "metadata": {},
     "output_type": "display_data"
    }
   ],
   "source": [
    "f2 = np.sum(psa>0.1, axis = 1)\n",
    "plt.hist(f2)"
   ]
  },
  {
   "cell_type": "code",
   "execution_count": null,
   "metadata": {
    "collapsed": true
   },
   "outputs": [],
   "source": []
  },
  {
   "cell_type": "code",
   "execution_count": null,
   "metadata": {
    "collapsed": true
   },
   "outputs": [],
   "source": []
  },
  {
   "cell_type": "markdown",
   "metadata": {},
   "source": [
    "# Random policy"
   ]
  },
  {
   "cell_type": "code",
   "execution_count": null,
   "metadata": {},
   "outputs": [],
   "source": [
    "mdp.groupby('id')"
   ]
  },
  {
   "cell_type": "code",
   "execution_count": null,
   "metadata": {},
   "outputs": [],
   "source": [
    "df.columns"
   ]
  }
 ],
 "metadata": {
  "anaconda-cloud": {},
  "kernelspec": {
   "display_name": "Python 3",
   "language": "python",
   "name": "python3"
  },
  "language_info": {
   "codemirror_mode": {
    "name": "ipython",
    "version": 3
   },
   "file_extension": ".py",
   "mimetype": "text/x-python",
   "name": "python",
   "nbconvert_exporter": "python",
   "pygments_lexer": "ipython3",
   "version": "3.6.1"
  }
 },
 "nbformat": 4,
 "nbformat_minor": 1
}
