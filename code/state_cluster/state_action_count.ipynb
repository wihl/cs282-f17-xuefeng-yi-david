{
 "cells": [
  {
   "cell_type": "code",
   "execution_count": 1,
   "metadata": {
    "collapsed": false
   },
   "outputs": [],
   "source": [
    "import numpy as np\n",
    "import pickle as pkl\n",
    "import pandas as pd\n",
    "from sklearn.cluster import MiniBatchKMeans\n",
    "from itertools import cycle\n",
    "\n",
    "import matplotlib.pyplot as plt\n",
    "import matplotlib.colors as colors\n",
    "%matplotlib inline\n",
    "\n",
    "plt.rcParams['figure.figsize'] = (8, 8)\n"
   ]
  },
  {
   "cell_type": "code",
   "execution_count": 2,
   "metadata": {
    "collapsed": true
   },
   "outputs": [],
   "source": [
    "df = pd.read_csv('/Users/dilys/Desktop/Harvard_1718_Fall/CS282/cs282-f17-xuefeng-yi-david/data/Sepsis_imp_train.csv')"
   ]
  },
  {
   "cell_type": "code",
   "execution_count": 3,
   "metadata": {
    "collapsed": false
   },
   "outputs": [],
   "source": [
    "observations =   ['gender','age','elixhauser','re_admission','SOFA','SIRS','Weight_kg','GCS','HR',\n",
    "                  'SysBP','MeanBP','DiaBP','Shock_Index','RR','SpO2','Temp_C','FiO2_1','Potassium',\n",
    "                  'Sodium','Chloride','Glucose','BUN','Creatinine','Magnesium','Calcium','Ionised_Ca',\n",
    "                  'CO2_mEqL','SGOT','SGPT','Total_bili','Albumin','Hb','WBC_count','Platelets_count',\n",
    "                  'PTT','PT','INR','Arterial_pH','paO2','paCO2','Arterial_BE','Arterial_lactate','HCO3',\n",
    "                  'PaO2_FiO2','output_total','output_4hourly','sedation','mechvent','rrt']\n",
    "# Per homework, 'sedation','mechvent','rrt' are considered observations, not interventions.\n",
    "interventions = ['input_4hourly_tev','max_dose_vaso']\n",
    "\n",
    "results = ['died_in_hosp','mortality_90d']\n",
    "\n",
    "X = df[observations]\n"
   ]
  },
  {
   "cell_type": "code",
   "execution_count": null,
   "metadata": {
    "collapsed": true
   },
   "outputs": [],
   "source": [
    "n_clusters = 750\n",
    "mbk = MiniBatchKMeans(init='k-means++', n_clusters=n_clusters, batch_size=100,\n",
    "                      n_init=10, max_no_improvement=10, verbose=0, init_size=3*n_clusters,\n",
    "                      random_state=0)\n",
    "mbk.fit(X)\n",
    "mbk_means_labels_unique = np.unique(mbk.labels_)"
   ]
  },
  {
   "cell_type": "code",
   "execution_count": null,
   "metadata": {
    "collapsed": false
   },
   "outputs": [],
   "source": [
    "mbk.labels_"
   ]
  },
  {
   "cell_type": "code",
   "execution_count": null,
   "metadata": {
    "collapsed": false,
    "scrolled": true
   },
   "outputs": [],
   "source": [
    "mbk.cluster_centers_"
   ]
  },
  {
   "cell_type": "code",
   "execution_count": null,
   "metadata": {
    "collapsed": false
   },
   "outputs": [],
   "source": [
    "# Because many blocs contain zero dose of vasopressor or zero dose or IV fluids, put zero \n",
    "# values into its own bin and evenly distribute the remaining values.\n",
    "n_actions = 25\n",
    "def non_zero_bins(s):\n",
    "    out, retbins = pd.qcut(s.where(s >= 0.001),4,retbins=True,labels=False)\n",
    "    retbins = np.insert(retbins,0,float('-inf'))\n",
    "    return pd.cut(s,retbins,labels=False)\n",
    "\n",
    "vaso_bins = non_zero_bins(df['max_dose_vaso'])\n",
    "tev_bins = non_zero_bins(df['cumulated_balance_tev'])\n",
    "print(\"Vasopressor bins counts:\\n\",vaso_bins.value_counts())\n",
    "print(\"IV fluid bin counts:\\n\",tev_bins.value_counts())\n"
   ]
  },
  {
   "cell_type": "code",
   "execution_count": null,
   "metadata": {
    "collapsed": false
   },
   "outputs": [],
   "source": [
    "d = {'state': mbk.labels_, 'action':vaso_bins*5 + tev_bins, 'reward': df[results].sum(axis=1), \n",
    "     'bloc':df.bloc, 'id':df.icustayid }\n",
    "mdp = pd.DataFrame(data = d)\n",
    "episodes = mdp.sort_values(['id','bloc']).groupby('id')\n",
    "mdp.head(5)"
   ]
  },
  {
   "cell_type": "code",
   "execution_count": null,
   "metadata": {
    "collapsed": false
   },
   "outputs": [],
   "source": [
    "state_action_count = np.zeros((n_clusters, n_actions))\n",
    "\n",
    "for i in range(len(mdp)):\n",
    "    s= mdp.state[i]\n",
    "    a= mdp.action[i]\n",
    "    state_action_count[s,a] += 1\n",
    "\n",
    "\n"
   ]
  },
  {
   "cell_type": "code",
   "execution_count": null,
   "metadata": {
    "collapsed": false
   },
   "outputs": [],
   "source": [
    "sas_count = np.zeros((n_clusters, n_actions))\n",
    "\n",
    "i =0\n",
    "for name, transitions in episodes:\n",
    "    state = transitions['state'].tolist()\n",
    "    action = transitions['action'].tolist()\n",
    "    for i in range(len(state)-2):\n",
    "        sas_count[state[i],action[i]] += 1"
   ]
  },
  {
   "cell_type": "code",
   "execution_count": null,
   "metadata": {
    "collapsed": false
   },
   "outputs": [],
   "source": [
    "sas_nul_count = np.count_nonzero(sas_count==0.0)\n",
    "print (\"Number of null items:\",sas_nul_count, \" out of \", n_clusters*n_actions)\n",
    "sparsity = 100*(1 - (n_clusters*n_actions - sas_nul_count) / (n_clusters*n_actions)) \n",
    "print (\"The state-action-sprime matrix is {0:.2f}% sparse\".format(sparsity))\n",
    "distinct_sas_count = sorted(sas_count[np.nonzero(sas_count)],reverse=True)\n",
    "print (\"Total number of distinct state, action, sprime tuples:\",len(distinct_sas_count))"
   ]
  },
  {
   "cell_type": "code",
   "execution_count": null,
   "metadata": {
    "collapsed": false
   },
   "outputs": [],
   "source": [
    "f = np.sum(state_action_count != 0, axis = 1)\n",
    "f"
   ]
  },
  {
   "cell_type": "code",
   "execution_count": null,
   "metadata": {
    "collapsed": false
   },
   "outputs": [],
   "source": [
    "nul_count = np.count_nonzero(state_transition_count==0.0)\n",
    "print (\"Number of null transitions:\",nul_count, \" out of \", n_clusters*n_clusters)\n",
    "sparsity = 100*(1 - (n_clusters*n_clusters - nul_count) / (n_clusters*n_clusters)) \n",
    "print (\"The state transitions are {0:.2f}% sparse\".format(sparsity))\n",
    "t_count = sorted(state_transition_count[np.nonzero(state_transition_count)],reverse=True)\n",
    "print (\"Total number of different transitions:\",len(t_count))"
   ]
  },
  {
   "cell_type": "code",
   "execution_count": null,
   "metadata": {
    "collapsed": false
   },
   "outputs": [],
   "source": [
    "plt.hist(f)"
   ]
  },
  {
   "cell_type": "code",
   "execution_count": null,
   "metadata": {
    "collapsed": false
   },
   "outputs": [],
   "source": [
    "psa = state_action_count/ np.sum(state_action_count, axis = 1)[:, np.newaxis]"
   ]
  },
  {
   "cell_type": "code",
   "execution_count": null,
   "metadata": {
    "collapsed": false
   },
   "outputs": [],
   "source": [
    "f2 = np.sum(psa>0.1, axis = 1)\n",
    "plt.hist(f2)"
   ]
  },
  {
   "cell_type": "code",
   "execution_count": null,
   "metadata": {
    "collapsed": true
   },
   "outputs": [],
   "source": []
  },
  {
   "cell_type": "code",
   "execution_count": null,
   "metadata": {
    "collapsed": true
   },
   "outputs": [],
   "source": []
  },
  {
   "cell_type": "markdown",
   "metadata": {},
   "source": [
    "# Random policy"
   ]
  },
  {
   "cell_type": "code",
   "execution_count": null,
   "metadata": {
    "collapsed": false
   },
   "outputs": [],
   "source": [
    "mdp.groupby('id')"
   ]
  },
  {
   "cell_type": "code",
   "execution_count": null,
   "metadata": {
    "collapsed": false
   },
   "outputs": [],
   "source": [
    "df.columns"
   ]
  }
 ],
 "metadata": {
  "anaconda-cloud": {},
  "kernelspec": {
   "display_name": "Python [Root]",
   "language": "python",
   "name": "Python [Root]"
  },
  "language_info": {
   "codemirror_mode": {
    "name": "ipython",
    "version": 2
   },
   "file_extension": ".py",
   "mimetype": "text/x-python",
   "name": "python",
   "nbconvert_exporter": "python",
   "pygments_lexer": "ipython2",
   "version": "2.7.12"
  }
 },
 "nbformat": 4,
 "nbformat_minor": 0
}
