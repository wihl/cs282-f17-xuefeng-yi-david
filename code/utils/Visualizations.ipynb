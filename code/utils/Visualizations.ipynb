{
 "cells": [
  {
   "cell_type": "markdown",
   "metadata": {},
   "source": [
    "# Demographic Visualizations"
   ]
  },
  {
   "cell_type": "code",
   "execution_count": 1,
   "metadata": {},
   "outputs": [],
   "source": [
    "%matplotlib inline\n",
    "import pickle as pkl\n",
    "import numpy as np\n",
    "import pandas as pd\n",
    "import matplotlib.pyplot as plt\n",
    "import sys\n",
    "MIN_INT_VALUE = -sys.maxsize - 1\n",
    "\n",
    "import seaborn as sns; sns.set()\n",
    "from collections import Counter\n",
    "\n",
    "n_states = 750\n",
    "n_actions = 25\n"
   ]
  },
  {
   "cell_type": "code",
   "execution_count": 2,
   "metadata": {},
   "outputs": [
    {
     "name": "stdout",
     "output_type": "stream",
     "text": [
      "Initial train set shape: (150741, 59)\n",
      "Initial test set shape: (50859, 59)\n"
     ]
    }
   ],
   "source": [
    "train_set = pd.read_csv('../../data/origin_train_clean.csv')\n",
    "test_set = pd.read_csv('../../data/origin_test_clean.csv')\n",
    "print (\"Initial train set shape:\",train_set.shape)\n",
    "print (\"Initial test set shape:\",test_set.shape)"
   ]
  },
  {
   "cell_type": "code",
   "execution_count": 3,
   "metadata": {},
   "outputs": [
    {
     "name": "stdout",
     "output_type": "stream",
     "text": [
      "New train set shape: (150720, 59)\n",
      "New test set shape: (50829, 59)\n"
     ]
    }
   ],
   "source": [
    "# Remove rows for invalid patients\n",
    "train_set.drop(train_set[train_set['icustayid'].\n",
    "                         isin([76921.0,77243.0,90270.0,91090.0,98366.0])].index, inplace=True)\n",
    "train_set.drop(train_set[train_set['icustayid'].isnull()].index, inplace=True)\n",
    "test_set.drop(test_set[test_set['icustayid'].\n",
    "                       isin([37166.0,67895.0,68546.0,85154.0])].index,inplace=True)\n",
    "test_set.drop(test_set[test_set['icustayid'].isnull()].index, inplace=True)\n",
    "print (\"New train set shape:\",train_set.shape)\n",
    "print (\"New test set shape:\",test_set.shape)"
   ]
  },
  {
   "cell_type": "code",
   "execution_count": 4,
   "metadata": {},
   "outputs": [
    {
     "data": {
      "text/html": [
       "<div>\n",
       "<style>\n",
       "    .dataframe thead tr:only-child th {\n",
       "        text-align: right;\n",
       "    }\n",
       "\n",
       "    .dataframe thead th {\n",
       "        text-align: left;\n",
       "    }\n",
       "\n",
       "    .dataframe tbody tr th {\n",
       "        vertical-align: top;\n",
       "    }\n",
       "</style>\n",
       "<table border=\"1\" class=\"dataframe\">\n",
       "  <thead>\n",
       "    <tr style=\"text-align: right;\">\n",
       "      <th></th>\n",
       "      <th>bloc</th>\n",
       "      <th>icustayid</th>\n",
       "      <th>charttime</th>\n",
       "      <th>gender</th>\n",
       "      <th>age</th>\n",
       "      <th>elixhauser</th>\n",
       "      <th>re_admission</th>\n",
       "      <th>SOFA</th>\n",
       "      <th>SIRS</th>\n",
       "      <th>Weight_kg</th>\n",
       "      <th>...</th>\n",
       "      <th>input_total_tev</th>\n",
       "      <th>input_4hourly_tev</th>\n",
       "      <th>output_total</th>\n",
       "      <th>output_4hourly</th>\n",
       "      <th>cumulated_balance_tev</th>\n",
       "      <th>sedation</th>\n",
       "      <th>mechvent</th>\n",
       "      <th>rrt</th>\n",
       "      <th>died_in_hosp</th>\n",
       "      <th>mortality_90d</th>\n",
       "    </tr>\n",
       "  </thead>\n",
       "  <tbody>\n",
       "    <tr>\n",
       "      <th>0</th>\n",
       "      <td>1.0</td>\n",
       "      <td>12.0</td>\n",
       "      <td>5.805744e+09</td>\n",
       "      <td>1.0</td>\n",
       "      <td>12049.217303</td>\n",
       "      <td>0.0</td>\n",
       "      <td>0.0</td>\n",
       "      <td>7.0</td>\n",
       "      <td>1.0</td>\n",
       "      <td>51.200001</td>\n",
       "      <td>...</td>\n",
       "      <td>0.0</td>\n",
       "      <td>0.0</td>\n",
       "      <td>0.0</td>\n",
       "      <td>0.0</td>\n",
       "      <td>0.0</td>\n",
       "      <td>0.0</td>\n",
       "      <td>0.0</td>\n",
       "      <td>0.0</td>\n",
       "      <td>0.0</td>\n",
       "      <td>0.0</td>\n",
       "    </tr>\n",
       "    <tr>\n",
       "      <th>1</th>\n",
       "      <td>2.0</td>\n",
       "      <td>12.0</td>\n",
       "      <td>5.805758e+09</td>\n",
       "      <td>1.0</td>\n",
       "      <td>12049.217303</td>\n",
       "      <td>0.0</td>\n",
       "      <td>0.0</td>\n",
       "      <td>3.0</td>\n",
       "      <td>2.0</td>\n",
       "      <td>51.200001</td>\n",
       "      <td>...</td>\n",
       "      <td>0.0</td>\n",
       "      <td>0.0</td>\n",
       "      <td>650.0</td>\n",
       "      <td>650.0</td>\n",
       "      <td>-650.0</td>\n",
       "      <td>0.0</td>\n",
       "      <td>0.0</td>\n",
       "      <td>0.0</td>\n",
       "      <td>0.0</td>\n",
       "      <td>0.0</td>\n",
       "    </tr>\n",
       "    <tr>\n",
       "      <th>2</th>\n",
       "      <td>3.0</td>\n",
       "      <td>12.0</td>\n",
       "      <td>5.805773e+09</td>\n",
       "      <td>1.0</td>\n",
       "      <td>12049.217303</td>\n",
       "      <td>0.0</td>\n",
       "      <td>0.0</td>\n",
       "      <td>2.0</td>\n",
       "      <td>2.0</td>\n",
       "      <td>51.200001</td>\n",
       "      <td>...</td>\n",
       "      <td>0.0</td>\n",
       "      <td>0.0</td>\n",
       "      <td>1200.0</td>\n",
       "      <td>550.0</td>\n",
       "      <td>-1200.0</td>\n",
       "      <td>0.0</td>\n",
       "      <td>0.0</td>\n",
       "      <td>0.0</td>\n",
       "      <td>0.0</td>\n",
       "      <td>0.0</td>\n",
       "    </tr>\n",
       "    <tr>\n",
       "      <th>3</th>\n",
       "      <td>4.0</td>\n",
       "      <td>12.0</td>\n",
       "      <td>5.805787e+09</td>\n",
       "      <td>1.0</td>\n",
       "      <td>12049.217303</td>\n",
       "      <td>0.0</td>\n",
       "      <td>0.0</td>\n",
       "      <td>5.0</td>\n",
       "      <td>2.0</td>\n",
       "      <td>51.200001</td>\n",
       "      <td>...</td>\n",
       "      <td>0.0</td>\n",
       "      <td>0.0</td>\n",
       "      <td>1200.0</td>\n",
       "      <td>0.0</td>\n",
       "      <td>-1200.0</td>\n",
       "      <td>0.0</td>\n",
       "      <td>0.0</td>\n",
       "      <td>0.0</td>\n",
       "      <td>0.0</td>\n",
       "      <td>0.0</td>\n",
       "    </tr>\n",
       "    <tr>\n",
       "      <th>4</th>\n",
       "      <td>1.0</td>\n",
       "      <td>14.0</td>\n",
       "      <td>4.264269e+09</td>\n",
       "      <td>0.0</td>\n",
       "      <td>30946.970000</td>\n",
       "      <td>2.0</td>\n",
       "      <td>0.0</td>\n",
       "      <td>5.0</td>\n",
       "      <td>2.0</td>\n",
       "      <td>56.872728</td>\n",
       "      <td>...</td>\n",
       "      <td>1300.0</td>\n",
       "      <td>1300.0</td>\n",
       "      <td>340.0</td>\n",
       "      <td>160.0</td>\n",
       "      <td>960.0</td>\n",
       "      <td>1.0</td>\n",
       "      <td>1.0</td>\n",
       "      <td>0.0</td>\n",
       "      <td>0.0</td>\n",
       "      <td>1.0</td>\n",
       "    </tr>\n",
       "  </tbody>\n",
       "</table>\n",
       "<p>5 rows × 59 columns</p>\n",
       "</div>"
      ],
      "text/plain": [
       "   bloc  icustayid     charttime  gender           age  elixhauser  \\\n",
       "0   1.0       12.0  5.805744e+09     1.0  12049.217303         0.0   \n",
       "1   2.0       12.0  5.805758e+09     1.0  12049.217303         0.0   \n",
       "2   3.0       12.0  5.805773e+09     1.0  12049.217303         0.0   \n",
       "3   4.0       12.0  5.805787e+09     1.0  12049.217303         0.0   \n",
       "4   1.0       14.0  4.264269e+09     0.0  30946.970000         2.0   \n",
       "\n",
       "   re_admission  SOFA  SIRS  Weight_kg      ...        input_total_tev  \\\n",
       "0           0.0   7.0   1.0  51.200001      ...                    0.0   \n",
       "1           0.0   3.0   2.0  51.200001      ...                    0.0   \n",
       "2           0.0   2.0   2.0  51.200001      ...                    0.0   \n",
       "3           0.0   5.0   2.0  51.200001      ...                    0.0   \n",
       "4           0.0   5.0   2.0  56.872728      ...                 1300.0   \n",
       "\n",
       "   input_4hourly_tev  output_total  output_4hourly  cumulated_balance_tev  \\\n",
       "0                0.0           0.0             0.0                    0.0   \n",
       "1                0.0         650.0           650.0                 -650.0   \n",
       "2                0.0        1200.0           550.0                -1200.0   \n",
       "3                0.0        1200.0             0.0                -1200.0   \n",
       "4             1300.0         340.0           160.0                  960.0   \n",
       "\n",
       "   sedation  mechvent  rrt  died_in_hosp  mortality_90d  \n",
       "0       0.0       0.0  0.0           0.0            0.0  \n",
       "1       0.0       0.0  0.0           0.0            0.0  \n",
       "2       0.0       0.0  0.0           0.0            0.0  \n",
       "3       0.0       0.0  0.0           0.0            0.0  \n",
       "4       1.0       1.0  0.0           0.0            1.0  \n",
       "\n",
       "[5 rows x 59 columns]"
      ]
     },
     "execution_count": 4,
     "metadata": {},
     "output_type": "execute_result"
    }
   ],
   "source": [
    "train_set.head()"
   ]
  },
  {
   "cell_type": "code",
   "execution_count": 5,
   "metadata": {},
   "outputs": [],
   "source": [
    "episodes = train_set.groupby('icustayid')\n",
    "train_set['age_group'] = (train_set['age']/365.25/5).astype(int)\n",
    "death_by_age_count = np.zeros((train_set['age_group'].nunique()+3))\n",
    "in_hosp_count = np.zeros((train_set['age_group'].nunique()+3))\n",
    "initial_sofa = np.zeros((train_set['age_group'].nunique()+3,25))\n",
    "final_sofa = np.zeros((train_set['age_group'].nunique()+3,25))\n",
    "in_hosp_l=[]\n",
    "mort_90d = []\n",
    "n_pat = 0\n",
    "for name, transitions in episodes:\n",
    "    n_pat += 1\n",
    "    in_hosp = transitions['died_in_hosp'].tolist()[-1]\n",
    "    in_hosp_l.append(in_hosp)\n",
    "    in_hosp_count [transitions['age_group'].tolist()[0]] += in_hosp\n",
    "    \n",
    "    died = transitions['mortality_90d'].tolist()[-1]\n",
    "    mort_90d.append(died)\n",
    "    death_by_age_count[transitions['age_group'].tolist()[0]] += died\n",
    "    \n",
    "    init_sofa = int(transitions['SOFA'].tolist()[0])\n",
    "    fin_sofa = int(transitions['SOFA'].tolist()[-1])\n",
    "    initial_sofa[transitions['age_group'].tolist()[0],init_sofa] += 1\n",
    "    final_sofa[transitions['age_group'].tolist()[0],fin_sofa] += 1\n"
   ]
  },
  {
   "cell_type": "code",
   "execution_count": 6,
   "metadata": {},
   "outputs": [
    {
     "name": "stdout",
     "output_type": "stream",
     "text": [
      "1407.0\n",
      "0.1217128027681661\n"
     ]
    }
   ],
   "source": [
    "print(sum(in_hosp_l))\n",
    "print(sum(in_hosp_l)/n_pat)\n"
   ]
  },
  {
   "cell_type": "code",
   "execution_count": 7,
   "metadata": {},
   "outputs": [
    {
     "name": "stdout",
     "output_type": "stream",
     "text": [
      "2521.0\n",
      "0.21807958477508652\n"
     ]
    }
   ],
   "source": [
    "print(sum(mort_90d))\n",
    "print(sum(mort_90d)/n_pat)\n"
   ]
  },
  {
   "cell_type": "code",
   "execution_count": 31,
   "metadata": {},
   "outputs": [],
   "source": [
    "corr = train_set.corr()"
   ]
  },
  {
   "cell_type": "code",
   "execution_count": 39,
   "metadata": {},
   "outputs": [
    {
     "data": {
      "text/plain": [
       "array([ 0.00113496,  0.00227733,  0.00244685,  0.00474382,  0.01282561,\n",
       "        0.01509573,  0.02040037,  0.021113  ,  0.02134108,  0.03146442,\n",
       "        0.03284986,  0.03306033,  0.03484459,  0.03562767,  0.04428181,\n",
       "        0.04612365,  0.05025767,  0.05296105,  0.0539172 ,  0.05513057,\n",
       "        0.05570412,  0.05856113,  0.06062603,  0.06250446,  0.06380334,\n",
       "        0.06658572,  0.06826564,  0.06928322,  0.0716409 ,  0.07454492,\n",
       "        0.07570706,  0.08036296,  0.0833851 ,  0.08645147,  0.08806609,\n",
       "        0.09051679,  0.09268271,  0.09359246,  0.09578671,  0.09889524,\n",
       "        0.09971254,  0.11038123,  0.11074696,  0.11089318,  0.11110916,\n",
       "        0.11529755,  0.11822403,  0.11990101,  0.12224873,  0.1228941 ,\n",
       "        0.12682017,  0.14207113,  0.14601043,  0.15780669,  0.21075997,\n",
       "        0.21145629,  0.23546559,  0.25462345,  0.71458755,  0.99936273,  1.        ])"
      ]
     },
     "execution_count": 39,
     "metadata": {},
     "output_type": "execute_result"
    }
   ],
   "source": [
    "np.sort(np.abs(corr['died']))\n"
   ]
  },
  {
   "cell_type": "code",
   "execution_count": 42,
   "metadata": {},
   "outputs": [
    {
     "data": {
      "text/plain": [
       "bloc                     0.033060\n",
       "icustayid                0.001135\n",
       "charttime               -0.012826\n",
       "gender                  -0.002277\n",
       "age                      0.210760\n",
       "elixhauser               0.157807\n",
       "re_admission             0.069283\n",
       "SOFA                     0.254623\n",
       "SIRS                     0.146010\n",
       "Weight_kg               -0.083385\n",
       "GCS                     -0.142071\n",
       "HR                       0.066586\n",
       "SysBP                   -0.095787\n",
       "MeanBP                  -0.110893\n",
       "DiaBP                   -0.080363\n",
       "Shock_Index              0.086451\n",
       "RR                       0.111109\n",
       "SpO2                    -0.058561\n",
       "Temp_C                  -0.050258\n",
       "FiO2_1                   0.063803\n",
       "Potassium                0.053917\n",
       "Sodium                   0.032850\n",
       "Chloride                -0.004744\n",
       "Glucose                  0.046124\n",
       "BUN                      0.235466\n",
       "Creatinine               0.068266\n",
       "Magnesium                0.055704\n",
       "Calcium                 -0.020400\n",
       "Ionised_Ca              -0.021113\n",
       "CO2_mEqL                -0.062504\n",
       "                           ...   \n",
       "SGPT                     0.031464\n",
       "Total_bili               0.093592\n",
       "Albumin                 -0.110381\n",
       "Hb                      -0.074545\n",
       "WBC_count                0.090517\n",
       "Platelets_count         -0.021341\n",
       "PTT                      0.098895\n",
       "PT                       0.118224\n",
       "INR                      0.126820\n",
       "Arterial_pH             -0.060626\n",
       "paO2                    -0.071641\n",
       "paCO2                   -0.015096\n",
       "Arterial_BE             -0.075707\n",
       "Arterial_lactate         0.110747\n",
       "HCO3                    -0.099713\n",
       "PaO2_FiO2               -0.088066\n",
       "median_dose_vaso         0.122894\n",
       "max_dose_vaso            0.115298\n",
       "input_total_tev         -0.002447\n",
       "input_4hourly_tev        0.035628\n",
       "output_total            -0.055131\n",
       "output_4hourly          -0.122249\n",
       "cumulated_balance_tev    0.044282\n",
       "sedation                 0.034845\n",
       "mechvent                 0.119901\n",
       "rrt                      0.092683\n",
       "died_in_hosp             0.714588\n",
       "mortality_90d            0.999363\n",
       "age_group                0.211456\n",
       "died                     1.000000\n",
       "Name: died, Length: 61, dtype: float64"
      ]
     },
     "execution_count": 42,
     "metadata": {},
     "output_type": "execute_result"
    }
   ],
   "source": [
    "corr['died']"
   ]
  },
  {
   "cell_type": "code",
   "execution_count": 8,
   "metadata": {},
   "outputs": [
    {
     "data": {
      "text/plain": [
       "array([[ 1.        ,  0.70361226],\n",
       "       [ 0.70361226,  1.        ]])"
      ]
     },
     "execution_count": 8,
     "metadata": {},
     "output_type": "execute_result"
    }
   ],
   "source": [
    "np.corrcoef(in_hosp_l,mort_90d)"
   ]
  },
  {
   "cell_type": "code",
   "execution_count": 9,
   "metadata": {},
   "outputs": [
    {
     "data": {
      "text/plain": [
       "(array([ 9039.,     0.,     0.,     0.,     0.,     0.,     0.,     0.,\n",
       "            0.,  2521.]),\n",
       " array([ 0. ,  0.1,  0.2,  0.3,  0.4,  0.5,  0.6,  0.7,  0.8,  0.9,  1. ]),\n",
       " <a list of 10 Patch objects>)"
      ]
     },
     "execution_count": 9,
     "metadata": {},
     "output_type": "execute_result"
    },
    {
     "data": {
      "image/png": "[encoded data removed]",
      "text/plain": [
       "<matplotlib.figure.Figure at 0x110aff3c8>"
      ]
     },
     "metadata": {},
     "output_type": "display_data"
    }
   ],
   "source": [
    "plt.hist(mort_90d)"
   ]
  },
  {
   "cell_type": "code",
   "execution_count": 10,
   "metadata": {},
   "outputs": [
    {
     "data": {
      "text/plain": [
       "<matplotlib.legend.Legend at 0x11174a898>"
      ]
     },
     "execution_count": 10,
     "metadata": {},
     "output_type": "execute_result"
    },
    {
     "data": {
      "image/png": "[encoded data removed]",
      "text/plain": [
       "<matplotlib.figure.Figure at 0x111ad13c8>"
      ]
     },
     "metadata": {},
     "output_type": "display_data"
    }
   ],
   "source": [
    "index = np.arange(death_by_age_count.shape[0])\n",
    "death_by_age = death_by_age_count / np.sum(death_by_age_count) * 100.\n",
    "in_hosp_pct = in_hosp_count / np.sum(in_hosp_count) * 100.\n",
    "\n",
    "bar_width = 0.35\n",
    "opacity = 0.8\n",
    "\n",
    "plt.bar(index,death_by_age,alpha=opacity,label='90 day mortality')\n",
    "plt.bar(index+bar_width,in_hosp_pct,color='y',alpha=opacity,label='In hospital mortality')\n",
    "plt.xticks(index, index*5)\n",
    "plt.xlabel('Age in Years')\n",
    "plt.ylabel('Percent of Population')\n",
    "plt.title('Mortality by Age')\n",
    "plt.legend()"
   ]
  },
  {
   "cell_type": "code",
   "execution_count": 11,
   "metadata": {},
   "outputs": [
    {
     "data": {
      "text/plain": [
       "<matplotlib.text.Text at 0x103d82ef0>"
      ]
     },
     "execution_count": 11,
     "metadata": {},
     "output_type": "execute_result"
    },
    {
     "data": {
      "image/png": "[encoded data removed]",
      "text/plain": [
       "<matplotlib.figure.Figure at 0x1047dafd0>"
      ]
     },
     "metadata": {},
     "output_type": "display_data"
    }
   ],
   "source": [
    "ax = sns.heatmap(initial_sofa, linewidths=.01,yticklabels=index*5) \n",
    "ax.invert_yaxis()\n",
    "ax.set_title('Initial SOFA by Age')\n",
    "plt.xlabel('SOFA Score')\n",
    "plt.ylabel('Age')"
   ]
  },
  {
   "cell_type": "code",
   "execution_count": 12,
   "metadata": {},
   "outputs": [
    {
     "data": {
      "text/plain": [
       "<matplotlib.text.Text at 0x103d896a0>"
      ]
     },
     "execution_count": 12,
     "metadata": {},
     "output_type": "execute_result"
    },
    {
     "data": {
      "image/png": "[encoded data removed]",
      "text/plain": [
       "<matplotlib.figure.Figure at 0x11553bfd0>"
      ]
     },
     "metadata": {},
     "output_type": "display_data"
    }
   ],
   "source": [
    "ax = sns.heatmap(final_sofa, linewidths=.01,yticklabels=index*5) \n",
    "ax.invert_yaxis()\n",
    "ax.set_title('Final SOFA by Age')\n",
    "plt.xlabel('SOFA Score')\n",
    "plt.ylabel('Age')"
   ]
  },
  {
   "cell_type": "markdown",
   "metadata": {},
   "source": [
    "### Predict Death from Certain Metrics in order to use as a driver for RL value function"
   ]
  },
  {
   "cell_type": "code",
   "execution_count": 13,
   "metadata": {},
   "outputs": [
    {
     "name": "stderr",
     "output_type": "stream",
     "text": [
      "/anaconda/lib/python3.6/site-packages/sklearn/cross_validation.py:41: DeprecationWarning: This module was deprecated in version 0.18 in favor of the model_selection module into which all the refactored classes and functions are moved. Also note that the interface of the new CV iterators are different from that of this module. This module will be removed in 0.20.\n",
      "  \"This module will be removed in 0.20.\", DeprecationWarning)\n"
     ]
    }
   ],
   "source": [
    "from sklearn import linear_model\n",
    "from sklearn import svm\n",
    "from sklearn.preprocessing import Imputer\n",
    "from sklearn import metrics\n",
    "from sklearn.ensemble import RandomForestClassifier\n",
    "from sklearn.tree import DecisionTreeClassifier\n",
    "from sklearn.neighbors import KNeighborsClassifier\n",
    "from sklearn.cross_validation import cross_val_score\n",
    "from sklearn.ensemble import GradientBoostingClassifier"
   ]
  },
  {
   "cell_type": "code",
   "execution_count": 14,
   "metadata": {},
   "outputs": [
    {
     "data": {
      "text/plain": [
       "Index(['bloc', 'icustayid', 'charttime', 'gender', 'age', 'elixhauser',\n",
       "       're_admission', 'SOFA', 'SIRS', 'Weight_kg', 'GCS', 'HR', 'SysBP',\n",
       "       'MeanBP', 'DiaBP', 'Shock_Index', 'RR', 'SpO2', 'Temp_C', 'FiO2_1',\n",
       "       'Potassium', 'Sodium', 'Chloride', 'Glucose', 'BUN', 'Creatinine',\n",
       "       'Magnesium', 'Calcium', 'Ionised_Ca', 'CO2_mEqL', 'SGOT', 'SGPT',\n",
       "       'Total_bili', 'Albumin', 'Hb', 'WBC_count', 'Platelets_count', 'PTT',\n",
       "       'PT', 'INR', 'Arterial_pH', 'paO2', 'paCO2', 'Arterial_BE',\n",
       "       'Arterial_lactate', 'HCO3', 'PaO2_FiO2', 'median_dose_vaso',\n",
       "       'max_dose_vaso', 'input_total_tev', 'input_4hourly_tev', 'output_total',\n",
       "       'output_4hourly', 'cumulated_balance_tev', 'sedation', 'mechvent',\n",
       "       'rrt', 'died_in_hosp', 'mortality_90d', 'age_group'],\n",
       "      dtype='object')"
      ]
     },
     "execution_count": 14,
     "metadata": {},
     "output_type": "execute_result"
    }
   ],
   "source": [
    "train_set.columns"
   ]
  },
  {
   "cell_type": "code",
   "execution_count": 15,
   "metadata": {},
   "outputs": [],
   "source": [
    "train_set['died'] = np.logical_or(train_set['died_in_hosp'],train_set['mortality_90d'])\n"
   ]
  },
  {
   "cell_type": "code",
   "execution_count": 16,
   "metadata": {},
   "outputs": [],
   "source": [
    "died = lambda x: 1 if x.iloc[-1] == 1 else 0\n",
    "train_set['died'] =  train_set.groupby('icustayid')['died'].transform(died)"
   ]
  },
  {
   "cell_type": "code",
   "execution_count": 46,
   "metadata": {
    "collapsed": true
   },
   "outputs": [],
   "source": [
    "# X_train = train_set[['SOFA','Arterial_lactate','age','gender','HR','SpO2','Creatinine',\n",
    "#                      'Arterial_pH','MeanBP','Shock_Index']]\n",
    "X_train = train_set[['SOFA','BUN','age','elixhauser']]"
   ]
  },
  {
   "cell_type": "code",
   "execution_count": 47,
   "metadata": {
    "collapsed": true
   },
   "outputs": [],
   "source": [
    "\n",
    "y_train = train_set['died']"
   ]
  },
  {
   "cell_type": "markdown",
   "metadata": {},
   "source": [
    "#### Prediction Models"
   ]
  },
  {
   "cell_type": "code",
   "execution_count": 48,
   "metadata": {},
   "outputs": [
    {
     "name": "stdout",
     "output_type": "stream",
     "text": [
      "Accuracy when predicting all lived =  0.770189755839\n"
     ]
    }
   ],
   "source": [
    "# Baseline\n",
    "\n",
    "print ('Accuracy when predicting all lived = ', metrics.accuracy_score(y_train,np.zeros(y_train.shape)))"
   ]
  },
  {
   "cell_type": "code",
   "execution_count": 53,
   "metadata": {},
   "outputs": [
    {
     "name": "stdout",
     "output_type": "stream",
     "text": [
      "{0.001: 0.06896493633183734, 0.01: 0.06896493633183734, 0.1: 0.06896493633183734, 1: 0.06896493633183734, 10: 0.06896493633183734, 100: 0.06896493633183734, 1000: 0.06896493633183734}\n"
     ]
    }
   ],
   "source": [
    "# Logistic Regression\n",
    "cdict = {}\n",
    "for c in [0.001,0.01,0.1,1,10,100,1000]:\n",
    "    clf = linear_model.LogisticRegression(C=c)\n",
    "    scores = cross_val_score(clf, X_train, y_train, scoring='f1', cv=5)\n",
    "    cdict[c] = scores.mean()\n",
    "print (cdict)"
   ]
  },
  {
   "cell_type": "code",
   "execution_count": 55,
   "metadata": {},
   "outputs": [
    {
     "name": "stdout",
     "output_type": "stream",
     "text": [
      "{100: 0.32906447143602047, 200: 0.32666789766941412}\n"
     ]
    }
   ],
   "source": [
    "# Random Forest\n",
    "ntdict = {}\n",
    "for nt in [100,200]:\n",
    "    clf = RandomForestClassifier(n_estimators=nt,criterion=\"gini\")\n",
    "    scores = cross_val_score(clf, X_train, y_train, cv=3, scoring='f1')\n",
    "    ntdict[nt] = scores.mean()\n",
    "print(ntdict)"
   ]
  },
  {
   "cell_type": "code",
   "execution_count": 54,
   "metadata": {},
   "outputs": [
    {
     "name": "stdout",
     "output_type": "stream",
     "text": [
      "{10: 0.28754067855454352, 100: 0.20863745516489204, 300: 0.094824352839136455}\n"
     ]
    }
   ],
   "source": [
    "# K Nearest\n",
    "kdict = {}\n",
    "for k in [10,100,300]:\n",
    "    clf = KNeighborsClassifier(n_neighbors=k)\n",
    "    scores = cross_val_score(clf, X_train, y_train, cv=5, scoring='f1')\n",
    "    kdict[k] = scores.mean()\n",
    "print (kdict)"
   ]
  },
  {
   "cell_type": "code",
   "execution_count": 56,
   "metadata": {},
   "outputs": [
    {
     "name": "stderr",
     "output_type": "stream",
     "text": [
      "/anaconda/lib/python3.6/site-packages/sklearn/metrics/classification.py:1135: UndefinedMetricWarning: F-score is ill-defined and being set to 0.0 due to no predicted samples.\n",
      "  'precision', 'predicted', average, warn_for)\n",
      "/anaconda/lib/python3.6/site-packages/sklearn/metrics/classification.py:1135: UndefinedMetricWarning: F-score is ill-defined and being set to 0.0 due to no predicted samples.\n",
      "  'precision', 'predicted', average, warn_for)\n",
      "/anaconda/lib/python3.6/site-packages/sklearn/metrics/classification.py:1135: UndefinedMetricWarning: F-score is ill-defined and being set to 0.0 due to no predicted samples.\n",
      "  'precision', 'predicted', average, warn_for)\n",
      "/anaconda/lib/python3.6/site-packages/sklearn/metrics/classification.py:1135: UndefinedMetricWarning: F-score is ill-defined and being set to 0.0 due to no predicted samples.\n",
      "  'precision', 'predicted', average, warn_for)\n"
     ]
    },
    {
     "name": "stdout",
     "output_type": "stream",
     "text": [
      "{0.0001: 0.074743060613417497, 0.1: 0.074745076881575417, 1: 0.0, 10: 0.074743060613417497}\n"
     ]
    },
    {
     "name": "stderr",
     "output_type": "stream",
     "text": [
      "/anaconda/lib/python3.6/site-packages/sklearn/metrics/classification.py:1135: UndefinedMetricWarning: F-score is ill-defined and being set to 0.0 due to no predicted samples.\n",
      "  'precision', 'predicted', average, warn_for)\n"
     ]
    }
   ],
   "source": [
    "# SVM\n",
    "svmdict = {}\n",
    "for c in [0.0001,0.1,1,10]:\n",
    "    clf = svm.LinearSVC(loss=\"hinge\",C=c);\n",
    "    scores = cross_val_score(clf, X_train, y_train, cv=5, scoring='f1')\n",
    "    svmdict[c] = scores.mean()\n",
    "print (svmdict)"
   ]
  },
  {
   "cell_type": "code",
   "execution_count": 57,
   "metadata": {},
   "outputs": [
    {
     "name": "stdout",
     "output_type": "stream",
     "text": [
      "{100: 0.29146869901492217, 200: 0.29769987863534508}\n"
     ]
    }
   ],
   "source": [
    "# Gradient Boost\n",
    "xgdict = {}\n",
    "for k in [100,200]:\n",
    "    clf = GradientBoostingClassifier(n_estimators=k)\n",
    "    scores = cross_val_score(clf, X_train, y_train, cv=5, scoring='f1')\n",
    "    xgdict[k] = scores.mean()\n",
    "print(xgdict)"
   ]
  },
  {
   "cell_type": "markdown",
   "metadata": {},
   "source": [
    "### Features\n",
    "\n",
    "#### Accuracy\n",
    "['SOFA','Arterial_lactate','age','gender','HR','SpO2','Creatinine',                      'Arterial_pH','MeanBP','Shock_Index']]\n",
    "\n",
    "Logistic: {0.001: 0.78655783694973336, 0.01: 0.7861464814401895, 0.1: 0.78633226166981507, 1: 0.78610668308794751, 10: 0.7867635203173472, 100: 0.7867635203173472, 1000: 0.78669717872506972}\n",
    "\n",
    "Random Forest {100: 0.78032116337362012, 200: 0.78059982751071733}\n",
    "\n",
    "kNN {10: 0.72377266643393634, 100: 0.76326963995839159, 300: 0.76841162399982521}\n",
    "\n",
    "SVM {0.0001: 0.77141722168226889, 0.1: 0.77203426562238442, 1: 0.60351542365778432, 10: 0.58622564300153346}\n",
    "\n",
    "GradBoost {100: 0.78877386953761253, 200: 0.78793126352404685}\n",
    "\n",
    "#### F1 score\n",
    "\n",
    "['SOFA','BUN','age','elixhauser']\n",
    "\n",
    "Logistic {0.001: 0.06896493633183734, 0.01: 0.06896493633183734, 0.1: 0.06896493633183734, 1: 0.06896493633183734, 10: 0.06896493633183734, 100: 0.06896493633183734, 1000: 0.06896493633183734}\n",
    "\n",
    "Random Forest{100: 0.32906447143602047, 200: 0.32666789766941412}\n",
    "\n",
    "kNN {10: 0.28754067855454352, 100: 0.20863745516489204, 300: 0.094824352839136455}\n",
    "\n",
    "SVM {0.0001: 0.074743060613417497, 0.1: 0.074745076881575417, 1: 0.0, 10: 0.074743060613417497}\n",
    "\n",
    "GradBoost\n",
    "{100: 0.29146869901492217, 200: 0.29769987863534508}\n"
   ]
  },
  {
   "cell_type": "markdown",
   "metadata": {},
   "source": [
    "### SOFA scores correlation with state"
   ]
  },
  {
   "cell_type": "code",
   "execution_count": 61,
   "metadata": {
    "collapsed": true
   },
   "outputs": [],
   "source": [
    "train_set = pd.read_csv('../../data/origin_train_clean.csv')\n",
    "train_state_list = pkl.load(open('../../data/classify_state/train_states.pkl', 'rb'), encoding='latin1')\n",
    "train_set['state'] = train_state_list\n"
   ]
  },
  {
   "cell_type": "code",
   "execution_count": 65,
   "metadata": {},
   "outputs": [],
   "source": [
    "x =pd.crosstab(train_set['state'],['SOFA'])"
   ]
  },
  {
   "cell_type": "code",
   "execution_count": 73,
   "metadata": {},
   "outputs": [
    {
     "data": {
      "text/plain": [
       "<matplotlib.axes._subplots.AxesSubplot at 0x11303f320>"
      ]
     },
     "execution_count": 73,
     "metadata": {},
     "output_type": "execute_result"
    },
    {
     "data": {
      "image/png": "[encoded data removed]",
      "text/plain": [
       "<matplotlib.figure.Figure at 0x113048940>"
      ]
     },
     "metadata": {},
     "output_type": "display_data"
    }
   ],
   "source": [
    "x.plot()\n"
   ]
  },
  {
   "cell_type": "code",
   "execution_count": null,
   "metadata": {
    "collapsed": true
   },
   "outputs": [],
   "source": []
  }
 ],
 "metadata": {
  "kernelspec": {
   "display_name": "Python 3",
   "language": "python",
   "name": "python3"
  },
  "language_info": {
   "codemirror_mode": {
    "name": "ipython",
    "version": 3
   },
   "file_extension": ".py",
   "mimetype": "text/x-python",
   "name": "python",
   "nbconvert_exporter": "python",
   "pygments_lexer": "ipython3",
   "version": "3.6.1"
  }
 },
 "nbformat": 4,
 "nbformat_minor": 2
}
