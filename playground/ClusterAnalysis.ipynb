{
 "cells": [
  {
   "cell_type": "markdown",
   "metadata": {},
   "source": [
    "### CS282R Cluster Analysis\n",
    "\n",
    "David Wihl  \n",
    "davidwihl@g.harvard.edu\n",
    "\n"
   ]
  },
  {
   "cell_type": "markdown",
   "metadata": {},
   "source": [
    "\n",
    "### Problem Setup"
   ]
  },
  {
   "cell_type": "code",
   "execution_count": 2,
   "metadata": {
    "collapsed": true
   },
   "outputs": [],
   "source": [
    "# general imports\n",
    "%matplotlib inline\n",
    "from itertools import cycle\n",
    "\n",
    "import matplotlib.pyplot as plt\n",
    "import matplotlib.colors as colors\n",
    "\n",
    "plt.rcParams['figure.figsize'] = (8, 8)\n",
    "\n",
    "import numpy as np\n",
    "import pandas as pd\n",
    "import pandas.core.algorithms as algos\n",
    "from pandas import Series\n",
    "\n",
    "from sklearn.cluster import MiniBatchKMeans\n",
    "\n",
    "n_actions = 25\n",
    "n_clusters = 750"
   ]
  },
  {
   "cell_type": "code",
   "execution_count": 3,
   "metadata": {
    "collapsed": true
   },
   "outputs": [],
   "source": [
    "df = pd.read_csv('../data/Sepsis_imp.csv')"
   ]
  },
  {
   "cell_type": "code",
   "execution_count": 4,
   "metadata": {
    "collapsed": true
   },
   "outputs": [],
   "source": [
    "# TODO - clean up data based on HW2"
   ]
  },
  {
   "cell_type": "code",
   "execution_count": 5,
   "metadata": {
    "collapsed": true
   },
   "outputs": [],
   "source": [
    "observations =   ['gender','age','elixhauser','re_admission','SOFA','SIRS','Weight_kg','GCS','HR',\n",
    "                  'SysBP','MeanBP','DiaBP','Shock_Index','RR','SpO2','Temp_C','FiO2_1','Potassium',\n",
    "                  'Sodium','Chloride','Glucose','BUN','Creatinine','Magnesium','Calcium','Ionised_Ca',\n",
    "                  'CO2_mEqL','SGOT','SGPT','Total_bili','Albumin','Hb','WBC_count','Platelets_count',\n",
    "                  'PTT','PT','INR','Arterial_pH','paO2','paCO2','Arterial_BE','Arterial_lactate','HCO3',\n",
    "                  'PaO2_FiO2','output_total','output_4hourly','sedation','mechvent','rrt']\n",
    "# Per homework, 'sedation','mechvent','rrt' are considered observations, not interventions.\n",
    "interventions = ['cumulated_balance_tev','max_dose_vaso']\n",
    "\n",
    "results = ['died_in_hosp','mortality_90d']\n",
    "\n",
    "X = df[observations]\n"
   ]
  },
  {
   "cell_type": "code",
   "execution_count": 6,
   "metadata": {
    "collapsed": true
   },
   "outputs": [],
   "source": [
    "\n",
    "mbk = MiniBatchKMeans(init='k-means++', n_clusters=n_clusters, batch_size=100,\n",
    "                      n_init=10, max_no_improvement=10, verbose=0, init_size=3*n_clusters,\n",
    "                      random_state=0)\n",
    "mbk.fit(X)\n",
    "mbk_means_labels_unique = np.unique(mbk.labels_)\n",
    "\n"
   ]
  },
  {
   "cell_type": "code",
   "execution_count": 7,
   "metadata": {},
   "outputs": [
    {
     "data": {
      "text/plain": [
       "<matplotlib.figure.Figure at 0x11658cdd8>"
      ]
     },
     "metadata": {},
     "output_type": "display_data"
    },
    {
     "data": {
      "image/png": "[encoded data removed]",
      "text/plain": [
       "<matplotlib.figure.Figure at 0x11f3e7668>"
      ]
     },
     "metadata": {},
     "output_type": "display_data"
    }
   ],
   "source": [
    "colors_ = cycle(colors.cnames.keys())\n",
    "\n",
    "fig = plt.figure()\n",
    "fig.subplots_adjust(left=0.04, right=0.98, bottom=0.1, top=0.9)\n",
    "\n",
    "ax = plt.subplots()\n",
    "for this_centroid, k, col in zip(mbk.cluster_centers_,\n",
    "                                 range(n_clusters), colors_):\n",
    "    mask = mbk.labels_ == k\n",
    "#    plt.scatter(X.loc[mask, 'SysDP'], X.loc[mask, 'DiaBP'], marker='.',\n",
    "#                c='w', edgecolor=col, alpha=0.5)\n",
    "    plt.scatter(this_centroid[0], this_centroid[1], marker='+',\n",
    "               c='k', s=25)\n",
    "plt.title(\"MiniBatchKMeans\")\n",
    "plt.show()"
   ]
  },
  {
   "cell_type": "code",
   "execution_count": 8,
   "metadata": {},
   "outputs": [
    {
     "name": "stdout",
     "output_type": "stream",
     "text": [
      "Vasopressor bins counts:\n",
      " 0    208663\n",
      "2     12692\n",
      "1     11163\n",
      "4     10619\n",
      "3      9067\n",
      "Name: max_dose_vaso, dtype: int64\n",
      "IV fluid bin counts:\n",
      " 0    86623\n",
      "4    41396\n",
      "3    41395\n",
      "2    41395\n",
      "1    41395\n",
      "Name: cumulated_balance_tev, dtype: int64\n"
     ]
    }
   ],
   "source": [
    "# Because many blocs contain zero dose of vasopressor or zero dose or IV fluids, put zero \n",
    "# values into its own bin and evenly distribute the remaining values.\n",
    "def non_zero_bins(s):\n",
    "    out, retbins = pd.qcut(s.where(s >= 0.001),4,retbins=True,labels=False)\n",
    "    retbins = np.insert(retbins,0,float('-inf'))\n",
    "    return pd.cut(s,retbins,labels=False)\n",
    "\n",
    "vaso_bins = non_zero_bins(df['max_dose_vaso'])\n",
    "tev_bins = non_zero_bins(df['cumulated_balance_tev'])\n",
    "print(\"Vasopressor bins counts:\\n\",vaso_bins.value_counts())\n",
    "print(\"IV fluid bin counts:\\n\",tev_bins.value_counts())\n"
   ]
  },
  {
   "cell_type": "code",
   "execution_count": 9,
   "metadata": {},
   "outputs": [
    {
     "data": {
      "text/html": [
       "<div>\n",
       "<style>\n",
       "    .dataframe thead tr:only-child th {\n",
       "        text-align: right;\n",
       "    }\n",
       "\n",
       "    .dataframe thead th {\n",
       "        text-align: left;\n",
       "    }\n",
       "\n",
       "    .dataframe tbody tr th {\n",
       "        vertical-align: top;\n",
       "    }\n",
       "</style>\n",
       "<table border=\"1\" class=\"dataframe\">\n",
       "  <thead>\n",
       "    <tr style=\"text-align: right;\">\n",
       "      <th></th>\n",
       "      <th>action</th>\n",
       "      <th>bloc</th>\n",
       "      <th>id</th>\n",
       "      <th>reward</th>\n",
       "      <th>state</th>\n",
       "    </tr>\n",
       "  </thead>\n",
       "  <tbody>\n",
       "    <tr>\n",
       "      <th>0</th>\n",
       "      <td>2</td>\n",
       "      <td>1</td>\n",
       "      <td>3</td>\n",
       "      <td>1</td>\n",
       "      <td>721</td>\n",
       "    </tr>\n",
       "    <tr>\n",
       "      <th>1</th>\n",
       "      <td>3</td>\n",
       "      <td>2</td>\n",
       "      <td>3</td>\n",
       "      <td>1</td>\n",
       "      <td>721</td>\n",
       "    </tr>\n",
       "    <tr>\n",
       "      <th>2</th>\n",
       "      <td>2</td>\n",
       "      <td>3</td>\n",
       "      <td>3</td>\n",
       "      <td>1</td>\n",
       "      <td>37</td>\n",
       "    </tr>\n",
       "    <tr>\n",
       "      <th>3</th>\n",
       "      <td>2</td>\n",
       "      <td>4</td>\n",
       "      <td>3</td>\n",
       "      <td>1</td>\n",
       "      <td>105</td>\n",
       "    </tr>\n",
       "    <tr>\n",
       "      <th>4</th>\n",
       "      <td>2</td>\n",
       "      <td>5</td>\n",
       "      <td>3</td>\n",
       "      <td>1</td>\n",
       "      <td>105</td>\n",
       "    </tr>\n",
       "  </tbody>\n",
       "</table>\n",
       "</div>"
      ],
      "text/plain": [
       "   action  bloc  id  reward  state\n",
       "0       2     1   3       1    721\n",
       "1       3     2   3       1    721\n",
       "2       2     3   3       1     37\n",
       "3       2     4   3       1    105\n",
       "4       2     5   3       1    105"
      ]
     },
     "execution_count": 9,
     "metadata": {},
     "output_type": "execute_result"
    }
   ],
   "source": [
    "# Create the state, action, rewards table\n",
    "#    State is label from the clustering\n",
    "#    Action is [0..24] using vaso_bins * 5 + tev_bins. Each are in the range [0..4]\n",
    "#    Reward=0 if the patient survived, 1 if the patient died either in the hospital or 90 days later\n",
    "d = {'state': mbk.labels_, 'action':vaso_bins*5 + tev_bins, 'reward': df[results].sum(axis=1), \n",
    "     'bloc':df.bloc, 'id':df.icustayid }\n",
    "mdp = pd.DataFrame(data = d)\n",
    "episodes = mdp.sort_values(['id','bloc']).groupby('id')\n",
    "mdp.head(5)\n"
   ]
  },
  {
   "cell_type": "markdown",
   "metadata": {},
   "source": [
    "Setup complete.\n",
    "\n",
    "## Bi-state Transitions\n",
    "\n",
    "Let's look through all transitions and find the most common pairs of transitions. This is equivalent to creating bigrams when doing NLP. "
   ]
  },
  {
   "cell_type": "code",
   "execution_count": 10,
   "metadata": {
    "collapsed": true
   },
   "outputs": [],
   "source": [
    "state_transition_count = np.zeros((n_clusters, n_clusters))\n",
    "\n",
    "for name, transitions in episodes:\n",
    "    state = transitions['state'].tolist()\n",
    "    sprime = state[1:]\n",
    "    for i in range(len(state)-1):\n",
    "        state_transition_count[state[i],state[i+1]] += 1\n",
    "\n"
   ]
  },
  {
   "cell_type": "code",
   "execution_count": 11,
   "metadata": {},
   "outputs": [
    {
     "name": "stdout",
     "output_type": "stream",
     "text": [
      "Number of null transitions: 555935  out of  562500\n",
      "The state transitions are 98.83% sparse\n",
      "Total number of different transitions: 6565\n"
     ]
    }
   ],
   "source": [
    "nul_count = np.count_nonzero(state_transition_count==0.0)\n",
    "print (\"Number of null transitions:\",nul_count, \" out of \", n_clusters*n_clusters)\n",
    "sparsity = 100*(1 - (n_clusters*n_clusters - nul_count) / (n_clusters*n_clusters)) \n",
    "print (\"The state transitions are {0:.2f}% sparse\".format(sparsity))\n",
    "t_count = sorted(state_transition_count[np.nonzero(state_transition_count)],reverse=True)\n",
    "print (\"Total number of different transitions:\",len(t_count))"
   ]
  },
  {
   "cell_type": "code",
   "execution_count": 12,
   "metadata": {},
   "outputs": [
    {
     "data": {
      "image/png": "[encoded data removed]",
      "text/plain": [
       "<matplotlib.figure.Figure at 0x118204860>"
      ]
     },
     "metadata": {},
     "output_type": "display_data"
    }
   ],
   "source": [
    "plt.hist(t_count,bins=100)\n",
    "plt.title(\"Histogram of Transition Frequencies\")\n",
    "plt.show()"
   ]
  },
  {
   "cell_type": "code",
   "execution_count": 13,
   "metadata": {},
   "outputs": [
    {
     "name": "stdout",
     "output_type": "stream",
     "text": [
      "The most common 1537 transitions represent 87.2% of all transitions,\n",
      "which means that 5028 other transitions are sparsely represented\n",
      "and have less than 29 total examples in the dataset.\n"
     ]
    }
   ],
   "source": [
    "s = sum(t_count)\n",
    "acc = 0\n",
    "for i in range(len(t_count)):\n",
    "    if t_count[i] < 30:\n",
    "        break\n",
    "    acc += t_count[i]\n",
    "    if (acc / s) > 0.9:\n",
    "        break\n",
    "print (\"The most common {0:d} transitions represent {1:.1%} of all transitions,\".format(i,acc/s))\n",
    "print (\"which means that {0:d} other transitions are sparsely represented\".format(len(t_count) - i))\n",
    "print (\"and have less than {0:d} total examples in the dataset.\".format(int(t_count[i])))\n"
   ]
  },
  {
   "cell_type": "markdown",
   "metadata": {},
   "source": [
    "## Next Up - Tri-state Transitions\n",
    "\n",
    "This is the moral equivalent of tri-grams. Which triples of state transitions occur most frequently? This corresponds to a 12 hour period in the patient's history."
   ]
  },
  {
   "cell_type": "code",
   "execution_count": 14,
   "metadata": {
    "collapsed": true
   },
   "outputs": [],
   "source": [
    "state_transition_count3 = np.zeros((n_clusters, n_clusters, n_clusters))\n",
    "\n",
    "i =0\n",
    "for name, transitions in episodes:\n",
    "    state = transitions['state'].tolist()\n",
    "    for i in range(len(state)-2):\n",
    "        state_transition_count3[state[i],state[i+1],state[i+2]] += 1\n",
    "\n"
   ]
  },
  {
   "cell_type": "code",
   "execution_count": 15,
   "metadata": {},
   "outputs": [
    {
     "name": "stdout",
     "output_type": "stream",
     "text": [
      "Number of null transitions: 421855241  out of  421875000\n",
      "The state transitions are 99.9953% sparse\n",
      "Total number of different transitions: 19759\n"
     ]
    }
   ],
   "source": [
    "nul_count3 = np.count_nonzero(state_transition_count3==0.0)\n",
    "print (\"Number of null transitions:\",nul_count3, \" out of \", n_clusters**3)\n",
    "sparsity = 100*(1 - (n_clusters**3 - nul_count3) / (n_clusters**3)) \n",
    "print (\"The state transitions are {0:.4f}% sparse\".format(sparsity))\n",
    "t_count3 = sorted(state_transition_count3[np.nonzero(state_transition_count3)],reverse=True)\n",
    "print (\"Total number of different transitions:\",len(t_count3))"
   ]
  },
  {
   "cell_type": "code",
   "execution_count": 16,
   "metadata": {},
   "outputs": [
    {
     "name": "stdout",
     "output_type": "stream",
     "text": [
      "The most common 1596 transitions represent 64.4% of all transitions,\n",
      "which means that 18163 other transitions are sparsely represented\n",
      "and have less than 29 total examples in the dataset.\n"
     ]
    }
   ],
   "source": [
    "s = sum(t_count3)\n",
    "acc = 0\n",
    "for i in range(len(t_count3)):\n",
    "    if t_count3[i] < 30:\n",
    "        break\n",
    "    acc += t_count3[i]\n",
    "    if (acc / s) > 0.9:\n",
    "        break\n",
    "print (\"The most common {0:d} transitions represent {1:.1%} of all transitions,\".format(i,acc/s))\n",
    "print (\"which means that {0:d} other transitions are sparsely represented\".format(len(t_count3) - i))\n",
    "print (\"and have less than {0:d} total examples in the dataset.\".format(int(t_count3[i])))\n"
   ]
  },
  {
   "cell_type": "markdown",
   "metadata": {},
   "source": [
    "### Summary of bi-state and tri-state distributions\n",
    "\n",
    "|Metric| Bi-state | Tri-state |\n",
    "|:------|----------|-----------|\n",
    "| Unique Transitions | 6565 | 19759 |\n",
    "| Sparsity | 98.8% | > 99.99% |\n",
    "| # Adequately Represented Transitions (>30 samples)| 1537 | 1596 |\n",
    "| Percent of total transitions adequately represented| 87.2% | 64.4% |\n"
   ]
  },
  {
   "cell_type": "markdown",
   "metadata": {},
   "source": [
    "### So what does all this mean?\n",
    "\n",
    "When we cluster all observations into 750 different states, we end up with a very sparse set of state transitions. Of those few non-sparse remaining observed transitions, most are represented by only about 1500 different transitions irrespective of whether we consider bi-state or tri-state tuples. \n",
    "\n",
    "Since there are inadequate number of samples for sparsely represented transitions, we can't determine an appropriate policy and should ignore the bulk of the possible transitions.\n"
   ]
  },
  {
   "cell_type": "markdown",
   "metadata": {},
   "source": [
    "## Doctor Variation"
   ]
  },
  {
   "cell_type": "code",
   "execution_count": 17,
   "metadata": {
    "collapsed": true
   },
   "outputs": [],
   "source": [
    "sas_count = np.zeros((n_clusters, n_actions, n_clusters))\n",
    "\n",
    "i =0\n",
    "for name, transitions in episodes:\n",
    "    state = transitions['state'].tolist()\n",
    "    action = transitions['action'].tolist()\n",
    "    for i in range(len(state)-2):\n",
    "        sas_count[state[i],action[i],state[i+1]] += 1\n",
    "\n"
   ]
  },
  {
   "cell_type": "code",
   "execution_count": 18,
   "metadata": {},
   "outputs": [
    {
     "name": "stdout",
     "output_type": "stream",
     "text": [
      "Number of null items: 14027028  out of  14062500\n",
      "The state-action-sprime matrix is 99.75% sparse\n",
      "Total number of distinct state, action, sprime tuples: 35472\n"
     ]
    }
   ],
   "source": [
    "sas_nul_count = np.count_nonzero(sas_count==0.0)\n",
    "print (\"Number of null items:\",sas_nul_count, \" out of \", n_clusters*n_actions*n_clusters)\n",
    "sparsity = 100*(1 - (n_clusters*n_actions*n_clusters - sas_nul_count) / (n_clusters*n_actions*n_clusters)) \n",
    "print (\"The state-action-sprime matrix is {0:.2f}% sparse\".format(sparsity))\n",
    "distinct_sas_count = sorted(sas_count[np.nonzero(sas_count)],reverse=True)\n",
    "print (\"Total number of distinct state, action, sprime tuples:\",len(distinct_sas_count))"
   ]
  },
  {
   "cell_type": "code",
   "execution_count": 19,
   "metadata": {
    "collapsed": true
   },
   "outputs": [],
   "source": [
    "# Make a set of distinct actions for a given (s, s')\n",
    "action_set = [[set() for i in range(n_clusters)] for j in range(n_clusters)]\n",
    "\n",
    "for (s,a,sprime), value in np.ndenumerate(sas_count):\n",
    "    if value > 0:\n",
    "        # this (s, a, s') had at least one occurrance. Add the action to the set\n",
    "        action_set[int(s)][int(sprime)].add(a)\n",
    "\n",
    "    "
   ]
  },
  {
   "cell_type": "code",
   "execution_count": 20,
   "metadata": {
    "collapsed": true
   },
   "outputs": [],
   "source": [
    "# How many different actions were there for a given (s, s')\n",
    "dist = []\n",
    "for i in range(n_clusters):\n",
    "    for j in range(n_clusters):\n",
    "        # only care if there was more than one action for a given (s,s')\n",
    "        if len(action_set[i][j]) > 1:\n",
    "            dist.append(len(action_set[i][j]))"
   ]
  },
  {
   "cell_type": "code",
   "execution_count": 22,
   "metadata": {},
   "outputs": [
    {
     "data": {
      "image/png": "[encoded data removed]",
      "text/plain": [
       "<matplotlib.figure.Figure at 0x11892eeb8>"
      ]
     },
     "metadata": {},
     "output_type": "display_data"
    }
   ],
   "source": [
    "plt.hist(dist,bins=n_actions-1)\n",
    "plt.title(\"Histogram of Doctor Discrepencies\")\n",
    "plt.xlabel(\"Number of different actions attempted for a given (s,s')\")\n",
    "plt.show()"
   ]
  },
  {
   "cell_type": "code",
   "execution_count": 156,
   "metadata": {},
   "outputs": [
    {
     "name": "stdout",
     "output_type": "stream",
     "text": [
      "Out of 35472 unique s,a,s' combinations, only 4605 had multiple actions\n"
     ]
    }
   ],
   "source": [
    "\n",
    "print (\"Out of {0:d} unique s,a,s' combinations, only {1:d} had multiple actions\".format(len(distinct_sas_count),len(dist)))"
   ]
  },
  {
   "cell_type": "code",
   "execution_count": 158,
   "metadata": {},
   "outputs": [
    {
     "data": {
      "text/plain": [
       "(array([853, 617, 440, 389, 312, 281, 251, 191, 184, 160, 128, 127,  89,\n",
       "         88,  84,  77,  61,  49,  53,  59,  42,  34,  26,  10]),\n",
       " array([  2.        ,   2.95833333,   3.91666667,   4.875     ,\n",
       "          5.83333333,   6.79166667,   7.75      ,   8.70833333,\n",
       "          9.66666667,  10.625     ,  11.58333333,  12.54166667,\n",
       "         13.5       ,  14.45833333,  15.41666667,  16.375     ,\n",
       "         17.33333333,  18.29166667,  19.25      ,  20.20833333,\n",
       "         21.16666667,  22.125     ,  23.08333333,  24.04166667,  25.        ]))"
      ]
     },
     "execution_count": 158,
     "metadata": {},
     "output_type": "execute_result"
    }
   ],
   "source": [
    "np.histogram(dist,bins=n_actions-1)"
   ]
  },
  {
   "cell_type": "markdown",
   "metadata": {},
   "source": [
    "### Summary of Doctor Variation\n",
    "\n",
    "**Bottom line: doctors tended to be consistent**. They performed the same actions for the same states, resulting \n",
    "in the same new state most of the time. \n",
    "The right tailed distribution shows that even when there were multiple actions, the number of possible different actions was small. **This is the area to explore with reinforcement learning**, as it consists of different doctor\n",
    "actions for a given state, resulting in possibly different outcomes. It is not a sparse space. There are also\n",
    "more than 30 different samples of different actions for the majority of (s, s') combinations."
   ]
  },
  {
   "cell_type": "code",
   "execution_count": null,
   "metadata": {
    "collapsed": true
   },
   "outputs": [],
   "source": []
  }
 ],
 "metadata": {
  "kernelspec": {
   "display_name": "Python 3",
   "language": "python",
   "name": "python3"
  },
  "language_info": {
   "codemirror_mode": {
    "name": "ipython",
    "version": 3
   },
   "file_extension": ".py",
   "mimetype": "text/x-python",
   "name": "python",
   "nbconvert_exporter": "python",
   "pygments_lexer": "ipython3",
   "version": "3.6.1"
  }
 },
 "nbformat": 4,
 "nbformat_minor": 2
}
