{
 "cells": [
  {
   "cell_type": "code",
   "execution_count": 1,
   "metadata": {},
   "outputs": [
    {
     "data": {
      "text/html": [
       "<script>\n",
       "  function code_toggle() {\n",
       "    if (code_shown){\n",
       "      $('div.input').hide('500');\n",
       "      $('#toggleButton').val('Show Code')\n",
       "    } else {\n",
       "      $('div.input').show('500');\n",
       "      $('#toggleButton').val('Hide Code')\n",
       "    }\n",
       "    code_shown = !code_shown\n",
       "  }\n",
       "\n",
       "  $( document ).ready(function(){\n",
       "    code_shown=false;\n",
       "    $('div.input').hide()\n",
       "  });\n",
       "</script>\n",
       "<form action=\"javascript:code_toggle()\"><input type=\"submit\" id=\"toggleButton\" value=\"Show Code\"></form>"
      ],
      "text/plain": [
       "<IPython.core.display.HTML object>"
      ]
     },
     "execution_count": 1,
     "metadata": {},
     "output_type": "execute_result"
    },
    {
     "data": {
      "text/plain": [
       "<matplotlib.figure.Figure at 0x10a23d6a0>"
      ]
     },
     "metadata": {},
     "output_type": "display_data"
    }
   ],
   "source": [
    "%matplotlib inline\n",
    "from matplotlib import pyplot as plt\n",
    "import numpy as np\n",
    "\n",
    "#_ = plt.xkcd();\n",
    "fig = plt.figure();\n",
    "\n",
    "# https://stackoverflow.com/questions/27934885/how-to-hide-code-from-cells-in-ipython-notebook-visualized-with-nbviewer\n",
    "from IPython.display import HTML\n",
    "\n",
    "HTML('''<script>\n",
    "  function code_toggle() {\n",
    "    if (code_shown){\n",
    "      $('div.input').hide('500');\n",
    "      $('#toggleButton').val('Show Code')\n",
    "    } else {\n",
    "      $('div.input').show('500');\n",
    "      $('#toggleButton').val('Hide Code')\n",
    "    }\n",
    "    code_shown = !code_shown\n",
    "  }\n",
    "\n",
    "  $( document ).ready(function(){\n",
    "    code_shown=false;\n",
    "    $('div.input').hide()\n",
    "  });\n",
    "</script>\n",
    "<form action=\"javascript:code_toggle()\"><input type=\"submit\" id=\"toggleButton\" value=\"Show Code\"></form>''')"
   ]
  },
  {
   "cell_type": "markdown",
   "metadata": {
    "slideshow": {
     "slide_type": "slide"
    }
   },
   "source": [
    "# Dealing with Sparsity"
   ]
  },
  {
   "cell_type": "code",
   "execution_count": 7,
   "metadata": {
    "slideshow": {
     "slide_type": "slide"
    }
   },
   "outputs": [
    {
     "data": {
      "image/png": "[encoded data removed]",
      "text/plain": [
       "<matplotlib.figure.Figure at 0x1149870b8>"
      ]
     },
     "metadata": {},
     "output_type": "display_data"
    }
   ],
   "source": [
    "fig = plt.figure()\n",
    "ax = fig.add_subplot(1, 1, 1)\n",
    "ax.bar([-0.125, -0.125], [0, 100], .25)\n",
    "ax.bar([.875, .875], [0, 60], .25)\n",
    "ax.bar([1.875, 1.875], [0, 40], .25)\n",
    "ax.spines['right'].set_color('none')\n",
    "ax.spines['top'].set_color('none')\n",
    "ax.xaxis.set_ticks_position('bottom')\n",
    "ax.set_xticks([0, 1, 2])\n",
    "ax.set_yticks([0, 20, 40, 60, 80, 100])\n",
    "ax.set_xlim([-0.5, 2.5])\n",
    "ax.set_ylim([0, 110])\n",
    "ax.set_xticklabels(['(s,s\\'), n^2\\n (562,500)', 'Observed\\n(6,565)','Sufficient samples\\n(1537)'])\n",
    "ax.set_yticklabels(['','10^1', '10^2','10^3','10^4','10^5','10^6'])\n",
    "ax.set_ylabel(\"s,s' permutations\")\n",
    "\n",
    "\n",
    "plt.title(\"SPARSITY OF (S,S')\")\n",
    "\n",
    "plt.show()"
   ]
  },
  {
   "cell_type": "code",
   "execution_count": 6,
   "metadata": {
    "slideshow": {
     "slide_type": "slide"
    }
   },
   "outputs": [
    {
     "data": {
      "image/png": "[encoded data removed]",
      "text/plain": [
       "<matplotlib.figure.Figure at 0x114b4c898>"
      ]
     },
     "metadata": {},
     "output_type": "display_data"
    }
   ],
   "source": [
    "fig = plt.figure()\n",
    "ax = fig.add_subplot(1, 1, 1)\n",
    "ax.bar([-0.125, -0.125], [0, 100], .25)\n",
    "ax.bar([.875, .875], [0, 40], .25)\n",
    "ax.bar([1.875, 1.875], [0, 30], .25)\n",
    "ax.bar([2.875, 2.875], [0, 20], .25)\n",
    "\n",
    "ax.spines['right'].set_color('none')\n",
    "ax.spines['top'].set_color('none')\n",
    "ax.xaxis.set_ticks_position('bottom')\n",
    "ax.set_xticks([0, 1, 2,3])\n",
    "ax.set_yticks([ 20,30, 40, 100])\n",
    "ax.set_xlim([-0.5, 2.9])\n",
    "ax.set_ylim([0, 110])\n",
    "ax.set_xticklabels(['(s,a,s\\')', 'Unique','Different\\n actions','NO DATA\\n'])\n",
    "ax.set_yticklabels(['10^2','10^3','10^4','10^8'])\n",
    "ax.set_ylabel(\"s,a,s' permutations\")\n",
    "plt.annotate(\n",
    "    'Physician consensus',\n",
    "    xy=(0.9,40), arrowprops=dict(arrowstyle='->'), xytext=(.5, 85))\n",
    "\n",
    "\n",
    "plt.annotate(\n",
    "    'Area of RL Exploration',\n",
    "    xy=(1.9,30), arrowprops=dict(arrowstyle='->'), xytext=(1.5, 70))\n",
    "\n",
    "plt.annotate(\n",
    "    'Insufficient data',\n",
    "    xy=(2.9,10), arrowprops=dict(arrowstyle='->'), xytext=(3.2, 10))\n",
    "\n",
    "plt.title(\"SPARSITY OF (S,A,S')\")\n",
    "\n",
    "plt.show()"
   ]
  },
  {
   "cell_type": "markdown",
   "metadata": {
    "slideshow": {
     "slide_type": "slide"
    }
   },
   "source": [
    "## Restrict actions to where doctors disagree. Here's how:"
   ]
  },
  {
   "cell_type": "markdown",
   "metadata": {
    "slideshow": {
     "slide_type": "slide"
    }
   },
   "source": [
    "```\n",
    "import restrictactions as ra\n",
    "\n",
    "# Create the RestrictActions object. Provide number of states and actions\n",
    "restrict_actions = ra.RestrictActions(n_states,n_actions)\n",
    "\n",
    "# Provide the list of episodes to examine by episodes or numpy array\n",
    "restrict_actions.load_sas_as_episodes(episodes)\n",
    "# -- OR --\n",
    "restrict_actions.load_sas_as_array(testArray)\n",
    "\n",
    "# Get set of actions for a given state\n",
    "actions = restrict_actions.get_actions(cur_state,min_freq=30)\n",
    "\n",
    "# (Optional) Get count of all actions for a given state\n",
    "all_actions = restrict_actions.get_actions_per_state(state)\n",
    "```"
   ]
  },
  {
   "cell_type": "markdown",
   "metadata": {
    "slideshow": {
     "slide_type": "slide"
    }
   },
   "source": [
    "Full sample:\n",
    "\n",
    "https://github.com/dtak/cs282-f17-xuefeng-yi-david/blob/master/playground/RestrictedActionsTest.ipynb\n",
    "\n",
    "Class code:\n",
    "\n",
    "https://github.com/dtak/cs282-f17-xuefeng-yi-david/blob/master/playground/restrictactions.py"
   ]
  },
  {
   "cell_type": "code",
   "execution_count": null,
   "metadata": {
    "collapsed": true
   },
   "outputs": [],
   "source": []
  }
 ],
 "metadata": {
  "celltoolbar": "Slideshow",
  "kernelspec": {
   "display_name": "Python 3",
   "language": "python",
   "name": "python3"
  },
  "language_info": {
   "codemirror_mode": {
    "name": "ipython",
    "version": 3
   },
   "file_extension": ".py",
   "mimetype": "text/x-python",
   "name": "python",
   "nbconvert_exporter": "python",
   "pygments_lexer": "ipython3",
   "version": "3.6.1"
  }
 },
 "nbformat": 4,
 "nbformat_minor": 2
}
