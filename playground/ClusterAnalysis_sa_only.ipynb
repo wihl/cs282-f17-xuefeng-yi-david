{
 "cells": [
  {
   "cell_type": "markdown",
   "metadata": {},
   "source": [
    "### CS282R Cluster Analysis\n",
    "\n",
    "David Wihl  \n",
    "davidwihl@g.harvard.edu\n",
    "\n"
   ]
  },
  {
   "cell_type": "markdown",
   "metadata": {},
   "source": [
    "\n",
    "### Problem Setup"
   ]
  },
  {
   "cell_type": "code",
   "execution_count": 3,
   "metadata": {
    "collapsed": true
   },
   "outputs": [],
   "source": [
    "# general imports\n",
    "%matplotlib inline\n",
    "from itertools import cycle\n",
    "\n",
    "import matplotlib.pyplot as plt\n",
    "import matplotlib.colors as colors\n",
    "\n",
    "plt.rcParams['figure.figsize'] = (8, 8)\n",
    "\n",
    "import numpy as np\n",
    "import pandas as pd\n",
    "import pandas.core.algorithms as algos\n",
    "from pandas import Series\n",
    "\n",
    "from sklearn.cluster import MiniBatchKMeans\n",
    "\n",
    "n_actions = 25\n",
    "n_clusters = 750"
   ]
  },
  {
   "cell_type": "code",
   "execution_count": 4,
   "metadata": {},
   "outputs": [],
   "source": [
    "df = pd.read_csv('../data/Sepsis_imp.csv')"
   ]
  },
  {
   "cell_type": "code",
   "execution_count": 5,
   "metadata": {
    "collapsed": true
   },
   "outputs": [],
   "source": [
    "# TODO - clean up data based on HW2"
   ]
  },
  {
   "cell_type": "code",
   "execution_count": 6,
   "metadata": {},
   "outputs": [],
   "source": [
    "observations =   ['gender','age','elixhauser','re_admission','SOFA','SIRS','Weight_kg','GCS','HR',\n",
    "                  'SysBP','MeanBP','DiaBP','Shock_Index','RR','SpO2','Temp_C','FiO2_1','Potassium',\n",
    "                  'Sodium','Chloride','Glucose','BUN','Creatinine','Magnesium','Calcium','Ionised_Ca',\n",
    "                  'CO2_mEqL','SGOT','SGPT','Total_bili','Albumin','Hb','WBC_count','Platelets_count',\n",
    "                  'PTT','PT','INR','Arterial_pH','paO2','paCO2','Arterial_BE','Arterial_lactate','HCO3',\n",
    "                  'PaO2_FiO2','output_total','output_4hourly','sedation','mechvent','rrt']\n",
    "# Per homework, 'sedation','mechvent','rrt' are considered observations, not interventions.\n",
    "interventions = ['input_4hourly_tev','max_dose_vaso']\n",
    "\n",
    "results = ['died_in_hosp','mortality_90d']\n",
    "\n",
    "X = df[observations]\n"
   ]
  },
  {
   "cell_type": "code",
   "execution_count": 7,
   "metadata": {
    "collapsed": true
   },
   "outputs": [],
   "source": [
    "\n",
    "mbk = MiniBatchKMeans(init='k-means++', n_clusters=n_clusters, batch_size=100,\n",
    "                      n_init=10, max_no_improvement=10, verbose=0, init_size=3*n_clusters,\n",
    "                      random_state=0)\n",
    "mbk.fit(X)\n",
    "mbk_means_labels_unique = np.unique(mbk.labels_)\n",
    "\n"
   ]
  },
  {
   "cell_type": "code",
   "execution_count": 8,
   "metadata": {},
   "outputs": [
    {
     "name": "stdout",
     "output_type": "stream",
     "text": [
      "Vasopressor bins counts:\n",
      " 0    208663\n",
      "2     12692\n",
      "1     11163\n",
      "4     10619\n",
      "3      9067\n",
      "Name: max_dose_vaso, dtype: int64\n",
      "IV fluid bin counts:\n",
      " 0    86623\n",
      "4    41396\n",
      "3    41395\n",
      "2    41395\n",
      "1    41395\n",
      "Name: cumulated_balance_tev, dtype: int64\n"
     ]
    }
   ],
   "source": [
    "# Because many blocs contain zero dose of vasopressor or zero dose or IV fluids, put zero \n",
    "# values into its own bin and evenly distribute the remaining values.\n",
    "def non_zero_bins(s):\n",
    "    out, retbins = pd.qcut(s.where(s >= 0.001),4,retbins=True,labels=False)\n",
    "    retbins = np.insert(retbins,0,float('-inf'))\n",
    "    return pd.cut(s,retbins,labels=False)\n",
    "\n",
    "vaso_bins = non_zero_bins(df['max_dose_vaso'])\n",
    "tev_bins = non_zero_bins(df['cumulated_balance_tev'])\n",
    "print(\"Vasopressor bins counts:\\n\",vaso_bins.value_counts())\n",
    "print(\"IV fluid bin counts:\\n\",tev_bins.value_counts())\n"
   ]
  },
  {
   "cell_type": "code",
   "execution_count": 9,
   "metadata": {},
   "outputs": [
    {
     "data": {
      "text/html": [
       "<div>\n",
       "<style>\n",
       "    .dataframe thead tr:only-child th {\n",
       "        text-align: right;\n",
       "    }\n",
       "\n",
       "    .dataframe thead th {\n",
       "        text-align: left;\n",
       "    }\n",
       "\n",
       "    .dataframe tbody tr th {\n",
       "        vertical-align: top;\n",
       "    }\n",
       "</style>\n",
       "<table border=\"1\" class=\"dataframe\">\n",
       "  <thead>\n",
       "    <tr style=\"text-align: right;\">\n",
       "      <th></th>\n",
       "      <th>action</th>\n",
       "      <th>bloc</th>\n",
       "      <th>id</th>\n",
       "      <th>reward</th>\n",
       "      <th>state</th>\n",
       "    </tr>\n",
       "  </thead>\n",
       "  <tbody>\n",
       "    <tr>\n",
       "      <th>0</th>\n",
       "      <td>2</td>\n",
       "      <td>1</td>\n",
       "      <td>3</td>\n",
       "      <td>1</td>\n",
       "      <td>721</td>\n",
       "    </tr>\n",
       "    <tr>\n",
       "      <th>1</th>\n",
       "      <td>3</td>\n",
       "      <td>2</td>\n",
       "      <td>3</td>\n",
       "      <td>1</td>\n",
       "      <td>721</td>\n",
       "    </tr>\n",
       "    <tr>\n",
       "      <th>2</th>\n",
       "      <td>2</td>\n",
       "      <td>3</td>\n",
       "      <td>3</td>\n",
       "      <td>1</td>\n",
       "      <td>37</td>\n",
       "    </tr>\n",
       "    <tr>\n",
       "      <th>3</th>\n",
       "      <td>2</td>\n",
       "      <td>4</td>\n",
       "      <td>3</td>\n",
       "      <td>1</td>\n",
       "      <td>105</td>\n",
       "    </tr>\n",
       "    <tr>\n",
       "      <th>4</th>\n",
       "      <td>2</td>\n",
       "      <td>5</td>\n",
       "      <td>3</td>\n",
       "      <td>1</td>\n",
       "      <td>105</td>\n",
       "    </tr>\n",
       "  </tbody>\n",
       "</table>\n",
       "</div>"
      ],
      "text/plain": [
       "   action  bloc  id  reward  state\n",
       "0       2     1   3       1    721\n",
       "1       3     2   3       1    721\n",
       "2       2     3   3       1     37\n",
       "3       2     4   3       1    105\n",
       "4       2     5   3       1    105"
      ]
     },
     "execution_count": 9,
     "metadata": {},
     "output_type": "execute_result"
    }
   ],
   "source": [
    "# Create the state, action, rewards table\n",
    "#    State is label from the clustering\n",
    "#    Action is [0..24] using vaso_bins * 5 + tev_bins. Each are in the range [0..4]\n",
    "#    Reward=0 if the patient survived, 1 if the patient died either in the hospital or 90 days later\n",
    "d = {'state': mbk.labels_, 'action':vaso_bins*5 + tev_bins, 'reward': df[results].sum(axis=1), \n",
    "     'bloc':df.bloc, 'id':df.icustayid }\n",
    "mdp = pd.DataFrame(data = d)\n",
    "episodes = mdp.sort_values(['id','bloc']).groupby('id')\n",
    "mdp.head(5)\n"
   ]
  },
  {
   "cell_type": "markdown",
   "metadata": {},
   "source": [
    "## Doctor Variation - For s,a only (not s')"
   ]
  },
  {
   "cell_type": "code",
   "execution_count": 10,
   "metadata": {
    "collapsed": true
   },
   "outputs": [],
   "source": [
    "sas_count = np.zeros((n_clusters, n_actions))\n",
    "\n",
    "i =0\n",
    "for name, transitions in episodes:\n",
    "    state = transitions['state'].tolist()\n",
    "    action = transitions['action'].tolist()\n",
    "    for i in range(len(state)-2):\n",
    "        sas_count[state[i],action[i]] += 1\n",
    "\n"
   ]
  },
  {
   "cell_type": "code",
   "execution_count": 11,
   "metadata": {},
   "outputs": [
    {
     "name": "stdout",
     "output_type": "stream",
     "text": [
      "Number of null items: 6909  out of  18750\n",
      "The state-action-sprime matrix is 36.85% sparse\n",
      "Total number of distinct state, action tuples: 11841\n"
     ]
    }
   ],
   "source": [
    "sas_nul_count = np.count_nonzero(sas_count==0.0)\n",
    "print (\"Number of null items:\",sas_nul_count, \" out of \", n_clusters*n_actions)\n",
    "sparsity = 100*(1 - (n_clusters*n_actions - sas_nul_count) / (n_clusters*n_actions)) \n",
    "print (\"The state-action-sprime matrix is {0:.2f}% sparse\".format(sparsity))\n",
    "distinct_sas_count = sorted(sas_count[np.nonzero(sas_count)],reverse=True)\n",
    "print (\"Total number of distinct state, action tuples:\",len(distinct_sas_count))"
   ]
  },
  {
   "cell_type": "code",
   "execution_count": 12,
   "metadata": {
    "collapsed": true
   },
   "outputs": [],
   "source": [
    "# Make a set of distinct actions for a given (s, s')\n",
    "action_set = [set() for i in range(n_clusters)]\n",
    "\n",
    "for (s,a), value in np.ndenumerate(sas_count):\n",
    "    if value > 0:\n",
    "        # this (s, a, s') had at least one occurrance. Add the action to the set\n",
    "        action_set[int(s)].add(a)\n",
    "\n",
    "    "
   ]
  },
  {
   "cell_type": "code",
   "execution_count": 13,
   "metadata": {
    "collapsed": true
   },
   "outputs": [],
   "source": [
    "# How many different actions were there for a given (s, s')\n",
    "dist = []\n",
    "for i in range(n_clusters):\n",
    "        # only care if there was more than one action for a given (s,s')\n",
    "        if len(action_set[i]) > 1:\n",
    "            dist.append(len(action_set[i]))"
   ]
  },
  {
   "cell_type": "code",
   "execution_count": 14,
   "metadata": {},
   "outputs": [
    {
     "data": {
      "image/png": "[encoded data removed]",
      "text/plain": [
       "<matplotlib.figure.Figure at 0x114b51588>"
      ]
     },
     "metadata": {},
     "output_type": "display_data"
    }
   ],
   "source": [
    "plt.hist(dist,bins=n_actions-1)\n",
    "plt.title(\"Histogram of Doctor Discrepencies\")\n",
    "plt.xlabel(\"Number of different actions attempted for a given (s)\")\n",
    "plt.show()"
   ]
  },
  {
   "cell_type": "code",
   "execution_count": 15,
   "metadata": {},
   "outputs": [
    {
     "name": "stdout",
     "output_type": "stream",
     "text": [
      "Out of 11841 unique s,a combinations, only 749 had multiple actions\n"
     ]
    }
   ],
   "source": [
    "\n",
    "print (\"Out of {0:d} unique s,a combinations, only {1:d} had multiple actions\".format(len(distinct_sas_count),len(dist)))"
   ]
  },
  {
   "cell_type": "code",
   "execution_count": 158,
   "metadata": {},
   "outputs": [
    {
     "data": {
      "text/plain": [
       "(array([853, 617, 440, 389, 312, 281, 251, 191, 184, 160, 128, 127,  89,\n",
       "         88,  84,  77,  61,  49,  53,  59,  42,  34,  26,  10]),\n",
       " array([  2.        ,   2.95833333,   3.91666667,   4.875     ,\n",
       "          5.83333333,   6.79166667,   7.75      ,   8.70833333,\n",
       "          9.66666667,  10.625     ,  11.58333333,  12.54166667,\n",
       "         13.5       ,  14.45833333,  15.41666667,  16.375     ,\n",
       "         17.33333333,  18.29166667,  19.25      ,  20.20833333,\n",
       "         21.16666667,  22.125     ,  23.08333333,  24.04166667,  25.        ]))"
      ]
     },
     "execution_count": 158,
     "metadata": {},
     "output_type": "execute_result"
    }
   ],
   "source": [
    "np.histogram(dist,bins=n_actions-1)"
   ]
  },
  {
   "cell_type": "code",
   "execution_count": null,
   "metadata": {
    "collapsed": true
   },
   "outputs": [],
   "source": []
  }
 ],
 "metadata": {
  "kernelspec": {
   "display_name": "Python 3",
   "language": "python",
   "name": "python3"
  },
  "language_info": {
   "codemirror_mode": {
    "name": "ipython",
    "version": 3
   },
   "file_extension": ".py",
   "mimetype": "text/x-python",
   "name": "python",
   "nbconvert_exporter": "python",
   "pygments_lexer": "ipython3",
   "version": "3.6.1"
  }
 },
 "nbformat": 4,
 "nbformat_minor": 2
}
