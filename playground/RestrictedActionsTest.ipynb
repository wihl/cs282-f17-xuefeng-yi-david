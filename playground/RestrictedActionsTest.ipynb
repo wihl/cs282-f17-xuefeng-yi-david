{
 "cells": [
  {
   "cell_type": "markdown",
   "metadata": {},
   "source": [
    "# Restrict Actions\n",
    "\n",
    "Given a set of $(s,a,s')$ state-action-sprime tuples, return the list of actions taken for a given state.\n",
    "\n",
    "The tuples can be supplied as a sorted list of episodes (Use Case 1) or as a simply numpy array (Use Case 2)."
   ]
  },
  {
   "cell_type": "code",
   "execution_count": 1,
   "metadata": {},
   "outputs": [],
   "source": [
    "# Setup\n",
    "import pandas as pd\n",
    "import numpy as np\n",
    "\n",
    "import restrictactions as ra\n"
   ]
  },
  {
   "cell_type": "code",
   "execution_count": 2,
   "metadata": {
    "collapsed": true
   },
   "outputs": [],
   "source": [
    "n_actions = 25\n",
    "n_states = 750\n",
    "max_bloc = 20\n",
    "n_patients = 10"
   ]
  },
  {
   "cell_type": "markdown",
   "metadata": {},
   "source": [
    "### Use Case 1 - Provide a Pandas DataFrame of Episodes"
   ]
  },
  {
   "cell_type": "code",
   "execution_count": 3,
   "metadata": {},
   "outputs": [],
   "source": [
    "columns = ['id','bloc', 'state', 'action']\n",
    "testDf = pd.DataFrame(columns=columns)"
   ]
  },
  {
   "cell_type": "code",
   "execution_count": 4,
   "metadata": {},
   "outputs": [],
   "source": [
    "# Populate testDf with fake data\n",
    "for patient in range(n_patients):\n",
    "    episode = {k : [] for k in columns}\n",
    "    n_bloc = np.random.randint(low=1,high=max_bloc)\n",
    "    episode['id'].extend([patient] * n_bloc)\n",
    "    episode['bloc'] = list(range(1,n_bloc+1))\n",
    "    episode['state'] = np.random.randint(n_states,size=n_bloc)\n",
    "    episode['action'] = np.random.randint(n_actions,size=n_bloc)\n",
    "    \n",
    "    testDf = pd.concat([testDf,pd.DataFrame(episode)])"
   ]
  },
  {
   "cell_type": "code",
   "execution_count": 5,
   "metadata": {},
   "outputs": [
    {
     "data": {
      "text/html": [
       "<div>\n",
       "<style>\n",
       "    .dataframe thead tr:only-child th {\n",
       "        text-align: right;\n",
       "    }\n",
       "\n",
       "    .dataframe thead th {\n",
       "        text-align: left;\n",
       "    }\n",
       "\n",
       "    .dataframe tbody tr th {\n",
       "        vertical-align: top;\n",
       "    }\n",
       "</style>\n",
       "<table border=\"1\" class=\"dataframe\">\n",
       "  <thead>\n",
       "    <tr style=\"text-align: right;\">\n",
       "      <th></th>\n",
       "      <th>action</th>\n",
       "      <th>bloc</th>\n",
       "      <th>id</th>\n",
       "      <th>state</th>\n",
       "    </tr>\n",
       "  </thead>\n",
       "  <tbody>\n",
       "    <tr>\n",
       "      <th>0</th>\n",
       "      <td>7</td>\n",
       "      <td>1</td>\n",
       "      <td>0</td>\n",
       "      <td>235</td>\n",
       "    </tr>\n",
       "    <tr>\n",
       "      <th>1</th>\n",
       "      <td>22</td>\n",
       "      <td>2</td>\n",
       "      <td>0</td>\n",
       "      <td>523</td>\n",
       "    </tr>\n",
       "    <tr>\n",
       "      <th>2</th>\n",
       "      <td>9</td>\n",
       "      <td>3</td>\n",
       "      <td>0</td>\n",
       "      <td>328</td>\n",
       "    </tr>\n",
       "    <tr>\n",
       "      <th>0</th>\n",
       "      <td>16</td>\n",
       "      <td>1</td>\n",
       "      <td>1</td>\n",
       "      <td>618</td>\n",
       "    </tr>\n",
       "    <tr>\n",
       "      <th>1</th>\n",
       "      <td>11</td>\n",
       "      <td>2</td>\n",
       "      <td>1</td>\n",
       "      <td>228</td>\n",
       "    </tr>\n",
       "  </tbody>\n",
       "</table>\n",
       "</div>"
      ],
      "text/plain": [
       "  action bloc id state\n",
       "0      7    1  0   235\n",
       "1     22    2  0   523\n",
       "2      9    3  0   328\n",
       "0     16    1  1   618\n",
       "1     11    2  1   228"
      ]
     },
     "execution_count": 5,
     "metadata": {},
     "output_type": "execute_result"
    }
   ],
   "source": [
    "testDf.head()"
   ]
  },
  {
   "cell_type": "code",
   "execution_count": 6,
   "metadata": {},
   "outputs": [],
   "source": [
    "# Sort the list of episodes by patient id and then by timestamp\n",
    "episodes = testDf.sort_values(['id','bloc']).groupby('id')\n",
    "\n",
    "# Create the RestrictActions object. Provide number of states and actions\n",
    "restrict_actions = ra.RestrictActions(n_states,n_actions)"
   ]
  },
  {
   "cell_type": "code",
   "execution_count": 7,
   "metadata": {},
   "outputs": [],
   "source": [
    "# Provide the list of episodes to examine\n",
    "restrict_actions.load_sas_as_episodes(episodes)"
   ]
  },
  {
   "cell_type": "code",
   "execution_count": 8,
   "metadata": {},
   "outputs": [
    {
     "data": {
      "text/plain": [
       "[7]"
      ]
     },
     "execution_count": 8,
     "metadata": {},
     "output_type": "execute_result"
    }
   ],
   "source": [
    "# Take the first state and show which actions were performed for that state. It may be only one.\n",
    "# The returned list is sorted by number of times the action was taken in descending order.\n",
    "act1 =testDf.iloc[0]['state']\n",
    "a = restrict_actions.get_actions(act1)\n",
    "a"
   ]
  },
  {
   "cell_type": "code",
   "execution_count": 9,
   "metadata": {},
   "outputs": [
    {
     "data": {
      "text/plain": [
       "[0.0,\n",
       " 0.0,\n",
       " 0.0,\n",
       " 0.0,\n",
       " 0.0,\n",
       " 0.0,\n",
       " 0.0,\n",
       " 1.0,\n",
       " 0.0,\n",
       " 0.0,\n",
       " 0.0,\n",
       " 0.0,\n",
       " 0.0,\n",
       " 0.0,\n",
       " 0.0,\n",
       " 0.0,\n",
       " 0.0,\n",
       " 0.0,\n",
       " 0.0,\n",
       " 0.0,\n",
       " 0.0,\n",
       " 0.0,\n",
       " 0.0,\n",
       " 0.0,\n",
       " 0.0]"
      ]
     },
     "execution_count": 9,
     "metadata": {},
     "output_type": "execute_result"
    }
   ],
   "source": [
    "# If you want how many times each possible action was taken for a given state\n",
    "restrict_actions.get_actions_per_state(act1)"
   ]
  },
  {
   "cell_type": "markdown",
   "metadata": {},
   "source": [
    "### Use Case 2 - Pass in a Numpy array\n",
    "\n",
    "The numpy array will have three columns: state, action, sprime"
   ]
  },
  {
   "cell_type": "code",
   "execution_count": 10,
   "metadata": {},
   "outputs": [
    {
     "data": {
      "text/plain": [
       "array([[487,  11, 270],\n",
       "       [259,   7, 307],\n",
       "       [125,  13, 635],\n",
       "       [414,   9, 117],\n",
       "       [742,  23, 143],\n",
       "       [655,  21, 673],\n",
       "       [510,  24, 495],\n",
       "       [215,  11, 673],\n",
       "       [748,  18, 255],\n",
       "       [677,   1, 748]])"
      ]
     },
     "execution_count": 10,
     "metadata": {},
     "output_type": "execute_result"
    }
   ],
   "source": [
    "states = np.random.randint(n_states, size = (n_patients * max_bloc))\n",
    "actions = np.random.randint (n_actions, size = (n_patients * max_bloc))\n",
    "sprime = np.random.randint(n_states, size = (n_patients * max_bloc))\n",
    "\n",
    "testArray = np.column_stack((states, actions, sprime))\n",
    "testArray[0:10]"
   ]
  },
  {
   "cell_type": "code",
   "execution_count": 15,
   "metadata": {},
   "outputs": [],
   "source": [
    "# Create the RestrictActions object. Provide number of states and actions\n",
    "restrict_actions2 = ra.RestrictActions(n_states,n_actions)\n",
    "# Provide the list of episodes to examine\n",
    "restrict_actions2.load_sas_as_array(testArray)"
   ]
  },
  {
   "cell_type": "code",
   "execution_count": 16,
   "metadata": {},
   "outputs": [
    {
     "data": {
      "text/plain": [
       "[11]"
      ]
     },
     "execution_count": 16,
     "metadata": {},
     "output_type": "execute_result"
    }
   ],
   "source": [
    "# Take the first state and show which actions were performed for that state. It may be only one.\n",
    "# The returned list is sorted by number of times the action was taken in descending order.\n",
    "act1 = testArray[0][0]\n",
    "a = restrict_actions2.get_actions(act1)\n",
    "a"
   ]
  },
  {
   "cell_type": "code",
   "execution_count": 17,
   "metadata": {},
   "outputs": [
    {
     "data": {
      "text/plain": [
       "[0.0,\n",
       " 0.0,\n",
       " 0.0,\n",
       " 0.0,\n",
       " 0.0,\n",
       " 0.0,\n",
       " 0.0,\n",
       " 0.0,\n",
       " 0.0,\n",
       " 0.0,\n",
       " 0.0,\n",
       " 1.0,\n",
       " 0.0,\n",
       " 0.0,\n",
       " 0.0,\n",
       " 0.0,\n",
       " 0.0,\n",
       " 0.0,\n",
       " 0.0,\n",
       " 0.0,\n",
       " 0.0,\n",
       " 0.0,\n",
       " 0.0,\n",
       " 0.0,\n",
       " 0.0]"
      ]
     },
     "execution_count": 17,
     "metadata": {},
     "output_type": "execute_result"
    }
   ],
   "source": [
    "restrict_actions2.get_actions_per_state(act1)"
   ]
  },
  {
   "cell_type": "code",
   "execution_count": null,
   "metadata": {
    "collapsed": true
   },
   "outputs": [],
   "source": []
  }
 ],
 "metadata": {
  "kernelspec": {
   "display_name": "Python 3",
   "language": "python",
   "name": "python3"
  },
  "language_info": {
   "codemirror_mode": {
    "name": "ipython",
    "version": 3
   },
   "file_extension": ".py",
   "mimetype": "text/x-python",
   "name": "python",
   "nbconvert_exporter": "python",
   "pygments_lexer": "ipython3",
   "version": "3.6.1"
  }
 },
 "nbformat": 4,
 "nbformat_minor": 2
}
