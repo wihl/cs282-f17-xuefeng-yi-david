{
 "cells": [
  {
   "cell_type": "markdown",
   "metadata": {},
   "source": [
    "### RC-GAN for ICU Data\n",
    "\n",
    "Adapted from https://github.com/ratschlab/RGAN by Hyland, Esteban and Rätsch\n",
    "\n",
    "See paper at https://arxiv.org/abs/1706.02633\n"
   ]
  },
  {
   "cell_type": "code",
   "execution_count": 1,
   "metadata": {
    "collapsed": true
   },
   "outputs": [],
   "source": [
    "import numpy as np\n",
    "import tensorflow as tf\n",
    "import data_utils\n",
    "import model\n",
    "\n",
    "tf.logging.set_verbosity(tf.logging.ERROR)\n",
    "\n",
    "batch_size = 28\n",
    "seq_length = 14\n",
    "latent_dim = 1\n",
    "num_signals = 14\n",
    "cond_dim = 0\n",
    "batch_mean = False\n",
    "hidden_units_d = 100\n",
    "hidden_units_g = 100\n",
    "num_generated_features = 14\n",
    "learn_scale = True\n",
    "kappa = 1\n",
    "wrong_labels = False\n",
    "learning_rate = 0.1\n",
    "use_time = False"
   ]
  },
  {
   "cell_type": "code",
   "execution_count": 2,
   "metadata": {},
   "outputs": [
    {
     "name": "stdout",
     "output_type": "stream",
     "text": [
      "Generated/loaded 14000 samples from data-type sine\n"
     ]
    }
   ],
   "source": [
    "\n",
    "data_settings = {\n",
    "    'scale': 0.1,\n",
    "    'full_mnist': False}\n",
    "samples, pdf, labels = data_utils.get_data('sine', data_settings)\n"
   ]
  },
  {
   "cell_type": "code",
   "execution_count": 3,
   "metadata": {},
   "outputs": [],
   "source": [
    "norm = False\n",
    "if labels is None:\n",
    "    train, vali, test = data_utils.split(samples, [0.6, 0.2, 0.2], normalise=norm)\n",
    "    train_labels, vali_labels, test_labels = None, None, None\n",
    "else:\n",
    "    train, vali, test, labels_list = data_utils.split(samples, [0.6, 0.2, 0.2], normalise=norm, labels=labels)\n",
    "    train_labels, vali_labels, test_labels = labels_list"
   ]
  },
  {
   "cell_type": "code",
   "execution_count": 4,
   "metadata": {},
   "outputs": [
    {
     "name": "stdout",
     "output_type": "stream",
     "text": [
      "Saved training data to sine.data.npy\n"
     ]
    }
   ],
   "source": [
    "data_path = 'sine.data.npy'\n",
    "np.save(data_path, {'samples': samples, 'pdf': pdf, 'labels': labels})\n",
    "print('Saved training data to', data_path)"
   ]
  },
  {
   "cell_type": "markdown",
   "metadata": {},
   "source": [
    "### Model Building"
   ]
  },
  {
   "cell_type": "code",
   "execution_count": 5,
   "metadata": {},
   "outputs": [],
   "source": [
    "Z, X, CG, CD, CS = model.create_placeholders(batch_size, seq_length, latent_dim, \n",
    "                                    num_signals, cond_dim)\n",
    "\n",
    "discriminator_settings = {\n",
    "    'hidden_units_d': hidden_units_d ,\n",
    "    'seq_length' : seq_length,\n",
    "    'cond_dim':cond_dim,\n",
    "    'batch_size':batch_size, \n",
    "    'batch_mean':batch_mean\n",
    "}\n",
    "generator_settings = {\n",
    "    'hidden_units_g': hidden_units_g,\n",
    "    'seq_length': seq_length,\n",
    "    'batch_size':batch_size, \n",
    "    'num_generated_features':num_generated_features, \n",
    "    'cond_dim':cond_dim,\n",
    "    'learn_scale': learn_scale\n",
    "}\n"
   ]
  },
  {
   "cell_type": "code",
   "execution_count": 6,
   "metadata": {},
   "outputs": [],
   "source": [
    "CGAN = (cond_dim > 0)\n",
    "if CGAN: assert not predict_labels\n",
    "D_loss, G_loss = model.GAN_loss(Z, X, generator_settings, discriminator_settings, kappa, CGAN, CG, CD, CS, wrong_labels=wrong_labels)\n",
    "D_solver, G_solver = model.GAN_solvers(D_loss, G_loss, learning_rate)\n",
    "G_sample = model.generator(Z, **generator_settings, reuse=True, c=CG)\n"
   ]
  },
  {
   "cell_type": "markdown",
   "metadata": {},
   "source": [
    "### Model Evaluation"
   ]
  },
  {
   "cell_type": "code",
   "execution_count": 7,
   "metadata": {},
   "outputs": [],
   "source": [
    "sess = tf.Session()\n",
    "sess.run(tf.global_variables_initializer())\n",
    "vis_Z = model.sample_Z(batch_size, seq_length, latent_dim, use_time)\n",
    "\n",
    "vis_sample = sess.run(G_sample, feed_dict={Z: vis_Z})"
   ]
  },
  {
   "cell_type": "code",
   "execution_count": null,
   "metadata": {},
   "outputs": [],
   "source": [
    "\n"
   ]
  },
  {
   "cell_type": "code",
   "execution_count": null,
   "metadata": {
    "collapsed": true
   },
   "outputs": [],
   "source": []
  }
 ],
 "metadata": {
  "kernelspec": {
   "display_name": "Python 3",
   "language": "python",
   "name": "python3"
  },
  "language_info": {
   "codemirror_mode": {
    "name": "ipython",
    "version": 3
   },
   "file_extension": ".py",
   "mimetype": "text/x-python",
   "name": "python",
   "nbconvert_exporter": "python",
   "pygments_lexer": "ipython3",
   "version": "3.6.3"
  }
 },
 "nbformat": 4,
 "nbformat_minor": 2
}
