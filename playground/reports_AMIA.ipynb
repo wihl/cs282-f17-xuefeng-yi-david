{
 "cells": [
  {
   "cell_type": "code",
   "execution_count": 29,
   "metadata": {
    "collapsed": true
   },
   "outputs": [],
   "source": [
    "%matplotlib inline\n",
    "import pickle\n",
    "import pandas as pd\n",
    "import numpy as np\n",
    "import seaborn as sns\n",
    "import matplotlib.pyplot as plt\n",
    "# Turn off annoying Pandas warnings\n",
    "import warnings\n",
    "warnings.filterwarnings('ignore')\n"
   ]
  },
  {
   "cell_type": "code",
   "execution_count": 2,
   "metadata": {},
   "outputs": [],
   "source": [
    "#dqn = pickle.load(open(\"dqn_actions.pkl\", \"rb\" ))\n",
    "#krn = pickle.load(open(\"kernel_actions.pkl\", \"rb\" ))\n",
    "#moe = pickle.load(open(\"moe_actions.pkl\", \"rb\" ))\n",
    "#phy = pickle.load(open(\"phy_actions.pkl\", \"rb\" ))\n",
    "#rewards = pickle.load(open(\"rewards.pkl\", \"rb\" ))\n",
    "#test_moe_imp_weights = pickle.load(open(\"test_set_moe_importance_weights.pkl\", \"rb\" ))\n",
    "#train_scaled_with_ir = pd.read_csv(\"train_scaled_with_ir.csv\")"
   ]
  },
  {
   "cell_type": "code",
   "execution_count": 3,
   "metadata": {
    "collapsed": true
   },
   "outputs": [],
   "source": [
    "#test_scaled_with_ir = pd.read_csv(\"test_scaled_with_ir.csv\")\n",
    "#test_scaled_with_ir.head()"
   ]
  },
  {
   "cell_type": "code",
   "execution_count": 4,
   "metadata": {},
   "outputs": [],
   "source": [
    "test_set_with_actions = pickle.load(open(\"test_set_with_actions.pkl\", \"rb\" ))\n"
   ]
  },
  {
   "cell_type": "code",
   "execution_count": 5,
   "metadata": {
    "collapsed": true
   },
   "outputs": [],
   "source": [
    "#test_set_with_actions.head()"
   ]
  },
  {
   "cell_type": "code",
   "execution_count": 6,
   "metadata": {},
   "outputs": [],
   "source": [
    "#test_set_with_actions.columns.values"
   ]
  },
  {
   "cell_type": "code",
   "execution_count": 7,
   "metadata": {},
   "outputs": [],
   "source": [
    "test_cleaned_obs = pd.read_csv(\"origin_test_clean.csv\")\n",
    "test_cleaned_obs.drop(test_cleaned_obs[test_cleaned_obs['icustayid'].\n",
    "                       isin([37166.0,67895.0,68546.0,85154.0])].index,inplace=True)\n",
    "test_cleaned_obs.drop(test_cleaned_obs[test_cleaned_obs['icustayid'].isnull()].index, inplace=True)\n"
   ]
  },
  {
   "cell_type": "code",
   "execution_count": 8,
   "metadata": {},
   "outputs": [],
   "source": [
    "#test_cleaned_obs.columns.values"
   ]
  },
  {
   "cell_type": "code",
   "execution_count": 9,
   "metadata": {},
   "outputs": [],
   "source": [
    "#test_cleaned_obs.head()"
   ]
  },
  {
   "cell_type": "code",
   "execution_count": 10,
   "metadata": {},
   "outputs": [
    {
     "data": {
      "text/plain": [
       "6.401640795608806"
      ]
     },
     "execution_count": 10,
     "metadata": {},
     "output_type": "execute_result"
    }
   ],
   "source": [
    "np.mean(test_set_with_actions.SOFA)"
   ]
  },
  {
   "cell_type": "code",
   "execution_count": 11,
   "metadata": {},
   "outputs": [
    {
     "data": {
      "text/plain": [
       "6.401640795608806"
      ]
     },
     "execution_count": 11,
     "metadata": {},
     "output_type": "execute_result"
    }
   ],
   "source": [
    "np.mean(test_cleaned_obs.SOFA)"
   ]
  },
  {
   "cell_type": "code",
   "execution_count": 12,
   "metadata": {
    "collapsed": true
   },
   "outputs": [],
   "source": [
    "test_set = pd.concat([test_cleaned_obs,test_set_with_actions[['traj_len','dist','reward','kernel','dqn','moe','phy']]],axis=1)"
   ]
  },
  {
   "cell_type": "code",
   "execution_count": 13,
   "metadata": {},
   "outputs": [
    {
     "data": {
      "text/plain": [
       "6.401640795608806"
      ]
     },
     "execution_count": 13,
     "metadata": {},
     "output_type": "execute_result"
    }
   ],
   "source": [
    "np.mean(test_set.SOFA)"
   ]
  },
  {
   "cell_type": "code",
   "execution_count": 14,
   "metadata": {},
   "outputs": [
    {
     "data": {
      "text/plain": [
       "array(['bloc', 'icustayid', 'charttime', 'gender', 'age', 'elixhauser',\n",
       "       're_admission', 'SOFA', 'SIRS', 'Weight_kg', 'GCS', 'HR', 'SysBP',\n",
       "       'MeanBP', 'DiaBP', 'Shock_Index', 'RR', 'SpO2', 'Temp_C', 'FiO2_1',\n",
       "       'Potassium', 'Sodium', 'Chloride', 'Glucose', 'BUN', 'Creatinine',\n",
       "       'Magnesium', 'Calcium', 'Ionised_Ca', 'CO2_mEqL', 'SGOT', 'SGPT',\n",
       "       'Total_bili', 'Albumin', 'Hb', 'WBC_count', 'Platelets_count',\n",
       "       'PTT', 'PT', 'INR', 'Arterial_pH', 'paO2', 'paCO2', 'Arterial_BE',\n",
       "       'Arterial_lactate', 'HCO3', 'PaO2_FiO2', 'median_dose_vaso',\n",
       "       'max_dose_vaso', 'input_total_tev', 'input_4hourly_tev',\n",
       "       'output_total', 'output_4hourly', 'cumulated_balance_tev',\n",
       "       'sedation', 'mechvent', 'rrt', 'died_in_hosp', 'mortality_90d',\n",
       "       'traj_len', 'dist', 'reward', 'kernel', 'dqn', 'moe', 'phy'], dtype=object)"
      ]
     },
     "execution_count": 14,
     "metadata": {},
     "output_type": "execute_result"
    }
   ],
   "source": [
    "test_set.columns.values"
   ]
  },
  {
   "cell_type": "code",
   "execution_count": 15,
   "metadata": {},
   "outputs": [
    {
     "data": {
      "text/html": [
       "<div>\n",
       "<style>\n",
       "    .dataframe thead tr:only-child th {\n",
       "        text-align: right;\n",
       "    }\n",
       "\n",
       "    .dataframe thead th {\n",
       "        text-align: left;\n",
       "    }\n",
       "\n",
       "    .dataframe tbody tr th {\n",
       "        vertical-align: top;\n",
       "    }\n",
       "</style>\n",
       "<table border=\"1\" class=\"dataframe\">\n",
       "  <thead>\n",
       "    <tr style=\"text-align: right;\">\n",
       "      <th></th>\n",
       "      <th>bloc</th>\n",
       "      <th>icustayid</th>\n",
       "      <th>charttime</th>\n",
       "      <th>gender</th>\n",
       "      <th>age</th>\n",
       "      <th>elixhauser</th>\n",
       "      <th>re_admission</th>\n",
       "      <th>SOFA</th>\n",
       "      <th>SIRS</th>\n",
       "      <th>Weight_kg</th>\n",
       "      <th>...</th>\n",
       "      <th>rrt</th>\n",
       "      <th>died_in_hosp</th>\n",
       "      <th>mortality_90d</th>\n",
       "      <th>traj_len</th>\n",
       "      <th>dist</th>\n",
       "      <th>reward</th>\n",
       "      <th>kernel</th>\n",
       "      <th>dqn</th>\n",
       "      <th>moe</th>\n",
       "      <th>phy</th>\n",
       "    </tr>\n",
       "  </thead>\n",
       "  <tbody>\n",
       "    <tr>\n",
       "      <th>0</th>\n",
       "      <td>1.0</td>\n",
       "      <td>61.0</td>\n",
       "      <td>5.177308e+09</td>\n",
       "      <td>0.0</td>\n",
       "      <td>16710.693588</td>\n",
       "      <td>3.0</td>\n",
       "      <td>0.0</td>\n",
       "      <td>12.0</td>\n",
       "      <td>3.0</td>\n",
       "      <td>250.0</td>\n",
       "      <td>...</td>\n",
       "      <td>0.0</td>\n",
       "      <td>0.0</td>\n",
       "      <td>0.0</td>\n",
       "      <td>1.0</td>\n",
       "      <td>0.982623</td>\n",
       "      <td>0.351480</td>\n",
       "      <td>0.0</td>\n",
       "      <td>0.0</td>\n",
       "      <td>0.0</td>\n",
       "      <td>20.0</td>\n",
       "    </tr>\n",
       "    <tr>\n",
       "      <th>1</th>\n",
       "      <td>2.0</td>\n",
       "      <td>61.0</td>\n",
       "      <td>5.177322e+09</td>\n",
       "      <td>0.0</td>\n",
       "      <td>16710.693588</td>\n",
       "      <td>3.0</td>\n",
       "      <td>0.0</td>\n",
       "      <td>8.0</td>\n",
       "      <td>3.0</td>\n",
       "      <td>250.0</td>\n",
       "      <td>...</td>\n",
       "      <td>0.0</td>\n",
       "      <td>0.0</td>\n",
       "      <td>0.0</td>\n",
       "      <td>2.0</td>\n",
       "      <td>1.737526</td>\n",
       "      <td>-0.472893</td>\n",
       "      <td>20.0</td>\n",
       "      <td>20.0</td>\n",
       "      <td>20.0</td>\n",
       "      <td>20.0</td>\n",
       "    </tr>\n",
       "    <tr>\n",
       "      <th>2</th>\n",
       "      <td>3.0</td>\n",
       "      <td>61.0</td>\n",
       "      <td>5.177336e+09</td>\n",
       "      <td>0.0</td>\n",
       "      <td>16710.693588</td>\n",
       "      <td>3.0</td>\n",
       "      <td>0.0</td>\n",
       "      <td>8.0</td>\n",
       "      <td>4.0</td>\n",
       "      <td>250.0</td>\n",
       "      <td>...</td>\n",
       "      <td>0.0</td>\n",
       "      <td>0.0</td>\n",
       "      <td>0.0</td>\n",
       "      <td>3.0</td>\n",
       "      <td>2.177648</td>\n",
       "      <td>0.148372</td>\n",
       "      <td>20.0</td>\n",
       "      <td>0.0</td>\n",
       "      <td>20.0</td>\n",
       "      <td>20.0</td>\n",
       "    </tr>\n",
       "    <tr>\n",
       "      <th>3</th>\n",
       "      <td>4.0</td>\n",
       "      <td>61.0</td>\n",
       "      <td>5.177351e+09</td>\n",
       "      <td>0.0</td>\n",
       "      <td>16710.693588</td>\n",
       "      <td>3.0</td>\n",
       "      <td>0.0</td>\n",
       "      <td>7.0</td>\n",
       "      <td>4.0</td>\n",
       "      <td>250.0</td>\n",
       "      <td>...</td>\n",
       "      <td>0.0</td>\n",
       "      <td>0.0</td>\n",
       "      <td>0.0</td>\n",
       "      <td>4.0</td>\n",
       "      <td>2.413630</td>\n",
       "      <td>-0.052440</td>\n",
       "      <td>20.0</td>\n",
       "      <td>0.0</td>\n",
       "      <td>20.0</td>\n",
       "      <td>20.0</td>\n",
       "    </tr>\n",
       "    <tr>\n",
       "      <th>4</th>\n",
       "      <td>5.0</td>\n",
       "      <td>61.0</td>\n",
       "      <td>5.177365e+09</td>\n",
       "      <td>0.0</td>\n",
       "      <td>16710.693588</td>\n",
       "      <td>3.0</td>\n",
       "      <td>0.0</td>\n",
       "      <td>7.0</td>\n",
       "      <td>4.0</td>\n",
       "      <td>250.0</td>\n",
       "      <td>...</td>\n",
       "      <td>0.0</td>\n",
       "      <td>0.0</td>\n",
       "      <td>0.0</td>\n",
       "      <td>5.0</td>\n",
       "      <td>2.553184</td>\n",
       "      <td>-0.031333</td>\n",
       "      <td>20.0</td>\n",
       "      <td>0.0</td>\n",
       "      <td>20.0</td>\n",
       "      <td>20.0</td>\n",
       "    </tr>\n",
       "  </tbody>\n",
       "</table>\n",
       "<p>5 rows × 66 columns</p>\n",
       "</div>"
      ],
      "text/plain": [
       "   bloc  icustayid     charttime  gender           age  elixhauser  \\\n",
       "0   1.0       61.0  5.177308e+09     0.0  16710.693588         3.0   \n",
       "1   2.0       61.0  5.177322e+09     0.0  16710.693588         3.0   \n",
       "2   3.0       61.0  5.177336e+09     0.0  16710.693588         3.0   \n",
       "3   4.0       61.0  5.177351e+09     0.0  16710.693588         3.0   \n",
       "4   5.0       61.0  5.177365e+09     0.0  16710.693588         3.0   \n",
       "\n",
       "   re_admission  SOFA  SIRS  Weight_kg  ...   rrt  died_in_hosp  \\\n",
       "0           0.0  12.0   3.0      250.0  ...   0.0           0.0   \n",
       "1           0.0   8.0   3.0      250.0  ...   0.0           0.0   \n",
       "2           0.0   8.0   4.0      250.0  ...   0.0           0.0   \n",
       "3           0.0   7.0   4.0      250.0  ...   0.0           0.0   \n",
       "4           0.0   7.0   4.0      250.0  ...   0.0           0.0   \n",
       "\n",
       "   mortality_90d  traj_len      dist    reward  kernel   dqn   moe   phy  \n",
       "0            0.0       1.0  0.982623  0.351480     0.0   0.0   0.0  20.0  \n",
       "1            0.0       2.0  1.737526 -0.472893    20.0  20.0  20.0  20.0  \n",
       "2            0.0       3.0  2.177648  0.148372    20.0   0.0  20.0  20.0  \n",
       "3            0.0       4.0  2.413630 -0.052440    20.0   0.0  20.0  20.0  \n",
       "4            0.0       5.0  2.553184 -0.031333    20.0   0.0  20.0  20.0  \n",
       "\n",
       "[5 rows x 66 columns]"
      ]
     },
     "execution_count": 15,
     "metadata": {},
     "output_type": "execute_result"
    }
   ],
   "source": [
    "test_set.head()"
   ]
  },
  {
   "cell_type": "markdown",
   "metadata": {},
   "source": [
    "## Single Patient Trajectory"
   ]
  },
  {
   "cell_type": "code",
   "execution_count": 16,
   "metadata": {
    "collapsed": true
   },
   "outputs": [],
   "source": [
    "def plot_patient_traj(icuid, attrs, df):\n",
    "    \n",
    "    plt.figure(figsize=(10, int(2 * len(attrs))), dpi=150)\n",
    "    patient_obsers = df[df['icustayid'] == icuid]\n",
    "    \n",
    "    actions = patient_obsers['moe'].values\n",
    "    phy = patient_obsers['phy'].values\n",
    "    \n",
    "    vaso = actions % 5\n",
    "    iv = actions // 5\n",
    "    \n",
    "    patient_obsers['step'] = np.arange(patient_obsers.shape[0]) + 1\n",
    "    annotation = []\n",
    "    for i, (i_dose, v_dose) in enumerate(zip(iv, vaso)):\n",
    "        annotation += [\"i:{}/{}\\nv:{}/{}\".format(i_dose, phy[i]//5, v_dose, phy[i]%5)]\n",
    "        \n",
    "    if patient_obsers['died_in_hosp'].iloc[0] == 1:\n",
    "        c = 'red'\n",
    "    else:\n",
    "        c = 'green'\n",
    "\n",
    "    for i, attr in enumerate(attrs):\n",
    "        plt.subplot(len(attrs), 1, i+1)\n",
    "        ax = sns.regplot(x='step', y=attr, data=patient_obsers, fit_reg=False, marker=\"+\", color=c)\n",
    "        ax.set_xlabel('')\n",
    "        for s, ann in enumerate(annotation):\n",
    "            if vaso[s] != 0 or iv[s] != 0:\n",
    "                ax.text(patient_obsers['step'].iloc[s]+0.1, patient_obsers[attr].iloc[s], ann, \\\n",
    "                        horizontalalignment='left', size='small', color='black', weight='light')\n",
    "    \n",
    "    plt.show()\n"
   ]
  },
  {
   "cell_type": "code",
   "execution_count": 79,
   "metadata": {},
   "outputs": [
    {
     "data": {
      "image/png": "[encoded data removed]",
      "text/plain": [
       "<matplotlib.figure.Figure at 0x11785c978>"
      ]
     },
     "metadata": {},
     "output_type": "display_data"
    }
   ],
   "source": [
    "plot_patient_traj(1774, ['BUN','SOFA','GCS',\n",
    "        'input_total_tev', 'input_4hourly_tev','sedation'], test_set)"
   ]
  },
  {
   "cell_type": "markdown",
   "metadata": {},
   "source": [
    "## Distribution of Actions, Actions based on SOFA, Distance"
   ]
  },
  {
   "cell_type": "code",
   "execution_count": 50,
   "metadata": {
    "collapsed": true
   },
   "outputs": [],
   "source": [
    "def show_hist(df,col):\n",
    "    plt.hist(df[~np.isnan(df[col])][col])"
   ]
  },
  {
   "cell_type": "code",
   "execution_count": 51,
   "metadata": {},
   "outputs": [
    {
     "data": {
      "image/png": "[encoded data removed]",
      "text/plain": [
       "<matplotlib.figure.Figure at 0x117046978>"
      ]
     },
     "metadata": {},
     "output_type": "display_data"
    }
   ],
   "source": [
    "show_hist(test_set,'moe')"
   ]
  },
  {
   "cell_type": "code",
   "execution_count": 52,
   "metadata": {},
   "outputs": [
    {
     "data": {
      "image/png": "[encoded data removed]",
      "text/plain": [
       "<matplotlib.figure.Figure at 0x116fa5908>"
      ]
     },
     "metadata": {},
     "output_type": "display_data"
    }
   ],
   "source": [
    "show_hist(test_set,'dqn')"
   ]
  },
  {
   "cell_type": "code",
   "execution_count": 54,
   "metadata": {},
   "outputs": [
    {
     "data": {
      "image/png": "[encoded data removed]",
      "text/plain": [
       "<matplotlib.figure.Figure at 0x1164d01d0>"
      ]
     },
     "metadata": {},
     "output_type": "display_data"
    }
   ],
   "source": [
    "show_hist(test_set,'phy')"
   ]
  },
  {
   "cell_type": "code",
   "execution_count": 55,
   "metadata": {},
   "outputs": [
    {
     "data": {
      "image/png": "[encoded data removed]",
      "text/plain": [
       "<matplotlib.figure.Figure at 0x11719a9e8>"
      ]
     },
     "metadata": {},
     "output_type": "display_data"
    }
   ],
   "source": [
    "show_hist(test_set,'kernel')"
   ]
  },
  {
   "cell_type": "markdown",
   "metadata": {},
   "source": [
    "## Action Agreement"
   ]
  },
  {
   "cell_type": "code",
   "execution_count": 86,
   "metadata": {
    "scrolled": true
   },
   "outputs": [
    {
     "name": "stdout",
     "output_type": "stream",
     "text": [
      "MOE and DQN agree: 13100\n",
      "Mean SOFA when MOE and DQN agree: 6.1414280259641085\n",
      "Mean Dist when MOE and DQN agree: 1.833491345454634\n",
      "Mean Reward when MOE and DQN agree: 0.02784238027707311\n",
      "Mean Reward when MOE and DQN disagree: 0.014193955785871964\n"
     ]
    }
   ],
   "source": [
    "print(\"MOE and DQN agree:\",len(test_set[test_set.moe == test_set.dqn]))\n",
    "print(\"Mean SOFA when MOE and DQN agree:\",np.mean(test_set[test_set.moe == test_set.dqn].SOFA))\n",
    "print(\"Mean Dist when MOE and DQN agree:\",np.mean(test_set[test_set.moe == test_set.dqn].dist))\n",
    "print(\"Mean Reward when MOE and DQN agree:\",np.mean(test_set[test_set.moe == test_set.dqn].reward))\n",
    "print(\"Mean Reward when MOE and DQN disagree:\",np.mean(test_set[test_set.moe != test_set.dqn].reward))"
   ]
  },
  {
   "cell_type": "code",
   "execution_count": 85,
   "metadata": {},
   "outputs": [
    {
     "name": "stdout",
     "output_type": "stream",
     "text": [
      "MOE and PHY agree: 15070\n",
      "Mean SOFA when MOE and PHY agree: 6.103445986322289\n",
      "Mean dist when MOE and PHY agree: 1.7653117238164877\n",
      "Mean Reward when MOE and PHY agree: -0.0016563170978227196\n",
      "Mean Reward when MOE and PHY disagree: 0.02587375592547357\n"
     ]
    }
   ],
   "source": [
    "print(\"MOE and PHY agree:\",len(test_set[test_set.moe == test_set.phy]))\n",
    "print(\"Mean SOFA when MOE and PHY agree:\",np.mean(test_set[test_set.moe == test_set.phy].SOFA))\n",
    "print(\"Mean dist when MOE and PHY agree:\",np.mean(test_set[test_set.moe == test_set.phy].dist))\n",
    "print(\"Mean Reward when MOE and PHY agree:\",np.mean(test_set[test_set.moe == test_set.phy].reward))\n",
    "print(\"Mean Reward when MOE and PHY disagree:\",np.mean(test_set[test_set.moe != test_set.phy].reward))"
   ]
  },
  {
   "cell_type": "code",
   "execution_count": 89,
   "metadata": {},
   "outputs": [
    {
     "name": "stdout",
     "output_type": "stream",
     "text": [
      "MOE and Kernel agree: 44255\n",
      "Mean SOFA when MOE and kernel agree: 6.428836283886138\n",
      "Mean dist when MOE and kernel agree: 1.851033870504251\n",
      "Mean Reward when MOE and kernel agree: 0.019380785890682015\n",
      "Mean Reward when MOE and kernel disagree: 0.0064743321999830425\n"
     ]
    }
   ],
   "source": [
    "print(\"MOE and Kernel agree:\",len(test_set[test_set.moe == test_set.kernel]))\n",
    "print(\"Mean SOFA when MOE and kernel agree:\",np.mean(test_set[test_set.moe == test_set.kernel].SOFA))\n",
    "print(\"Mean dist when MOE and kernel agree:\",np.mean(test_set[test_set.moe == test_set.kernel].dist))\n",
    "print(\"Mean Reward when MOE and kernel agree:\",np.mean(test_set[test_set.moe == test_set.kernel].reward))\n",
    "print(\"Mean Reward when MOE and kernel disagree:\",np.mean(test_set[test_set.moe != test_set.kernel].reward))"
   ]
  },
  {
   "cell_type": "code",
   "execution_count": 102,
   "metadata": {},
   "outputs": [
    {
     "name": "stdout",
     "output_type": "stream",
     "text": [
      "moe kernel 0.8701508090996677\n",
      "moe dqn 0.25757486383924183\n",
      "moe phy 0.29630940443186066\n",
      "phy kernel 0.3048428006842447\n",
      "dqn kernel 0.18144281248156668\n",
      "phy dqn 0.15045518000747163\n"
     ]
    }
   ],
   "source": [
    "tot = len(test_set)\n",
    "moe_krn = len(test_set[test_set.moe == test_set.kernel]) / tot\n",
    "print(\"moe kernel\",moe_krn)\n",
    "moe_dqn= len(test_set[test_set.moe == test_set.dqn]) / tot\n",
    "print(\"moe dqn\",moe_dqn)\n",
    "moe_phy= len(test_set[test_set.moe == test_set.phy]) / tot\n",
    "print (\"moe phy\",moe_phy)\n",
    "phy_krn = len(test_set[test_set.phy == test_set.kernel]) / tot\n",
    "print(\"phy kernel\", phy_krn)\n",
    "dqn_krn =len(test_set[test_set.dqn == test_set.kernel]) / tot\n",
    "print (\"dqn kernel\",dqn_krn)\n",
    "phy_dqn = len(test_set[test_set.phy == test_set.dqn]) / tot\n",
    "print (\"phy dqn\", phy_dqn)\n",
    "#phy_phy =len(test_set[test_set.phy == test_set.phy]) / tot\n"
   ]
  },
  {
   "cell_type": "markdown",
   "metadata": {},
   "source": [
    " ### Frequency of agreement between experts \n",
    " | | Phy | Kernel | DQN\n",
    "|:---|---|---|---|---|\n",
    "| MoE | 29.6% | 87.0% | 25.6% | \n",
    "|Phy |   | 30.5%  | 15.0%  |\n",
    "|Kernel |  |  | 18.1% |\n"
   ]
  },
  {
   "cell_type": "markdown",
   "metadata": {},
   "source": [
    "### Patient demographic by expert\n",
    "\n",
    "Age, mean, quartile\n",
    "SOFA\n",
    "\n",
    "\n",
    "XXX\n",
    "\n",
    "DQN dominant\n",
    "Kernel dominant\n",
    "\n",
    "how does trajectory length affect expert selection\n",
    "\n",
    "XXX:\n",
    "Filtering only patient who live in kernel is tainting the treatment\n",
    "\n",
    "makes kernel too conservative\n",
    "\n",
    "Will DQN kick for more sick patients?\n",
    "\n",
    "Don't make too many claims for the kernel expert when it is based only on survivors.\n",
    "\n",
    "Adjust only very sick patients?\n",
    "\n",
    "Upon what basis is a particular action better?\n",
    "\n",
    "In what circumstances was the DQN picked? small trajectory? demographic? variance of SOFA? trend of SOFA? show evidence\n",
    "\n",
    "discounted expected return for a subgroup?\n"
   ]
  },
  {
   "cell_type": "code",
   "execution_count": 124,
   "metadata": {
    "collapsed": true
   },
   "outputs": [],
   "source": [
    "# https://stackoverflow.com/a/4777781\n",
    "from collections import Counter\n",
    "\n",
    "def numDups(a, b):\n",
    "    if len(a)>len(b):\n",
    "        a,b = b,a\n",
    "\n",
    "    a_count = Counter(a)\n",
    "    b_count = Counter(b)\n",
    "\n",
    "    return sum(min(b_count[ak], av) for ak,av in a_count.items())"
   ]
  },
  {
   "cell_type": "code",
   "execution_count": 246,
   "metadata": {},
   "outputs": [
    {
     "name": "stdout",
     "output_type": "stream",
     "text": [
      "avg Kernel: 88.56844648679856\n",
      "avg DQN: 40.93770342069102\n",
      "DQN chosen: 217\n"
     ]
    }
   ],
   "source": [
    "df = test_set.sort_values(['icustayid','bloc'])\n",
    "test_episodes = df.groupby('icustayid')\n",
    "#test_episodes = test_set.groupby('icustayid')\n",
    "max_episodes = len(test_episodes)\n",
    "n_episodes = max_episodes\n",
    "sum_kernel = 0.\n",
    "sum_dqn = 0.\n",
    "num_dqn_chosen = 0\n",
    "dqn_chosen_custids = []\n",
    "traj_len_kernel = []\n",
    "traj_len_dqn = []\n",
    "max_dist_dqn = []\n",
    "max_dist_kernel = []\n",
    "mean_sofa_init_dqn = []\n",
    "mean_sofa_final_dqn = []\n",
    "mean_sofa_init_kernel = []\n",
    "mean_sofa_final_kernel = []\n",
    "num_init_dqn = 0\n",
    "num_init_kernel = 0\n",
    "num_final_dqn = 0\n",
    "num_final_kernel = 0\n",
    "num_sofa_improved = 0\n",
    "num_sofa_worsened = 0\n",
    "num_sofa_constant = 0\n",
    "for name, transitions in test_episodes:\n",
    "\n",
    "    phy = transitions['phy'].tolist()\n",
    "    kernel = transitions['kernel'].tolist()\n",
    "    dqn = transitions['dqn'].tolist()\n",
    "    moe = transitions['moe'].tolist()\n",
    "    pct_kernel = numDups(kernel,moe) / len(phy)*100\n",
    "    sum_kernel += pct_kernel\n",
    "    pct_dqn = numDups(dqn,moe) / len(phy)*100\n",
    "    sum_dqn += pct_dqn\n",
    "    #print (\"Kernel: {0:0.2f} \\t\\tDQN: {1:0.2f}%\".format(pct_kernel,pct_dqn))\n",
    "    if pct_dqn > pct_kernel:\n",
    "        num_dqn_chosen += 1\n",
    "        #print (transitions['icustayid'].tolist()[0])\n",
    "        dqn_chosen_custids.append(transitions['icustayid'].tolist()[0])\n",
    "        traj_len_dqn.append(len(phy))\n",
    "        max_dist_dqn.append(max(transitions['dist']))\n",
    "        mean_sofa_init_dqn.append(np.mean(transitions.SOFA[0:2]))\n",
    "        mean_sofa_final_dqn.append(np.mean(transitions.SOFA[-3:]))\n",
    "    else:\n",
    "        traj_len_kernel.append(len(phy))\n",
    "        max_dist_kernel.append(max(transitions['dist']))\n",
    "        mean_sofa_init_kernel.append(np.mean(transitions.SOFA[0:2]))\n",
    "        mean_sofa_final_kernel.append(np.mean(transitions.SOFA[-3:]))\n",
    "    # find which expert was favored for first three transitions and for last three transitions\n",
    "    pct_init_dqn = numDups(dqn[0:2],moe[0:2]) \n",
    "    pct_init_kernel = numDups(kernel[0:2],moe[0:2])\n",
    "    if pct_init_dqn > pct_init_kernel:\n",
    "        num_init_dqn += 1\n",
    "    else:\n",
    "        num_init_kernel += 1\n",
    "    pct_final_dqn = numDups(dqn[-3:],moe[-3:])\n",
    "    pct_final_kernel = numDups(kernel[-3:],moe[-3:])\n",
    "    if pct_final_dqn > pct_final_kernel:\n",
    "        num_final_dqn += 1\n",
    "    else:\n",
    "        num_final_kernel += 1\n",
    "    if np.mean(transitions.SOFA[0:2] < np.mean(transitions.SOFA[-3:])):\n",
    "        num_sofa_worsened += 1\n",
    "    elif np.mean(transitions.SOFA[0:2] > np.mean(transitions.SOFA[-3:])):\n",
    "        num_sofa_improved += 1\n",
    "    else:\n",
    "        num_sofa_constant += 1\n",
    "    n_episodes -= 1\n",
    "    if n_episodes == 0:\n",
    "        break\n",
    "        \n",
    "max_dist_kernel = [x for x in max_dist_kernel if not np.isnan(x)]\n",
    "print (\"avg Kernel:\",sum_kernel/max_episodes)\n",
    "print (\"avg DQN:\",sum_dqn/max_episodes)\n",
    "print (\"DQN chosen:\",num_dqn_chosen)"
   ]
  },
  {
   "cell_type": "code",
   "execution_count": 249,
   "metadata": {},
   "outputs": [
    {
     "name": "stdout",
     "output_type": "stream",
     "text": [
      "DQN SOFA start/end: 6.93778801843 6.10752688172 Kernel SOFA start / end: 7.12727022565 6.26926252064\n",
      "SOFA percentage worsened: 0.4435211633341989 improved: 0.5063619839002856 constant: 0.05011685276551545\n",
      "DQN initial: 155 final: 373\n",
      "Kernel initial: 3696 final: 3478\n"
     ]
    }
   ],
   "source": [
    "\n",
    "print (\"DQN SOFA start/end:\",np.mean(mean_sofa_init_dqn),np.mean(mean_sofa_final_dqn),\n",
    "       \"Kernel SOFA start / end:\",np.mean(mean_sofa_init_kernel),np.mean(mean_sofa_final_kernel))\n",
    "print (\"SOFA percentage worsened:\",num_sofa_worsened/max_episodes,\n",
    "       \"improved:\",num_sofa_improved/max_episodes,\n",
    "       \"constant:\",num_sofa_constant/max_episodes)\n",
    "print (\"DQN initial:\",num_init_dqn,\"final:\",num_final_dqn)\n",
    "print (\"Kernel initial:\",num_init_kernel,\"final:\",num_final_kernel)"
   ]
  },
  {
   "cell_type": "code",
   "execution_count": 218,
   "metadata": {},
   "outputs": [
    {
     "name": "stdout",
     "output_type": "stream",
     "text": [
      "2.15529968606\n",
      "0.0514018774247\n"
     ]
    },
    {
     "data": {
      "image/png": "[encoded data removed]",
      "text/plain": [
       "<matplotlib.figure.Figure at 0x117398c50>"
      ]
     },
     "metadata": {},
     "output_type": "display_data"
    }
   ],
   "source": [
    "plt.hist(max_dist_dqn,range=[0.0,3.5],bins=25)\n",
    "print(np.mean(max_dist_dqn))\n",
    "print(np.var(max_dist_dqn))"
   ]
  },
  {
   "cell_type": "code",
   "execution_count": 219,
   "metadata": {},
   "outputs": [
    {
     "name": "stdout",
     "output_type": "stream",
     "text": [
      "2.12804004731\n",
      "0.068625631474\n"
     ]
    },
    {
     "data": {
      "image/png": "[encoded data removed]",
      "text/plain": [
       "<matplotlib.figure.Figure at 0x1165047b8>"
      ]
     },
     "metadata": {},
     "output_type": "display_data"
    }
   ],
   "source": [
    "plt.hist(max_dist_kernel,range=[0.0,3.5],bins=25)\n",
    "print(np.mean(max_dist_kernel))\n",
    "print(np.var(max_dist_kernel))"
   ]
  },
  {
   "cell_type": "code",
   "execution_count": 174,
   "metadata": {},
   "outputs": [
    {
     "data": {
      "text/plain": [
       "(array([ 218.,  461.,  727.,  725.,  491.,  256.,  109.,   44.,   37.,    5.]),\n",
       " array([  0. ,   1.9,   3.8,   5.7,   7.6,   9.5,  11.4,  13.3,  15.2,\n",
       "         17.1,  19. ]),\n",
       " <a list of 10 Patch objects>)"
      ]
     },
     "execution_count": 174,
     "metadata": {},
     "output_type": "execute_result"
    },
    {
     "data": {
      "image/png": "[encoded data removed]",
      "text/plain": [
       "<matplotlib.figure.Figure at 0x1172c1898>"
      ]
     },
     "metadata": {},
     "output_type": "display_data"
    }
   ],
   "source": [
    "plt.hist(test_set[test_set.icustayid.isin(dqn_chosen_custids)].SOFA)\n"
   ]
  },
  {
   "cell_type": "code",
   "execution_count": 155,
   "metadata": {},
   "outputs": [
    {
     "data": {
      "text/plain": [
       "(array([  5704.,   9886.,  10788.,   9177.,   6169.,   4195.,   1077.,\n",
       "           501.,    177.,     82.]),\n",
       " array([  0. ,   2.2,   4.4,   6.6,   8.8,  11. ,  13.2,  15.4,  17.6,\n",
       "         19.8,  22. ]),\n",
       " <a list of 10 Patch objects>)"
      ]
     },
     "execution_count": 155,
     "metadata": {},
     "output_type": "execute_result"
    },
    {
     "data": {
      "image/png": "[encoded data removed]",
      "text/plain": [
       "<matplotlib.figure.Figure at 0x117788470>"
      ]
     },
     "metadata": {},
     "output_type": "display_data"
    }
   ],
   "source": [
    "plt.hist(test_set[~test_set.icustayid.isin(dqn_chosen_custids)].SOFA.dropna())"
   ]
  },
  {
   "cell_type": "code",
   "execution_count": 222,
   "metadata": {},
   "outputs": [
    {
     "name": "stdout",
     "output_type": "stream",
     "text": [
      "14.1612903226\n",
      "21.4716812844\n"
     ]
    },
    {
     "data": {
      "image/png": "[encoded data removed]",
      "text/plain": [
       "<matplotlib.figure.Figure at 0x1154818d0>"
      ]
     },
     "metadata": {},
     "output_type": "display_data"
    }
   ],
   "source": [
    "plt.hist(traj_len_dqn,range=[0,20])\n",
    "print(np.mean(traj_len_dqn))\n",
    "print(np.var(traj_len_dqn))"
   ]
  },
  {
   "cell_type": "code",
   "execution_count": 223,
   "metadata": {},
   "outputs": [
    {
     "name": "stdout",
     "output_type": "stream",
     "text": [
      "13.1414419373\n",
      "21.2975505901\n"
     ]
    },
    {
     "data": {
      "image/png": "[encoded data removed]",
      "text/plain": [
       "<matplotlib.figure.Figure at 0x11703d1d0>"
      ]
     },
     "metadata": {},
     "output_type": "display_data"
    }
   ],
   "source": [
    "plt.hist(traj_len_kernel,range=[0,20])\n",
    "print(np.mean(traj_len_kernel))\n",
    "print(np.var(traj_len_kernel))"
   ]
  },
  {
   "cell_type": "code",
   "execution_count": 175,
   "metadata": {},
   "outputs": [
    {
     "data": {
      "text/plain": [
       "0.056349000259672814"
      ]
     },
     "execution_count": 175,
     "metadata": {},
     "output_type": "execute_result"
    }
   ],
   "source": [
    "# percent time DQN is chosen more frequently than Kernel for a given patient trajectory\n",
    "len(dqn_chosen_custids) / max_episodes"
   ]
  },
  {
   "cell_type": "code",
   "execution_count": 189,
   "metadata": {},
   "outputs": [],
   "source": [
    "def in_out_mean_var(df,select_col,selection,columns):\n",
    "    var_ins = []\n",
    "    var_outs = []\n",
    "    for col in columns:\n",
    "        print(\"Column:\",col)\n",
    "        print(\"\\tMean in:\",np.mean(df[df[select_col].isin(selection)][col].dropna()))\n",
    "        var_in = np.var(df[df[select_col].isin(selection)][col].dropna())\n",
    "        var_ins.append(var_in)\n",
    "        print(\"\\tVar in:\",var_in)\n",
    "        print(\"\\tMean out:\",np.mean(df[~df[select_col].isin(selection)][col].dropna()))\n",
    "        var_out = np.var(df[~df[select_col].isin(selection)][col].dropna())\n",
    "        var_outs.append(var_out)\n",
    "        print(\"\\tVar out:\",var_out)\n",
    "        print()\n",
    "    print (\"mean var in:\",np.mean(var_ins))\n",
    "    print (\"median var in:\",np.median(var_ins))\n",
    "    print (\"mean var out:\",np.mean(var_outs))\n",
    "    print (\"median var out:\",np.median(var_outs))\n"
   ]
  },
  {
   "cell_type": "code",
   "execution_count": 190,
   "metadata": {},
   "outputs": [
    {
     "name": "stdout",
     "output_type": "stream",
     "text": [
      "Column: SOFA\n",
      "\tMean in: 6.109013992840872\n",
      "\tVar in: 11.307022555287489\n",
      "\tMean out: 6.420470726191473\n",
      "\tVar out: 12.531513272009668\n",
      "\n",
      "Column: age\n",
      "\tMean in: 23026.929847601117\n",
      "\tVar in: 44022179.977813594\n",
      "\tMean out: 23868.345810620347\n",
      "\tVar out: 36727059.662330195\n",
      "\n",
      "Column: FiO2_1\n",
      "\tMean in: 0.5078126298011132\n",
      "\tVar in: 0.0458618568345297\n",
      "\tMean out: 0.5034958163984369\n",
      "\tVar out: 0.04226861847384634\n",
      "\n",
      "Column: elixhauser\n",
      "\tMean in: 3.957370647575659\n",
      "\tVar in: 3.8728980002709017\n",
      "\tMean out: 3.9245225730798223\n",
      "\tVar out: 4.7079774510862595\n",
      "\n",
      "Column: GCS\n",
      "\tMean in: 12.478913535902556\n",
      "\tVar in: 12.342638898686632\n",
      "\tMean out: 12.168852528250653\n",
      "\tVar out: 13.31791091039115\n",
      "\n",
      "Column: BUN\n",
      "\tMean in: 32.22088401497279\n",
      "\tVar in: 696.1403764777067\n",
      "\tMean out: 29.07869749790604\n",
      "\tVar out: 540.659069318974\n",
      "\n",
      "Column: Albumin\n",
      "\tMean in: 3.067047012170035\n",
      "\tVar in: 0.4336813156668\n",
      "\tMean out: 3.0160007100641306\n",
      "\tVar out: 0.3668319785819674\n",
      "\n",
      "Column: dist\n",
      "\tMean in: 1.907071825658926\n",
      "\tVar in: 0.15213785754824416\n",
      "\tMean out: 1.8665041820899586\n",
      "\tVar out: 0.17594005739574475\n",
      "\n",
      "mean var in: 5502863.03405\n",
      "median var in: 7.58996027778\n",
      "mean var out: 4590953.93298\n",
      "median var out: 8.61974536155\n"
     ]
    }
   ],
   "source": [
    "in_out_mean_var(test_set,'icustayid',dqn_chosen_custids,\n",
    "                ['SOFA','age','FiO2_1','elixhauser','GCS','BUN','Albumin','dist']) # XXX"
   ]
  },
  {
   "cell_type": "markdown",
   "metadata": {},
   "source": [
    "### Summary of Results\n",
    "\n",
    "| | DQN Favored | Kernel Favored |\n",
    "|:--|-------:|----:|\n",
    "| Percent of Patients | 5.6% | 94.4% |\n",
    "|Mean SOFA | 6.11 | 6.42 |\n",
    "| Var(SOFA) |11.31 | 12.53|\n",
    "| Mean Age (days) | 23026 | 23868 | \n",
    "| Var Age | 44022179 | 36727059 |\n",
    "| FiO2 | 0.51 | 0.50 | \n",
    "| Var FiO2 | 0.05 | 0.04 |\n",
    "| Elixhauser | 3.96 | 3.92 |\n",
    "| Var Exlihauser | 3.87 | 4.71 |\n",
    "| GCS | 12.48 | 12.17 |\n",
    "| Var GCS | 12.34 | 13.32 |\n",
    "| BUN | 32.22 | 29.08 | \n",
    "| Var BUN | 696.14 | 540.66 |\n",
    "| Albumin | 3.07 | 3.02 |\n",
    "| Var Albumin | 0.43 | 0.37 |\n",
    "| Distance | 1.91 | 1.87 |\n",
    "| Var Distance | 0.15 | 0.18 |\n",
    "| Trajectory length |14.16 |13.14 |\n",
    "\n",
    "Summary:\n",
    "* The DQN is favored for patients that are further from center as well as having higher variance, especially w.r.t. age and BUN\n",
    "\n",
    "I think this is a reasonable and defensible conclusion."
   ]
  },
  {
   "cell_type": "markdown",
   "metadata": {},
   "source": [
    "### Switching between experts during episode"
   ]
  },
  {
   "cell_type": "code",
   "execution_count": 303,
   "metadata": {},
   "outputs": [],
   "source": [
    "from matplotlib.collections import LineCollection\n",
    "from matplotlib.colors import ListedColormap, BoundaryNorm\n",
    "cmap = ListedColormap(['r', 'g'])\n",
    "norm = BoundaryNorm([-1, 0,1], cmap.N)\n"
   ]
  },
  {
   "cell_type": "code",
   "execution_count": 293,
   "metadata": {},
   "outputs": [
    {
     "data": {
      "text/plain": [
       "<matplotlib.collections.LineCollection at 0x118b25198>"
      ]
     },
     "execution_count": 293,
     "metadata": {},
     "output_type": "execute_result"
    },
    {
     "ename": "AttributeError",
     "evalue": "'list' object has no attribute 'ndim'",
     "output_type": "error",
     "traceback": [
      "\u001b[0;31m---------------------------------------------------------------------------\u001b[0m",
      "\u001b[0;31mAttributeError\u001b[0m                            Traceback (most recent call last)",
      "\u001b[0;32m/anaconda/lib/python3.6/site-packages/IPython/core/formatters.py\u001b[0m in \u001b[0;36m__call__\u001b[0;34m(self, obj)\u001b[0m\n\u001b[1;32m    305\u001b[0m                 \u001b[0;32mpass\u001b[0m\u001b[0;34m\u001b[0m\u001b[0m\n\u001b[1;32m    306\u001b[0m             \u001b[0;32melse\u001b[0m\u001b[0;34m:\u001b[0m\u001b[0;34m\u001b[0m\u001b[0m\n\u001b[0;32m--> 307\u001b[0;31m                 \u001b[0;32mreturn\u001b[0m \u001b[0mprinter\u001b[0m\u001b[0;34m(\u001b[0m\u001b[0mobj\u001b[0m\u001b[0;34m)\u001b[0m\u001b[0;34m\u001b[0m\u001b[0m\n\u001b[0m\u001b[1;32m    308\u001b[0m             \u001b[0;31m# Finally look for special method names\u001b[0m\u001b[0;34m\u001b[0m\u001b[0;34m\u001b[0m\u001b[0m\n\u001b[1;32m    309\u001b[0m             \u001b[0mmethod\u001b[0m \u001b[0;34m=\u001b[0m \u001b[0mget_real_method\u001b[0m\u001b[0;34m(\u001b[0m\u001b[0mobj\u001b[0m\u001b[0;34m,\u001b[0m \u001b[0mself\u001b[0m\u001b[0;34m.\u001b[0m\u001b[0mprint_method\u001b[0m\u001b[0;34m)\u001b[0m\u001b[0;34m\u001b[0m\u001b[0m\n",
      "\u001b[0;32m/anaconda/lib/python3.6/site-packages/IPython/core/pylabtools.py\u001b[0m in \u001b[0;36m<lambda>\u001b[0;34m(fig)\u001b[0m\n\u001b[1;32m    238\u001b[0m \u001b[0;34m\u001b[0m\u001b[0m\n\u001b[1;32m    239\u001b[0m     \u001b[0;32mif\u001b[0m \u001b[0;34m'png'\u001b[0m \u001b[0;32min\u001b[0m \u001b[0mformats\u001b[0m\u001b[0;34m:\u001b[0m\u001b[0;34m\u001b[0m\u001b[0m\n\u001b[0;32m--> 240\u001b[0;31m         \u001b[0mpng_formatter\u001b[0m\u001b[0;34m.\u001b[0m\u001b[0mfor_type\u001b[0m\u001b[0;34m(\u001b[0m\u001b[0mFigure\u001b[0m\u001b[0;34m,\u001b[0m \u001b[0;32mlambda\u001b[0m \u001b[0mfig\u001b[0m\u001b[0;34m:\u001b[0m \u001b[0mprint_figure\u001b[0m\u001b[0;34m(\u001b[0m\u001b[0mfig\u001b[0m\u001b[0;34m,\u001b[0m \u001b[0;34m'png'\u001b[0m\u001b[0;34m,\u001b[0m \u001b[0;34m**\u001b[0m\u001b[0mkwargs\u001b[0m\u001b[0;34m)\u001b[0m\u001b[0;34m)\u001b[0m\u001b[0;34m\u001b[0m\u001b[0m\n\u001b[0m\u001b[1;32m    241\u001b[0m     \u001b[0;32mif\u001b[0m \u001b[0;34m'retina'\u001b[0m \u001b[0;32min\u001b[0m \u001b[0mformats\u001b[0m \u001b[0;32mor\u001b[0m \u001b[0;34m'png2x'\u001b[0m \u001b[0;32min\u001b[0m \u001b[0mformats\u001b[0m\u001b[0;34m:\u001b[0m\u001b[0;34m\u001b[0m\u001b[0m\n\u001b[1;32m    242\u001b[0m         \u001b[0mpng_formatter\u001b[0m\u001b[0;34m.\u001b[0m\u001b[0mfor_type\u001b[0m\u001b[0;34m(\u001b[0m\u001b[0mFigure\u001b[0m\u001b[0;34m,\u001b[0m \u001b[0;32mlambda\u001b[0m \u001b[0mfig\u001b[0m\u001b[0;34m:\u001b[0m \u001b[0mretina_figure\u001b[0m\u001b[0;34m(\u001b[0m\u001b[0mfig\u001b[0m\u001b[0;34m,\u001b[0m \u001b[0;34m**\u001b[0m\u001b[0mkwargs\u001b[0m\u001b[0;34m)\u001b[0m\u001b[0;34m)\u001b[0m\u001b[0;34m\u001b[0m\u001b[0m\n",
      "\u001b[0;32m/anaconda/lib/python3.6/site-packages/IPython/core/pylabtools.py\u001b[0m in \u001b[0;36mprint_figure\u001b[0;34m(fig, fmt, bbox_inches, **kwargs)\u001b[0m\n\u001b[1;32m    122\u001b[0m \u001b[0;34m\u001b[0m\u001b[0m\n\u001b[1;32m    123\u001b[0m     \u001b[0mbytes_io\u001b[0m \u001b[0;34m=\u001b[0m \u001b[0mBytesIO\u001b[0m\u001b[0;34m(\u001b[0m\u001b[0;34m)\u001b[0m\u001b[0;34m\u001b[0m\u001b[0m\n\u001b[0;32m--> 124\u001b[0;31m     \u001b[0mfig\u001b[0m\u001b[0;34m.\u001b[0m\u001b[0mcanvas\u001b[0m\u001b[0;34m.\u001b[0m\u001b[0mprint_figure\u001b[0m\u001b[0;34m(\u001b[0m\u001b[0mbytes_io\u001b[0m\u001b[0;34m,\u001b[0m \u001b[0;34m**\u001b[0m\u001b[0mkw\u001b[0m\u001b[0;34m)\u001b[0m\u001b[0;34m\u001b[0m\u001b[0m\n\u001b[0m\u001b[1;32m    125\u001b[0m     \u001b[0mdata\u001b[0m \u001b[0;34m=\u001b[0m \u001b[0mbytes_io\u001b[0m\u001b[0;34m.\u001b[0m\u001b[0mgetvalue\u001b[0m\u001b[0;34m(\u001b[0m\u001b[0;34m)\u001b[0m\u001b[0;34m\u001b[0m\u001b[0m\n\u001b[1;32m    126\u001b[0m     \u001b[0;32mif\u001b[0m \u001b[0mfmt\u001b[0m \u001b[0;34m==\u001b[0m \u001b[0;34m'svg'\u001b[0m\u001b[0;34m:\u001b[0m\u001b[0;34m\u001b[0m\u001b[0m\n",
      "\u001b[0;32m/anaconda/lib/python3.6/site-packages/matplotlib/backend_bases.py\u001b[0m in \u001b[0;36mprint_figure\u001b[0;34m(self, filename, dpi, facecolor, edgecolor, orientation, format, **kwargs)\u001b[0m\n\u001b[1;32m   2198\u001b[0m                     \u001b[0morientation\u001b[0m\u001b[0;34m=\u001b[0m\u001b[0morientation\u001b[0m\u001b[0;34m,\u001b[0m\u001b[0;34m\u001b[0m\u001b[0m\n\u001b[1;32m   2199\u001b[0m                     \u001b[0mdryrun\u001b[0m\u001b[0;34m=\u001b[0m\u001b[0;32mTrue\u001b[0m\u001b[0;34m,\u001b[0m\u001b[0;34m\u001b[0m\u001b[0m\n\u001b[0;32m-> 2200\u001b[0;31m                     **kwargs)\n\u001b[0m\u001b[1;32m   2201\u001b[0m                 \u001b[0mrenderer\u001b[0m \u001b[0;34m=\u001b[0m \u001b[0mself\u001b[0m\u001b[0;34m.\u001b[0m\u001b[0mfigure\u001b[0m\u001b[0;34m.\u001b[0m\u001b[0m_cachedRenderer\u001b[0m\u001b[0;34m\u001b[0m\u001b[0m\n\u001b[1;32m   2202\u001b[0m                 \u001b[0mbbox_inches\u001b[0m \u001b[0;34m=\u001b[0m \u001b[0mself\u001b[0m\u001b[0;34m.\u001b[0m\u001b[0mfigure\u001b[0m\u001b[0;34m.\u001b[0m\u001b[0mget_tightbbox\u001b[0m\u001b[0;34m(\u001b[0m\u001b[0mrenderer\u001b[0m\u001b[0;34m)\u001b[0m\u001b[0;34m\u001b[0m\u001b[0m\n",
      "\u001b[0;32m/anaconda/lib/python3.6/site-packages/matplotlib/backends/backend_agg.py\u001b[0m in \u001b[0;36mprint_png\u001b[0;34m(self, filename_or_obj, *args, **kwargs)\u001b[0m\n\u001b[1;32m    543\u001b[0m \u001b[0;34m\u001b[0m\u001b[0m\n\u001b[1;32m    544\u001b[0m     \u001b[0;32mdef\u001b[0m \u001b[0mprint_png\u001b[0m\u001b[0;34m(\u001b[0m\u001b[0mself\u001b[0m\u001b[0;34m,\u001b[0m \u001b[0mfilename_or_obj\u001b[0m\u001b[0;34m,\u001b[0m \u001b[0;34m*\u001b[0m\u001b[0margs\u001b[0m\u001b[0;34m,\u001b[0m \u001b[0;34m**\u001b[0m\u001b[0mkwargs\u001b[0m\u001b[0;34m)\u001b[0m\u001b[0;34m:\u001b[0m\u001b[0;34m\u001b[0m\u001b[0m\n\u001b[0;32m--> 545\u001b[0;31m         \u001b[0mFigureCanvasAgg\u001b[0m\u001b[0;34m.\u001b[0m\u001b[0mdraw\u001b[0m\u001b[0;34m(\u001b[0m\u001b[0mself\u001b[0m\u001b[0;34m)\u001b[0m\u001b[0;34m\u001b[0m\u001b[0m\n\u001b[0m\u001b[1;32m    546\u001b[0m         \u001b[0mrenderer\u001b[0m \u001b[0;34m=\u001b[0m \u001b[0mself\u001b[0m\u001b[0;34m.\u001b[0m\u001b[0mget_renderer\u001b[0m\u001b[0;34m(\u001b[0m\u001b[0;34m)\u001b[0m\u001b[0;34m\u001b[0m\u001b[0m\n\u001b[1;32m    547\u001b[0m         \u001b[0moriginal_dpi\u001b[0m \u001b[0;34m=\u001b[0m \u001b[0mrenderer\u001b[0m\u001b[0;34m.\u001b[0m\u001b[0mdpi\u001b[0m\u001b[0;34m\u001b[0m\u001b[0m\n",
      "\u001b[0;32m/anaconda/lib/python3.6/site-packages/matplotlib/backends/backend_agg.py\u001b[0m in \u001b[0;36mdraw\u001b[0;34m(self)\u001b[0m\n\u001b[1;32m    462\u001b[0m \u001b[0;34m\u001b[0m\u001b[0m\n\u001b[1;32m    463\u001b[0m         \u001b[0;32mtry\u001b[0m\u001b[0;34m:\u001b[0m\u001b[0;34m\u001b[0m\u001b[0m\n\u001b[0;32m--> 464\u001b[0;31m             \u001b[0mself\u001b[0m\u001b[0;34m.\u001b[0m\u001b[0mfigure\u001b[0m\u001b[0;34m.\u001b[0m\u001b[0mdraw\u001b[0m\u001b[0;34m(\u001b[0m\u001b[0mself\u001b[0m\u001b[0;34m.\u001b[0m\u001b[0mrenderer\u001b[0m\u001b[0;34m)\u001b[0m\u001b[0;34m\u001b[0m\u001b[0m\n\u001b[0m\u001b[1;32m    465\u001b[0m         \u001b[0;32mfinally\u001b[0m\u001b[0;34m:\u001b[0m\u001b[0;34m\u001b[0m\u001b[0m\n\u001b[1;32m    466\u001b[0m             \u001b[0mRendererAgg\u001b[0m\u001b[0;34m.\u001b[0m\u001b[0mlock\u001b[0m\u001b[0;34m.\u001b[0m\u001b[0mrelease\u001b[0m\u001b[0;34m(\u001b[0m\u001b[0;34m)\u001b[0m\u001b[0;34m\u001b[0m\u001b[0m\n",
      "\u001b[0;32m/anaconda/lib/python3.6/site-packages/matplotlib/artist.py\u001b[0m in \u001b[0;36mdraw_wrapper\u001b[0;34m(artist, renderer, *args, **kwargs)\u001b[0m\n\u001b[1;32m     61\u001b[0m     \u001b[0;32mdef\u001b[0m \u001b[0mdraw_wrapper\u001b[0m\u001b[0;34m(\u001b[0m\u001b[0martist\u001b[0m\u001b[0;34m,\u001b[0m \u001b[0mrenderer\u001b[0m\u001b[0;34m,\u001b[0m \u001b[0;34m*\u001b[0m\u001b[0margs\u001b[0m\u001b[0;34m,\u001b[0m \u001b[0;34m**\u001b[0m\u001b[0mkwargs\u001b[0m\u001b[0;34m)\u001b[0m\u001b[0;34m:\u001b[0m\u001b[0;34m\u001b[0m\u001b[0m\n\u001b[1;32m     62\u001b[0m         \u001b[0mbefore\u001b[0m\u001b[0;34m(\u001b[0m\u001b[0martist\u001b[0m\u001b[0;34m,\u001b[0m \u001b[0mrenderer\u001b[0m\u001b[0;34m)\u001b[0m\u001b[0;34m\u001b[0m\u001b[0m\n\u001b[0;32m---> 63\u001b[0;31m         \u001b[0mdraw\u001b[0m\u001b[0;34m(\u001b[0m\u001b[0martist\u001b[0m\u001b[0;34m,\u001b[0m \u001b[0mrenderer\u001b[0m\u001b[0;34m,\u001b[0m \u001b[0;34m*\u001b[0m\u001b[0margs\u001b[0m\u001b[0;34m,\u001b[0m \u001b[0;34m**\u001b[0m\u001b[0mkwargs\u001b[0m\u001b[0;34m)\u001b[0m\u001b[0;34m\u001b[0m\u001b[0m\n\u001b[0m\u001b[1;32m     64\u001b[0m         \u001b[0mafter\u001b[0m\u001b[0;34m(\u001b[0m\u001b[0martist\u001b[0m\u001b[0;34m,\u001b[0m \u001b[0mrenderer\u001b[0m\u001b[0;34m)\u001b[0m\u001b[0;34m\u001b[0m\u001b[0m\n\u001b[1;32m     65\u001b[0m \u001b[0;34m\u001b[0m\u001b[0m\n",
      "\u001b[0;32m/anaconda/lib/python3.6/site-packages/matplotlib/figure.py\u001b[0m in \u001b[0;36mdraw\u001b[0;34m(self, renderer)\u001b[0m\n\u001b[1;32m   1142\u001b[0m \u001b[0;34m\u001b[0m\u001b[0m\n\u001b[1;32m   1143\u001b[0m             mimage._draw_list_compositing_images(\n\u001b[0;32m-> 1144\u001b[0;31m                 renderer, self, dsu, self.suppressComposite)\n\u001b[0m\u001b[1;32m   1145\u001b[0m \u001b[0;34m\u001b[0m\u001b[0m\n\u001b[1;32m   1146\u001b[0m             \u001b[0mrenderer\u001b[0m\u001b[0;34m.\u001b[0m\u001b[0mclose_group\u001b[0m\u001b[0;34m(\u001b[0m\u001b[0;34m'figure'\u001b[0m\u001b[0;34m)\u001b[0m\u001b[0;34m\u001b[0m\u001b[0m\n",
      "\u001b[0;32m/anaconda/lib/python3.6/site-packages/matplotlib/image.py\u001b[0m in \u001b[0;36m_draw_list_compositing_images\u001b[0;34m(renderer, parent, dsu, suppress_composite)\u001b[0m\n\u001b[1;32m    137\u001b[0m     \u001b[0;32mif\u001b[0m \u001b[0mnot_composite\u001b[0m \u001b[0;32mor\u001b[0m \u001b[0;32mnot\u001b[0m \u001b[0mhas_images\u001b[0m\u001b[0;34m:\u001b[0m\u001b[0;34m\u001b[0m\u001b[0m\n\u001b[1;32m    138\u001b[0m         \u001b[0;32mfor\u001b[0m \u001b[0mzorder\u001b[0m\u001b[0;34m,\u001b[0m \u001b[0ma\u001b[0m \u001b[0;32min\u001b[0m \u001b[0mdsu\u001b[0m\u001b[0;34m:\u001b[0m\u001b[0;34m\u001b[0m\u001b[0m\n\u001b[0;32m--> 139\u001b[0;31m             \u001b[0ma\u001b[0m\u001b[0;34m.\u001b[0m\u001b[0mdraw\u001b[0m\u001b[0;34m(\u001b[0m\u001b[0mrenderer\u001b[0m\u001b[0;34m)\u001b[0m\u001b[0;34m\u001b[0m\u001b[0m\n\u001b[0m\u001b[1;32m    140\u001b[0m     \u001b[0;32melse\u001b[0m\u001b[0;34m:\u001b[0m\u001b[0;34m\u001b[0m\u001b[0m\n\u001b[1;32m    141\u001b[0m         \u001b[0;31m# Composite any adjacent images together\u001b[0m\u001b[0;34m\u001b[0m\u001b[0;34m\u001b[0m\u001b[0m\n",
      "\u001b[0;32m/anaconda/lib/python3.6/site-packages/matplotlib/artist.py\u001b[0m in \u001b[0;36mdraw_wrapper\u001b[0;34m(artist, renderer, *args, **kwargs)\u001b[0m\n\u001b[1;32m     61\u001b[0m     \u001b[0;32mdef\u001b[0m \u001b[0mdraw_wrapper\u001b[0m\u001b[0;34m(\u001b[0m\u001b[0martist\u001b[0m\u001b[0;34m,\u001b[0m \u001b[0mrenderer\u001b[0m\u001b[0;34m,\u001b[0m \u001b[0;34m*\u001b[0m\u001b[0margs\u001b[0m\u001b[0;34m,\u001b[0m \u001b[0;34m**\u001b[0m\u001b[0mkwargs\u001b[0m\u001b[0;34m)\u001b[0m\u001b[0;34m:\u001b[0m\u001b[0;34m\u001b[0m\u001b[0m\n\u001b[1;32m     62\u001b[0m         \u001b[0mbefore\u001b[0m\u001b[0;34m(\u001b[0m\u001b[0martist\u001b[0m\u001b[0;34m,\u001b[0m \u001b[0mrenderer\u001b[0m\u001b[0;34m)\u001b[0m\u001b[0;34m\u001b[0m\u001b[0m\n\u001b[0;32m---> 63\u001b[0;31m         \u001b[0mdraw\u001b[0m\u001b[0;34m(\u001b[0m\u001b[0martist\u001b[0m\u001b[0;34m,\u001b[0m \u001b[0mrenderer\u001b[0m\u001b[0;34m,\u001b[0m \u001b[0;34m*\u001b[0m\u001b[0margs\u001b[0m\u001b[0;34m,\u001b[0m \u001b[0;34m**\u001b[0m\u001b[0mkwargs\u001b[0m\u001b[0;34m)\u001b[0m\u001b[0;34m\u001b[0m\u001b[0m\n\u001b[0m\u001b[1;32m     64\u001b[0m         \u001b[0mafter\u001b[0m\u001b[0;34m(\u001b[0m\u001b[0martist\u001b[0m\u001b[0;34m,\u001b[0m \u001b[0mrenderer\u001b[0m\u001b[0;34m)\u001b[0m\u001b[0;34m\u001b[0m\u001b[0m\n\u001b[1;32m     65\u001b[0m \u001b[0;34m\u001b[0m\u001b[0m\n",
      "\u001b[0;32m/anaconda/lib/python3.6/site-packages/matplotlib/axes/_base.py\u001b[0m in \u001b[0;36mdraw\u001b[0;34m(self, renderer, inframe)\u001b[0m\n\u001b[1;32m   2424\u001b[0m             \u001b[0mrenderer\u001b[0m\u001b[0;34m.\u001b[0m\u001b[0mstop_rasterizing\u001b[0m\u001b[0;34m(\u001b[0m\u001b[0;34m)\u001b[0m\u001b[0;34m\u001b[0m\u001b[0m\n\u001b[1;32m   2425\u001b[0m \u001b[0;34m\u001b[0m\u001b[0m\n\u001b[0;32m-> 2426\u001b[0;31m         \u001b[0mmimage\u001b[0m\u001b[0;34m.\u001b[0m\u001b[0m_draw_list_compositing_images\u001b[0m\u001b[0;34m(\u001b[0m\u001b[0mrenderer\u001b[0m\u001b[0;34m,\u001b[0m \u001b[0mself\u001b[0m\u001b[0;34m,\u001b[0m \u001b[0mdsu\u001b[0m\u001b[0;34m)\u001b[0m\u001b[0;34m\u001b[0m\u001b[0m\n\u001b[0m\u001b[1;32m   2427\u001b[0m \u001b[0;34m\u001b[0m\u001b[0m\n\u001b[1;32m   2428\u001b[0m         \u001b[0mrenderer\u001b[0m\u001b[0;34m.\u001b[0m\u001b[0mclose_group\u001b[0m\u001b[0;34m(\u001b[0m\u001b[0;34m'axes'\u001b[0m\u001b[0;34m)\u001b[0m\u001b[0;34m\u001b[0m\u001b[0m\n",
      "\u001b[0;32m/anaconda/lib/python3.6/site-packages/matplotlib/image.py\u001b[0m in \u001b[0;36m_draw_list_compositing_images\u001b[0;34m(renderer, parent, dsu, suppress_composite)\u001b[0m\n\u001b[1;32m    137\u001b[0m     \u001b[0;32mif\u001b[0m \u001b[0mnot_composite\u001b[0m \u001b[0;32mor\u001b[0m \u001b[0;32mnot\u001b[0m \u001b[0mhas_images\u001b[0m\u001b[0;34m:\u001b[0m\u001b[0;34m\u001b[0m\u001b[0m\n\u001b[1;32m    138\u001b[0m         \u001b[0;32mfor\u001b[0m \u001b[0mzorder\u001b[0m\u001b[0;34m,\u001b[0m \u001b[0ma\u001b[0m \u001b[0;32min\u001b[0m \u001b[0mdsu\u001b[0m\u001b[0;34m:\u001b[0m\u001b[0;34m\u001b[0m\u001b[0m\n\u001b[0;32m--> 139\u001b[0;31m             \u001b[0ma\u001b[0m\u001b[0;34m.\u001b[0m\u001b[0mdraw\u001b[0m\u001b[0;34m(\u001b[0m\u001b[0mrenderer\u001b[0m\u001b[0;34m)\u001b[0m\u001b[0;34m\u001b[0m\u001b[0m\n\u001b[0m\u001b[1;32m    140\u001b[0m     \u001b[0;32melse\u001b[0m\u001b[0;34m:\u001b[0m\u001b[0;34m\u001b[0m\u001b[0m\n\u001b[1;32m    141\u001b[0m         \u001b[0;31m# Composite any adjacent images together\u001b[0m\u001b[0;34m\u001b[0m\u001b[0;34m\u001b[0m\u001b[0m\n",
      "\u001b[0;32m/anaconda/lib/python3.6/site-packages/matplotlib/artist.py\u001b[0m in \u001b[0;36mdraw_wrapper\u001b[0;34m(artist, renderer, *args, **kwargs)\u001b[0m\n\u001b[1;32m     61\u001b[0m     \u001b[0;32mdef\u001b[0m \u001b[0mdraw_wrapper\u001b[0m\u001b[0;34m(\u001b[0m\u001b[0martist\u001b[0m\u001b[0;34m,\u001b[0m \u001b[0mrenderer\u001b[0m\u001b[0;34m,\u001b[0m \u001b[0;34m*\u001b[0m\u001b[0margs\u001b[0m\u001b[0;34m,\u001b[0m \u001b[0;34m**\u001b[0m\u001b[0mkwargs\u001b[0m\u001b[0;34m)\u001b[0m\u001b[0;34m:\u001b[0m\u001b[0;34m\u001b[0m\u001b[0m\n\u001b[1;32m     62\u001b[0m         \u001b[0mbefore\u001b[0m\u001b[0;34m(\u001b[0m\u001b[0martist\u001b[0m\u001b[0;34m,\u001b[0m \u001b[0mrenderer\u001b[0m\u001b[0;34m)\u001b[0m\u001b[0;34m\u001b[0m\u001b[0m\n\u001b[0;32m---> 63\u001b[0;31m         \u001b[0mdraw\u001b[0m\u001b[0;34m(\u001b[0m\u001b[0martist\u001b[0m\u001b[0;34m,\u001b[0m \u001b[0mrenderer\u001b[0m\u001b[0;34m,\u001b[0m \u001b[0;34m*\u001b[0m\u001b[0margs\u001b[0m\u001b[0;34m,\u001b[0m \u001b[0;34m**\u001b[0m\u001b[0mkwargs\u001b[0m\u001b[0;34m)\u001b[0m\u001b[0;34m\u001b[0m\u001b[0m\n\u001b[0m\u001b[1;32m     64\u001b[0m         \u001b[0mafter\u001b[0m\u001b[0;34m(\u001b[0m\u001b[0martist\u001b[0m\u001b[0;34m,\u001b[0m \u001b[0mrenderer\u001b[0m\u001b[0;34m)\u001b[0m\u001b[0;34m\u001b[0m\u001b[0m\n\u001b[1;32m     65\u001b[0m \u001b[0;34m\u001b[0m\u001b[0m\n",
      "\u001b[0;32m/anaconda/lib/python3.6/site-packages/matplotlib/collections.py\u001b[0m in \u001b[0;36mdraw\u001b[0;34m(self, renderer)\u001b[0m\n\u001b[1;32m    285\u001b[0m         \u001b[0mrenderer\u001b[0m\u001b[0;34m.\u001b[0m\u001b[0mopen_group\u001b[0m\u001b[0;34m(\u001b[0m\u001b[0mself\u001b[0m\u001b[0;34m.\u001b[0m\u001b[0m__class__\u001b[0m\u001b[0;34m.\u001b[0m\u001b[0m__name__\u001b[0m\u001b[0;34m,\u001b[0m \u001b[0mself\u001b[0m\u001b[0;34m.\u001b[0m\u001b[0mget_gid\u001b[0m\u001b[0;34m(\u001b[0m\u001b[0;34m)\u001b[0m\u001b[0;34m)\u001b[0m\u001b[0;34m\u001b[0m\u001b[0m\n\u001b[1;32m    286\u001b[0m \u001b[0;34m\u001b[0m\u001b[0m\n\u001b[0;32m--> 287\u001b[0;31m         \u001b[0mself\u001b[0m\u001b[0;34m.\u001b[0m\u001b[0mupdate_scalarmappable\u001b[0m\u001b[0;34m(\u001b[0m\u001b[0;34m)\u001b[0m\u001b[0;34m\u001b[0m\u001b[0m\n\u001b[0m\u001b[1;32m    288\u001b[0m \u001b[0;34m\u001b[0m\u001b[0m\n\u001b[1;32m    289\u001b[0m         \u001b[0mtransform\u001b[0m\u001b[0;34m,\u001b[0m \u001b[0mtransOffset\u001b[0m\u001b[0;34m,\u001b[0m \u001b[0moffsets\u001b[0m\u001b[0;34m,\u001b[0m \u001b[0mpaths\u001b[0m \u001b[0;34m=\u001b[0m \u001b[0mself\u001b[0m\u001b[0;34m.\u001b[0m\u001b[0m_prepare_points\u001b[0m\u001b[0;34m(\u001b[0m\u001b[0;34m)\u001b[0m\u001b[0;34m\u001b[0m\u001b[0m\n",
      "\u001b[0;32m/anaconda/lib/python3.6/site-packages/matplotlib/collections.py\u001b[0m in \u001b[0;36mupdate_scalarmappable\u001b[0;34m(self)\u001b[0m\n\u001b[1;32m    776\u001b[0m         \u001b[0;32mif\u001b[0m \u001b[0mself\u001b[0m\u001b[0;34m.\u001b[0m\u001b[0m_A\u001b[0m \u001b[0;32mis\u001b[0m \u001b[0;32mNone\u001b[0m\u001b[0;34m:\u001b[0m\u001b[0;34m\u001b[0m\u001b[0m\n\u001b[1;32m    777\u001b[0m             \u001b[0;32mreturn\u001b[0m\u001b[0;34m\u001b[0m\u001b[0m\n\u001b[0;32m--> 778\u001b[0;31m         \u001b[0;32mif\u001b[0m \u001b[0mself\u001b[0m\u001b[0;34m.\u001b[0m\u001b[0m_A\u001b[0m\u001b[0;34m.\u001b[0m\u001b[0mndim\u001b[0m \u001b[0;34m>\u001b[0m \u001b[0;36m1\u001b[0m\u001b[0;34m:\u001b[0m\u001b[0;34m\u001b[0m\u001b[0m\n\u001b[0m\u001b[1;32m    779\u001b[0m             \u001b[0;32mraise\u001b[0m \u001b[0mValueError\u001b[0m\u001b[0;34m(\u001b[0m\u001b[0;34m'Collections can only map rank 1 arrays'\u001b[0m\u001b[0;34m)\u001b[0m\u001b[0;34m\u001b[0m\u001b[0m\n\u001b[1;32m    780\u001b[0m         \u001b[0;32mif\u001b[0m \u001b[0;32mnot\u001b[0m \u001b[0mself\u001b[0m\u001b[0;34m.\u001b[0m\u001b[0mcheck_update\u001b[0m\u001b[0;34m(\u001b[0m\u001b[0;34m\"array\"\u001b[0m\u001b[0;34m)\u001b[0m\u001b[0;34m:\u001b[0m\u001b[0;34m\u001b[0m\u001b[0m\n",
      "\u001b[0;31mAttributeError\u001b[0m: 'list' object has no attribute 'ndim'"
     ]
    },
    {
     "data": {
      "text/plain": [
       "<matplotlib.figure.Figure at 0x118b25400>"
      ]
     },
     "metadata": {},
     "output_type": "display_data"
    }
   ],
   "source": [
    "y = [4.666666666666667, 8.6666666666666661, \n",
    "                     4.333333333333333, 5.0, 3.3333333333333335, \n",
    "                     3.6666666666666665, 5.0]\n",
    "x = list(range(0,len(y)))\n",
    "z = [1, 1, 1, 1, 1, 1, -1]\n",
    "points = np.array([x, y]).T.reshape(-1, 1, 2)\n",
    "segments = np.concatenate([points[:-1], points[1:]], axis=1)\n",
    "\n",
    "\n",
    "lc = LineCollection(segments, cmap=cmap, norm=norm)\n",
    "lc.set_array(z)\n",
    "lc.set_linewidth(3)\n",
    "\n",
    "fig1 = plt.figure()\n",
    "plt.gca().add_collection(lc)\n"
   ]
  },
  {
   "cell_type": "code",
   "execution_count": 306,
   "metadata": {},
   "outputs": [
    {
     "data": {
      "text/plain": [
       "(-1.1, 1.1)"
      ]
     },
     "execution_count": 306,
     "metadata": {},
     "output_type": "execute_result"
    },
    {
     "data": {
      "image/png": "[encoded data removed]",
      "text/plain": [
       "<matplotlib.figure.Figure at 0x1186977f0>"
      ]
     },
     "metadata": {},
     "output_type": "display_data"
    }
   ],
   "source": [
    "x = np.linspace(0, 3 * np.pi, 500)\n",
    "y = np.sin(x)\n",
    "z = np.cos(0.5 * (x[:-1] + x[1:]))  # first derivative\n",
    "\n",
    "# Create a colormap for red, green and blue and a norm to color\n",
    "# f' < -0.5 red, f' > 0.5 blue, and the rest green\n",
    "cmap = ListedColormap(['r', 'g', 'b'])\n",
    "norm = BoundaryNorm([-1, -0.5, 0.5, 1], cmap.N)\n",
    "\n",
    "# Create a set of line segments so that we can color them individually\n",
    "# This creates the points as a N x 1 x 2 array so that we can stack points\n",
    "# together easily to get the segments. The segments array for line collection\n",
    "# needs to be numlines x points per line x 2 (x and y)\n",
    "points = np.array([x, y]).T.reshape(-1, 1, 2)\n",
    "segments = np.concatenate([points[:-1], points[1:]], axis=1)\n",
    "\n",
    "# Create the line collection object, setting the colormapping parameters.\n",
    "# Have to set the actual values used for colormapping separately.\n",
    "lc = LineCollection(segments, cmap=cmap, norm=norm)\n",
    "lc.set_array(z)\n",
    "lc.set_linewidth(3)\n",
    "\n",
    "fig1 = plt.figure()\n",
    "plt.gca().add_collection(lc)\n",
    "plt.xlim(x.min(), x.max())\n",
    "plt.ylim(-1.1, 1.1)\n"
   ]
  },
  {
   "cell_type": "code",
   "execution_count": 313,
   "metadata": {},
   "outputs": [
    {
     "data": {
      "text/plain": [
       "[array([[ 0.        ,  0.        ],\n",
       "        [ 0.01888733,  0.01888621]]), array([[ 0.01888733,  0.01888621],\n",
       "        [ 0.03777466,  0.03776568]]), array([[ 0.03777466,  0.03776568],\n",
       "        [ 0.05666199,  0.05663168]]), array([[ 0.05666199,  0.05663168],\n",
       "        [ 0.07554932,  0.07547747]]), array([[ 0.07554932,  0.07547747],\n",
       "        [ 0.09443665,  0.09429635]]), array([[ 0.09443665,  0.09429635],\n",
       "        [ 0.11332398,  0.11308158]]), array([[ 0.11332398,  0.11308158],\n",
       "        [ 0.13221131,  0.13182648]]), array([[ 0.13221131,  0.13182648],\n",
       "        [ 0.15109864,  0.15052435]]), array([[ 0.15109864,  0.15052435],\n",
       "        [ 0.16998598,  0.16916853]]), array([[ 0.16998598,  0.16916853],\n",
       "        [ 0.18887331,  0.18775236]]), array([[ 0.18887331,  0.18775236],\n",
       "        [ 0.20776064,  0.20626921]]), array([[ 0.20776064,  0.20626921],\n",
       "        [ 0.22664797,  0.22471249]]), array([[ 0.22664797,  0.22471249],\n",
       "        [ 0.2455353 ,  0.2430756 ]]), array([[ 0.2455353 ,  0.2430756 ],\n",
       "        [ 0.26442263,  0.26135201]]), array([[ 0.26442263,  0.26135201],\n",
       "        [ 0.28330996,  0.27953518]]), array([[ 0.28330996,  0.27953518],\n",
       "        [ 0.30219729,  0.29761864]]), array([[ 0.30219729,  0.29761864],\n",
       "        [ 0.32108462,  0.31559594]]), array([[ 0.32108462,  0.31559594],\n",
       "        [ 0.33997195,  0.33346065]]), array([[ 0.33997195,  0.33346065],\n",
       "        [ 0.35885928,  0.35120641]]), array([[ 0.35885928,  0.35120641],\n",
       "        [ 0.37774661,  0.36882689]]), array([[ 0.37774661,  0.36882689],\n",
       "        [ 0.39663394,  0.3863158 ]]), array([[ 0.39663394,  0.3863158 ],\n",
       "        [ 0.41552127,  0.4036669 ]]), array([[ 0.41552127,  0.4036669 ],\n",
       "        [ 0.4344086 ,  0.42087401]]), array([[ 0.4344086 ,  0.42087401],\n",
       "        [ 0.45329593,  0.43793098]]), array([[ 0.45329593,  0.43793098],\n",
       "        [ 0.47218326,  0.45483173]]), array([[ 0.47218326,  0.45483173],\n",
       "        [ 0.4910706 ,  0.47157024]]), array([[ 0.4910706 ,  0.47157024],\n",
       "        [ 0.50995793,  0.48814053]]), array([[ 0.50995793,  0.48814053],\n",
       "        [ 0.52884526,  0.50453668]]), array([[ 0.52884526,  0.50453668],\n",
       "        [ 0.54773259,  0.52075286]]), array([[ 0.54773259,  0.52075286],\n",
       "        [ 0.56661992,  0.53678328]]), array([[ 0.56661992,  0.53678328],\n",
       "        [ 0.58550725,  0.55262221]]), array([[ 0.58550725,  0.55262221],\n",
       "        [ 0.60439458,  0.56826401]]), array([[ 0.60439458,  0.56826401],\n",
       "        [ 0.62328191,  0.5837031 ]]), array([[ 0.62328191,  0.5837031 ],\n",
       "        [ 0.64216924,  0.59893397]]), array([[ 0.64216924,  0.59893397],\n",
       "        [ 0.66105657,  0.61395119]]), array([[ 0.66105657,  0.61395119],\n",
       "        [ 0.6799439 ,  0.6287494 ]]), array([[ 0.6799439 ,  0.6287494 ],\n",
       "        [ 0.69883123,  0.64332332]]), array([[ 0.69883123,  0.64332332],\n",
       "        [ 0.71771856,  0.65766776]]), array([[ 0.71771856,  0.65766776],\n",
       "        [ 0.73660589,  0.67177759]]), array([[ 0.73660589,  0.67177759],\n",
       "        [ 0.75549322,  0.68564779]]), array([[ 0.75549322,  0.68564779],\n",
       "        [ 0.77438055,  0.6992734 ]]), array([[ 0.77438055,  0.6992734 ],\n",
       "        [ 0.79326788,  0.71264956]]), array([[ 0.79326788,  0.71264956],\n",
       "        [ 0.81215522,  0.72577151]]), array([[ 0.81215522,  0.72577151],\n",
       "        [ 0.83104255,  0.73863456]]), array([[ 0.83104255,  0.73863456],\n",
       "        [ 0.84992988,  0.75123412]]), array([[ 0.84992988,  0.75123412],\n",
       "        [ 0.86881721,  0.76356571]]), array([[ 0.86881721,  0.76356571],\n",
       "        [ 0.88770454,  0.77562491]]), array([[ 0.88770454,  0.77562491],\n",
       "        [ 0.90659187,  0.78740743]]), array([[ 0.90659187,  0.78740743],\n",
       "        [ 0.9254792 ,  0.79890907]]), array([[ 0.9254792 ,  0.79890907],\n",
       "        [ 0.94436653,  0.81012572]]), array([[ 0.94436653,  0.81012572],\n",
       "        [ 0.96325386,  0.82105338]]), array([[ 0.96325386,  0.82105338],\n",
       "        [ 0.98214119,  0.83168816]]), array([[ 0.98214119,  0.83168816],\n",
       "        [ 1.00102852,  0.84202625]]), array([[ 1.00102852,  0.84202625],\n",
       "        [ 1.01991585,  0.85206398]]), array([[ 1.01991585,  0.85206398],\n",
       "        [ 1.03880318,  0.86179776]]), array([[ 1.03880318,  0.86179776],\n",
       "        [ 1.05769051,  0.87122411]]), array([[ 1.05769051,  0.87122411],\n",
       "        [ 1.07657784,  0.88033969]]), array([[ 1.07657784,  0.88033969],\n",
       "        [ 1.09546517,  0.88914122]]), array([[ 1.09546517,  0.88914122],\n",
       "        [ 1.1143525 ,  0.89762559]]), array([[ 1.1143525 ,  0.89762559],\n",
       "        [ 1.13323983,  0.90578975]]), array([[ 1.13323983,  0.90578975],\n",
       "        [ 1.15212717,  0.91363079]]), array([[ 1.15212717,  0.91363079],\n",
       "        [ 1.1710145 ,  0.92114593]]), array([[ 1.1710145 ,  0.92114593],\n",
       "        [ 1.18990183,  0.92833248]]), array([[ 1.18990183,  0.92833248],\n",
       "        [ 1.20878916,  0.93518786]]), array([[ 1.20878916,  0.93518786],\n",
       "        [ 1.22767649,  0.94170965]]), array([[ 1.22767649,  0.94170965],\n",
       "        [ 1.24656382,  0.94789551]]), array([[ 1.24656382,  0.94789551],\n",
       "        [ 1.26545115,  0.95374324]]), array([[ 1.26545115,  0.95374324],\n",
       "        [ 1.28433848,  0.95925075]]), array([[ 1.28433848,  0.95925075],\n",
       "        [ 1.30322581,  0.96441607]]), array([[ 1.30322581,  0.96441607],\n",
       "        [ 1.32211314,  0.96923737]]), array([[ 1.32211314,  0.96923737],\n",
       "        [ 1.34100047,  0.97371292]]), array([[ 1.34100047,  0.97371292],\n",
       "        [ 1.3598878 ,  0.97784112]]), array([[ 1.3598878 ,  0.97784112],\n",
       "        [ 1.37877513,  0.98162051]]), array([[ 1.37877513,  0.98162051],\n",
       "        [ 1.39766246,  0.98504973]]), array([[ 1.39766246,  0.98504973],\n",
       "        [ 1.41654979,  0.98812757]]), array([[ 1.41654979,  0.98812757],\n",
       "        [ 1.43543712,  0.99085292]]), array([[ 1.43543712,  0.99085292],\n",
       "        [ 1.45432445,  0.99322482]]), array([[ 1.45432445,  0.99322482],\n",
       "        [ 1.47321179,  0.99524241]]), array([[ 1.47321179,  0.99524241],\n",
       "        [ 1.49209912,  0.99690497]]), array([[ 1.49209912,  0.99690497],\n",
       "        [ 1.51098645,  0.99821192]]), array([[ 1.51098645,  0.99821192],\n",
       "        [ 1.52987378,  0.99916279]]), array([[ 1.52987378,  0.99916279],\n",
       "        [ 1.54876111,  0.99975723]]), array([[ 1.54876111,  0.99975723],\n",
       "        [ 1.56764844,  0.99999505]]), array([[ 1.56764844,  0.99999505],\n",
       "        [ 1.58653577,  0.99987614]]), array([[ 1.58653577,  0.99987614],\n",
       "        [ 1.6054231 ,  0.99940055]]), array([[ 1.6054231 ,  0.99940055],\n",
       "        [ 1.62431043,  0.99856846]]), array([[ 1.62431043,  0.99856846],\n",
       "        [ 1.64319776,  0.99738016]]), array([[ 1.64319776,  0.99738016],\n",
       "        [ 1.66208509,  0.99583607]]), array([[ 1.66208509,  0.99583607],\n",
       "        [ 1.68097242,  0.99393675]]), array([[ 1.68097242,  0.99393675],\n",
       "        [ 1.69985975,  0.99168287]]), array([[ 1.69985975,  0.99168287],\n",
       "        [ 1.71874708,  0.98907524]]), array([[ 1.71874708,  0.98907524],\n",
       "        [ 1.73763441,  0.98611478]]), array([[ 1.73763441,  0.98611478],\n",
       "        [ 1.75652174,  0.98280255]]), array([[ 1.75652174,  0.98280255],\n",
       "        [ 1.77540907,  0.97913974]]), array([[ 1.77540907,  0.97913974],\n",
       "        [ 1.79429641,  0.97512765]]), array([[ 1.79429641,  0.97512765],\n",
       "        [ 1.81318374,  0.97076771]]), array([[ 1.81318374,  0.97076771],\n",
       "        [ 1.83207107,  0.96606148]]), array([[ 1.83207107,  0.96606148],\n",
       "        [ 1.8509584 ,  0.96101064]]), array([[ 1.8509584 ,  0.96101064],\n",
       "        [ 1.86984573,  0.95561698]]), array([[ 1.86984573,  0.95561698],\n",
       "        [ 1.88873306,  0.94988243]]), array([[ 1.88873306,  0.94988243],\n",
       "        [ 1.90762039,  0.94380904]]), array([[ 1.90762039,  0.94380904],\n",
       "        [ 1.92650772,  0.93739898]]), array([[ 1.92650772,  0.93739898],\n",
       "        [ 1.94539505,  0.93065452]]), array([[ 1.94539505,  0.93065452],\n",
       "        [ 1.96428238,  0.92357809]]), array([[ 1.96428238,  0.92357809],\n",
       "        [ 1.98316971,  0.91617219]]), array([[ 1.98316971,  0.91617219],\n",
       "        [ 2.00205704,  0.90843947]]), array([[ 2.00205704,  0.90843947],\n",
       "        [ 2.02094437,  0.9003827 ]]), array([[ 2.02094437,  0.9003827 ],\n",
       "        [ 2.0398317 ,  0.89200474]]), array([[ 2.0398317 ,  0.89200474],\n",
       "        [ 2.05871903,  0.88330858]]), array([[ 2.05871903,  0.88330858],\n",
       "        [ 2.07760636,  0.87429733]]), array([[ 2.07760636,  0.87429733],\n",
       "        [ 2.09649369,  0.8649742 ]]), array([[ 2.09649369,  0.8649742 ],\n",
       "        [ 2.11538103,  0.85534252]]), array([[ 2.11538103,  0.85534252],\n",
       "        [ 2.13426836,  0.84540571]]), array([[ 2.13426836,  0.84540571],\n",
       "        [ 2.15315569,  0.83516734]]), array([[ 2.15315569,  0.83516734],\n",
       "        [ 2.17204302,  0.82463104]]), array([[ 2.17204302,  0.82463104],\n",
       "        [ 2.19093035,  0.81380058]]), array([[ 2.19093035,  0.81380058],\n",
       "        [ 2.20981768,  0.80267982]]), array([[ 2.20981768,  0.80267982],\n",
       "        [ 2.22870501,  0.79127273]]), array([[ 2.22870501,  0.79127273],\n",
       "        [ 2.24759234,  0.77958337]]), array([[ 2.24759234,  0.77958337],\n",
       "        [ 2.26647967,  0.76761592]]), array([[ 2.26647967,  0.76761592],\n",
       "        [ 2.285367  ,  0.75537465]]), array([[ 2.285367  ,  0.75537465],\n",
       "        [ 2.30425433,  0.74286391]]), array([[ 2.30425433,  0.74286391],\n",
       "        [ 2.32314166,  0.73008819]]), array([[ 2.32314166,  0.73008819],\n",
       "        [ 2.34202899,  0.71705202]]), array([[ 2.34202899,  0.71705202],\n",
       "        [ 2.36091632,  0.70376007]]), array([[ 2.36091632,  0.70376007],\n",
       "        [ 2.37980365,  0.69021707]]), array([[ 2.37980365,  0.69021707],\n",
       "        [ 2.39869098,  0.67642786]]), array([[ 2.39869098,  0.67642786],\n",
       "        [ 2.41757831,  0.66239735]]), array([[ 2.41757831,  0.66239735],\n",
       "        [ 2.43646565,  0.64813056]]), array([[ 2.43646565,  0.64813056],\n",
       "        [ 2.45535298,  0.63363256]]), array([[ 2.45535298,  0.63363256],\n",
       "        [ 2.47424031,  0.61890853]]), array([[ 2.47424031,  0.61890853],\n",
       "        [ 2.49312764,  0.60396372]]), array([[ 2.49312764,  0.60396372],\n",
       "        [ 2.51201497,  0.58880346]]), array([[ 2.51201497,  0.58880346],\n",
       "        [ 2.5309023 ,  0.57343317]]), array([[ 2.5309023 ,  0.57343317],\n",
       "        [ 2.54978963,  0.55785832]]), array([[ 2.54978963,  0.55785832],\n",
       "        [ 2.56867696,  0.54208448]]), array([[ 2.56867696,  0.54208448],\n",
       "        [ 2.58756429,  0.52611726]]), array([[ 2.58756429,  0.52611726],\n",
       "        [ 2.60645162,  0.50996236]]), array([[ 2.60645162,  0.50996236],\n",
       "        [ 2.62533895,  0.49362555]]), array([[ 2.62533895,  0.49362555],\n",
       "        [ 2.64422628,  0.47711265]]), array([[ 2.64422628,  0.47711265],\n",
       "        [ 2.66311361,  0.46042956]]), array([[ 2.66311361,  0.46042956],\n",
       "        [ 2.68200094,  0.44358222]]), array([[ 2.68200094,  0.44358222],\n",
       "        [ 2.70088827,  0.42657665]]), array([[ 2.70088827,  0.42657665],\n",
       "        [ 2.7197756 ,  0.40941891]]), array([[ 2.7197756 ,  0.40941891],\n",
       "        [ 2.73866293,  0.39211512]]), array([[ 2.73866293,  0.39211512],\n",
       "        [ 2.75755027,  0.37467145]]), array([[ 2.75755027,  0.37467145],\n",
       "        [ 2.7764376 ,  0.35709413]]), array([[ 2.7764376 ,  0.35709413],\n",
       "        [ 2.79532493,  0.33938943]]), array([[ 2.79532493,  0.33938943],\n",
       "        [ 2.81421226,  0.32156366]]), array([[ 2.81421226,  0.32156366],\n",
       "        [ 2.83309959,  0.30362319]]), array([[ 2.83309959,  0.30362319],\n",
       "        [ 2.85198692,  0.2855744 ]]), array([[ 2.85198692,  0.2855744 ],\n",
       "        [ 2.87087425,  0.26742375]]), array([[ 2.87087425,  0.26742375],\n",
       "        [ 2.88976158,  0.24917769]]), array([[ 2.88976158,  0.24917769],\n",
       "        [ 2.90864891,  0.23084276]]), array([[ 2.90864891,  0.23084276],\n",
       "        [ 2.92753624,  0.21242547]]), array([[ 2.92753624,  0.21242547],\n",
       "        [ 2.94642357,  0.19393241]]), array([[ 2.94642357,  0.19393241],\n",
       "        [ 2.9653109 ,  0.17537017]]), array([[ 2.9653109 ,  0.17537017],\n",
       "        [ 2.98419823,  0.15674537]]), array([[ 2.98419823,  0.15674537],\n",
       "        [ 3.00308556,  0.13806466]]), array([[ 3.00308556,  0.13806466],\n",
       "        [ 3.02197289,  0.11933469]]), array([[ 3.02197289,  0.11933469],\n",
       "        [ 3.04086022,  0.10056216]]), array([[ 3.04086022,  0.10056216],\n",
       "        [ 3.05974755,  0.08175375]]), array([[ 3.05974755,  0.08175375],\n",
       "        [ 3.07863488,  0.06291619]]), array([[ 3.07863488,  0.06291619],\n",
       "        [ 3.09752222,  0.04405617]]), array([[ 3.09752222,  0.04405617],\n",
       "        [ 3.11640955,  0.02518045]]), array([[ 3.11640955,  0.02518045],\n",
       "        [ 3.13529688,  0.00629574]]), array([[ 3.13529688,  0.00629574],\n",
       "        [ 3.15418421, -0.01259122]]), array([[ 3.15418421, -0.01259122],\n",
       "        [ 3.17307154, -0.03147369]]), array([[ 3.17307154, -0.03147369],\n",
       "        [ 3.19195887, -0.05034492]]), array([[ 3.19195887, -0.05034492],\n",
       "        [ 3.2108462 , -0.0691982 ]]), array([[ 3.2108462 , -0.0691982 ],\n",
       "        [ 3.22973353, -0.0880268 ]]), array([[ 3.22973353, -0.0880268 ],\n",
       "        [ 3.24862086, -0.10682399]]), array([[ 3.24862086, -0.10682399],\n",
       "        [ 3.26750819, -0.12558307]]), array([[ 3.26750819, -0.12558307],\n",
       "        [ 3.28639552, -0.14429736]]), array([[ 3.28639552, -0.14429736],\n",
       "        [ 3.30528285, -0.16296018]]), array([[ 3.30528285, -0.16296018],\n",
       "        [ 3.32417018, -0.18156486]]), array([[ 3.32417018, -0.18156486],\n",
       "        [ 3.34305751, -0.20010478]]), array([[ 3.34305751, -0.20010478],\n",
       "        [ 3.36194484, -0.21857331]]), array([[ 3.36194484, -0.21857331],\n",
       "        [ 3.38083217, -0.23696388]]), array([[ 3.38083217, -0.23696388],\n",
       "        [ 3.3997195 , -0.25526991]]), array([[ 3.3997195 , -0.25526991],\n",
       "        [ 3.41860684, -0.27348488]]), array([[ 3.41860684, -0.27348488],\n",
       "        [ 3.43749417, -0.2916023 ]]), array([[ 3.43749417, -0.2916023 ],\n",
       "        [ 3.4563815 , -0.3096157 ]]), array([[ 3.4563815 , -0.3096157 ],\n",
       "        [ 3.47526883, -0.32751865]]), array([[ 3.47526883, -0.32751865],\n",
       "        [ 3.49415616, -0.34530476]]), array([[ 3.49415616, -0.34530476],\n",
       "        [ 3.51304349, -0.3629677 ]]), array([[ 3.51304349, -0.3629677 ],\n",
       "        [ 3.53193082, -0.38050117]]), array([[ 3.53193082, -0.38050117],\n",
       "        [ 3.55081815, -0.39789889]]), array([[ 3.55081815, -0.39789889],\n",
       "        [ 3.56970548, -0.41515469]]), array([[ 3.56970548, -0.41515469],\n",
       "        [ 3.58859281, -0.43226238]]), array([[ 3.58859281, -0.43226238],\n",
       "        [ 3.60748014, -0.44921588]]), array([[ 3.60748014, -0.44921588],\n",
       "        [ 3.62636747, -0.46600914]]), array([[ 3.62636747, -0.46600914],\n",
       "        [ 3.6452548 , -0.48263615]]), array([[ 3.6452548 , -0.48263615],\n",
       "        [ 3.66414213, -0.49909101]]), array([[ 3.66414213, -0.49909101],\n",
       "        [ 3.68302946, -0.51536782]]), array([[ 3.68302946, -0.51536782],\n",
       "        [ 3.70191679, -0.5314608 ]]), array([[ 3.70191679, -0.5314608 ],\n",
       "        [ 3.72080412, -0.54736419]]), array([[ 3.72080412, -0.54736419],\n",
       "        [ 3.73969146, -0.56307233]]), array([[ 3.73969146, -0.56307233],\n",
       "        [ 3.75857879, -0.5785796 ]]), array([[ 3.75857879, -0.5785796 ],\n",
       "        [ 3.77746612, -0.59388049]]), array([[ 3.77746612, -0.59388049],\n",
       "        [ 3.79635345, -0.60896952]]), array([[ 3.79635345, -0.60896952],\n",
       "        [ 3.81524078, -0.62384133]]), array([[ 3.81524078, -0.62384133],\n",
       "        [ 3.83412811, -0.63849059]]), array([[ 3.83412811, -0.63849059],\n",
       "        [ 3.85301544, -0.6529121 ]]), array([[ 3.85301544, -0.6529121 ],\n",
       "        [ 3.87190277, -0.66710069]]), array([[ 3.87190277, -0.66710069],\n",
       "        [ 3.8907901 , -0.68105132]]), array([[ 3.8907901 , -0.68105132],\n",
       "        [ 3.90967743, -0.694759  ]]), array([[ 3.90967743, -0.694759  ],\n",
       "        [ 3.92856476, -0.70821885]]), array([[ 3.92856476, -0.70821885],\n",
       "        [ 3.94745209, -0.72142606]]), array([[ 3.94745209, -0.72142606],\n",
       "        [ 3.96633942, -0.73437593]]), array([[ 3.96633942, -0.73437593],\n",
       "        [ 3.98522675, -0.74706382]]), array([[ 3.98522675, -0.74706382],\n",
       "        [ 4.00411408, -0.75948523]]), array([[ 4.00411408, -0.75948523],\n",
       "        [ 4.02300141, -0.77163571]]), array([[ 4.02300141, -0.77163571],\n",
       "        [ 4.04188874, -0.78351093]]), array([[ 4.04188874, -0.78351093],\n",
       "        [ 4.06077608, -0.79510666]]), array([[ 4.06077608, -0.79510666],\n",
       "        [ 4.07966341, -0.80641875]]), array([[ 4.07966341, -0.80641875],\n",
       "        [ 4.09855074, -0.81744318]]), array([[ 4.09855074, -0.81744318],\n",
       "        [ 4.11743807, -0.82817601]]), array([[ 4.11743807, -0.82817601],\n",
       "        [ 4.1363254 , -0.83861341]]), array([[ 4.1363254 , -0.83861341],\n",
       "        [ 4.15521273, -0.84875167]]), array([[ 4.15521273, -0.84875167],\n",
       "        [ 4.17410006, -0.85858715]]), array([[ 4.17410006, -0.85858715],\n",
       "        [ 4.19298739, -0.86811636]]), array([[ 4.19298739, -0.86811636],\n",
       "        [ 4.21187472, -0.8773359 ]]), array([[ 4.21187472, -0.8773359 ],\n",
       "        [ 4.23076205, -0.88624247]]), array([[ 4.23076205, -0.88624247],\n",
       "        [ 4.24964938, -0.8948329 ]]), array([[ 4.24964938, -0.8948329 ],\n",
       "        [ 4.26853671, -0.90310412]]), array([[ 4.26853671, -0.90310412],\n",
       "        [ 4.28742404, -0.91105319]]), array([[ 4.28742404, -0.91105319],\n",
       "        [ 4.30631137, -0.91867727]]), array([[ 4.30631137, -0.91867727],\n",
       "        [ 4.3251987 , -0.92597363]]), array([[ 4.3251987 , -0.92597363],\n",
       "        [ 4.34408603, -0.93293968]]), array([[ 4.34408603, -0.93293968],\n",
       "        [ 4.36297336, -0.93957294]]), array([[ 4.36297336, -0.93957294],\n",
       "        [ 4.3818607 , -0.94587102]]), array([[ 4.3818607 , -0.94587102],\n",
       "        [ 4.40074803, -0.9518317 ]]), array([[ 4.40074803, -0.9518317 ],\n",
       "        [ 4.41963536, -0.95745284]]), array([[ 4.41963536, -0.95745284],\n",
       "        [ 4.43852269, -0.96273243]]), array([[ 4.43852269, -0.96273243],\n",
       "        [ 4.45741002, -0.9676686 ]]), array([[ 4.45741002, -0.9676686 ],\n",
       "        [ 4.47629735, -0.97225958]]), array([[ 4.47629735, -0.97225958],\n",
       "        [ 4.49518468, -0.97650374]]), array([[ 4.49518468, -0.97650374],\n",
       "        [ 4.51407201, -0.98039956]]), array([[ 4.51407201, -0.98039956],\n",
       "        [ 4.53295934, -0.98394564]]), array([[ 4.53295934, -0.98394564],\n",
       "        [ 4.55184667, -0.98714074]]), array([[ 4.55184667, -0.98714074],\n",
       "        [ 4.570734  , -0.9899837 ]]), array([[ 4.570734  , -0.9899837 ],\n",
       "        [ 4.58962133, -0.99247351]]), array([[ 4.58962133, -0.99247351],\n",
       "        [ 4.60850866, -0.99460929]]), array([[ 4.60850866, -0.99460929],\n",
       "        [ 4.62739599, -0.99639027]]), array([[ 4.62739599, -0.99639027],\n",
       "        [ 4.64628332, -0.99781582]]), array([[ 4.64628332, -0.99781582],\n",
       "        [ 4.66517065, -0.99888542]]), array([[ 4.66517065, -0.99888542],\n",
       "        [ 4.68405798, -0.9995987 ]]), array([[ 4.68405798, -0.9995987 ],\n",
       "        [ 4.70294532, -0.99995541]]), array([[ 4.70294532, -0.99995541],\n",
       "        [ 4.72183265, -0.99995541]]), array([[ 4.72183265, -0.99995541],\n",
       "        [ 4.74071998, -0.9995987 ]]), array([[ 4.74071998, -0.9995987 ],\n",
       "        [ 4.75960731, -0.99888542]]), array([[ 4.75960731, -0.99888542],\n",
       "        [ 4.77849464, -0.99781582]]), array([[ 4.77849464, -0.99781582],\n",
       "        [ 4.79738197, -0.99639027]]), array([[ 4.79738197, -0.99639027],\n",
       "        [ 4.8162693 , -0.99460929]]), array([[ 4.8162693 , -0.99460929],\n",
       "        [ 4.83515663, -0.99247351]]), array([[ 4.83515663, -0.99247351],\n",
       "        [ 4.85404396, -0.9899837 ]]), array([[ 4.85404396, -0.9899837 ],\n",
       "        [ 4.87293129, -0.98714074]]), array([[ 4.87293129, -0.98714074],\n",
       "        [ 4.89181862, -0.98394564]]), array([[ 4.89181862, -0.98394564],\n",
       "        [ 4.91070595, -0.98039956]]), array([[ 4.91070595, -0.98039956],\n",
       "        [ 4.92959328, -0.97650374]]), array([[ 4.92959328, -0.97650374],\n",
       "        [ 4.94848061, -0.97225958]]), array([[ 4.94848061, -0.97225958],\n",
       "        [ 4.96736794, -0.9676686 ]]), array([[ 4.96736794, -0.9676686 ],\n",
       "        [ 4.98625527, -0.96273243]]), array([[ 4.98625527, -0.96273243],\n",
       "        [ 5.0051426 , -0.95745284]]), array([[ 5.0051426 , -0.95745284],\n",
       "        [ 5.02402993, -0.9518317 ]]), array([[ 5.02402993, -0.9518317 ],\n",
       "        [ 5.04291727, -0.94587102]]), array([[ 5.04291727, -0.94587102],\n",
       "        [ 5.0618046 , -0.93957294]]), array([[ 5.0618046 , -0.93957294],\n",
       "        [ 5.08069193, -0.93293968]]), array([[ 5.08069193, -0.93293968],\n",
       "        [ 5.09957926, -0.92597363]]), array([[ 5.09957926, -0.92597363],\n",
       "        [ 5.11846659, -0.91867727]]), array([[ 5.11846659, -0.91867727],\n",
       "        [ 5.13735392, -0.91105319]]), array([[ 5.13735392, -0.91105319],\n",
       "        [ 5.15624125, -0.90310412]]), array([[ 5.15624125, -0.90310412],\n",
       "        [ 5.17512858, -0.8948329 ]]), array([[ 5.17512858, -0.8948329 ],\n",
       "        [ 5.19401591, -0.88624247]]), array([[ 5.19401591, -0.88624247],\n",
       "        [ 5.21290324, -0.8773359 ]]), array([[ 5.21290324, -0.8773359 ],\n",
       "        [ 5.23179057, -0.86811636]]), array([[ 5.23179057, -0.86811636],\n",
       "        [ 5.2506779 , -0.85858715]]), array([[ 5.2506779 , -0.85858715],\n",
       "        [ 5.26956523, -0.84875167]]), array([[ 5.26956523, -0.84875167],\n",
       "        [ 5.28845256, -0.83861341]]), array([[ 5.28845256, -0.83861341],\n",
       "        [ 5.30733989, -0.82817601]]), array([[ 5.30733989, -0.82817601],\n",
       "        [ 5.32622722, -0.81744318]]), array([[ 5.32622722, -0.81744318],\n",
       "        [ 5.34511455, -0.80641875]]), array([[ 5.34511455, -0.80641875],\n",
       "        [ 5.36400189, -0.79510666]]), array([[ 5.36400189, -0.79510666],\n",
       "        [ 5.38288922, -0.78351093]]), array([[ 5.38288922, -0.78351093],\n",
       "        [ 5.40177655, -0.77163571]]), array([[ 5.40177655, -0.77163571],\n",
       "        [ 5.42066388, -0.75948523]]), array([[ 5.42066388, -0.75948523],\n",
       "        [ 5.43955121, -0.74706382]]), array([[ 5.43955121, -0.74706382],\n",
       "        [ 5.45843854, -0.73437593]]), array([[ 5.45843854, -0.73437593],\n",
       "        [ 5.47732587, -0.72142606]]), array([[ 5.47732587, -0.72142606],\n",
       "        [ 5.4962132 , -0.70821885]]), array([[ 5.4962132 , -0.70821885],\n",
       "        [ 5.51510053, -0.694759  ]]), array([[ 5.51510053, -0.694759  ],\n",
       "        [ 5.53398786, -0.68105132]]), array([[ 5.53398786, -0.68105132],\n",
       "        [ 5.55287519, -0.66710069]]), array([[ 5.55287519, -0.66710069],\n",
       "        [ 5.57176252, -0.6529121 ]]), array([[ 5.57176252, -0.6529121 ],\n",
       "        [ 5.59064985, -0.63849059]]), array([[ 5.59064985, -0.63849059],\n",
       "        [ 5.60953718, -0.62384133]]), array([[ 5.60953718, -0.62384133],\n",
       "        [ 5.62842451, -0.60896952]]), array([[ 5.62842451, -0.60896952],\n",
       "        [ 5.64731184, -0.59388049]]), array([[ 5.64731184, -0.59388049],\n",
       "        [ 5.66619917, -0.5785796 ]]), array([[ 5.66619917, -0.5785796 ],\n",
       "        [ 5.68508651, -0.56307233]]), array([[ 5.68508651, -0.56307233],\n",
       "        [ 5.70397384, -0.54736419]]), array([[ 5.70397384, -0.54736419],\n",
       "        [ 5.72286117, -0.5314608 ]]), array([[ 5.72286117, -0.5314608 ],\n",
       "        [ 5.7417485 , -0.51536782]]), array([[ 5.7417485 , -0.51536782],\n",
       "        [ 5.76063583, -0.49909101]]), array([[ 5.76063583, -0.49909101],\n",
       "        [ 5.77952316, -0.48263615]]), array([[ 5.77952316, -0.48263615],\n",
       "        [ 5.79841049, -0.46600914]]), array([[ 5.79841049, -0.46600914],\n",
       "        [ 5.81729782, -0.44921588]]), array([[ 5.81729782, -0.44921588],\n",
       "        [ 5.83618515, -0.43226238]]), array([[ 5.83618515, -0.43226238],\n",
       "        [ 5.85507248, -0.41515469]]), array([[ 5.85507248, -0.41515469],\n",
       "        [ 5.87395981, -0.39789889]]), array([[ 5.87395981, -0.39789889],\n",
       "        [ 5.89284714, -0.38050117]]), array([[ 5.89284714, -0.38050117],\n",
       "        [ 5.91173447, -0.3629677 ]]), array([[ 5.91173447, -0.3629677 ],\n",
       "        [ 5.9306218 , -0.34530476]]), array([[ 5.9306218 , -0.34530476],\n",
       "        [ 5.94950913, -0.32751865]]), array([[ 5.94950913, -0.32751865],\n",
       "        [ 5.96839646, -0.3096157 ]]), array([[ 5.96839646, -0.3096157 ],\n",
       "        [ 5.98728379, -0.2916023 ]]), array([[ 5.98728379, -0.2916023 ],\n",
       "        [ 6.00617113, -0.27348488]]), array([[ 6.00617113, -0.27348488],\n",
       "        [ 6.02505846, -0.25526991]]), array([[ 6.02505846, -0.25526991],\n",
       "        [ 6.04394579, -0.23696388]]), array([[ 6.04394579, -0.23696388],\n",
       "        [ 6.06283312, -0.21857331]]), array([[ 6.06283312, -0.21857331],\n",
       "        [ 6.08172045, -0.20010478]]), array([[ 6.08172045, -0.20010478],\n",
       "        [ 6.10060778, -0.18156486]]), array([[ 6.10060778, -0.18156486],\n",
       "        [ 6.11949511, -0.16296018]]), array([[ 6.11949511, -0.16296018],\n",
       "        [ 6.13838244, -0.14429736]]), array([[ 6.13838244, -0.14429736],\n",
       "        [ 6.15726977, -0.12558307]]), array([[ 6.15726977, -0.12558307],\n",
       "        [ 6.1761571 , -0.10682399]]), array([[ 6.1761571 , -0.10682399],\n",
       "        [ 6.19504443, -0.0880268 ]]), array([[ 6.19504443, -0.0880268 ],\n",
       "        [ 6.21393176, -0.0691982 ]]), array([[ 6.21393176, -0.0691982 ],\n",
       "        [ 6.23281909, -0.05034492]]), array([[ 6.23281909, -0.05034492],\n",
       "        [ 6.25170642, -0.03147369]]), array([[ 6.25170642, -0.03147369],\n",
       "        [ 6.27059375, -0.01259122]]), array([[ 6.27059375, -0.01259122],\n",
       "        [ 6.28948108,  0.00629574]]), array([[  6.28948108e+00,   6.29573527e-03],\n",
       "        [  6.30836841e+00,   2.51804457e-02]]), array([[ 6.30836841,  0.02518045],\n",
       "        [ 6.32725575,  0.04405617]]), array([[ 6.32725575,  0.04405617],\n",
       "        [ 6.34614308,  0.06291619]]), array([[ 6.34614308,  0.06291619],\n",
       "        [ 6.36503041,  0.08175375]]), array([[ 6.36503041,  0.08175375],\n",
       "        [ 6.38391774,  0.10056216]]), array([[ 6.38391774,  0.10056216],\n",
       "        [ 6.40280507,  0.11933469]]), array([[ 6.40280507,  0.11933469],\n",
       "        [ 6.4216924 ,  0.13806466]]), array([[ 6.4216924 ,  0.13806466],\n",
       "        [ 6.44057973,  0.15674537]]), array([[ 6.44057973,  0.15674537],\n",
       "        [ 6.45946706,  0.17537017]]), array([[ 6.45946706,  0.17537017],\n",
       "        [ 6.47835439,  0.19393241]]), array([[ 6.47835439,  0.19393241],\n",
       "        [ 6.49724172,  0.21242547]]), array([[ 6.49724172,  0.21242547],\n",
       "        [ 6.51612905,  0.23084276]]), array([[ 6.51612905,  0.23084276],\n",
       "        [ 6.53501638,  0.24917769]]), array([[ 6.53501638,  0.24917769],\n",
       "        [ 6.55390371,  0.26742375]]), array([[ 6.55390371,  0.26742375],\n",
       "        [ 6.57279104,  0.2855744 ]]), array([[ 6.57279104,  0.2855744 ],\n",
       "        [ 6.59167837,  0.30362319]]), array([[ 6.59167837,  0.30362319],\n",
       "        [ 6.6105657 ,  0.32156366]]), array([[ 6.6105657 ,  0.32156366],\n",
       "        [ 6.62945303,  0.33938943]]), array([[ 6.62945303,  0.33938943],\n",
       "        [ 6.64834037,  0.35709413]]), array([[ 6.64834037,  0.35709413],\n",
       "        [ 6.6672277 ,  0.37467145]]), array([[ 6.6672277 ,  0.37467145],\n",
       "        [ 6.68611503,  0.39211512]]), array([[ 6.68611503,  0.39211512],\n",
       "        [ 6.70500236,  0.40941891]]), array([[ 6.70500236,  0.40941891],\n",
       "        [ 6.72388969,  0.42657665]]), array([[ 6.72388969,  0.42657665],\n",
       "        [ 6.74277702,  0.44358222]]), array([[ 6.74277702,  0.44358222],\n",
       "        [ 6.76166435,  0.46042956]]), array([[ 6.76166435,  0.46042956],\n",
       "        [ 6.78055168,  0.47711265]]), array([[ 6.78055168,  0.47711265],\n",
       "        [ 6.79943901,  0.49362555]]), array([[ 6.79943901,  0.49362555],\n",
       "        [ 6.81832634,  0.50996236]]), array([[ 6.81832634,  0.50996236],\n",
       "        [ 6.83721367,  0.52611726]]), array([[ 6.83721367,  0.52611726],\n",
       "        [ 6.856101  ,  0.54208448]]), array([[ 6.856101  ,  0.54208448],\n",
       "        [ 6.87498833,  0.55785832]]), array([[ 6.87498833,  0.55785832],\n",
       "        [ 6.89387566,  0.57343317]]), array([[ 6.89387566,  0.57343317],\n",
       "        [ 6.91276299,  0.58880346]]), array([[ 6.91276299,  0.58880346],\n",
       "        [ 6.93165032,  0.60396372]]), array([[ 6.93165032,  0.60396372],\n",
       "        [ 6.95053765,  0.61890853]]), array([[ 6.95053765,  0.61890853],\n",
       "        [ 6.96942499,  0.63363256]]), array([[ 6.96942499,  0.63363256],\n",
       "        [ 6.98831232,  0.64813056]]), array([[ 6.98831232,  0.64813056],\n",
       "        [ 7.00719965,  0.66239735]]), array([[ 7.00719965,  0.66239735],\n",
       "        [ 7.02608698,  0.67642786]]), array([[ 7.02608698,  0.67642786],\n",
       "        [ 7.04497431,  0.69021707]]), array([[ 7.04497431,  0.69021707],\n",
       "        [ 7.06386164,  0.70376007]]), array([[ 7.06386164,  0.70376007],\n",
       "        [ 7.08274897,  0.71705202]]), array([[ 7.08274897,  0.71705202],\n",
       "        [ 7.1016363 ,  0.73008819]]), array([[ 7.1016363 ,  0.73008819],\n",
       "        [ 7.12052363,  0.74286391]]), array([[ 7.12052363,  0.74286391],\n",
       "        [ 7.13941096,  0.75537465]]), array([[ 7.13941096,  0.75537465],\n",
       "        [ 7.15829829,  0.76761592]]), array([[ 7.15829829,  0.76761592],\n",
       "        [ 7.17718562,  0.77958337]]), array([[ 7.17718562,  0.77958337],\n",
       "        [ 7.19607295,  0.79127273]]), array([[ 7.19607295,  0.79127273],\n",
       "        [ 7.21496028,  0.80267982]]), array([[ 7.21496028,  0.80267982],\n",
       "        [ 7.23384761,  0.81380058]]), array([[ 7.23384761,  0.81380058],\n",
       "        [ 7.25273494,  0.82463104]]), array([[ 7.25273494,  0.82463104],\n",
       "        [ 7.27162227,  0.83516734]]), array([[ 7.27162227,  0.83516734],\n",
       "        [ 7.2905096 ,  0.84540571]]), array([[ 7.2905096 ,  0.84540571],\n",
       "        [ 7.30939694,  0.85534252]]), array([[ 7.30939694,  0.85534252],\n",
       "        [ 7.32828427,  0.8649742 ]]), array([[ 7.32828427,  0.8649742 ],\n",
       "        [ 7.3471716 ,  0.87429733]]), array([[ 7.3471716 ,  0.87429733],\n",
       "        [ 7.36605893,  0.88330858]]), array([[ 7.36605893,  0.88330858],\n",
       "        [ 7.38494626,  0.89200474]]), array([[ 7.38494626,  0.89200474],\n",
       "        [ 7.40383359,  0.9003827 ]]), array([[ 7.40383359,  0.9003827 ],\n",
       "        [ 7.42272092,  0.90843947]]), array([[ 7.42272092,  0.90843947],\n",
       "        [ 7.44160825,  0.91617219]]), array([[ 7.44160825,  0.91617219],\n",
       "        [ 7.46049558,  0.92357809]]), array([[ 7.46049558,  0.92357809],\n",
       "        [ 7.47938291,  0.93065452]]), array([[ 7.47938291,  0.93065452],\n",
       "        [ 7.49827024,  0.93739898]]), array([[ 7.49827024,  0.93739898],\n",
       "        [ 7.51715757,  0.94380904]]), array([[ 7.51715757,  0.94380904],\n",
       "        [ 7.5360449 ,  0.94988243]]), array([[ 7.5360449 ,  0.94988243],\n",
       "        [ 7.55493223,  0.95561698]]), array([[ 7.55493223,  0.95561698],\n",
       "        [ 7.57381956,  0.96101064]]), array([[ 7.57381956,  0.96101064],\n",
       "        [ 7.59270689,  0.96606148]]), array([[ 7.59270689,  0.96606148],\n",
       "        [ 7.61159422,  0.97076771]]), array([[ 7.61159422,  0.97076771],\n",
       "        [ 7.63048156,  0.97512765]]), array([[ 7.63048156,  0.97512765],\n",
       "        [ 7.64936889,  0.97913974]]), array([[ 7.64936889,  0.97913974],\n",
       "        [ 7.66825622,  0.98280255]]), array([[ 7.66825622,  0.98280255],\n",
       "        [ 7.68714355,  0.98611478]]), array([[ 7.68714355,  0.98611478],\n",
       "        [ 7.70603088,  0.98907524]]), array([[ 7.70603088,  0.98907524],\n",
       "        [ 7.72491821,  0.99168287]]), array([[ 7.72491821,  0.99168287],\n",
       "        [ 7.74380554,  0.99393675]]), array([[ 7.74380554,  0.99393675],\n",
       "        [ 7.76269287,  0.99583607]]), array([[ 7.76269287,  0.99583607],\n",
       "        [ 7.7815802 ,  0.99738016]]), array([[ 7.7815802 ,  0.99738016],\n",
       "        [ 7.80046753,  0.99856846]]), array([[ 7.80046753,  0.99856846],\n",
       "        [ 7.81935486,  0.99940055]]), array([[ 7.81935486,  0.99940055],\n",
       "        [ 7.83824219,  0.99987614]]), array([[ 7.83824219,  0.99987614],\n",
       "        [ 7.85712952,  0.99999505]]), array([[ 7.85712952,  0.99999505],\n",
       "        [ 7.87601685,  0.99975723]]), array([[ 7.87601685,  0.99975723],\n",
       "        [ 7.89490418,  0.99916279]]), array([[ 7.89490418,  0.99916279],\n",
       "        [ 7.91379151,  0.99821192]]), array([[ 7.91379151,  0.99821192],\n",
       "        [ 7.93267884,  0.99690497]]), array([[ 7.93267884,  0.99690497],\n",
       "        [ 7.95156618,  0.99524241]]), array([[ 7.95156618,  0.99524241],\n",
       "        [ 7.97045351,  0.99322482]]), array([[ 7.97045351,  0.99322482],\n",
       "        [ 7.98934084,  0.99085292]]), array([[ 7.98934084,  0.99085292],\n",
       "        [ 8.00822817,  0.98812757]]), array([[ 8.00822817,  0.98812757],\n",
       "        [ 8.0271155 ,  0.98504973]]), array([[ 8.0271155 ,  0.98504973],\n",
       "        [ 8.04600283,  0.98162051]]), array([[ 8.04600283,  0.98162051],\n",
       "        [ 8.06489016,  0.97784112]]), array([[ 8.06489016,  0.97784112],\n",
       "        [ 8.08377749,  0.97371292]]), array([[ 8.08377749,  0.97371292],\n",
       "        [ 8.10266482,  0.96923737]]), array([[ 8.10266482,  0.96923737],\n",
       "        [ 8.12155215,  0.96441607]]), array([[ 8.12155215,  0.96441607],\n",
       "        [ 8.14043948,  0.95925075]]), array([[ 8.14043948,  0.95925075],\n",
       "        [ 8.15932681,  0.95374324]]), array([[ 8.15932681,  0.95374324],\n",
       "        [ 8.17821414,  0.94789551]]), array([[ 8.17821414,  0.94789551],\n",
       "        [ 8.19710147,  0.94170965]]), array([[ 8.19710147,  0.94170965],\n",
       "        [ 8.2159888 ,  0.93518786]]), array([[ 8.2159888 ,  0.93518786],\n",
       "        [ 8.23487613,  0.92833248]]), array([[ 8.23487613,  0.92833248],\n",
       "        [ 8.25376346,  0.92114593]]), array([[ 8.25376346,  0.92114593],\n",
       "        [ 8.2726508 ,  0.91363079]]), array([[ 8.2726508 ,  0.91363079],\n",
       "        [ 8.29153813,  0.90578975]]), array([[ 8.29153813,  0.90578975],\n",
       "        [ 8.31042546,  0.89762559]]), array([[ 8.31042546,  0.89762559],\n",
       "        [ 8.32931279,  0.88914122]]), array([[ 8.32931279,  0.88914122],\n",
       "        [ 8.34820012,  0.88033969]]), array([[ 8.34820012,  0.88033969],\n",
       "        [ 8.36708745,  0.87122411]]), array([[ 8.36708745,  0.87122411],\n",
       "        [ 8.38597478,  0.86179776]]), array([[ 8.38597478,  0.86179776],\n",
       "        [ 8.40486211,  0.85206398]]), array([[ 8.40486211,  0.85206398],\n",
       "        [ 8.42374944,  0.84202625]]), array([[ 8.42374944,  0.84202625],\n",
       "        [ 8.44263677,  0.83168816]]), array([[ 8.44263677,  0.83168816],\n",
       "        [ 8.4615241 ,  0.82105338]]), array([[ 8.4615241 ,  0.82105338],\n",
       "        [ 8.48041143,  0.81012572]]), array([[ 8.48041143,  0.81012572],\n",
       "        [ 8.49929876,  0.79890907]]), array([[ 8.49929876,  0.79890907],\n",
       "        [ 8.51818609,  0.78740743]]), array([[ 8.51818609,  0.78740743],\n",
       "        [ 8.53707342,  0.77562491]]), array([[ 8.53707342,  0.77562491],\n",
       "        [ 8.55596075,  0.76356571]]), array([[ 8.55596075,  0.76356571],\n",
       "        [ 8.57484808,  0.75123412]]), array([[ 8.57484808,  0.75123412],\n",
       "        [ 8.59373542,  0.73863456]]), array([[ 8.59373542,  0.73863456],\n",
       "        [ 8.61262275,  0.72577151]]), array([[ 8.61262275,  0.72577151],\n",
       "        [ 8.63151008,  0.71264956]]), array([[ 8.63151008,  0.71264956],\n",
       "        [ 8.65039741,  0.6992734 ]]), array([[ 8.65039741,  0.6992734 ],\n",
       "        [ 8.66928474,  0.68564779]]), array([[ 8.66928474,  0.68564779],\n",
       "        [ 8.68817207,  0.67177759]]), array([[ 8.68817207,  0.67177759],\n",
       "        [ 8.7070594 ,  0.65766776]]), array([[ 8.7070594 ,  0.65766776],\n",
       "        [ 8.72594673,  0.64332332]]), array([[ 8.72594673,  0.64332332],\n",
       "        [ 8.74483406,  0.6287494 ]]), array([[ 8.74483406,  0.6287494 ],\n",
       "        [ 8.76372139,  0.61395119]]), array([[ 8.76372139,  0.61395119],\n",
       "        [ 8.78260872,  0.59893397]]), array([[ 8.78260872,  0.59893397],\n",
       "        [ 8.80149605,  0.5837031 ]]), array([[ 8.80149605,  0.5837031 ],\n",
       "        [ 8.82038338,  0.56826401]]), array([[ 8.82038338,  0.56826401],\n",
       "        [ 8.83927071,  0.55262221]]), array([[ 8.83927071,  0.55262221],\n",
       "        [ 8.85815804,  0.53678328]]), array([[ 8.85815804,  0.53678328],\n",
       "        [ 8.87704537,  0.52075286]]), array([[ 8.87704537,  0.52075286],\n",
       "        [ 8.8959327 ,  0.50453668]]), array([[ 8.8959327 ,  0.50453668],\n",
       "        [ 8.91482004,  0.48814053]]), array([[ 8.91482004,  0.48814053],\n",
       "        [ 8.93370737,  0.47157024]]), array([[ 8.93370737,  0.47157024],\n",
       "        [ 8.9525947 ,  0.45483173]]), array([[ 8.9525947 ,  0.45483173],\n",
       "        [ 8.97148203,  0.43793098]]), array([[ 8.97148203,  0.43793098],\n",
       "        [ 8.99036936,  0.42087401]]), array([[ 8.99036936,  0.42087401],\n",
       "        [ 9.00925669,  0.4036669 ]]), array([[ 9.00925669,  0.4036669 ],\n",
       "        [ 9.02814402,  0.3863158 ]]), array([[ 9.02814402,  0.3863158 ],\n",
       "        [ 9.04703135,  0.36882689]]), array([[ 9.04703135,  0.36882689],\n",
       "        [ 9.06591868,  0.35120641]]), array([[ 9.06591868,  0.35120641],\n",
       "        [ 9.08480601,  0.33346065]]), array([[ 9.08480601,  0.33346065],\n",
       "        [ 9.10369334,  0.31559594]]), array([[ 9.10369334,  0.31559594],\n",
       "        [ 9.12258067,  0.29761864]]), array([[ 9.12258067,  0.29761864],\n",
       "        [ 9.141468  ,  0.27953518]]), array([[ 9.141468  ,  0.27953518],\n",
       "        [ 9.16035533,  0.26135201]]), array([[ 9.16035533,  0.26135201],\n",
       "        [ 9.17924266,  0.2430756 ]]), array([[ 9.17924266,  0.2430756 ],\n",
       "        [ 9.19812999,  0.22471249]]), array([[ 9.19812999,  0.22471249],\n",
       "        [ 9.21701732,  0.20626921]]), array([[ 9.21701732,  0.20626921],\n",
       "        [ 9.23590465,  0.18775236]]), array([[ 9.23590465,  0.18775236],\n",
       "        [ 9.25479199,  0.16916853]]), array([[ 9.25479199,  0.16916853],\n",
       "        [ 9.27367932,  0.15052435]]), array([[ 9.27367932,  0.15052435],\n",
       "        [ 9.29256665,  0.13182648]]), array([[ 9.29256665,  0.13182648],\n",
       "        [ 9.31145398,  0.11308158]]), array([[ 9.31145398,  0.11308158],\n",
       "        [ 9.33034131,  0.09429635]]), array([[ 9.33034131,  0.09429635],\n",
       "        [ 9.34922864,  0.07547747]]), array([[ 9.34922864,  0.07547747],\n",
       "        [ 9.36811597,  0.05663168]]), array([[ 9.36811597,  0.05663168],\n",
       "        [ 9.3870033 ,  0.03776568]]), array([[ 9.3870033 ,  0.03776568],\n",
       "        [ 9.40589063,  0.01888621]]), array([[  9.40589063e+00,   1.88862077e-02],\n",
       "        [  9.42477796e+00,   3.67394040e-16]])]"
      ]
     },
     "execution_count": 313,
     "metadata": {},
     "output_type": "execute_result"
    }
   ],
   "source": [
    "lc.get_segments()\n"
   ]
  },
  {
   "cell_type": "code",
   "execution_count": 264,
   "metadata": {},
   "outputs": [
    {
     "name": "stdout",
     "output_type": "stream",
     "text": [
      "better: [9.3333333333333339, 7.0, 7.333333333333333, 8.0, 8.0]\n",
      "[1, 1, 1, 1, 1] \n",
      "\n",
      "better: [8.0, 5.0]\n",
      "[1, 1] \n",
      "\n",
      "worse: [4.666666666666667, 8.6666666666666661, 4.333333333333333, 5.0, 3.3333333333333335, 3.6666666666666665, 5.0]\n",
      "[1, 1, 1, 1, 1, 1, -1] \n",
      "\n",
      "worse: [1.0, 2.0, 4.0]\n",
      "[1, 1, 1] \n",
      "\n",
      "worse: [5.0, 7.333333333333333, 8.5]\n",
      "[1, 1, 1] \n",
      "\n",
      "worse: [5.333333333333333, 7.333333333333333, 8.0, 12.0]\n",
      "[1, 1, -1, 1] \n",
      "\n",
      "worse: [5.0, 5.0, 6.333333333333333, 9.0]\n",
      "[1, 1, -1, 1] \n",
      "\n",
      "better: [4.333333333333333, 3.6666666666666665, 2.6666666666666665, 2.0, 4.0]\n",
      "[1, -1, 1, 1, 1] \n",
      "\n",
      "worse: [3.3333333333333335, 2.0, 2.0, 4.0]\n",
      "[1, 1, -1, 1] \n",
      "\n",
      "better: [14.0, 14.333333333333334, 12.0, 11.333333333333334, 11.0]\n",
      "[-1, 1, 1, 1, 1] \n",
      "\n"
     ]
    }
   ],
   "source": [
    "max_episodes = len(test_episodes)\n",
    "n_episodes = 10\n",
    "time_window = 3\n",
    "\n",
    "for name, transitions in test_episodes:\n",
    "    episode_len = len(transitions['phy'].tolist())\n",
    "    SOFA = transitions.SOFA.tolist()\n",
    "    kernel = transitions['kernel'].tolist()\n",
    "    dqn = transitions['dqn'].tolist()\n",
    "    moe = transitions['moe'].tolist()\n",
    "\n",
    "    SOFA_by_12hr = []\n",
    "    expert_by_12hr = []\n",
    "    trend = []\n",
    "    \n",
    "    for start in range(0,episode_len,time_window):\n",
    "        SOFA_by_12hr.append(np.mean(SOFA[start:start+3]) )\n",
    "        pct_kernel = numDups(kernel[start:start+3],moe[start:start+time_window]) / time_window\n",
    "        pct_dqn = numDups(dqn[start:start+time_window],moe[start:start+time_window]) / time_window\n",
    "        if pct_kernel > pct_dqn:\n",
    "            expert_by_12hr.append(1)\n",
    "        else:\n",
    "            expert_by_12hr.append(-1)\n",
    "    if SOFA_by_12hr[0] > SOFA_by_12hr[-1]:\n",
    "        print(\"better: \",end=\"\")\n",
    "    else:\n",
    "        print(\"worse: \",end=\"\")\n",
    "        \n",
    "    print(SOFA_by_12hr)\n",
    "    print(expert_by_12hr,'\\n')\n",
    "    n_episodes -= 1\n",
    "    if n_episodes == 0:\n",
    "        break\n",
    "\n"
   ]
  },
  {
   "cell_type": "markdown",
   "metadata": {},
   "source": [
    "### Exploration of MoE action that does not correspond to either expert"
   ]
  },
  {
   "cell_type": "code",
   "execution_count": 83,
   "metadata": {},
   "outputs": [
    {
     "data": {
      "text/plain": [
       "0.01771152175873657"
      ]
     },
     "execution_count": 83,
     "metadata": {},
     "output_type": "execute_result"
    }
   ],
   "source": [
    "np.mean(test_set.reward)"
   ]
  },
  {
   "cell_type": "code",
   "execution_count": 45,
   "metadata": {},
   "outputs": [],
   "source": [
    "diff_moe = test_set[(test_set.moe != test_set.phy) & \n",
    "                    (test_set.moe != test_set.kernel) & \n",
    "                    (test_set.moe != test_set.dqn)]"
   ]
  },
  {
   "cell_type": "code",
   "execution_count": 74,
   "metadata": {},
   "outputs": [
    {
     "name": "stdout",
     "output_type": "stream",
     "text": [
      "4.37% when MOE is new\n"
     ]
    }
   ],
   "source": [
    "print(\"{0:.2f}% when MOE is new\".format(len(diff_moe)/len(test_set)*100.))"
   ]
  },
  {
   "cell_type": "code",
   "execution_count": 70,
   "metadata": {},
   "outputs": [
    {
     "name": "stdout",
     "output_type": "stream",
     "text": [
      "Mean SOFA when MOE is new: 6.644594594594595\n",
      "Mean dist when MOE is new: 2.0130234650075804\n"
     ]
    }
   ],
   "source": [
    "print(\"Mean SOFA when MOE is new:\",np.mean(diff_moe.SOFA))\n",
    "print(\"Mean dist when MOE is new:\",np.mean(diff_moe.dist))"
   ]
  },
  {
   "cell_type": "code",
   "execution_count": 56,
   "metadata": {},
   "outputs": [
    {
     "data": {
      "image/png": "[encoded data removed]",
      "text/plain": [
       "<matplotlib.figure.Figure at 0x114d54e80>"
      ]
     },
     "metadata": {},
     "output_type": "display_data"
    }
   ],
   "source": [
    "show_hist(diff_moe,'dist')"
   ]
  },
  {
   "cell_type": "code",
   "execution_count": 57,
   "metadata": {},
   "outputs": [
    {
     "data": {
      "image/png": "[encoded data removed]",
      "text/plain": [
       "<matplotlib.figure.Figure at 0x107d244e0>"
      ]
     },
     "metadata": {},
     "output_type": "display_data"
    }
   ],
   "source": [
    "show_hist(test_set,'dist')"
   ]
  },
  {
   "cell_type": "code",
   "execution_count": 58,
   "metadata": {},
   "outputs": [
    {
     "data": {
      "image/png": "[encoded data removed]",
      "text/plain": [
       "<matplotlib.figure.Figure at 0x1170c5d30>"
      ]
     },
     "metadata": {},
     "output_type": "display_data"
    }
   ],
   "source": [
    "show_hist(diff_moe,'SOFA')"
   ]
  },
  {
   "cell_type": "code",
   "execution_count": 59,
   "metadata": {},
   "outputs": [
    {
     "data": {
      "image/png": "[encoded data removed]",
      "text/plain": [
       "<matplotlib.figure.Figure at 0x11263b940>"
      ]
     },
     "metadata": {},
     "output_type": "display_data"
    }
   ],
   "source": [
    "show_hist(test_set,'SOFA')"
   ]
  },
  {
   "cell_type": "code",
   "execution_count": 251,
   "metadata": {},
   "outputs": [
    {
     "data": {
      "text/html": [
       "<div>\n",
       "<style>\n",
       "    .dataframe thead tr:only-child th {\n",
       "        text-align: right;\n",
       "    }\n",
       "\n",
       "    .dataframe thead th {\n",
       "        text-align: left;\n",
       "    }\n",
       "\n",
       "    .dataframe tbody tr th {\n",
       "        vertical-align: top;\n",
       "    }\n",
       "</style>\n",
       "<table border=\"1\" class=\"dataframe\">\n",
       "  <thead>\n",
       "    <tr style=\"text-align: right;\">\n",
       "      <th></th>\n",
       "      <th>bloc</th>\n",
       "      <th>icustayid</th>\n",
       "      <th>charttime</th>\n",
       "      <th>gender</th>\n",
       "      <th>age</th>\n",
       "      <th>elixhauser</th>\n",
       "      <th>re_admission</th>\n",
       "      <th>SOFA</th>\n",
       "      <th>SIRS</th>\n",
       "      <th>Weight_kg</th>\n",
       "      <th>...</th>\n",
       "      <th>rrt</th>\n",
       "      <th>died_in_hosp</th>\n",
       "      <th>mortality_90d</th>\n",
       "      <th>traj_len</th>\n",
       "      <th>dist</th>\n",
       "      <th>reward</th>\n",
       "      <th>kernel</th>\n",
       "      <th>dqn</th>\n",
       "      <th>moe</th>\n",
       "      <th>phy</th>\n",
       "    </tr>\n",
       "  </thead>\n",
       "  <tbody>\n",
       "    <tr>\n",
       "      <th>143</th>\n",
       "      <td>9.0</td>\n",
       "      <td>322.0</td>\n",
       "      <td>6.257963e+09</td>\n",
       "      <td>1.0</td>\n",
       "      <td>20129.622975</td>\n",
       "      <td>3.0</td>\n",
       "      <td>0.0</td>\n",
       "      <td>5.0</td>\n",
       "      <td>1.0</td>\n",
       "      <td>62.293749</td>\n",
       "      <td>...</td>\n",
       "      <td>0.0</td>\n",
       "      <td>0.0</td>\n",
       "      <td>0.0</td>\n",
       "      <td>9.0</td>\n",
       "      <td>1.716186</td>\n",
       "      <td>-0.834654</td>\n",
       "      <td>5.0</td>\n",
       "      <td>0.0</td>\n",
       "      <td>15.0</td>\n",
       "      <td>0.0</td>\n",
       "    </tr>\n",
       "    <tr>\n",
       "      <th>204</th>\n",
       "      <td>11.0</td>\n",
       "      <td>569.0</td>\n",
       "      <td>4.773726e+09</td>\n",
       "      <td>0.0</td>\n",
       "      <td>19546.066331</td>\n",
       "      <td>2.0</td>\n",
       "      <td>0.0</td>\n",
       "      <td>7.0</td>\n",
       "      <td>2.0</td>\n",
       "      <td>67.000000</td>\n",
       "      <td>...</td>\n",
       "      <td>0.0</td>\n",
       "      <td>1.0</td>\n",
       "      <td>1.0</td>\n",
       "      <td>11.0</td>\n",
       "      <td>1.738490</td>\n",
       "      <td>0.060549</td>\n",
       "      <td>10.0</td>\n",
       "      <td>0.0</td>\n",
       "      <td>5.0</td>\n",
       "      <td>15.0</td>\n",
       "    </tr>\n",
       "    <tr>\n",
       "      <th>265</th>\n",
       "      <td>6.0</td>\n",
       "      <td>664.0</td>\n",
       "      <td>5.162264e+09</td>\n",
       "      <td>0.0</td>\n",
       "      <td>26329.806088</td>\n",
       "      <td>4.0</td>\n",
       "      <td>1.0</td>\n",
       "      <td>5.0</td>\n",
       "      <td>1.0</td>\n",
       "      <td>62.900000</td>\n",
       "      <td>...</td>\n",
       "      <td>0.0</td>\n",
       "      <td>0.0</td>\n",
       "      <td>0.0</td>\n",
       "      <td>6.0</td>\n",
       "      <td>1.578996</td>\n",
       "      <td>0.601172</td>\n",
       "      <td>5.0</td>\n",
       "      <td>0.0</td>\n",
       "      <td>15.0</td>\n",
       "      <td>20.0</td>\n",
       "    </tr>\n",
       "    <tr>\n",
       "      <th>266</th>\n",
       "      <td>7.0</td>\n",
       "      <td>664.0</td>\n",
       "      <td>5.162278e+09</td>\n",
       "      <td>0.0</td>\n",
       "      <td>26329.806088</td>\n",
       "      <td>4.0</td>\n",
       "      <td>1.0</td>\n",
       "      <td>3.0</td>\n",
       "      <td>0.0</td>\n",
       "      <td>62.900000</td>\n",
       "      <td>...</td>\n",
       "      <td>0.0</td>\n",
       "      <td>0.0</td>\n",
       "      <td>0.0</td>\n",
       "      <td>7.0</td>\n",
       "      <td>1.595791</td>\n",
       "      <td>-0.436361</td>\n",
       "      <td>5.0</td>\n",
       "      <td>15.0</td>\n",
       "      <td>0.0</td>\n",
       "      <td>15.0</td>\n",
       "    </tr>\n",
       "    <tr>\n",
       "      <th>319</th>\n",
       "      <td>12.0</td>\n",
       "      <td>708.0</td>\n",
       "      <td>5.789963e+09</td>\n",
       "      <td>1.0</td>\n",
       "      <td>16351.442350</td>\n",
       "      <td>2.0</td>\n",
       "      <td>0.0</td>\n",
       "      <td>4.0</td>\n",
       "      <td>3.0</td>\n",
       "      <td>73.200000</td>\n",
       "      <td>...</td>\n",
       "      <td>0.0</td>\n",
       "      <td>0.0</td>\n",
       "      <td>0.0</td>\n",
       "      <td>11.0</td>\n",
       "      <td>2.116907</td>\n",
       "      <td>0.050896</td>\n",
       "      <td>20.0</td>\n",
       "      <td>24.0</td>\n",
       "      <td>15.0</td>\n",
       "      <td>20.0</td>\n",
       "    </tr>\n",
       "  </tbody>\n",
       "</table>\n",
       "<p>5 rows × 66 columns</p>\n",
       "</div>"
      ],
      "text/plain": [
       "     bloc  icustayid     charttime  gender           age  elixhauser  \\\n",
       "143   9.0      322.0  6.257963e+09     1.0  20129.622975         3.0   \n",
       "204  11.0      569.0  4.773726e+09     0.0  19546.066331         2.0   \n",
       "265   6.0      664.0  5.162264e+09     0.0  26329.806088         4.0   \n",
       "266   7.0      664.0  5.162278e+09     0.0  26329.806088         4.0   \n",
       "319  12.0      708.0  5.789963e+09     1.0  16351.442350         2.0   \n",
       "\n",
       "     re_admission  SOFA  SIRS  Weight_kg  ...   rrt  died_in_hosp  \\\n",
       "143           0.0   5.0   1.0  62.293749  ...   0.0           0.0   \n",
       "204           0.0   7.0   2.0  67.000000  ...   0.0           1.0   \n",
       "265           1.0   5.0   1.0  62.900000  ...   0.0           0.0   \n",
       "266           1.0   3.0   0.0  62.900000  ...   0.0           0.0   \n",
       "319           0.0   4.0   3.0  73.200000  ...   0.0           0.0   \n",
       "\n",
       "     mortality_90d  traj_len      dist    reward  kernel   dqn   moe   phy  \n",
       "143            0.0       9.0  1.716186 -0.834654     5.0   0.0  15.0   0.0  \n",
       "204            1.0      11.0  1.738490  0.060549    10.0   0.0   5.0  15.0  \n",
       "265            0.0       6.0  1.578996  0.601172     5.0   0.0  15.0  20.0  \n",
       "266            0.0       7.0  1.595791 -0.436361     5.0  15.0   0.0  15.0  \n",
       "319            0.0      11.0  2.116907  0.050896    20.0  24.0  15.0  20.0  \n",
       "\n",
       "[5 rows x 66 columns]"
      ]
     },
     "execution_count": 251,
     "metadata": {},
     "output_type": "execute_result"
    }
   ],
   "source": [
    "diff_moe.head()"
   ]
  },
  {
   "cell_type": "markdown",
   "metadata": {},
   "source": [
    "### Cohort Data"
   ]
  },
  {
   "cell_type": "code",
   "execution_count": 327,
   "metadata": {
    "collapsed": true
   },
   "outputs": [],
   "source": [
    "train_set = pd.read_csv(\"origin_train_clean.csv\")"
   ]
  },
  {
   "cell_type": "code",
   "execution_count": 328,
   "metadata": {},
   "outputs": [
    {
     "data": {
      "text/plain": [
       "150741"
      ]
     },
     "execution_count": 328,
     "metadata": {},
     "output_type": "execute_result"
    }
   ],
   "source": [
    "len(train_set)"
   ]
  },
  {
   "cell_type": "code",
   "execution_count": 358,
   "metadata": {
    "collapsed": true
   },
   "outputs": [],
   "source": [
    "train_set_grp = train_set.groupby('icustayid')"
   ]
  },
  {
   "cell_type": "code",
   "execution_count": 317,
   "metadata": {},
   "outputs": [
    {
     "data": {
      "text/plain": [
       "11560"
      ]
     },
     "execution_count": 317,
     "metadata": {},
     "output_type": "execute_result"
    }
   ],
   "source": [
    "len(train_set_grp)"
   ]
  },
  {
   "cell_type": "code",
   "execution_count": 318,
   "metadata": {},
   "outputs": [
    {
     "data": {
      "text/plain": [
       "3851"
      ]
     },
     "execution_count": 318,
     "metadata": {},
     "output_type": "execute_result"
    }
   ],
   "source": [
    "len(test_episodes)"
   ]
  },
  {
   "cell_type": "code",
   "execution_count": 319,
   "metadata": {},
   "outputs": [
    {
     "data": {
      "text/plain": [
       "0.24988644474725846"
      ]
     },
     "execution_count": 319,
     "metadata": {},
     "output_type": "execute_result"
    }
   ],
   "source": [
    "3851 / (11560+3851)"
   ]
  },
  {
   "cell_type": "code",
   "execution_count": 320,
   "metadata": {},
   "outputs": [
    {
     "data": {
      "text/plain": [
       "15411"
      ]
     },
     "execution_count": 320,
     "metadata": {},
     "output_type": "execute_result"
    }
   ],
   "source": [
    "11560+3851"
   ]
  },
  {
   "cell_type": "code",
   "execution_count": 324,
   "metadata": {},
   "outputs": [
    {
     "data": {
      "text/plain": [
       "array(['Unnamed: 0', 'bloc', 'icustayid', 'gender', 'age', 'elixhauser',\n",
       "       're_admission', 'SOFA', 'SIRS', 'Weight_kg', 'GCS', 'HR', 'SysBP',\n",
       "       'MeanBP', 'DiaBP', 'Shock_Index', 'RR', 'SpO2', 'Temp_C', 'FiO2_1',\n",
       "       'Potassium', 'Sodium', 'Chloride', 'Glucose', 'BUN', 'Creatinine',\n",
       "       'Magnesium', 'Calcium', 'Ionised_Ca', 'CO2_mEqL', 'SGOT', 'SGPT',\n",
       "       'Total_bili', 'Albumin', 'Hb', 'WBC_count', 'Platelets_count',\n",
       "       'PTT', 'PT', 'INR', 'Arterial_pH', 'paO2', 'paCO2', 'Arterial_BE',\n",
       "       'Arterial_lactate', 'HCO3', 'PaO2_FiO2', 'median_dose_vaso',\n",
       "       'max_dose_vaso', 'input_total_tev', 'input_4hourly_tev',\n",
       "       'output_total', 'output_4hourly', 'cumulated_balance_tev',\n",
       "       'sedation', 'mechvent', 'rrt', 'died_in_hosp', 'mortality_90d',\n",
       "       'reward', 'vaso_input', 'iv_input', 'neg_mortality_logodds'], dtype=object)"
      ]
     },
     "execution_count": 324,
     "metadata": {},
     "output_type": "execute_result"
    }
   ],
   "source": [
    "train_set.columns.values"
   ]
  },
  {
   "cell_type": "code",
   "execution_count": 330,
   "metadata": {},
   "outputs": [
    {
     "data": {
      "text/plain": [
       "18.075649162166954"
      ]
     },
     "execution_count": 330,
     "metadata": {},
     "output_type": "execute_result"
    }
   ],
   "source": [
    "min(train_set.age) / 365.25"
   ]
  },
  {
   "cell_type": "code",
   "execution_count": 332,
   "metadata": {},
   "outputs": [
    {
     "data": {
      "text/plain": [
       "91.399999999999991"
      ]
     },
     "execution_count": 332,
     "metadata": {},
     "output_type": "execute_result"
    }
   ],
   "source": [
    "max(train_set.age) / 365.25"
   ]
  },
  {
   "cell_type": "code",
   "execution_count": 333,
   "metadata": {},
   "outputs": [
    {
     "data": {
      "text/html": [
       "<div>\n",
       "<style>\n",
       "    .dataframe thead tr:only-child th {\n",
       "        text-align: right;\n",
       "    }\n",
       "\n",
       "    .dataframe thead th {\n",
       "        text-align: left;\n",
       "    }\n",
       "\n",
       "    .dataframe tbody tr th {\n",
       "        vertical-align: top;\n",
       "    }\n",
       "</style>\n",
       "<table border=\"1\" class=\"dataframe\">\n",
       "  <thead>\n",
       "    <tr style=\"text-align: right;\">\n",
       "      <th></th>\n",
       "      <th>bloc</th>\n",
       "      <th>icustayid</th>\n",
       "      <th>charttime</th>\n",
       "      <th>gender</th>\n",
       "      <th>age</th>\n",
       "      <th>elixhauser</th>\n",
       "      <th>re_admission</th>\n",
       "      <th>SOFA</th>\n",
       "      <th>SIRS</th>\n",
       "      <th>Weight_kg</th>\n",
       "      <th>...</th>\n",
       "      <th>input_total_tev</th>\n",
       "      <th>input_4hourly_tev</th>\n",
       "      <th>output_total</th>\n",
       "      <th>output_4hourly</th>\n",
       "      <th>cumulated_balance_tev</th>\n",
       "      <th>sedation</th>\n",
       "      <th>mechvent</th>\n",
       "      <th>rrt</th>\n",
       "      <th>died_in_hosp</th>\n",
       "      <th>mortality_90d</th>\n",
       "    </tr>\n",
       "  </thead>\n",
       "  <tbody>\n",
       "    <tr>\n",
       "      <th>0</th>\n",
       "      <td>1.0</td>\n",
       "      <td>12.0</td>\n",
       "      <td>5.805744e+09</td>\n",
       "      <td>1.0</td>\n",
       "      <td>12049.217303</td>\n",
       "      <td>0.0</td>\n",
       "      <td>0.0</td>\n",
       "      <td>7.0</td>\n",
       "      <td>1.0</td>\n",
       "      <td>51.200001</td>\n",
       "      <td>...</td>\n",
       "      <td>0.0</td>\n",
       "      <td>0.0</td>\n",
       "      <td>0.0</td>\n",
       "      <td>0.0</td>\n",
       "      <td>0.0</td>\n",
       "      <td>0.0</td>\n",
       "      <td>0.0</td>\n",
       "      <td>0.0</td>\n",
       "      <td>0.0</td>\n",
       "      <td>0.0</td>\n",
       "    </tr>\n",
       "    <tr>\n",
       "      <th>1</th>\n",
       "      <td>2.0</td>\n",
       "      <td>12.0</td>\n",
       "      <td>5.805758e+09</td>\n",
       "      <td>1.0</td>\n",
       "      <td>12049.217303</td>\n",
       "      <td>0.0</td>\n",
       "      <td>0.0</td>\n",
       "      <td>3.0</td>\n",
       "      <td>2.0</td>\n",
       "      <td>51.200001</td>\n",
       "      <td>...</td>\n",
       "      <td>0.0</td>\n",
       "      <td>0.0</td>\n",
       "      <td>650.0</td>\n",
       "      <td>650.0</td>\n",
       "      <td>-650.0</td>\n",
       "      <td>0.0</td>\n",
       "      <td>0.0</td>\n",
       "      <td>0.0</td>\n",
       "      <td>0.0</td>\n",
       "      <td>0.0</td>\n",
       "    </tr>\n",
       "    <tr>\n",
       "      <th>2</th>\n",
       "      <td>3.0</td>\n",
       "      <td>12.0</td>\n",
       "      <td>5.805773e+09</td>\n",
       "      <td>1.0</td>\n",
       "      <td>12049.217303</td>\n",
       "      <td>0.0</td>\n",
       "      <td>0.0</td>\n",
       "      <td>2.0</td>\n",
       "      <td>2.0</td>\n",
       "      <td>51.200001</td>\n",
       "      <td>...</td>\n",
       "      <td>0.0</td>\n",
       "      <td>0.0</td>\n",
       "      <td>1200.0</td>\n",
       "      <td>550.0</td>\n",
       "      <td>-1200.0</td>\n",
       "      <td>0.0</td>\n",
       "      <td>0.0</td>\n",
       "      <td>0.0</td>\n",
       "      <td>0.0</td>\n",
       "      <td>0.0</td>\n",
       "    </tr>\n",
       "    <tr>\n",
       "      <th>3</th>\n",
       "      <td>4.0</td>\n",
       "      <td>12.0</td>\n",
       "      <td>5.805787e+09</td>\n",
       "      <td>1.0</td>\n",
       "      <td>12049.217303</td>\n",
       "      <td>0.0</td>\n",
       "      <td>0.0</td>\n",
       "      <td>5.0</td>\n",
       "      <td>2.0</td>\n",
       "      <td>51.200001</td>\n",
       "      <td>...</td>\n",
       "      <td>0.0</td>\n",
       "      <td>0.0</td>\n",
       "      <td>1200.0</td>\n",
       "      <td>0.0</td>\n",
       "      <td>-1200.0</td>\n",
       "      <td>0.0</td>\n",
       "      <td>0.0</td>\n",
       "      <td>0.0</td>\n",
       "      <td>0.0</td>\n",
       "      <td>0.0</td>\n",
       "    </tr>\n",
       "    <tr>\n",
       "      <th>4</th>\n",
       "      <td>1.0</td>\n",
       "      <td>14.0</td>\n",
       "      <td>4.264269e+09</td>\n",
       "      <td>0.0</td>\n",
       "      <td>30946.970000</td>\n",
       "      <td>2.0</td>\n",
       "      <td>0.0</td>\n",
       "      <td>5.0</td>\n",
       "      <td>2.0</td>\n",
       "      <td>56.872728</td>\n",
       "      <td>...</td>\n",
       "      <td>1300.0</td>\n",
       "      <td>1300.0</td>\n",
       "      <td>340.0</td>\n",
       "      <td>160.0</td>\n",
       "      <td>960.0</td>\n",
       "      <td>1.0</td>\n",
       "      <td>1.0</td>\n",
       "      <td>0.0</td>\n",
       "      <td>0.0</td>\n",
       "      <td>1.0</td>\n",
       "    </tr>\n",
       "  </tbody>\n",
       "</table>\n",
       "<p>5 rows × 59 columns</p>\n",
       "</div>"
      ],
      "text/plain": [
       "   bloc  icustayid     charttime  gender           age  elixhauser  \\\n",
       "0   1.0       12.0  5.805744e+09     1.0  12049.217303         0.0   \n",
       "1   2.0       12.0  5.805758e+09     1.0  12049.217303         0.0   \n",
       "2   3.0       12.0  5.805773e+09     1.0  12049.217303         0.0   \n",
       "3   4.0       12.0  5.805787e+09     1.0  12049.217303         0.0   \n",
       "4   1.0       14.0  4.264269e+09     0.0  30946.970000         2.0   \n",
       "\n",
       "   re_admission  SOFA  SIRS  Weight_kg      ...        input_total_tev  \\\n",
       "0           0.0   7.0   1.0  51.200001      ...                    0.0   \n",
       "1           0.0   3.0   2.0  51.200001      ...                    0.0   \n",
       "2           0.0   2.0   2.0  51.200001      ...                    0.0   \n",
       "3           0.0   5.0   2.0  51.200001      ...                    0.0   \n",
       "4           0.0   5.0   2.0  56.872728      ...                 1300.0   \n",
       "\n",
       "   input_4hourly_tev  output_total  output_4hourly  cumulated_balance_tev  \\\n",
       "0                0.0           0.0             0.0                    0.0   \n",
       "1                0.0         650.0           650.0                 -650.0   \n",
       "2                0.0        1200.0           550.0                -1200.0   \n",
       "3                0.0        1200.0             0.0                -1200.0   \n",
       "4             1300.0         340.0           160.0                  960.0   \n",
       "\n",
       "   sedation  mechvent  rrt  died_in_hosp  mortality_90d  \n",
       "0       0.0       0.0  0.0           0.0            0.0  \n",
       "1       0.0       0.0  0.0           0.0            0.0  \n",
       "2       0.0       0.0  0.0           0.0            0.0  \n",
       "3       0.0       0.0  0.0           0.0            0.0  \n",
       "4       1.0       1.0  0.0           0.0            1.0  \n",
       "\n",
       "[5 rows x 59 columns]"
      ]
     },
     "execution_count": 333,
     "metadata": {},
     "output_type": "execute_result"
    }
   ],
   "source": [
    "train_set.head()"
   ]
  },
  {
   "cell_type": "code",
   "execution_count": 375,
   "metadata": {
    "collapsed": true
   },
   "outputs": [],
   "source": [
    "def group_totals(df, field):\n",
    "    nonzero = 0\n",
    "    zero = 0\n",
    "    for name, group in df:\n",
    "        if group[field].tolist()[0] != 0.0:\n",
    "            nonzero += 1\n",
    "        else:\n",
    "            zero += 1\n",
    "    return (zero, nonzero)"
   ]
  },
  {
   "cell_type": "code",
   "execution_count": 376,
   "metadata": {},
   "outputs": [
    {
     "data": {
      "text/plain": [
       "(6441, 5123)"
      ]
     },
     "execution_count": 376,
     "metadata": {},
     "output_type": "execute_result"
    }
   ],
   "source": [
    "# train set males vs female \n",
    "group_totals(train_set_grp,'gender')"
   ]
  },
  {
   "cell_type": "code",
   "execution_count": 377,
   "metadata": {},
   "outputs": [
    {
     "data": {
      "text/plain": [
       "(2177, 1674)"
      ]
     },
     "execution_count": 377,
     "metadata": {},
     "output_type": "execute_result"
    }
   ],
   "source": [
    "# test set males vs female \n",
    "group_totals(test_episodes,'gender')"
   ]
  },
  {
   "cell_type": "code",
   "execution_count": 378,
   "metadata": {},
   "outputs": [
    {
     "data": {
      "text/plain": [
       "(10157, 1407)"
      ]
     },
     "execution_count": 378,
     "metadata": {},
     "output_type": "execute_result"
    }
   ],
   "source": [
    "# train_set died in hospital, lived vs died\n",
    "group_totals(train_set_grp,'died_in_hosp')\n"
   ]
  },
  {
   "cell_type": "code",
   "execution_count": 379,
   "metadata": {},
   "outputs": [
    {
     "data": {
      "text/plain": [
       "(3378, 473)"
      ]
     },
     "execution_count": 379,
     "metadata": {},
     "output_type": "execute_result"
    }
   ],
   "source": [
    "# train_set died in hospital, lived vs died\n",
    "group_totals(test_episodes,'died_in_hosp')\n"
   ]
  },
  {
   "cell_type": "markdown",
   "metadata": {},
   "source": [
    "#### subset survivors vs. non-survivors"
   ]
  },
  {
   "cell_type": "code",
   "execution_count": 383,
   "metadata": {},
   "outputs": [
    {
     "data": {
      "text/plain": [
       "(781, 626)"
      ]
     },
     "execution_count": 383,
     "metadata": {},
     "output_type": "execute_result"
    }
   ],
   "source": [
    "# did not survive, train set: gender m vs f\n",
    "df = train_set[train_set.died_in_hosp != 0.0]\n",
    "df_grp = df.groupby('icustayid')\n",
    "group_totals(df_grp,'gender')"
   ]
  },
  {
   "cell_type": "code",
   "execution_count": 384,
   "metadata": {},
   "outputs": [
    {
     "data": {
      "text/plain": [
       "(5660, 4497)"
      ]
     },
     "execution_count": 384,
     "metadata": {},
     "output_type": "execute_result"
    }
   ],
   "source": [
    "# survived, test set: gender m vs f\n",
    "df = train_set[train_set.died_in_hosp == 0.0]\n",
    "df_grp = df.groupby('icustayid')\n",
    "group_totals(df_grp,'gender')"
   ]
  },
  {
   "cell_type": "code",
   "execution_count": 385,
   "metadata": {},
   "outputs": [
    {
     "data": {
      "text/plain": [
       "(266, 207)"
      ]
     },
     "execution_count": 385,
     "metadata": {},
     "output_type": "execute_result"
    }
   ],
   "source": [
    "# did not survive, test set: gender m vs f\n",
    "df = test_set[test_set.died_in_hosp != 0.0]\n",
    "df_grp = df.groupby('icustayid')\n",
    "group_totals(df_grp,'gender')"
   ]
  },
  {
   "cell_type": "code",
   "execution_count": 386,
   "metadata": {},
   "outputs": [
    {
     "data": {
      "text/plain": [
       "(1911, 1467)"
      ]
     },
     "execution_count": 386,
     "metadata": {},
     "output_type": "execute_result"
    }
   ],
   "source": [
    "#  survived, test set: gender m vs f\n",
    "df = test_set[test_set.died_in_hosp == 0.0]\n",
    "df_grp = df.groupby('icustayid')\n",
    "group_totals(df_grp,'gender')"
   ]
  },
  {
   "cell_type": "code",
   "execution_count": 391,
   "metadata": {},
   "outputs": [
    {
     "name": "stdout",
     "output_type": "stream",
     "text": [
      "percent survived females: 0.4406353897303288\n",
      "total survived 13535\n",
      "percent nonsurviving females: 0.4430851063829787\n",
      "total nonsurvived: 1880\n",
      "grand total: 15415\n"
     ]
    }
   ],
   "source": [
    "# survived females percentage:\n",
    "survived_total = 5660 + 4497 + 1911 + 1467\n",
    "survived_females = 4497 + 1467\n",
    "print (\"percent survived females:\", survived_females / survived_total)\n",
    "print (\"total survived\", survived_total)\n",
    "nonsurvive_total = 781 + 626 + 266 + 207\n",
    "nonsurvived_females = 626+207\n",
    "print (\"percent nonsurviving females:\",nonsurvived_females / nonsurvive_total)\n",
    "print (\"total nonsurvived:\", nonsurvive_total)\n",
    "print (\"grand total:\",survived_total + nonsurvive_total)"
   ]
  },
  {
   "cell_type": "code",
   "execution_count": 394,
   "metadata": {},
   "outputs": [],
   "source": [
    "# mean age\n",
    "survivor_ages = []\n",
    "nonsurvivor_ages = []\n",
    "\n",
    "df = train_set[train_set.died_in_hosp != 0.0]\n",
    "df_grp = df.groupby('icustayid')\n",
    "for name, group in df_grp:\n",
    "    nonsurvivor_ages.append(group.age.tolist()[0] // 365.25)\n",
    "\n",
    "df = test_set[train_set.died_in_hosp != 0.0]\n",
    "df_grp = df.groupby('icustayid')\n",
    "for name, group in df_grp:\n",
    "    nonsurvivor_ages.append(group.age.tolist()[0] // 365.25)\n",
    "\n",
    "df = train_set[train_set.died_in_hosp == 0.0]\n",
    "df_grp = df.groupby('icustayid')\n",
    "for name, group in df_grp:\n",
    "    survivor_ages.append(group.age.tolist()[0] // 365.25)\n",
    "\n",
    "df = test_set[train_set.died_in_hosp == 0.0]\n",
    "df_grp = df.groupby('icustayid')\n",
    "for name, group in df_grp:\n",
    "    survivor_ages.append(group.age.tolist()[0] // 365.25)\n",
    "\n"
   ]
  },
  {
   "cell_type": "code",
   "execution_count": 398,
   "metadata": {},
   "outputs": [
    {
     "data": {
      "text/plain": [
       "63.871685571851742"
      ]
     },
     "execution_count": 398,
     "metadata": {},
     "output_type": "execute_result"
    },
    {
     "data": {
      "image/png": "[encoded data removed]",
      "text/plain": [
       "<matplotlib.figure.Figure at 0x11b0099b0>"
      ]
     },
     "metadata": {},
     "output_type": "display_data"
    }
   ],
   "source": [
    "plt.hist(survivor_ages)\n",
    "np.mean(survivor_ages)"
   ]
  },
  {
   "cell_type": "code",
   "execution_count": 399,
   "metadata": {},
   "outputs": [
    {
     "data": {
      "text/plain": [
       "67.395013123359576"
      ]
     },
     "execution_count": 399,
     "metadata": {},
     "output_type": "execute_result"
    },
    {
     "data": {
      "image/png": "[encoded data removed]",
      "text/plain": [
       "<matplotlib.figure.Figure at 0x107d172b0>"
      ]
     },
     "metadata": {},
     "output_type": "display_data"
    }
   ],
   "source": [
    "plt.hist(nonsurvivor_ages)\n",
    "np.mean(nonsurvivor_ages)"
   ]
  },
  {
   "cell_type": "markdown",
   "metadata": {},
   "source": [
    "#### Summary \n",
    "\n",
    "|  | % Female | Mean Age | Total Population | \n",
    "|---|----|----|---|\n",
    "| Survivors | 44.1% |  | 13535 |\n",
    "| Non-survivors | 44.3% | | 1880 |\n"
   ]
  },
  {
   "cell_type": "code",
   "execution_count": 400,
   "metadata": {},
   "outputs": [
    {
     "data": {
      "text/plain": [
       "150741"
      ]
     },
     "execution_count": 400,
     "metadata": {},
     "output_type": "execute_result"
    }
   ],
   "source": [
    "len(train_set)"
   ]
  },
  {
   "cell_type": "code",
   "execution_count": 401,
   "metadata": {},
   "outputs": [
    {
     "data": {
      "text/plain": [
       "15415"
      ]
     },
     "execution_count": 401,
     "metadata": {},
     "output_type": "execute_result"
    }
   ],
   "source": [
    "13535 + 1880"
   ]
  },
  {
   "cell_type": "code",
   "execution_count": 403,
   "metadata": {},
   "outputs": [
    {
     "data": {
      "text/plain": [
       "50"
      ]
     },
     "execution_count": 403,
     "metadata": {},
     "output_type": "execute_result"
    }
   ],
   "source": [
    "len(train_set.columns.values) - 9"
   ]
  },
  {
   "cell_type": "code",
   "execution_count": null,
   "metadata": {
    "collapsed": true
   },
   "outputs": [],
   "source": []
  }
 ],
 "metadata": {
  "kernelspec": {
   "display_name": "Python 3",
   "language": "python",
   "name": "python3"
  },
  "language_info": {
   "codemirror_mode": {
    "name": "ipython",
    "version": 3
   },
   "file_extension": ".py",
   "mimetype": "text/x-python",
   "name": "python",
   "nbconvert_exporter": "python",
   "pygments_lexer": "ipython3",
   "version": "3.6.4"
  }
 },
 "nbformat": 4,
 "nbformat_minor": 2
}
